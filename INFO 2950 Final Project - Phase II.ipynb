{
 "cells": [
  {
   "cell_type": "markdown",
   "id": "0bfc47c1",
   "metadata": {},
   "source": [
    "# Phase II\n"
   ]
  },
  {
   "cell_type": "markdown",
   "id": "d12e5212",
   "metadata": {},
   "source": [
    "## Research Question\n",
    "\n",
    "something"
   ]
  },
  {
   "cell_type": "markdown",
   "id": "2ccfd16f",
   "metadata": {},
   "source": [
    "### Importing"
   ]
  },
  {
   "cell_type": "code",
   "execution_count": 2,
   "id": "9d10334f",
   "metadata": {},
   "outputs": [],
   "source": [
    "# imports and settings\n",
    "import matplotlib.pyplot as plt\n",
    "import numpy as np\n",
    "import pandas as pd\n",
    "import seaborn as sns"
   ]
  },
  {
   "cell_type": "markdown",
   "id": "37c1941f",
   "metadata": {},
   "source": [
    "### Data Overview\n",
    "\n",
    "This data is  TEST TEST TEST jeiwndansdnsajkdnkjasnd"
   ]
  },
  {
   "cell_type": "code",
   "execution_count": 4,
   "id": "bbff9498",
   "metadata": {},
   "outputs": [],
   "source": [
    "# df_DATA = pd.read_csv('')"
   ]
  },
  {
   "cell_type": "markdown",
   "id": "ea30ec0d",
   "metadata": {},
   "source": [
    "## Data Cleaning: can i edit this test"
   ]
  },
  {
   "cell_type": "markdown",
   "id": "10edddc0",
   "metadata": {},
   "source": [
    "... "
   ]
  },
  {
   "cell_type": "code",
   "execution_count": null,
   "id": "cb8f0b31",
   "metadata": {},
   "outputs": [],
   "source": []
  },
  {
   "cell_type": "markdown",
   "id": "0e8dc220",
   "metadata": {},
   "source": [
    "## Exploratory Data Analysis:"
   ]
  },
  {
   "cell_type": "markdown",
   "id": "630ce79d",
   "metadata": {},
   "source": [
    "... "
   ]
  },
  {
   "cell_type": "markdown",
   "id": "3024bd2d",
   "metadata": {},
   "source": [
    " \n",
    "## Data Descriptions: \n",
    "Research questions\n",
    "- answer them..."
   ]
  },
  {
   "cell_type": "markdown",
   "id": "85c3b741",
   "metadata": {},
   "source": [
    "## Data Limitations:"
   ]
  },
  {
   "cell_type": "markdown",
   "id": "81149067",
   "metadata": {},
   "source": [
    "The Limitations on this is..."
   ]
  }
 ],
 "metadata": {
  "kernelspec": {
   "display_name": "Python 3 (ipykernel)",
   "language": "python",
   "name": "python3"
  },
  "language_info": {
   "codemirror_mode": {
    "name": "ipython",
    "version": 3
   },
   "file_extension": ".py",
   "mimetype": "text/x-python",
   "name": "python",
   "nbconvert_exporter": "python",
   "pygments_lexer": "ipython3",
   "version": "3.11.4"
  }
 },
 "nbformat": 4,
 "nbformat_minor": 5
}
