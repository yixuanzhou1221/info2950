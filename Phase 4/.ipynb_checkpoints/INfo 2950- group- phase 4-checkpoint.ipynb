{
 "cells": [
  {
   "cell_type": "markdown",
   "id": "4528e6e1",
   "metadata": {},
   "source": [
    "## INFO 2950 Final Project: Insert Title Here"
   ]
  },
  {
   "cell_type": "markdown",
   "id": "4dc8784d",
   "metadata": {},
   "source": [
    "## Table of Contents\n",
    "1. Introduction\n",
    "    a. Key Terms\n",
    "    b. Research Questions\n",
    "    c. Summary of Findings\n",
    "2. Data Description\n",
    "3. Preregistration Statements\n",
    "4. Data Analysis\n",
    "5. Evaluation of Significance\n",
    "6. Interpretation and Conclusions\n",
    "7. Limitations\n",
    "8. Appendix - Data Cleaning"
   ]
  },
  {
   "cell_type": "markdown",
   "id": "1c9bbd0b",
   "metadata": {},
   "source": [
    "## Introduction\n"
   ]
  },
  {
   "cell_type": "markdown",
   "id": "49594b9b",
   "metadata": {},
   "source": [
    "## Research Question:\n",
    "Our research aims to understand which factors correlate with the general life satisfaction of various countries. Areas we are interested in analyzing include economic, health, and demography factors. In the economic realm, we want to understand how economic factors, such as GDP, minimum wage, cost of living, and crime rate can affect life satisfaction. In health, we are interested in understanding the link between suicides and mental disorders with happiness. For demography, we seek to understand if there are patterns between infant mortality rate, maternal mortality ratio, birth rate, and life expectancy with happiness.\n",
    "\n",
    "Overall, which factors are the most prominent in influencing “happiness”? How can we predict the impact of different factors on countries’ life satisfaction? "
   ]
  },
  {
   "cell_type": "code",
   "execution_count": null,
   "id": "966374ed",
   "metadata": {},
   "outputs": [],
   "source": []
  },
  {
   "cell_type": "markdown",
   "id": "b286088c",
   "metadata": {},
   "source": [
    "TEst change is it changing? \n"
   ]
  },
  {
   "cell_type": "markdown",
   "id": "2018854f",
   "metadata": {},
   "source": [
    "Add something- lauren"
   ]
  },
  {
   "cell_type": "code",
   "execution_count": 3,
   "id": "3d976761",
   "metadata": {
    "scrolled": true
   },
   "outputs": [],
   "source": [
    "import numpy as np\n",
    "import pandas as pd\n",
    "import matplotlib.pyplot as plt\n",
    "import seaborn as sns\n",
    "import datetime\n",
    "import duckdb"
   ]
  },
  {
   "cell_type": "markdown",
   "id": "e4de3600",
   "metadata": {},
   "source": [
    "## Data Description:\n",
    "\n",
    "### __MOTIVATION__\n",
    "__Why was this dataset created?__\n",
    "- Our dataset was created to observe the factors that influenced life satisfaction in various countries. We wanted to isolate factors that demonstrated the strongest correlation to overall happiness. The five datasets we analyzed all compared individual factors that would influence or measure the wellbeing of the country. Their purpose was to capture the overall state of different countries. \n",
    "\n",
    "__Who funded the creation of the dataset?__\n",
    "- These datasets took information from organizations like the “World Health Organization”, “World bank” statistics, United Nations Statistics, and other datasets. It is unclear who funded these datasets. \n",
    "### __Composition__\n",
    "__Is any information missing from individual instances?__\n",
    "- There is information missing from individual instances, such as data from smaller countries like Andorra, which may have less resources to collect the data. These rows of missing values have been removed.\n",
    "\n",
    "__What are the observations (rows) and the attributes (columns)?__\n",
    "\n",
    "- For these datasets, the rows are the names of countries, and the columns are health, economic, and demography factors. These include number of suicides, infant mortality rate, crime rates, and so on. \n",
    "\n",
    "__What processes might have influenced what data was observed and recorded and what was not?__\n",
    "- The data has mainly been collected from research studies, using methods such as surveys. Thus, there could be several biases that could have influenced data collection, such as selection bias, sampling bias, and social desirability bias.\n",
    "\n",
    "\n",
    "### __Collection Process__\n",
    "__How was the data associated with each instance acquired?__\n",
    "- We gathered the data from various CSV files in order to analyze various facets of influential attributes that impacted a nation. The individual CSV files took data from large health organizations that measured population statistics. Some examples are the \"https://ourworldindata.org/\", the \"Sustainable Development Solutions Network\", and the \"World Health Organization\".\n",
    "\n",
    "__Over what timeframe was the data collected?__\n",
    "- Our research analyzed data from the year 2013 to 2023. This data allows us to predict the more recent trends in Happiness levels, GDP, birth rate, etc. \n",
    "\n",
    "__What preprocessing was done, and how did the data come to be in the form that you are using?__\n",
    "- The data scrapped data from large organizations that provided public data. They also took data from previous research studies that used the same data. The data was changed to its current form once we removed less relevant columns and collected the correlation value. Additionally we dropped empty column values to focus on the analyzable data. \n",
    "\n",
    "### __Uses__\n",
    "__Where can your raw source data be found, if applicable? Provide a link to the raw data (hosted on Github, in a Cornell Google Drive or Cornell Box).__\n",
    "\n",
    "Overall, we used 6 datasets. They can be found in their raw data sources as follows. \n",
    "\n",
    "1. Mental health disorders dataset:\n",
    "https://github.com/yixuanzhou1221/info2950/blob/main/Phase%202/Mental%20health%20Depression%20disorder%20Data.csv\n",
    "\n",
    "2. Suicide dataset:\n",
    "https://github.com/yixuanzhou1221/info2950/blob/main/Phase%202/master.csv\n",
    "\n",
    "3. Demography and economic information dataset:\n",
    "https://github.com/yixuanzhou1221/info2950/blob/main/Phase%202/world-data-2023.csv\n",
    "\n",
    "4. Crime information dataset:\n",
    "https://github.com/yixuanzhou1221/info2950/blob/main/Phase%202/crime-rate-by-country-2023.csv\n",
    "\n",
    "5. Country and continent dataset:\n",
    "https://github.com/yixuanzhou1221/info2950/blob/main/Phase%202/countryContinent.csv\n",
    "\n",
    "6. Happiness information dataset:\n",
    "https://github.com/yixuanzhou1221/info2950/blob/main/Phase%202/2022.csv\n",
    "\n",
    "__What (other) tasks could the dataset be used for?__\n",
    "- These datasets contain a lot of rich information that can be used for a variety of different tasks. For example, other ideas that could be studied include the patterns between education levels and human development, between labor force participation and overall economic performance, and between urbanization trends and environmental consequences.\n",
    "\n",
    "__Are there tasks for which the dataset should not be used?__\n",
    "- Some potential tasks that these data should not be used for are visualizing trends over time, because not all the datasets include data over time. Additionally, further verification of the data should be done before using it to inform any policy recommendations.\n",
    "\n",
    "\n"
   ]
  },
  {
   "cell_type": "markdown",
   "id": "c917f6d4",
   "metadata": {},
   "source": [
    "## Preregistration Statements\n",
    "**Hypothesis 1**: \n",
    "Countries that are reported to have an overall higher rate of happiness will experience lower levels of suicide rates. \n",
    "**Analysis**: We will run a linear regression model to determine if there is a relationship between happiness score and suicide rates (number of suicides per 100,000 people).This would be our formula: Happiness Score = α + βsuicide_rate * Suicide Rate + ε. We will be looking to see if βsuicide_rate < 0, to determine if there is a negative correlation between happiness and suicide rates per country.\n",
    "\n",
    "**Hypothesis 2**: \n",
    "Smaller population sizes of countries correspond to lower birth rates, higher minimum wages, and lower crime index, which in turn leads to higher happiness scores for countries.\n",
    "**Analysis**: We will run a multivariable linear regression to determine the correlation of the inputs of birth rate (number of live births per 1,000 people in the population), minimum wage (in dollars), crime index (out of 100), and population (in number of people) in affecting the output of happiness score. We will test whether 𝛽population< 0 , 𝛽birth_rate< 0, 𝛽min_wage > 0, and 𝛽crime< 0. Our formula would be: Happiness Score = α + βbirth_rate * Birth_rate + βminimum_wage * Minimum wage + βcrime * Crime + βpopulation * Population + ε."
   ]
  },
  {
   "cell_type": "markdown",
   "id": "ea30ec0d",
   "metadata": {},
   "source": [
    "## Data Cleaning:"
   ]
  },
  {
   "cell_type": "markdown",
   "id": "0b758d3a",
   "metadata": {},
   "source": [
    "### Happiness table"
   ]
  },
  {
   "cell_type": "markdown",
   "id": "ee7f0930",
   "metadata": {},
   "source": [
    "First we loaded in the Happiness CSV file"
   ]
  },
  {
   "cell_type": "code",
   "execution_count": 4,
   "id": "941997e1",
   "metadata": {
    "scrolled": true
   },
   "outputs": [
    {
     "ename": "FileNotFoundError",
     "evalue": "[Errno 2] No such file or directory: '2022.csv'",
     "output_type": "error",
     "traceback": [
      "\u001b[0;31m---------------------------------------------------------------------------\u001b[0m",
      "\u001b[0;31mFileNotFoundError\u001b[0m                         Traceback (most recent call last)",
      "Cell \u001b[0;32mIn[4], line 2\u001b[0m\n\u001b[1;32m      1\u001b[0m \u001b[38;5;66;03m#load the world happiness score of 2022\u001b[39;00m\n\u001b[0;32m----> 2\u001b[0m happiness_df \u001b[38;5;241m=\u001b[39m pd\u001b[38;5;241m.\u001b[39mread_csv(\u001b[38;5;124m'\u001b[39m\u001b[38;5;124m2022.csv\u001b[39m\u001b[38;5;124m'\u001b[39m, thousands\u001b[38;5;241m=\u001b[39m\u001b[38;5;124m'\u001b[39m\u001b[38;5;124m,\u001b[39m\u001b[38;5;124m'\u001b[39m)\n\u001b[1;32m      3\u001b[0m \u001b[38;5;28mprint\u001b[39m(happiness_df\u001b[38;5;241m.\u001b[39mshape)\n",
      "File \u001b[0;32m~/anaconda3/envs/info2950/lib/python3.11/site-packages/pandas/io/parsers/readers.py:912\u001b[0m, in \u001b[0;36mread_csv\u001b[0;34m(filepath_or_buffer, sep, delimiter, header, names, index_col, usecols, dtype, engine, converters, true_values, false_values, skipinitialspace, skiprows, skipfooter, nrows, na_values, keep_default_na, na_filter, verbose, skip_blank_lines, parse_dates, infer_datetime_format, keep_date_col, date_parser, date_format, dayfirst, cache_dates, iterator, chunksize, compression, thousands, decimal, lineterminator, quotechar, quoting, doublequote, escapechar, comment, encoding, encoding_errors, dialect, on_bad_lines, delim_whitespace, low_memory, memory_map, float_precision, storage_options, dtype_backend)\u001b[0m\n\u001b[1;32m    899\u001b[0m kwds_defaults \u001b[38;5;241m=\u001b[39m _refine_defaults_read(\n\u001b[1;32m    900\u001b[0m     dialect,\n\u001b[1;32m    901\u001b[0m     delimiter,\n\u001b[0;32m   (...)\u001b[0m\n\u001b[1;32m    908\u001b[0m     dtype_backend\u001b[38;5;241m=\u001b[39mdtype_backend,\n\u001b[1;32m    909\u001b[0m )\n\u001b[1;32m    910\u001b[0m kwds\u001b[38;5;241m.\u001b[39mupdate(kwds_defaults)\n\u001b[0;32m--> 912\u001b[0m \u001b[38;5;28;01mreturn\u001b[39;00m _read(filepath_or_buffer, kwds)\n",
      "File \u001b[0;32m~/anaconda3/envs/info2950/lib/python3.11/site-packages/pandas/io/parsers/readers.py:577\u001b[0m, in \u001b[0;36m_read\u001b[0;34m(filepath_or_buffer, kwds)\u001b[0m\n\u001b[1;32m    574\u001b[0m _validate_names(kwds\u001b[38;5;241m.\u001b[39mget(\u001b[38;5;124m\"\u001b[39m\u001b[38;5;124mnames\u001b[39m\u001b[38;5;124m\"\u001b[39m, \u001b[38;5;28;01mNone\u001b[39;00m))\n\u001b[1;32m    576\u001b[0m \u001b[38;5;66;03m# Create the parser.\u001b[39;00m\n\u001b[0;32m--> 577\u001b[0m parser \u001b[38;5;241m=\u001b[39m TextFileReader(filepath_or_buffer, \u001b[38;5;241m*\u001b[39m\u001b[38;5;241m*\u001b[39mkwds)\n\u001b[1;32m    579\u001b[0m \u001b[38;5;28;01mif\u001b[39;00m chunksize \u001b[38;5;129;01mor\u001b[39;00m iterator:\n\u001b[1;32m    580\u001b[0m     \u001b[38;5;28;01mreturn\u001b[39;00m parser\n",
      "File \u001b[0;32m~/anaconda3/envs/info2950/lib/python3.11/site-packages/pandas/io/parsers/readers.py:1407\u001b[0m, in \u001b[0;36mTextFileReader.__init__\u001b[0;34m(self, f, engine, **kwds)\u001b[0m\n\u001b[1;32m   1404\u001b[0m     \u001b[38;5;28mself\u001b[39m\u001b[38;5;241m.\u001b[39moptions[\u001b[38;5;124m\"\u001b[39m\u001b[38;5;124mhas_index_names\u001b[39m\u001b[38;5;124m\"\u001b[39m] \u001b[38;5;241m=\u001b[39m kwds[\u001b[38;5;124m\"\u001b[39m\u001b[38;5;124mhas_index_names\u001b[39m\u001b[38;5;124m\"\u001b[39m]\n\u001b[1;32m   1406\u001b[0m \u001b[38;5;28mself\u001b[39m\u001b[38;5;241m.\u001b[39mhandles: IOHandles \u001b[38;5;241m|\u001b[39m \u001b[38;5;28;01mNone\u001b[39;00m \u001b[38;5;241m=\u001b[39m \u001b[38;5;28;01mNone\u001b[39;00m\n\u001b[0;32m-> 1407\u001b[0m \u001b[38;5;28mself\u001b[39m\u001b[38;5;241m.\u001b[39m_engine \u001b[38;5;241m=\u001b[39m \u001b[38;5;28mself\u001b[39m\u001b[38;5;241m.\u001b[39m_make_engine(f, \u001b[38;5;28mself\u001b[39m\u001b[38;5;241m.\u001b[39mengine)\n",
      "File \u001b[0;32m~/anaconda3/envs/info2950/lib/python3.11/site-packages/pandas/io/parsers/readers.py:1661\u001b[0m, in \u001b[0;36mTextFileReader._make_engine\u001b[0;34m(self, f, engine)\u001b[0m\n\u001b[1;32m   1659\u001b[0m     \u001b[38;5;28;01mif\u001b[39;00m \u001b[38;5;124m\"\u001b[39m\u001b[38;5;124mb\u001b[39m\u001b[38;5;124m\"\u001b[39m \u001b[38;5;129;01mnot\u001b[39;00m \u001b[38;5;129;01min\u001b[39;00m mode:\n\u001b[1;32m   1660\u001b[0m         mode \u001b[38;5;241m+\u001b[39m\u001b[38;5;241m=\u001b[39m \u001b[38;5;124m\"\u001b[39m\u001b[38;5;124mb\u001b[39m\u001b[38;5;124m\"\u001b[39m\n\u001b[0;32m-> 1661\u001b[0m \u001b[38;5;28mself\u001b[39m\u001b[38;5;241m.\u001b[39mhandles \u001b[38;5;241m=\u001b[39m get_handle(\n\u001b[1;32m   1662\u001b[0m     f,\n\u001b[1;32m   1663\u001b[0m     mode,\n\u001b[1;32m   1664\u001b[0m     encoding\u001b[38;5;241m=\u001b[39m\u001b[38;5;28mself\u001b[39m\u001b[38;5;241m.\u001b[39moptions\u001b[38;5;241m.\u001b[39mget(\u001b[38;5;124m\"\u001b[39m\u001b[38;5;124mencoding\u001b[39m\u001b[38;5;124m\"\u001b[39m, \u001b[38;5;28;01mNone\u001b[39;00m),\n\u001b[1;32m   1665\u001b[0m     compression\u001b[38;5;241m=\u001b[39m\u001b[38;5;28mself\u001b[39m\u001b[38;5;241m.\u001b[39moptions\u001b[38;5;241m.\u001b[39mget(\u001b[38;5;124m\"\u001b[39m\u001b[38;5;124mcompression\u001b[39m\u001b[38;5;124m\"\u001b[39m, \u001b[38;5;28;01mNone\u001b[39;00m),\n\u001b[1;32m   1666\u001b[0m     memory_map\u001b[38;5;241m=\u001b[39m\u001b[38;5;28mself\u001b[39m\u001b[38;5;241m.\u001b[39moptions\u001b[38;5;241m.\u001b[39mget(\u001b[38;5;124m\"\u001b[39m\u001b[38;5;124mmemory_map\u001b[39m\u001b[38;5;124m\"\u001b[39m, \u001b[38;5;28;01mFalse\u001b[39;00m),\n\u001b[1;32m   1667\u001b[0m     is_text\u001b[38;5;241m=\u001b[39mis_text,\n\u001b[1;32m   1668\u001b[0m     errors\u001b[38;5;241m=\u001b[39m\u001b[38;5;28mself\u001b[39m\u001b[38;5;241m.\u001b[39moptions\u001b[38;5;241m.\u001b[39mget(\u001b[38;5;124m\"\u001b[39m\u001b[38;5;124mencoding_errors\u001b[39m\u001b[38;5;124m\"\u001b[39m, \u001b[38;5;124m\"\u001b[39m\u001b[38;5;124mstrict\u001b[39m\u001b[38;5;124m\"\u001b[39m),\n\u001b[1;32m   1669\u001b[0m     storage_options\u001b[38;5;241m=\u001b[39m\u001b[38;5;28mself\u001b[39m\u001b[38;5;241m.\u001b[39moptions\u001b[38;5;241m.\u001b[39mget(\u001b[38;5;124m\"\u001b[39m\u001b[38;5;124mstorage_options\u001b[39m\u001b[38;5;124m\"\u001b[39m, \u001b[38;5;28;01mNone\u001b[39;00m),\n\u001b[1;32m   1670\u001b[0m )\n\u001b[1;32m   1671\u001b[0m \u001b[38;5;28;01massert\u001b[39;00m \u001b[38;5;28mself\u001b[39m\u001b[38;5;241m.\u001b[39mhandles \u001b[38;5;129;01mis\u001b[39;00m \u001b[38;5;129;01mnot\u001b[39;00m \u001b[38;5;28;01mNone\u001b[39;00m\n\u001b[1;32m   1672\u001b[0m f \u001b[38;5;241m=\u001b[39m \u001b[38;5;28mself\u001b[39m\u001b[38;5;241m.\u001b[39mhandles\u001b[38;5;241m.\u001b[39mhandle\n",
      "File \u001b[0;32m~/anaconda3/envs/info2950/lib/python3.11/site-packages/pandas/io/common.py:859\u001b[0m, in \u001b[0;36mget_handle\u001b[0;34m(path_or_buf, mode, encoding, compression, memory_map, is_text, errors, storage_options)\u001b[0m\n\u001b[1;32m    854\u001b[0m \u001b[38;5;28;01melif\u001b[39;00m \u001b[38;5;28misinstance\u001b[39m(handle, \u001b[38;5;28mstr\u001b[39m):\n\u001b[1;32m    855\u001b[0m     \u001b[38;5;66;03m# Check whether the filename is to be opened in binary mode.\u001b[39;00m\n\u001b[1;32m    856\u001b[0m     \u001b[38;5;66;03m# Binary mode does not support 'encoding' and 'newline'.\u001b[39;00m\n\u001b[1;32m    857\u001b[0m     \u001b[38;5;28;01mif\u001b[39;00m ioargs\u001b[38;5;241m.\u001b[39mencoding \u001b[38;5;129;01mand\u001b[39;00m \u001b[38;5;124m\"\u001b[39m\u001b[38;5;124mb\u001b[39m\u001b[38;5;124m\"\u001b[39m \u001b[38;5;129;01mnot\u001b[39;00m \u001b[38;5;129;01min\u001b[39;00m ioargs\u001b[38;5;241m.\u001b[39mmode:\n\u001b[1;32m    858\u001b[0m         \u001b[38;5;66;03m# Encoding\u001b[39;00m\n\u001b[0;32m--> 859\u001b[0m         handle \u001b[38;5;241m=\u001b[39m \u001b[38;5;28mopen\u001b[39m(\n\u001b[1;32m    860\u001b[0m             handle,\n\u001b[1;32m    861\u001b[0m             ioargs\u001b[38;5;241m.\u001b[39mmode,\n\u001b[1;32m    862\u001b[0m             encoding\u001b[38;5;241m=\u001b[39mioargs\u001b[38;5;241m.\u001b[39mencoding,\n\u001b[1;32m    863\u001b[0m             errors\u001b[38;5;241m=\u001b[39merrors,\n\u001b[1;32m    864\u001b[0m             newline\u001b[38;5;241m=\u001b[39m\u001b[38;5;124m\"\u001b[39m\u001b[38;5;124m\"\u001b[39m,\n\u001b[1;32m    865\u001b[0m         )\n\u001b[1;32m    866\u001b[0m     \u001b[38;5;28;01melse\u001b[39;00m:\n\u001b[1;32m    867\u001b[0m         \u001b[38;5;66;03m# Binary mode\u001b[39;00m\n\u001b[1;32m    868\u001b[0m         handle \u001b[38;5;241m=\u001b[39m \u001b[38;5;28mopen\u001b[39m(handle, ioargs\u001b[38;5;241m.\u001b[39mmode)\n",
      "\u001b[0;31mFileNotFoundError\u001b[0m: [Errno 2] No such file or directory: '2022.csv'"
     ]
    }
   ],
   "source": [
    "#load the world happiness score of 2022\n",
    "happiness_df = pd.read_csv('2022.csv', thousands=',')\n",
    "print(happiness_df.shape)"
   ]
  },
  {
   "cell_type": "markdown",
   "id": "5f4b8121",
   "metadata": {},
   "source": [
    "The original dataset displays the world happiness country ranking of 2022 and scores from various perspectives. We removed the rows with empty data and are only keeping the happiness rank, happiness score, and country name for further analysis."
   ]
  },
  {
   "cell_type": "code",
   "execution_count": null,
   "id": "e8da2350",
   "metadata": {},
   "outputs": [],
   "source": [
    "\n",
    "#drop the rows where any of these columns is empty.\n",
    "happiness_df = happiness_df.dropna(subset=['Country', 'Happiness score'])\n",
    "\n",
    "#select the 'Happiness rank' and 'Country' columns from the dataset\n",
    "happiness_df = happiness_df[['Country', 'Happiness score']]\n",
    "\n",
    "print(happiness_df.shape)\n",
    "happiness_df"
   ]
  },
  {
   "cell_type": "markdown",
   "id": "9c340ed5",
   "metadata": {},
   "source": [
    "### Economy and Crime"
   ]
  },
  {
   "cell_type": "markdown",
   "id": "72edbb7a",
   "metadata": {},
   "source": [
    "Note: we are printing dataframe below because there are so many columns that it goes off the page when presented as a table. Printing allows for all the columns of data to be visible. For this project, we will print the dataframes that have columns going off the page. For the other dataframes, we will present them as tables since that provides for easier viewing."
   ]
  },
  {
   "cell_type": "code",
   "execution_count": null,
   "id": "30096ec4",
   "metadata": {
    "scrolled": false
   },
   "outputs": [],
   "source": [
    "#load the economic data of countries for 2023\n",
    "econ_df = pd.read_csv('world-data-2023.csv', thousands=',')\n",
    "print(econ_df.shape)\n",
    "print(econ_df)"
   ]
  },
  {
   "cell_type": "markdown",
   "id": "fe3c313b",
   "metadata": {},
   "source": [
    "The original dataset includes basic information about 195 countries with 35 attributes for each country, such as population density, abbreviation, and much more. We are only using information regarding the economy from this dataset, such as GDP, to analyze how economic factors within countries affect citizens’ happiness. We cleaned the rows with missing data and renamed some of the columns to clarify the unit and explain the economic terms. We created a column called ‘GDP Per Capita’ based on the provided GDP and Population information and divided them to gain this essential metric of economics. In addition, we removed special signs such as dollar signs and percentage signs and converted them to numbers for later analysis. We ended up with data for 128 countries."
   ]
  },
  {
   "cell_type": "code",
   "execution_count": null,
   "id": "6c8a73ea",
   "metadata": {
    "scrolled": true
   },
   "outputs": [],
   "source": [
    "#calculate the GDP Per Capita \n",
    "econ_df['GDP'] = econ_df['GDP'].str.replace(',', '') #remove commas\n",
    "econ_df['GDP'] = econ_df['GDP'].str.replace('$', '') #remove dollar sign \n",
    "econ_df['GDP'] = pd.to_numeric(econ_df['GDP'], errors='coerce') #convert to numeric\n",
    "econ_df['GDP Per Capita'] = econ_df['GDP'] / econ_df['Population']\n",
    "\n",
    "econ_df['Minimum wage'] = econ_df['Minimum wage'].str.replace('$', '') #remove dollar sign \n",
    "econ_df['Minimum wage'] = pd.to_numeric(econ_df['Minimum wage'], errors='coerce') #convert to numeric\n",
    "\n",
    "econ_df['Tax revenue (%)'] = econ_df['Tax revenue (%)'].str.replace('%', '') #remove percentage sign\n",
    "econ_df['Tax revenue (%)'] = pd.to_numeric(econ_df['Tax revenue (%)'], errors='coerce') #convert to numeric\n",
    "econ_df['Unemployment rate'] = econ_df['Unemployment rate'].str.replace('%', '') #remove percentage sign\n",
    "\n",
    "#rename the columns for better clarification \n",
    "econ_df.rename(columns={'CPI': 'Consumer Price Index'}, inplace=True)\n",
    "econ_df.rename(columns={'Unemployment rate': 'Unemployment rate(%)'}, inplace=True)\n",
    "econ_df.rename(columns={'GDP': 'GDP($)'}, inplace=True)\n",
    "econ_df.rename(columns={'Minimum wage': 'Minimum wage($)'}, inplace=True)\n",
    "\n",
    "#select the columns related to the economy factor\n",
    "econ_df = econ_df[['Country', 'GDP($)', 'Population', 'GDP Per Capita',\n",
    "                   'Minimum wage($)', 'Unemployment rate(%)',\n",
    "                   'Consumer Price Index', 'Tax revenue (%)']]\n",
    "\n",
    "#drop the rows where any of these columns is empty.\n",
    "econ_df = econ_df.dropna(subset=['Country', 'GDP($)', 'Population', \n",
    "                                 'GDP Per Capita','Minimum wage($)', \n",
    "                                 'Unemployment rate(%)','Consumer Price Index', \n",
    "                                 'Tax revenue (%)'])\n",
    "\n",
    "print(econ_df.shape)\n",
    "econ_df"
   ]
  },
  {
   "cell_type": "markdown",
   "id": "36eeaf54",
   "metadata": {},
   "source": [
    "Next we loaded the crime data for countries during the year 2023"
   ]
  },
  {
   "cell_type": "code",
   "execution_count": null,
   "id": "2f5c4c4d",
   "metadata": {},
   "outputs": [],
   "source": [
    "#load the crime data of countries for 2023\n",
    "crime_df = pd.read_csv('crime-rate-by-country-2023.csv', thousands=',')\n",
    "print(crime_df.shape)\n",
    "crime_df"
   ]
  },
  {
   "cell_type": "markdown",
   "id": "c69a68ca",
   "metadata": {},
   "source": [
    "For the Crime dataset, we are renaming the ‘rank’ column to ‘Crime rank’ to avoid conflict with ‘Happiness rank’ after merging the dataframes. We are also renaming ‘country’ to ‘Country’ so that we can merge these three dataframes based on the ‘Country’ column. Additionally, we are renaming ‘crimeIndex’ to ‘Crime Index’ to keep the first letter capitalized for consistency. We are deleting the ‘pop2023’ column as it will be repetitive information. We are again dropping rows with empty data, but in this case, none of them are dropped."
   ]
  },
  {
   "cell_type": "code",
   "execution_count": null,
   "id": "497aef7c",
   "metadata": {},
   "outputs": [],
   "source": [
    "#rename columns\n",
    "crime_df.rename(columns={'country': 'Country'}, inplace=True) \n",
    "crime_df.rename(columns={'crimeIndex': 'Crime Index'}, inplace=True)\n",
    "crime_df.rename(columns={'rank': 'Crime rank'}, inplace=True)\n",
    "\n",
    "#select columns\n",
    "crime_df=crime_df[['Country','Crime rank','Crime Index']]\n",
    "\n",
    "#drop the rows where any of these columns is empty.\n",
    "crime_df=crime_df.dropna(subset=['Country', 'Crime Index','Crime rank'])\n",
    "\n",
    "print(crime_df.shape)\n",
    "crime_df"
   ]
  },
  {
   "cell_type": "markdown",
   "id": "d2a48dea",
   "metadata": {},
   "source": [
    "After merging the three DataFrames (econ_df, crime_df, and happiness_df) using the 'Country' column with inner joins, we now have data for analysis from 81 countries."
   ]
  },
  {
   "cell_type": "code",
   "execution_count": null,
   "id": "4e31ebac",
   "metadata": {
    "scrolled": true
   },
   "outputs": [],
   "source": [
    "#merge three dataframes into a single data set \n",
    "merged_df = pd.merge(econ_df, crime_df, on='Country', how='inner')\n",
    "merged_df = pd.merge(merged_df, happiness_df, on='Country', how='inner')\n",
    "print(merged_df.shape)\n",
    "merged_df"
   ]
  },
  {
   "cell_type": "markdown",
   "id": "d8a2dd3f",
   "metadata": {},
   "source": [
    "### Demography\n",
    "Here we will import a dataframe that contains information about demography factors across different countries. This will be compared to countries' happiness scores to understand if there are any trends or patterns."
   ]
  },
  {
   "cell_type": "code",
   "execution_count": null,
   "id": "cf046198",
   "metadata": {
    "scrolled": true
   },
   "outputs": [],
   "source": [
    "world_data_df = pd.read_csv(\"world-data-2023.csv\", thousands = \",\")\n",
    "print(world_data_df)"
   ]
  },
  {
   "cell_type": "markdown",
   "id": "437f4034",
   "metadata": {},
   "source": [
    "Now we rename our columns of interest to have proper syntax so they are easy to access. The factors we are interested in looking at are birth rate, infant mortality, life expectancy, and maternal mortality ratio."
   ]
  },
  {
   "cell_type": "code",
   "execution_count": null,
   "id": "f11cab4a",
   "metadata": {
    "scrolled": true
   },
   "outputs": [],
   "source": [
    "world_data_df = world_data_df.rename(columns={'Birth Rate': 'birth_rate', \n",
    "                'Infant mortality': 'infant_mortality', \n",
    "                'Life expectancy': 'life_expectancy', \n",
    "                'Maternal mortality ratio': 'maternal_mortality_ratio'})\n",
    "print(world_data_df)"
   ]
  },
  {
   "cell_type": "markdown",
   "id": "944c501a",
   "metadata": {},
   "source": [
    "Here we modify our dataframe to include only the columns that are relevant for our analysis. This results in a cleaner, less cluttered dataframe. Columns with NaN values are dropped, so that there are no missing data values present."
   ]
  },
  {
   "cell_type": "code",
   "execution_count": null,
   "id": "64e6132b",
   "metadata": {},
   "outputs": [],
   "source": [
    "world_data_df = duckdb.sql(\"SELECT Country, birth_rate, infant_mortality, \\\n",
    "life_expectancy, maternal_mortality_ratio FROM world_data_df\").df()\n",
    "world_data_df = world_data_df.dropna()\n",
    "world_data_df"
   ]
  },
  {
   "cell_type": "markdown",
   "id": "ad018e16",
   "metadata": {},
   "source": [
    "Next, we will refer back to the Happiness Score we used previously"
   ]
  },
  {
   "cell_type": "code",
   "execution_count": null,
   "id": "d00c4621",
   "metadata": {},
   "outputs": [],
   "source": [
    "happiness_df"
   ]
  },
  {
   "cell_type": "markdown",
   "id": "304514e8",
   "metadata": {},
   "source": [
    "Here, we join the world data dataframe, which contains relevant demography statistics by country, to the world happiness dataframe, which includes happiness scores by country. This creates a single dataframe with all the relevant information for analysis between demography statistics and happiness."
   ]
  },
  {
   "cell_type": "code",
   "execution_count": null,
   "id": "0bfb524a",
   "metadata": {},
   "outputs": [],
   "source": [
    "demography_df = duckdb.sql(\"SELECT world_data_df.Country, birth_rate, \\\n",
    "infant_mortality, life_expectancy, maternal_mortality_ratio, \\\n",
    "\\\"Happiness score\\\" FROM world_data_df INNER JOIN happiness_df \\\n",
    "ON world_data_df.Country = happiness_df.Country\").df()\n",
    "demography_df"
   ]
  },
  {
   "cell_type": "markdown",
   "id": "87b0596d",
   "metadata": {},
   "source": [
    "Additionally, we are adding some regional data, specifically continent and subregion, to help categorize groups of countries."
   ]
  },
  {
   "cell_type": "code",
   "execution_count": null,
   "id": "3e1662d7",
   "metadata": {},
   "outputs": [],
   "source": [
    "continent_df = pd.read_csv(\"countryContinent.csv\", encoding='ISO-8859-1')\n",
    "continent_df"
   ]
  },
  {
   "cell_type": "markdown",
   "id": "60efa5de",
   "metadata": {},
   "source": [
    "The dataframe is cleaned to only include relevant variables."
   ]
  },
  {
   "cell_type": "code",
   "execution_count": null,
   "id": "10ef4b11",
   "metadata": {},
   "outputs": [],
   "source": [
    "continent_df = duckdb.sql(\"SELECT country, continent, sub_region FROM \\\n",
    "continent_df\").df()\n",
    "continent_df"
   ]
  },
  {
   "cell_type": "markdown",
   "id": "7d8c4168",
   "metadata": {},
   "source": [
    "Then it is joined to the demography data."
   ]
  },
  {
   "cell_type": "code",
   "execution_count": null,
   "id": "e2bccbfc",
   "metadata": {},
   "outputs": [],
   "source": [
    "demography_df = duckdb.sql(\"SELECT continent_df.country, continent, \\\n",
    "sub_region, birth_rate, infant_mortality, life_expectancy, \\\n",
    "maternal_mortality_ratio, \\\"Happiness score\\\", FROM continent_df INNER JOIN \\\n",
    "demography_df ON continent_df.country = demography_df.Country\").df()\n",
    "demography_df"
   ]
  },
  {
   "cell_type": "markdown",
   "id": "1f214f77",
   "metadata": {},
   "source": [
    "The data can then be separated into dataframes by continent for further analysis."
   ]
  },
  {
   "cell_type": "code",
   "execution_count": null,
   "id": "10455cec",
   "metadata": {},
   "outputs": [],
   "source": [
    "asia = demography_df[demography_df['continent'] == 'Asia']\n",
    "asia"
   ]
  },
  {
   "cell_type": "code",
   "execution_count": null,
   "id": "f3b7883f",
   "metadata": {},
   "outputs": [],
   "source": [
    "europe = demography_df[demography_df['continent'] == 'Europe']\n",
    "europe"
   ]
  },
  {
   "cell_type": "code",
   "execution_count": null,
   "id": "e63cdfec",
   "metadata": {},
   "outputs": [],
   "source": [
    "africa = demography_df[demography_df['continent'] == 'Africa']\n",
    "africa"
   ]
  },
  {
   "cell_type": "code",
   "execution_count": null,
   "id": "43c88f90",
   "metadata": {},
   "outputs": [],
   "source": [
    "oceania = demography_df[demography_df['continent'] == 'Oceania']\n",
    "oceania"
   ]
  },
  {
   "cell_type": "code",
   "execution_count": null,
   "id": "73d4e365",
   "metadata": {
    "scrolled": true
   },
   "outputs": [],
   "source": [
    "americas = demography_df[demography_df['continent'] == 'Americas']\n",
    "americas"
   ]
  },
  {
   "cell_type": "markdown",
   "id": "f993e614",
   "metadata": {},
   "source": [
    "### Health"
   ]
  },
  {
   "cell_type": "markdown",
   "id": "10b7f23c",
   "metadata": {},
   "source": [
    "First we load in the CSV files analyze suicide rates and mental health disorders in various countries"
   ]
  },
  {
   "cell_type": "code",
   "execution_count": null,
   "id": "8575dc1a",
   "metadata": {},
   "outputs": [],
   "source": [
    "suicide_df = pd.read_csv('master.csv')\n",
    "mental_health_df = pd.read_csv('Mental health Depression disorder Data.csv', dtype='unicode')\n",
    "# https://stackoverflow.com/questions/24251219/pandas-read-csv-low-memory-and-dtype-options"
   ]
  },
  {
   "cell_type": "markdown",
   "id": "23e73431",
   "metadata": {},
   "source": [
    "#### Mental Disorders\n",
    "We begin by removing unnecessary columns from the data frame"
   ]
  },
  {
   "cell_type": "code",
   "execution_count": null,
   "id": "76765b46",
   "metadata": {},
   "outputs": [],
   "source": [
    "mental_health_df.drop('Code', axis=1, inplace=True)"
   ]
  },
  {
   "cell_type": "markdown",
   "id": "43e53fac",
   "metadata": {},
   "source": [
    "We rename the columns to make them more intuitive. We renamed the \"Entity\" column to the \"Country\". Then we removed the missing values from the dataframe to ensure we only focus on the relevant data."
   ]
  },
  {
   "cell_type": "code",
   "execution_count": null,
   "id": "cb51a173",
   "metadata": {},
   "outputs": [],
   "source": [
    "#Rename the Entity column to countries\n",
    "mental_health_df = mental_health_df.rename(columns={'Entity': 'Country'})\n",
    "\n",
    "# #Remove NaN\n",
    "mental_health_df = mental_health_df.dropna()"
   ]
  },
  {
   "cell_type": "markdown",
   "id": "337ae837",
   "metadata": {},
   "source": [
    "The \"Year\" column wasn't an int, so we changed it to make it easier to remove and select years later on. We deleted years before 2013 since we wanted to collect more recent data. "
   ]
  },
  {
   "cell_type": "code",
   "execution_count": null,
   "id": "fbe791c0",
   "metadata": {},
   "outputs": [],
   "source": [
    "# Make years into int, since it was an object before\n",
    "mental_health_df['Year'] = mental_health_df['Year'].astype(int)\n",
    "\n",
    "# remove years before 2013 \n",
    "mental_health_df = mental_health_df[mental_health_df['Year'] >= 2013]"
   ]
  },
  {
   "cell_type": "markdown",
   "id": "4a20d137",
   "metadata": {},
   "source": [
    "The disorder columns contained errors in its data that needed to be removed. For example, one of its data contained 2 periods instead 1 for percentages. To solve this we converted all the disorders to numeric values and set all non-passing vales as NaN. We then dropped those values."
   ]
  },
  {
   "cell_type": "code",
   "execution_count": null,
   "id": "94bfd54e",
   "metadata": {},
   "outputs": [],
   "source": [
    "# Remove the data in the percentages that aren't numeric. Ex) \n",
    "columns_to_convert = [\n",
    "    'Schizophrenia (%)', 'Bipolar disorder (%)', 'Eating disorders (%)',\n",
    "    'Anxiety disorders (%)', 'Drug use disorders (%)',\n",
    "    'Depression (%)', 'Alcohol use disorders (%)']\n",
    "\n",
    "# change to numeric, ignore errors\n",
    "# https://stackoverflow.com/questions/44522741/pandas-mean-typeerror-could-not-convert-to-numeric\n",
    "mental_health_df[columns_to_convert] = mental_health_df[columns_to_convert].apply(pd.to_numeric, \n",
    "                                                                                  errors='coerce')\n",
    "mental_health_df.dropna(subset=columns_to_convert, inplace=True)"
   ]
  },
  {
   "cell_type": "markdown",
   "id": "62d261a1",
   "metadata": {},
   "source": [
    "We then grouped the data by country and took the mean of the disorder percentages. We dropped the columns that were not relevant to the final dataframe."
   ]
  },
  {
   "cell_type": "code",
   "execution_count": null,
   "id": "58fe250e",
   "metadata": {},
   "outputs": [],
   "source": [
    "# Group the disorder percentage mean for 2013-2017\n",
    "averages_by_country = mental_health_df.groupby('Country').mean()\n",
    "averages_by_country.drop(axis=0, columns=['Year','index'], inplace=True)\n",
    "averages_by_country.reset_index(inplace=True)\n",
    "averages_by_country"
   ]
  },
  {
   "cell_type": "markdown",
   "id": "1483b932",
   "metadata": {},
   "source": [
    "#### Suicide Table"
   ]
  },
  {
   "cell_type": "markdown",
   "id": "ccca902c",
   "metadata": {},
   "source": [
    "First we renamed the countries column to Country to better align with the other CSV file names. Then we dropped the years before the year 2013 and reset the index for more accurate data collection. "
   ]
  },
  {
   "cell_type": "code",
   "execution_count": null,
   "id": "487527b0",
   "metadata": {},
   "outputs": [],
   "source": [
    "#Rename the Entity column to countries\n",
    "suicide_df = suicide_df.rename(columns={'country': 'Country'})\n",
    "\n",
    "# drop years before 2013\n",
    "suicide_df = suicide_df[suicide_df['year'] >= 2013]\n",
    "suicide_df.reset_index(drop=True, inplace=True)"
   ]
  },
  {
   "cell_type": "markdown",
   "id": "6bedcdc0",
   "metadata": {},
   "source": [
    "First we added together the suicide numbers if the year and the country was the same. We did this to account for the fact that the data took data based on different age groups. Then, we collected the suicide rates for each country and retook the sum of the suicide number."
   ]
  },
  {
   "cell_type": "code",
   "execution_count": null,
   "id": "7240f988",
   "metadata": {},
   "outputs": [],
   "source": [
    "# Add the suicide number together if the country and year is the same\n",
    "suicide_df = suicide_df.groupby(['Country', 'year'])['suicides_no'].sum().reset_index()\n",
    "\n",
    "# Total number of suicides on the most recent years\n",
    "suicide_2013_to_2017_df = suicide_df.groupby('Country')['suicides_no'].sum().reset_index()\n",
    "suicide_2013_to_2017_df"
   ]
  },
  {
   "cell_type": "markdown",
   "id": "16c09744",
   "metadata": {},
   "source": [
    "Next we will refer back to the Happiness score we had before"
   ]
  },
  {
   "cell_type": "code",
   "execution_count": null,
   "id": "82a40229",
   "metadata": {},
   "outputs": [],
   "source": [
    "happiness_df"
   ]
  },
  {
   "cell_type": "markdown",
   "id": "8cc913b4",
   "metadata": {},
   "source": [
    "#### Merge all 3 tables by country"
   ]
  },
  {
   "cell_type": "markdown",
   "id": "94af6c39",
   "metadata": {},
   "source": [
    "We merged together the suicide, mental disorder, and happiness score dateframe."
   ]
  },
  {
   "cell_type": "code",
   "execution_count": null,
   "id": "0af1e62b",
   "metadata": {},
   "outputs": [],
   "source": [
    "merged_1_2_df= pd.merge(averages_by_country, suicide_2013_to_2017_df, on='Country', how='inner')\n",
    "health_df = pd.merge(merged_1_2_df, happiness_df, on='Country', how='inner')\n",
    "health_df"
   ]
  },
  {
   "cell_type": "markdown",
   "id": "9b574d2d",
   "metadata": {},
   "source": [
    "## Exploratory Analysis:"
   ]
  },
  {
   "cell_type": "markdown",
   "id": "a7579e64",
   "metadata": {},
   "source": [
    "### Economy and Crime"
   ]
  },
  {
   "cell_type": "code",
   "execution_count": null,
   "id": "f116e77c",
   "metadata": {},
   "outputs": [],
   "source": [
    "fig, axs = plt.subplots(2, 2, figsize=(15, 12))\n",
    "\n",
    "# GDP vs Happiness Score\n",
    "sns.scatterplot(x='GDP($)', y='Happiness score', data=merged_df, ax=axs[0, 0])\n",
    "axs[0, 0].set_title('GDP vs Happiness Score')\n",
    "\n",
    "# GDP Per Capita vs Happiness Score\n",
    "sns.scatterplot(x='GDP Per Capita', y='Happiness score', data=merged_df, ax=axs[0, 1])\n",
    "axs[0, 1].set_title('GDP Per Capita vs Happiness Score')\n",
    "\n",
    "# Minimum wage vs Happiness Score\n",
    "sns.scatterplot(x='Minimum wage($)', y='Happiness score', data=merged_df, ax=axs[1, 0])\n",
    "axs[1, 0].set_title('Minimum wage vs Happiness Score')\n",
    "\n",
    "# Consumer Price Index vs Happiness Score\n",
    "sns.scatterplot(x='Consumer Price Index', y='Happiness score', data=merged_df, ax=axs[1, 1])\n",
    "axs[1, 1].set_title('Consumer Price Index vs Happiness Score')\n",
    "\n",
    "plt.show()"
   ]
  },
  {
   "cell_type": "code",
   "execution_count": null,
   "id": "74a47f30",
   "metadata": {},
   "outputs": [],
   "source": [
    "# Crime Heatmap\n",
    "correlation = merged_df[['Crime Index', 'Population','Unemployment rate(%)','Happiness score']].corr()\n",
    "sns.heatmap(correlation, annot=True, cmap='coolwarm')\n",
    "plt.show()"
   ]
  },
  {
   "cell_type": "code",
   "execution_count": null,
   "id": "585577cb",
   "metadata": {},
   "outputs": [],
   "source": [
    "# Happiness Score\n",
    "happiness_sorted = merged_df.sort_values('Happiness score', ascending=False)\n",
    "plt.figure(figsize=(18, 8))\n",
    "\n",
    "# Plot the top 10 countries with the highest Happiness Scores\n",
    "plt.subplot(1, 2, 1)\n",
    "plt.barh(happiness_sorted['Country'][:10], happiness_sorted['Happiness score'][:10], color='green')\n",
    "plt.gca().invert_yaxis()  \n",
    "plt.title('Top 10 Countries by Happiness Score')\n",
    "plt.xlabel('Happiness Score')\n",
    "\n",
    "# Plot the bottom 10 countries with the lowest Happiness Scores\n",
    "plt.subplot(1, 2, 2)\n",
    "plt.barh(happiness_sorted['Country'][-10:], happiness_sorted['Happiness score'][-10:], color='blue')\n",
    "plt.title('Bottom 10 Countries by Happiness Score')\n",
    "plt.xlabel('Happiness Score')\n",
    "\n",
    "plt.show()\n"
   ]
  },
  {
   "cell_type": "markdown",
   "id": "f818eac0",
   "metadata": {},
   "source": [
    "### Demography\n",
    "Taking a deeper look into what happiness looks at by sub-region within continents:"
   ]
  },
  {
   "cell_type": "code",
   "execution_count": null,
   "id": "183b4aac",
   "metadata": {},
   "outputs": [],
   "source": [
    "sns.boxplot(data = asia, x = \"Happiness score\", y = \"sub_region\")\n",
    "plt.show()\n",
    "\n",
    "sns.boxplot(data = europe, x = \"Happiness score\", y = \"sub_region\")\n",
    "plt.show()\n",
    "\n",
    "sns.boxplot(data = africa, x = \"Happiness score\", y = \"sub_region\")\n",
    "plt.show()\n",
    "\n",
    "sns.boxplot(data = oceania, x = \"Happiness score\", y = \"sub_region\")\n",
    "plt.show()\n",
    "\n",
    "sns.boxplot(data = americas, x = \"Happiness score\", y = \"sub_region\")\n",
    "plt.show()"
   ]
  },
  {
   "cell_type": "markdown",
   "id": "9aa16503",
   "metadata": {},
   "source": [
    "This correlation chart demonstrates the strength of correlation of the factors we are analyzing to each other."
   ]
  },
  {
   "cell_type": "code",
   "execution_count": null,
   "id": "1bc72b7a",
   "metadata": {},
   "outputs": [],
   "source": [
    "corr = demography_df[['birth_rate', 'infant_mortality', 'life_expectancy', \n",
    "                      'maternal_mortality_ratio', 'Happiness score']].corr()\n",
    "corr"
   ]
  },
  {
   "cell_type": "markdown",
   "id": "29408f9e",
   "metadata": {},
   "source": [
    "A heatmap can be created to more effectively visualize the results."
   ]
  },
  {
   "cell_type": "code",
   "execution_count": null,
   "id": "f532a298",
   "metadata": {},
   "outputs": [],
   "source": [
    "sns.heatmap(corr, annot=True)\n",
    "plt.show()"
   ]
  },
  {
   "cell_type": "markdown",
   "id": "d3f4c21a",
   "metadata": {},
   "source": [
    "Next, the means (averages) of the demography factors can be found according to continent and by geographic subregion. Because there is a lot of country data, this helps to possibly identify trends across groups."
   ]
  },
  {
   "cell_type": "code",
   "execution_count": null,
   "id": "41537958",
   "metadata": {},
   "outputs": [],
   "source": [
    "continent_df = duckdb.sql(\"SELECT continent, AVG(birth_rate) AS \\\n",
    "average_birth_rate, AVG(infant_mortality) AS average_infant_mortality, \\\n",
    "AVG(life_expectancy) AS average_life_expectancy, \\\n",
    "AVG(maternal_mortality_ratio) AS average_maternal_mortality_ratio, \\\n",
    "AVG(\\\"Happiness score\\\") AS average_happiness_score FROM demography_df \\\n",
    "GROUP BY continent\").df()\n",
    "continent_df"
   ]
  },
  {
   "cell_type": "code",
   "execution_count": null,
   "id": "9b646f5d",
   "metadata": {},
   "outputs": [],
   "source": [
    "sub_region_df = duckdb.sql(\"SELECT sub_region, AVG(birth_rate) AS \\\n",
    "average_birth_rate, AVG(infant_mortality) AS average_infant_mortality, \\\n",
    "AVG(life_expectancy) AS average_life_expectancy, \\\n",
    "AVG(maternal_mortality_ratio) AS average_maternal_mortality_ratio, \\\n",
    "AVG(\\\"Happiness score\\\") AS average_happiness_score FROM demography_df \\\n",
    "GROUP BY sub_region\").df()\n",
    "sub_region_df"
   ]
  },
  {
   "cell_type": "code",
   "execution_count": null,
   "id": "cd0960f0",
   "metadata": {},
   "outputs": [],
   "source": [
    "fig, axes = plt.subplots(2, 2, figsize=(12, 10))\n",
    "sns.scatterplot(data=demography_df, x='birth_rate', y='Happiness score', hue='continent', ax=axes[0, 0])\n",
    "sns.scatterplot(data=demography_df, x='infant_mortality', y='Happiness score', hue='continent', \n",
    "                ax=axes[0, 1])\n",
    "sns.scatterplot(data=demography_df, x='life_expectancy', y='Happiness score', hue='continent', \n",
    "                ax=axes[1, 0])\n",
    "sns.scatterplot(data=demography_df, x='maternal_mortality_ratio', y='Happiness score', hue='continent', \n",
    "                ax=axes[1, 1])\n",
    "\n",
    "axes[0, 0].set_title('Birth Rate vs Happiness Score')\n",
    "axes[0, 1].set_title('Infant Mortality vs Happiness Score')\n",
    "axes[1, 0].set_title('Life Expectancy vs Happiness Score')\n",
    "axes[1, 1].set_title('Maternal Mortality Ratio vs Happiness Score')\n",
    "\n",
    "plt.tight_layout()\n",
    "\n",
    "plt.show()"
   ]
  },
  {
   "cell_type": "markdown",
   "id": "51a69cb9",
   "metadata": {},
   "source": [
    "Further analysis within Asian regions:"
   ]
  },
  {
   "cell_type": "code",
   "execution_count": null,
   "id": "4cefdc53",
   "metadata": {},
   "outputs": [],
   "source": [
    "fig, axes = plt.subplots(2, 2, figsize=(12, 10))\n",
    "\n",
    "sns.scatterplot(data=asia, x='birth_rate', y='Happiness score', hue='sub_region', ax=axes[0, 0])\n",
    "sns.scatterplot(data=asia, x='infant_mortality', y='Happiness score', hue='sub_region', \n",
    "                ax=axes[0, 1])\n",
    "sns.scatterplot(data=asia, x='life_expectancy', y='Happiness score', hue='sub_region', \n",
    "                ax=axes[1, 0])\n",
    "sns.scatterplot(data=asia, x='maternal_mortality_ratio', y='Happiness score', hue='sub_region', \n",
    "                ax=axes[1, 1])\n",
    "\n",
    "axes[0, 0].set_title('Birth Rate vs Happiness Score')\n",
    "axes[0, 1].set_title('Infant Mortality vs Happiness Score')\n",
    "axes[1, 0].set_title('Life Expectancy vs Happiness Score')\n",
    "axes[1, 1].set_title('Maternal Mortality Ratio vs Happiness Score')\n",
    "\n",
    "plt.tight_layout()\n",
    "\n",
    "plt.show()"
   ]
  },
  {
   "cell_type": "markdown",
   "id": "a1056bf4",
   "metadata": {},
   "source": [
    "Further analysis within European regions:"
   ]
  },
  {
   "cell_type": "code",
   "execution_count": null,
   "id": "b95f4c65",
   "metadata": {},
   "outputs": [],
   "source": [
    "fig, axes = plt.subplots(2, 2, figsize=(12, 10))\n",
    "\n",
    "sns.scatterplot(data=europe, x='birth_rate', y='Happiness score', hue='sub_region', ax=axes[0, 0])\n",
    "sns.scatterplot(data=europe, x='infant_mortality', y='Happiness score', hue='sub_region', \n",
    "                ax=axes[0, 1])\n",
    "sns.scatterplot(data=europe, x='life_expectancy', y='Happiness score', hue='sub_region', \n",
    "                ax=axes[1, 0])\n",
    "sns.scatterplot(data=europe, x='maternal_mortality_ratio', y='Happiness score', hue='sub_region', \n",
    "                ax=axes[1, 1])\n",
    "\n",
    "axes[0, 0].set_title('Birth Rate vs Happiness Score')\n",
    "axes[0, 1].set_title('Infant Mortality vs Happiness Score')\n",
    "axes[1, 0].set_title('Life Expectancy vs Happiness Score')\n",
    "axes[1, 1].set_title('Maternal Mortality Ratio vs Happiness Score')\n",
    "\n",
    "plt.tight_layout()\n",
    "\n",
    "plt.show()"
   ]
  },
  {
   "cell_type": "markdown",
   "id": "857ae184",
   "metadata": {},
   "source": [
    "Further analysis within African regions:"
   ]
  },
  {
   "cell_type": "code",
   "execution_count": null,
   "id": "d5150f7f",
   "metadata": {},
   "outputs": [],
   "source": [
    "fig, axes = plt.subplots(2, 2, figsize=(12, 10))\n",
    "\n",
    "sns.scatterplot(data=africa, x='birth_rate', y='Happiness score', hue='sub_region', ax=axes[0, 0])\n",
    "sns.scatterplot(data=africa, x='infant_mortality', y='Happiness score', hue='sub_region', \n",
    "                ax=axes[0, 1])\n",
    "sns.scatterplot(data=africa, x='life_expectancy', y='Happiness score', hue='sub_region', \n",
    "                ax=axes[1, 0])\n",
    "sns.scatterplot(data=africa, x='maternal_mortality_ratio', y='Happiness score', hue='sub_region', \n",
    "                ax=axes[1, 1])\n",
    "\n",
    "axes[0, 0].set_title('Birth Rate vs Happiness Score')\n",
    "axes[0, 1].set_title('Infant Mortality vs Happiness Score')\n",
    "axes[1, 0].set_title('Life Expectancy vs Happiness Score')\n",
    "axes[1, 1].set_title('Maternal Mortality Ratio vs Happiness Score')\n",
    "\n",
    "plt.tight_layout()\n",
    "\n",
    "plt.show()"
   ]
  },
  {
   "cell_type": "markdown",
   "id": "fae6b039",
   "metadata": {},
   "source": [
    "Further analysis within Oceania region:\n",
    "Note: there is only one subregion in this continent, so this analysis is not as informative."
   ]
  },
  {
   "cell_type": "code",
   "execution_count": null,
   "id": "d8f1a158",
   "metadata": {},
   "outputs": [],
   "source": [
    "fig, axes = plt.subplots(2, 2, figsize=(12, 10))\n",
    "\n",
    "# Plot the scatterplots on the subplots\n",
    "sns.scatterplot(data=oceania, x='birth_rate', y='Happiness score', hue='sub_region', ax=axes[0, 0])\n",
    "sns.scatterplot(data=oceania, x='infant_mortality', y='Happiness score', hue='sub_region', \n",
    "                ax=axes[0, 1])\n",
    "sns.scatterplot(data=oceania, x='life_expectancy', y='Happiness score', hue='sub_region', \n",
    "                ax=axes[1, 0])\n",
    "sns.scatterplot(data=oceania, x='maternal_mortality_ratio', y='Happiness score', hue='sub_region', \n",
    "                ax=axes[1, 1])\n",
    "\n",
    "# Set titles for each subplot\n",
    "axes[0, 0].set_title('Birth Rate vs Happiness Score')\n",
    "axes[0, 1].set_title('Infant Mortality vs Happiness Score')\n",
    "axes[1, 0].set_title('Life Expectancy vs Happiness Score')\n",
    "axes[1, 1].set_title('Maternal Mortality Ratio vs Happiness Score')\n",
    "\n",
    "# Add spacing between subplots\n",
    "plt.tight_layout()\n",
    "\n",
    "# Show the combined plot\n",
    "plt.show()"
   ]
  },
  {
   "cell_type": "markdown",
   "id": "e2010ab9",
   "metadata": {},
   "source": [
    "Further analysis within the Americas:"
   ]
  },
  {
   "cell_type": "code",
   "execution_count": null,
   "id": "0f321aca",
   "metadata": {},
   "outputs": [],
   "source": [
    "fig, axes = plt.subplots(2, 2, figsize=(12, 10))\n",
    "\n",
    "sns.scatterplot(data=americas, x='birth_rate', y='Happiness score', hue='sub_region', ax=axes[0, 0])\n",
    "sns.scatterplot(data=americas, x='infant_mortality', y='Happiness score', hue='sub_region', \n",
    "                ax=axes[0, 1])\n",
    "sns.scatterplot(data=americas, x='life_expectancy', y='Happiness score', hue='sub_region', \n",
    "                ax=axes[1, 0])\n",
    "sns.scatterplot(data=americas, x='maternal_mortality_ratio', y='Happiness score', hue='sub_region', \n",
    "                ax=axes[1, 1])\n",
    "\n",
    "axes[0, 0].set_title('Birth Rate vs Happiness Score')\n",
    "axes[0, 1].set_title('Infant Mortality vs Happiness Score')\n",
    "axes[1, 0].set_title('Life Expectancy vs Happiness Score')\n",
    "axes[1, 1].set_title('Maternal Mortality Ratio vs Happiness Score')\n",
    "\n",
    "plt.tight_layout()\n",
    "\n",
    "plt.show()"
   ]
  },
  {
   "cell_type": "markdown",
   "id": "ade5ff72",
   "metadata": {},
   "source": [
    "### Health"
   ]
  },
  {
   "cell_type": "code",
   "execution_count": null,
   "id": "0f54ff88",
   "metadata": {
    "scrolled": true
   },
   "outputs": [],
   "source": [
    "# Countries we are mainly looking at\n",
    "selected_countries = ['United States',  'Brazil', 'United Kingdom',\n",
    "             'Australia', 'South Africa', 'Canada', 'Germany',\n",
    "             'Japan', 'Argentina']\n",
    "\n",
    "# Filter it, include only the selected countries\n",
    "health_select_df= health_df[health_df['Country'].isin(selected_countries)]\n",
    "\n",
    "# List of all the disorders\n",
    "disorders = ['Schizophrenia (%)',\n",
    "       'Bipolar disorder (%)', 'Eating disorders (%)', 'Anxiety disorders (%)',\n",
    "       'Drug use disorders (%)', 'Depression (%)',\n",
    "       'Alcohol use disorders (%)']\n",
    "\n",
    "# Make bar graph\n",
    "ax = health_select_df.plot(x='Country', y=disorders, kind='bar', figsize=(12, 6) )\n",
    "plt.title('Mental Health Disorder Percentages in Selected Countries')\n",
    "plt.xlabel('Countries')\n",
    "plt.ylabel('Percentage')\n",
    "plt.xticks(rotation=45)\n",
    "plt.legend(title='Disorder', bbox_to_anchor=(1.05, 1), loc='upper left')\n",
    "plt.grid(True)\n",
    "plt.show()"
   ]
  },
  {
   "cell_type": "code",
   "execution_count": null,
   "id": "d4e2abae",
   "metadata": {},
   "outputs": [],
   "source": [
    "# Collects correlation from country disorder to happiness score\n",
    "# https://pandas.pydata.org/docs/reference/api/pandas.DataFrame.corrwith.html\n",
    "# https://stackoverflow.com/questions/38422001/pandas-dataframe-corrwith-method\n",
    "correlations = health_select_df[disorders].corrwith(health_select_df['Happiness score'])\n",
    "\n",
    "# Make new dataframe that collects correlation from all countries\n",
    "# https://www.geeksforgeeks.org/python-pandas-index-values/\n",
    "correlation_df = pd.DataFrame({'Disorder': correlations.index, 'Correlation': correlations.values})\n",
    "\n",
    "# Makes bar graph\n",
    "plt.figure(figsize=(10, 6))\n",
    "# https://pandas.pydata.org/docs/reference/api/pandas.DataFrame.plot.barh.html\n",
    "plt.barh(correlation_df['Disorder'], correlation_df['Correlation'], color='skyblue')\n",
    "plt.xlabel('Correlation with Happiness Score')\n",
    "plt.ylabel('Disorder')\n",
    "plt.title('Correlation of Mental Health Disorders with Happiness Score')\n",
    "\n",
    "plt.show()"
   ]
  },
  {
   "cell_type": "code",
   "execution_count": null,
   "id": "ca1d73dd",
   "metadata": {},
   "outputs": [],
   "source": [
    "plt.figure(figsize=(10, 6))\n",
    "plt.bar(health_select_df['Country'], health_select_df['suicide_rate'], color='pink')\n",
    "plt.xlabel('Country')\n",
    "plt.ylabel('Suicide Rate')\n",
    "plt.title('Suicide Rate in Selected Country')\n",
    "plt.xticks(rotation=45)\n",
    "plt.grid(axis='y', linestyle='--')\n",
    "\n",
    "plt.show()"
   ]
  },
  {
   "cell_type": "code",
   "execution_count": null,
   "id": "9906cdab",
   "metadata": {},
   "outputs": [],
   "source": [
    "\n",
    "plt.figure(figsize=(10, 6))\n",
    "ax = sns.regplot(data=health_df, x=health_df['suicide_rate'], y=health_df['Happiness score'], scatter_kws={'color':'red', 'marker':'o'})\n",
    "\n",
    "# Make label for each point\n",
    "# https://www.statology.org/pandas-scatter-plot-label-points/\n",
    "# for i, row in health_df.iterrows():\n",
    "#     ax.text(row['suicide_rate'], row['Happiness score'], row['Country'], fontsize=8)\n",
    "\n",
    "plt.title('Suicide Rates Compared to Happiness Scores')\n",
    "plt.xlabel('Suicide Rate')\n",
    "plt.ylabel('Happiness Score')\n",
    "plt.grid()\n",
    "plt.show()"
   ]
  },
  {
   "cell_type": "code",
   "execution_count": null,
   "id": "2139eaa8",
   "metadata": {},
   "outputs": [],
   "source": [
    "correlation_matrix2 = health_select_df.iloc[:, 1:].corr()\n",
    "\n",
    "# Create a heatmap\n",
    "plt.figure(figsize=(10, 8))\n",
    "sns.heatmap(correlation_matrix2, annot=True, cmap='RdBu_r', cbar=True)\n",
    "plt.title('Correlation Between All Variables')\n",
    "plt.show()"
   ]
  },
  {
   "cell_type": "markdown",
   "id": "a79b4081",
   "metadata": {},
   "source": [
    "## Data Limitations"
   ]
  },
  {
   "cell_type": "markdown",
   "id": "9ec529cd",
   "metadata": {},
   "source": [
    "\n",
    "__1.__ Here are some limitations of the health data:\n",
    "\n",
    "  - The dataset from the Mental Health Disorder CSV contained dates from 1990 to 2017. Some countries like Albania only contained statistics up to the year 2015. Since the data was not up to date, it could cause inaccuracies in our dataset, making it difficult to make predictions on life satisfaction. \n",
    "\n",
    "  - The Mental Health Disorder CSV contained multiple NaN values on different years of different countries. Since there was missing data, our final output could be skewed depending on the years missing. \n",
    "\n",
    "  - The Suicide Number CSV could have accuracy problems through the collection process. It is hard to account for all the suicides globally since it doesn’t account for missing people, doesn’t account for underreportings, and we don’t know what constitutes as a suicide. \n",
    "\n",
    "  - When merging the different data frames, it was difficult to keep all the countries shared by the three data sets. Since we were inner joining, only countries that were on all datasets were included. \n",
    "\n",
    "__2.__ Though the global country information dataset is very comprehensive and has over 18,000 downloads, there isn’t clear documentation of its sources and how the data was collected. Thus, there is some ambiguity associated with reporting findings based on this data.\n",
    "\n",
    "__3.__ The world happiness report data is not up to date to 2023, so we have chosen to use the most recent data collected from 2022 in our analysis. This could potentially alter our findings as it may not completely and accurately reflect the current situation.\n",
    "\n",
    "__4.__ The world happiness report data was mainly collected through a survey, the Gallup World Survey. Thus, there could be selection biases in the responses and the data may not be completely representative of the whole population.\n",
    "\n",
    "__5.__ The Crime Rate By Country 2023 CSV doesn’t clearly explain how the 'crime index' is calculated, which raises concerns about potential bias in data collection."
   ]
  },
  {
   "cell_type": "markdown",
   "id": "3ca6957a",
   "metadata": {},
   "source": [
    "## Questions For Reviewers:\n",
    "\n"
   ]
  },
  {
   "cell_type": "markdown",
   "id": "3389a58d",
   "metadata": {},
   "source": [
    "__1.__ We are unsure of how to find the “weight” of each factor in influencing happiness. Could you provide any insights as to how to approach this?\n",
    "\n",
    "__2.__ We are interested in possibly doing prediction models using factors we are analyzing as inputs. However, we haven’t included time-series data for some of these factors. Is it still possible to do a prediction model, or should we pivot to a different question?\n",
    "\n",
    "__3.__ For future analyses, will we need to derive a single equation that combines demographic, health, economic, and crime factors?\n"
   ]
  }
 ],
 "metadata": {
  "kernelspec": {
   "display_name": "Python 3 (ipykernel)",
   "language": "python",
   "name": "python3"
  },
  "language_info": {
   "codemirror_mode": {
    "name": "ipython",
    "version": 3
   },
   "file_extension": ".py",
   "mimetype": "text/x-python",
   "name": "python",
   "nbconvert_exporter": "python",
   "pygments_lexer": "ipython3",
   "version": "3.11.5"
  }
 },
 "nbformat": 4,
 "nbformat_minor": 5
}
