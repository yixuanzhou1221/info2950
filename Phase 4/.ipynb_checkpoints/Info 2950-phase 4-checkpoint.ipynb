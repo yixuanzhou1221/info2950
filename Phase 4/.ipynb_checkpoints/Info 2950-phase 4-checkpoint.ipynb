{
 "cells": [
  {
   "cell_type": "markdown",
   "id": "4528e6e1",
   "metadata": {},
   "source": [
    "## INFO 2950 Final Project: Insert Title Here"
   ]
  },
  {
   "cell_type": "markdown",
   "id": "4dc8784d",
   "metadata": {},
   "source": [
    "## Table of Contents\n",
    "1. Introduction\n",
    "    a. Key Terms\n",
    "    b. Research Questions\n",
    "    c. Summary of Findings\n",
    "2. Data Description\n",
    "3. Preregistration Statements\n",
    "4. Data Analysis\n",
    "5. Evaluation of Significance\n",
    "6. Interpretation and Conclusions\n",
    "7. Limitations\n",
    "8. Appendix - Data Cleaning"
   ]
  },
  {
   "cell_type": "markdown",
   "id": "1c9bbd0b",
   "metadata": {},
   "source": [
    "## Introduction\n",
    "The question of happiness has been commonly pondered and explored throughout history. People have constantly looked for the best way to live their lives and seek happiness. Whether it's defined by personal achievements, meaningful relationships, or moments of delight, the concept of happiness is an important part of the human experience, shaping our perspectives, decisions, and the overall quality of our lives.\n",
    "\n",
    "Our research aims to shed light on this question by examining how different areas of life can play a role in influencing countries' happiness scores. Though happiness has been commonly studied, our research is differentiated because it combines the impact of different factors in the areas of health, economics, and demography, which are typically analyzed separately. \n",
    "\n",
    "In particular, factors we have chosen to study are suicide rate, birth rate, minimum wage, crime index, and population size. We chose factors from a wide range of areas because we are interested in understanding if different aspects of lifestyle (ie. health, economics, and demography) have more weight than others in influencing happiness.\n",
    "\n",
    "Understanding how these various factors can influence happiness is important on a personal level because every individual is invested in their own happiness. However, this research can also be used extract broader insights into the way different societies are structured and how that can subsequently affect happiness. Thus, the findings from this research can be used as a basis for informing policy decisions that can have the potential to increase happiness worldwide.\n",
    "\n",
    "## Research Question:\n",
    "**Main Question**: Among the factors of suicide rate, birth rate, minimum wage, crime index, and population size, which are the most prominent in influencing “happiness”? \n",
    "\n",
    "To answer this question, we use the following sub-questions to assist:\n",
    "\n",
    "1) Is there a relationship between the levels of suicide rate and a country's happiness score?\n",
    "\n",
    "2) Do birth rates, minimum wage, and crime index have correlations to population size? And does the population size have a relationship with happiness score? \n"
   ]
  },
  {
   "cell_type": "code",
   "execution_count": 4,
   "id": "3d976761",
   "metadata": {
    "scrolled": true
   },
   "outputs": [],
   "source": [
    "import numpy as np\n",
    "import pandas as pd\n",
    "import matplotlib.pyplot as plt\n",
    "import seaborn as sns\n",
    "import datetime\n",
    "import duckdb\n",
    "import statsmodels.api as sm\n",
    "from sklearn.linear_model import LinearRegression\n",
    "import plotly.express as px"
   ]
  },
  {
   "cell_type": "markdown",
   "id": "e4de3600",
   "metadata": {},
   "source": [
    "## Data Description:\n",
    "\n",
    "### __MOTIVATION__\n",
    "__Why was this dataset created?__\n",
    "- Our dataset was created to observe the factors that influenced life satisfaction in various countries. We wanted to isolate factors that demonstrated the strongest correlation to overall happiness. The five datasets we analyzed all compared individual factors that would influence or measure the wellbeing of the country. Their purpose was to capture the overall state of different countries. \n",
    "\n",
    "__Who funded the creation of the dataset?__\n",
    "- These datasets took information from organizations like the “World Health Organization”, “World bank” statistics, United Nations Statistics, and other datasets. It is unclear who funded these datasets. \n",
    "### __Composition__\n",
    "__Is any information missing from individual instances?__\n",
    "- There is information missing from individual instances, such as data from smaller countries like Andorra, which may have less resources to collect the data. These rows of missing values have been removed.\n",
    "\n",
    "__What are the observations (rows) and the attributes (columns)?__\n",
    "\n",
    "- For these datasets, the rows are the names of countries, and the columns are health, economic, and demography factors. These include number of suicides, infant mortality rate, crime rates, and so on. \n",
    "\n",
    "__What processes might have influenced what data was observed and recorded and what was not?__\n",
    "- The data has mainly been collected from research studies, using methods such as surveys. Thus, there could be several biases that could have influenced data collection, such as selection bias, sampling bias, and social desirability bias.\n",
    "\n",
    "\n",
    "### __Collection Process__\n",
    "__How was the data associated with each instance acquired?__\n",
    "- We gathered the data from various CSV files in order to analyze various facets of influential attributes that impacted a nation. The individual CSV files took data from large health organizations that measured population statistics. Some examples are the \"https://ourworldindata.org/\", the \"Sustainable Development Solutions Network\", and the \"World Health Organization\".\n",
    "\n",
    "__Over what timeframe was the data collected?__\n",
    "- Our research analyzed data from the year 2013 to 2023. This data allows us to predict the more recent trends in Happiness levels, GDP, birth rate, etc. \n",
    "\n",
    "__What preprocessing was done, and how did the data come to be in the form that you are using?__\n",
    "- The data scrapped data from large organizations that provided public data. They also took data from previous research studies that used the same data. The data was changed to its current form once we removed less relevant columns and collected the correlation value. Additionally we dropped empty column values to focus on the analyzable data. \n",
    "\n",
    "### __Uses__\n",
    "__Where can your raw source data be found, if applicable? Provide a link to the raw data (hosted on Github, in a Cornell Google Drive or Cornell Box).__\n",
    "\n",
    "Overall, we used 6 datasets. They can be found in their raw data sources as follows. \n",
    "\n",
    "1. Mental health disorders dataset:\n",
    "https://github.com/yixuanzhou1221/info2950/blob/main/Phase%202/Mental%20health%20Depression%20disorder%20Data.csv\n",
    "\n",
    "2. Suicide dataset:\n",
    "https://github.com/yixuanzhou1221/info2950/blob/main/Phase%202/master.csv\n",
    "\n",
    "3. Demography and economic information dataset:\n",
    "https://github.com/yixuanzhou1221/info2950/blob/main/Phase%202/world-data-2023.csv\n",
    "\n",
    "4. Crime information dataset:\n",
    "https://github.com/yixuanzhou1221/info2950/blob/main/Phase%202/crime-rate-by-country-2023.csv\n",
    "\n",
    "5. Country and continent dataset:\n",
    "https://github.com/yixuanzhou1221/info2950/blob/main/Phase%202/countryContinent.csv\n",
    "\n",
    "6. Happiness information dataset:\n",
    "https://github.com/yixuanzhou1221/info2950/blob/main/Phase%202/2022.csv\n",
    "\n",
    "__What (other) tasks could the dataset be used for?__\n",
    "- These datasets contain a lot of rich information that can be used for a variety of different tasks. For example, other ideas that could be studied include the patterns between education levels and human development, between labor force participation and overall economic performance, and between urbanization trends and environmental consequences.\n",
    "\n",
    "__Are there tasks for which the dataset should not be used?__\n",
    "- Some potential tasks that these data should not be used for are visualizing trends over time, because not all the datasets include data over time. Additionally, further verification of the data should be done before using it to inform any policy recommendations.\n",
    "\n",
    "\n"
   ]
  },
  {
   "cell_type": "markdown",
   "id": "c917f6d4",
   "metadata": {},
   "source": [
    "## Preregistration Statements\n",
    "**Hypothesis 1**: \n",
    "Countries that are reported to have an overall higher rate of happiness will experience lower levels of suicide rates. \n",
    "**Analysis**: We will run a linear regression model to determine if there is a relationship between happiness score and suicide rates (number of suicides per 100,000 people).This would be our formula: Happiness Score = α + βsuicide_rate * Suicide Rate + ε. We will be looking to see if βsuicide_rate < 0, to determine if there is a negative correlation between happiness and suicide rates per country.\n",
    "\n",
    "**Hypothesis 2**: \n",
    "Smaller population sizes of countries correspond to lower birth rates, higher minimum wages, and lower crime index, which in turn leads to higher happiness scores for countries.\n",
    "**Analysis**: We will run a multivariable linear regression to determine the correlation of the inputs of birth rate (number of live births per 1,000 people in the population), minimum wage (in dollars), crime index (out of 100), and population (in number of people) in affecting the output of happiness score. We will test whether 𝛽population< 0 , 𝛽birth_rate< 0, 𝛽min_wage > 0, and 𝛽crime< 0. Our formula would be: Happiness Score = α + βbirth_rate * Birth_rate + βminimum_wage * Minimum wage + βcrime * Crime + βpopulation * Population + ε."
   ]
  },
  {
   "cell_type": "markdown",
   "id": "ea30ec0d",
   "metadata": {},
   "source": [
    "## Data Cleaning:"
   ]
  },
  {
   "cell_type": "markdown",
   "id": "0b758d3a",
   "metadata": {},
   "source": [
    "### Happiness table"
   ]
  },
  {
   "cell_type": "markdown",
   "id": "ee7f0930",
   "metadata": {},
   "source": [
    "First we loaded in the Happiness CSV file"
   ]
  },
  {
   "cell_type": "code",
   "execution_count": 5,
   "id": "941997e1",
   "metadata": {
    "scrolled": true
   },
   "outputs": [
    {
     "name": "stdout",
     "output_type": "stream",
     "text": [
      "(147, 12)\n"
     ]
    }
   ],
   "source": [
    "#load the world happiness score of 2022\n",
    "happiness_df = pd.read_csv('2022.csv', thousands=',')\n",
    "print(happiness_df.shape)"
   ]
  },
  {
   "cell_type": "markdown",
   "id": "5f4b8121",
   "metadata": {},
   "source": [
    "The original dataset displays the world happiness country ranking of 2022 and scores from various perspectives. We removed the rows with empty data and are only keeping the happiness rank, happiness score, and country name for further analysis."
   ]
  },
  {
   "cell_type": "code",
   "execution_count": 6,
   "id": "e8da2350",
   "metadata": {},
   "outputs": [
    {
     "name": "stdout",
     "output_type": "stream",
     "text": [
      "(146, 2)\n"
     ]
    },
    {
     "data": {
      "text/html": [
       "<div>\n",
       "<style scoped>\n",
       "    .dataframe tbody tr th:only-of-type {\n",
       "        vertical-align: middle;\n",
       "    }\n",
       "\n",
       "    .dataframe tbody tr th {\n",
       "        vertical-align: top;\n",
       "    }\n",
       "\n",
       "    .dataframe thead th {\n",
       "        text-align: right;\n",
       "    }\n",
       "</style>\n",
       "<table border=\"1\" class=\"dataframe\">\n",
       "  <thead>\n",
       "    <tr style=\"text-align: right;\">\n",
       "      <th></th>\n",
       "      <th>Country</th>\n",
       "      <th>Happiness score</th>\n",
       "    </tr>\n",
       "  </thead>\n",
       "  <tbody>\n",
       "    <tr>\n",
       "      <th>0</th>\n",
       "      <td>Finland</td>\n",
       "      <td>7821.0</td>\n",
       "    </tr>\n",
       "    <tr>\n",
       "      <th>1</th>\n",
       "      <td>Denmark</td>\n",
       "      <td>7636.0</td>\n",
       "    </tr>\n",
       "    <tr>\n",
       "      <th>2</th>\n",
       "      <td>Iceland</td>\n",
       "      <td>7557.0</td>\n",
       "    </tr>\n",
       "    <tr>\n",
       "      <th>3</th>\n",
       "      <td>Switzerland</td>\n",
       "      <td>7512.0</td>\n",
       "    </tr>\n",
       "    <tr>\n",
       "      <th>4</th>\n",
       "      <td>Netherlands</td>\n",
       "      <td>7415.0</td>\n",
       "    </tr>\n",
       "    <tr>\n",
       "      <th>...</th>\n",
       "      <td>...</td>\n",
       "      <td>...</td>\n",
       "    </tr>\n",
       "    <tr>\n",
       "      <th>141</th>\n",
       "      <td>Botswana*</td>\n",
       "      <td>3471.0</td>\n",
       "    </tr>\n",
       "    <tr>\n",
       "      <th>142</th>\n",
       "      <td>Rwanda*</td>\n",
       "      <td>3268.0</td>\n",
       "    </tr>\n",
       "    <tr>\n",
       "      <th>143</th>\n",
       "      <td>Zimbabwe</td>\n",
       "      <td>2995.0</td>\n",
       "    </tr>\n",
       "    <tr>\n",
       "      <th>144</th>\n",
       "      <td>Lebanon</td>\n",
       "      <td>2955.0</td>\n",
       "    </tr>\n",
       "    <tr>\n",
       "      <th>145</th>\n",
       "      <td>Afghanistan</td>\n",
       "      <td>2404.0</td>\n",
       "    </tr>\n",
       "  </tbody>\n",
       "</table>\n",
       "<p>146 rows × 2 columns</p>\n",
       "</div>"
      ],
      "text/plain": [
       "         Country  Happiness score\n",
       "0        Finland           7821.0\n",
       "1        Denmark           7636.0\n",
       "2        Iceland           7557.0\n",
       "3    Switzerland           7512.0\n",
       "4    Netherlands           7415.0\n",
       "..           ...              ...\n",
       "141    Botswana*           3471.0\n",
       "142      Rwanda*           3268.0\n",
       "143     Zimbabwe           2995.0\n",
       "144      Lebanon           2955.0\n",
       "145  Afghanistan           2404.0\n",
       "\n",
       "[146 rows x 2 columns]"
      ]
     },
     "execution_count": 6,
     "metadata": {},
     "output_type": "execute_result"
    }
   ],
   "source": [
    "\n",
    "#drop the rows where any of these columns is empty.\n",
    "happiness_df = happiness_df.dropna(subset=['Country', 'Happiness score'])\n",
    "\n",
    "#select the 'Happiness rank' and 'Country' columns from the dataset\n",
    "happiness_df = happiness_df[['Country', 'Happiness score']]\n",
    "\n",
    "print(happiness_df.shape)\n",
    "happiness_df"
   ]
  },
  {
   "cell_type": "markdown",
   "id": "9c340ed5",
   "metadata": {},
   "source": [
    "### Economy and Crime"
   ]
  },
  {
   "cell_type": "markdown",
   "id": "72edbb7a",
   "metadata": {},
   "source": [
    "Note: we are printing dataframe below because there are so many columns that it goes off the page when presented as a table. Printing allows for all the columns of data to be visible. For this project, we will print the dataframes that have columns going off the page. For the other dataframes, we will present them as tables since that provides for easier viewing."
   ]
  },
  {
   "cell_type": "code",
   "execution_count": 7,
   "id": "30096ec4",
   "metadata": {
    "scrolled": false
   },
   "outputs": [
    {
     "name": "stdout",
     "output_type": "stream",
     "text": [
      "(195, 35)\n",
      "         Country  Density\\n(P/Km2) Abbreviation Agricultural Land( %)  \\\n",
      "0    Afghanistan                60           AF                58.10%   \n",
      "1        Albania               105           AL                43.10%   \n",
      "2        Algeria                18           DZ                17.40%   \n",
      "3        Andorra               164           AD                40.00%   \n",
      "4         Angola                26           AO                47.50%   \n",
      "..           ...               ...          ...                   ...   \n",
      "190    Venezuela                32           VE                24.50%   \n",
      "191      Vietnam               314           VN                39.30%   \n",
      "192        Yemen                56           YE                44.60%   \n",
      "193       Zambia                25           ZM                32.10%   \n",
      "194     Zimbabwe                38           ZW                41.90%   \n",
      "\n",
      "     Land Area(Km2)  Armed Forces size  Birth Rate  Calling Code  \\\n",
      "0          652230.0           323000.0       32.49          93.0   \n",
      "1           28748.0             9000.0       11.78         355.0   \n",
      "2         2381741.0           317000.0       24.28         213.0   \n",
      "3             468.0                NaN        7.20         376.0   \n",
      "4         1246700.0           117000.0       40.73         244.0   \n",
      "..              ...                ...         ...           ...   \n",
      "190        912050.0           343000.0       17.88          58.0   \n",
      "191        331210.0           522000.0       16.75          84.0   \n",
      "192        527968.0            40000.0       30.45         967.0   \n",
      "193        752618.0            16000.0       36.19         260.0   \n",
      "194        390757.0            51000.0       30.68         263.0   \n",
      "\n",
      "    Capital/Major City  Co2-Emissions  ...  Out of pocket health expenditure  \\\n",
      "0                Kabul         8672.0  ...                            78.40%   \n",
      "1               Tirana         4536.0  ...                            56.90%   \n",
      "2              Algiers       150006.0  ...                            28.10%   \n",
      "3     Andorra la Vella          469.0  ...                            36.40%   \n",
      "4               Luanda        34693.0  ...                            33.40%   \n",
      "..                 ...            ...  ...                               ...   \n",
      "190            Caracas       164175.0  ...                            45.80%   \n",
      "191              Hanoi       192668.0  ...                            43.50%   \n",
      "192              Sanaa        10609.0  ...                            81.00%   \n",
      "193             Lusaka         5141.0  ...                            27.50%   \n",
      "194             Harare        10983.0  ...                            25.80%   \n",
      "\n",
      "    Physicians per thousand  Population  \\\n",
      "0                      0.28  38041754.0   \n",
      "1                      1.20   2854191.0   \n",
      "2                      1.72  43053054.0   \n",
      "3                      3.33     77142.0   \n",
      "4                      0.21  31825295.0   \n",
      "..                      ...         ...   \n",
      "190                    1.92  28515829.0   \n",
      "191                    0.82  96462106.0   \n",
      "192                    0.31  29161922.0   \n",
      "193                    1.19  17861030.0   \n",
      "194                    0.21  14645468.0   \n",
      "\n",
      "     Population: Labor force participation (%) Tax revenue (%) Total tax rate  \\\n",
      "0                                       48.90%           9.30%         71.40%   \n",
      "1                                       55.70%          18.60%         36.60%   \n",
      "2                                       41.20%          37.20%         66.10%   \n",
      "3                                          NaN             NaN            NaN   \n",
      "4                                       77.50%           9.20%         49.10%   \n",
      "..                                         ...             ...            ...   \n",
      "190                                     59.70%             NaN         73.30%   \n",
      "191                                     77.40%          19.10%         37.60%   \n",
      "192                                     38.00%             NaN         26.60%   \n",
      "193                                     74.60%          16.20%         15.60%   \n",
      "194                                     83.10%          20.70%         31.60%   \n",
      "\n",
      "    Unemployment rate Urban_population   Latitude   Longitude  \n",
      "0              11.12%        9797273.0  33.939110   67.709953  \n",
      "1              12.33%        1747593.0  41.153332   20.168331  \n",
      "2              11.70%       31510100.0  28.033886    1.659626  \n",
      "3                 NaN          67873.0  42.506285    1.521801  \n",
      "4               6.89%       21061025.0 -11.202692   17.873887  \n",
      "..                ...              ...        ...         ...  \n",
      "190             8.80%       25162368.0   6.423750  -66.589730  \n",
      "191             2.01%       35332140.0  14.058324  108.277199  \n",
      "192            12.91%       10869523.0  15.552727   48.516388  \n",
      "193            11.43%        7871713.0 -13.133897   27.849332  \n",
      "194             4.95%        4717305.0 -19.015438   29.154857  \n",
      "\n",
      "[195 rows x 35 columns]\n"
     ]
    }
   ],
   "source": [
    "#load the economic data of countries for 2023\n",
    "econ_df = pd.read_csv('world-data-2023.csv', thousands=',')\n",
    "print(econ_df.shape)\n",
    "print(econ_df)"
   ]
  },
  {
   "cell_type": "markdown",
   "id": "fe3c313b",
   "metadata": {},
   "source": [
    "The original dataset includes basic information about 195 countries with 35 attributes for each country, such as population density, abbreviation, and much more. We are only using information regarding the economy from this dataset, such as GDP, to analyze how economic factors within countries affect citizens’ happiness. We cleaned the rows with missing data and renamed some of the columns to clarify the unit and explain the economic terms. We created a column called ‘GDP Per Capita’ based on the provided GDP and Population information and divided them to gain this essential metric of economics. In addition, we removed special signs such as dollar signs and percentage signs and converted them to numbers for later analysis. We ended up with data for 128 countries."
   ]
  },
  {
   "cell_type": "code",
   "execution_count": 8,
   "id": "6c8a73ea",
   "metadata": {
    "scrolled": true
   },
   "outputs": [
    {
     "name": "stdout",
     "output_type": "stream",
     "text": [
      "(128, 8)\n"
     ]
    },
    {
     "data": {
      "text/html": [
       "<div>\n",
       "<style scoped>\n",
       "    .dataframe tbody tr th:only-of-type {\n",
       "        vertical-align: middle;\n",
       "    }\n",
       "\n",
       "    .dataframe tbody tr th {\n",
       "        vertical-align: top;\n",
       "    }\n",
       "\n",
       "    .dataframe thead th {\n",
       "        text-align: right;\n",
       "    }\n",
       "</style>\n",
       "<table border=\"1\" class=\"dataframe\">\n",
       "  <thead>\n",
       "    <tr style=\"text-align: right;\">\n",
       "      <th></th>\n",
       "      <th>Country</th>\n",
       "      <th>GDP($)</th>\n",
       "      <th>Population</th>\n",
       "      <th>GDP Per Capita</th>\n",
       "      <th>Minimum wage($)</th>\n",
       "      <th>Unemployment rate(%)</th>\n",
       "      <th>Consumer Price Index</th>\n",
       "      <th>Tax revenue (%)</th>\n",
       "    </tr>\n",
       "  </thead>\n",
       "  <tbody>\n",
       "    <tr>\n",
       "      <th>0</th>\n",
       "      <td>Afghanistan</td>\n",
       "      <td>1.910135e+10</td>\n",
       "      <td>38041754.0</td>\n",
       "      <td>502.115487</td>\n",
       "      <td>0.43</td>\n",
       "      <td>11.12</td>\n",
       "      <td>149.90</td>\n",
       "      <td>9.3</td>\n",
       "    </tr>\n",
       "    <tr>\n",
       "      <th>1</th>\n",
       "      <td>Albania</td>\n",
       "      <td>1.527808e+10</td>\n",
       "      <td>2854191.0</td>\n",
       "      <td>5352.857411</td>\n",
       "      <td>1.12</td>\n",
       "      <td>12.33</td>\n",
       "      <td>119.05</td>\n",
       "      <td>18.6</td>\n",
       "    </tr>\n",
       "    <tr>\n",
       "      <th>2</th>\n",
       "      <td>Algeria</td>\n",
       "      <td>1.699882e+11</td>\n",
       "      <td>43053054.0</td>\n",
       "      <td>3948.343279</td>\n",
       "      <td>0.95</td>\n",
       "      <td>11.70</td>\n",
       "      <td>151.36</td>\n",
       "      <td>37.2</td>\n",
       "    </tr>\n",
       "    <tr>\n",
       "      <th>4</th>\n",
       "      <td>Angola</td>\n",
       "      <td>9.463542e+10</td>\n",
       "      <td>31825295.0</td>\n",
       "      <td>2973.591160</td>\n",
       "      <td>0.71</td>\n",
       "      <td>6.89</td>\n",
       "      <td>261.73</td>\n",
       "      <td>9.2</td>\n",
       "    </tr>\n",
       "    <tr>\n",
       "      <th>6</th>\n",
       "      <td>Argentina</td>\n",
       "      <td>4.496634e+11</td>\n",
       "      <td>44938712.0</td>\n",
       "      <td>10006.148974</td>\n",
       "      <td>3.35</td>\n",
       "      <td>9.79</td>\n",
       "      <td>232.75</td>\n",
       "      <td>10.1</td>\n",
       "    </tr>\n",
       "    <tr>\n",
       "      <th>...</th>\n",
       "      <td>...</td>\n",
       "      <td>...</td>\n",
       "      <td>...</td>\n",
       "      <td>...</td>\n",
       "      <td>...</td>\n",
       "      <td>...</td>\n",
       "      <td>...</td>\n",
       "      <td>...</td>\n",
       "    </tr>\n",
       "    <tr>\n",
       "      <th>186</th>\n",
       "      <td>United States</td>\n",
       "      <td>2.142770e+13</td>\n",
       "      <td>328239523.0</td>\n",
       "      <td>65280.682241</td>\n",
       "      <td>7.25</td>\n",
       "      <td>14.70</td>\n",
       "      <td>117.24</td>\n",
       "      <td>9.6</td>\n",
       "    </tr>\n",
       "    <tr>\n",
       "      <th>187</th>\n",
       "      <td>Uruguay</td>\n",
       "      <td>5.604591e+10</td>\n",
       "      <td>3461734.0</td>\n",
       "      <td>16190.126957</td>\n",
       "      <td>1.66</td>\n",
       "      <td>8.73</td>\n",
       "      <td>202.92</td>\n",
       "      <td>20.1</td>\n",
       "    </tr>\n",
       "    <tr>\n",
       "      <th>189</th>\n",
       "      <td>Vanuatu</td>\n",
       "      <td>9.170589e+08</td>\n",
       "      <td>299882.0</td>\n",
       "      <td>3058.065676</td>\n",
       "      <td>1.56</td>\n",
       "      <td>4.39</td>\n",
       "      <td>117.13</td>\n",
       "      <td>17.8</td>\n",
       "    </tr>\n",
       "    <tr>\n",
       "      <th>191</th>\n",
       "      <td>Vietnam</td>\n",
       "      <td>2.619212e+11</td>\n",
       "      <td>96462106.0</td>\n",
       "      <td>2715.276036</td>\n",
       "      <td>0.73</td>\n",
       "      <td>2.01</td>\n",
       "      <td>163.52</td>\n",
       "      <td>19.1</td>\n",
       "    </tr>\n",
       "    <tr>\n",
       "      <th>193</th>\n",
       "      <td>Zambia</td>\n",
       "      <td>2.306472e+10</td>\n",
       "      <td>17861030.0</td>\n",
       "      <td>1291.343357</td>\n",
       "      <td>0.24</td>\n",
       "      <td>11.43</td>\n",
       "      <td>212.31</td>\n",
       "      <td>16.2</td>\n",
       "    </tr>\n",
       "  </tbody>\n",
       "</table>\n",
       "<p>128 rows × 8 columns</p>\n",
       "</div>"
      ],
      "text/plain": [
       "           Country        GDP($)   Population  GDP Per Capita  \\\n",
       "0      Afghanistan  1.910135e+10   38041754.0      502.115487   \n",
       "1          Albania  1.527808e+10    2854191.0     5352.857411   \n",
       "2          Algeria  1.699882e+11   43053054.0     3948.343279   \n",
       "4           Angola  9.463542e+10   31825295.0     2973.591160   \n",
       "6        Argentina  4.496634e+11   44938712.0    10006.148974   \n",
       "..             ...           ...          ...             ...   \n",
       "186  United States  2.142770e+13  328239523.0    65280.682241   \n",
       "187        Uruguay  5.604591e+10    3461734.0    16190.126957   \n",
       "189        Vanuatu  9.170589e+08     299882.0     3058.065676   \n",
       "191        Vietnam  2.619212e+11   96462106.0     2715.276036   \n",
       "193         Zambia  2.306472e+10   17861030.0     1291.343357   \n",
       "\n",
       "     Minimum wage($) Unemployment rate(%)  Consumer Price Index  \\\n",
       "0               0.43                11.12                149.90   \n",
       "1               1.12                12.33                119.05   \n",
       "2               0.95                11.70                151.36   \n",
       "4               0.71                 6.89                261.73   \n",
       "6               3.35                 9.79                232.75   \n",
       "..               ...                  ...                   ...   \n",
       "186             7.25                14.70                117.24   \n",
       "187             1.66                 8.73                202.92   \n",
       "189             1.56                 4.39                117.13   \n",
       "191             0.73                 2.01                163.52   \n",
       "193             0.24                11.43                212.31   \n",
       "\n",
       "     Tax revenue (%)  \n",
       "0                9.3  \n",
       "1               18.6  \n",
       "2               37.2  \n",
       "4                9.2  \n",
       "6               10.1  \n",
       "..               ...  \n",
       "186              9.6  \n",
       "187             20.1  \n",
       "189             17.8  \n",
       "191             19.1  \n",
       "193             16.2  \n",
       "\n",
       "[128 rows x 8 columns]"
      ]
     },
     "execution_count": 8,
     "metadata": {},
     "output_type": "execute_result"
    }
   ],
   "source": [
    "#calculate the GDP Per Capita \n",
    "econ_df['GDP'] = econ_df['GDP'].str.replace(',', '') #remove commas\n",
    "econ_df['GDP'] = econ_df['GDP'].str.replace('$', '') #remove dollar sign \n",
    "econ_df['GDP'] = pd.to_numeric(econ_df['GDP'], errors='coerce') #convert to numeric\n",
    "econ_df['GDP Per Capita'] = econ_df['GDP'] / econ_df['Population']\n",
    "\n",
    "econ_df['Minimum wage'] = econ_df['Minimum wage'].str.replace('$', '') #remove dollar sign \n",
    "econ_df['Minimum wage'] = pd.to_numeric(econ_df['Minimum wage'], errors='coerce') #convert to numeric\n",
    "\n",
    "econ_df['Tax revenue (%)'] = econ_df['Tax revenue (%)'].str.replace('%', '') #remove percentage sign\n",
    "econ_df['Tax revenue (%)'] = pd.to_numeric(econ_df['Tax revenue (%)'], errors='coerce') #convert to numeric\n",
    "econ_df['Unemployment rate'] = econ_df['Unemployment rate'].str.replace('%', '') #remove percentage sign\n",
    "\n",
    "#rename the columns for better clarification \n",
    "econ_df.rename(columns={'CPI': 'Consumer Price Index'}, inplace=True)\n",
    "econ_df.rename(columns={'Unemployment rate': 'Unemployment rate(%)'}, inplace=True)\n",
    "econ_df.rename(columns={'GDP': 'GDP($)'}, inplace=True)\n",
    "econ_df.rename(columns={'Minimum wage': 'Minimum wage($)'}, inplace=True)\n",
    "\n",
    "#select the columns related to the economy factor\n",
    "econ_df = econ_df[['Country', 'GDP($)', 'Population', 'GDP Per Capita',\n",
    "                   'Minimum wage($)', 'Unemployment rate(%)',\n",
    "                   'Consumer Price Index', 'Tax revenue (%)']]\n",
    "\n",
    "#drop the rows where any of these columns is empty.\n",
    "econ_df = econ_df.dropna(subset=['Country', 'GDP($)', 'Population', \n",
    "                                 'GDP Per Capita','Minimum wage($)', \n",
    "                                 'Unemployment rate(%)','Consumer Price Index', \n",
    "                                 'Tax revenue (%)'])\n",
    "\n",
    "print(econ_df.shape)\n",
    "econ_df"
   ]
  },
  {
   "cell_type": "markdown",
   "id": "36eeaf54",
   "metadata": {},
   "source": [
    "Next we loaded the crime data for countries during the year 2023"
   ]
  },
  {
   "cell_type": "code",
   "execution_count": 9,
   "id": "2f5c4c4d",
   "metadata": {},
   "outputs": [
    {
     "name": "stdout",
     "output_type": "stream",
     "text": [
      "(133, 4)\n"
     ]
    },
    {
     "data": {
      "text/html": [
       "<div>\n",
       "<style scoped>\n",
       "    .dataframe tbody tr th:only-of-type {\n",
       "        vertical-align: middle;\n",
       "    }\n",
       "\n",
       "    .dataframe tbody tr th {\n",
       "        vertical-align: top;\n",
       "    }\n",
       "\n",
       "    .dataframe thead th {\n",
       "        text-align: right;\n",
       "    }\n",
       "</style>\n",
       "<table border=\"1\" class=\"dataframe\">\n",
       "  <thead>\n",
       "    <tr style=\"text-align: right;\">\n",
       "      <th></th>\n",
       "      <th>rank</th>\n",
       "      <th>country</th>\n",
       "      <th>crimeIndex</th>\n",
       "      <th>pop2023</th>\n",
       "    </tr>\n",
       "  </thead>\n",
       "  <tbody>\n",
       "    <tr>\n",
       "      <th>0</th>\n",
       "      <td>1</td>\n",
       "      <td>Venezuela</td>\n",
       "      <td>83.76</td>\n",
       "      <td>28838499.0</td>\n",
       "    </tr>\n",
       "    <tr>\n",
       "      <th>1</th>\n",
       "      <td>2</td>\n",
       "      <td>Papua New Guinea</td>\n",
       "      <td>80.79</td>\n",
       "      <td>10329931.0</td>\n",
       "    </tr>\n",
       "    <tr>\n",
       "      <th>2</th>\n",
       "      <td>3</td>\n",
       "      <td>South Africa</td>\n",
       "      <td>76.86</td>\n",
       "      <td>60414495.0</td>\n",
       "    </tr>\n",
       "    <tr>\n",
       "      <th>3</th>\n",
       "      <td>4</td>\n",
       "      <td>Afghanistan</td>\n",
       "      <td>76.31</td>\n",
       "      <td>42239854.0</td>\n",
       "    </tr>\n",
       "    <tr>\n",
       "      <th>4</th>\n",
       "      <td>5</td>\n",
       "      <td>Honduras</td>\n",
       "      <td>74.54</td>\n",
       "      <td>10593798.0</td>\n",
       "    </tr>\n",
       "    <tr>\n",
       "      <th>...</th>\n",
       "      <td>...</td>\n",
       "      <td>...</td>\n",
       "      <td>...</td>\n",
       "      <td>...</td>\n",
       "    </tr>\n",
       "    <tr>\n",
       "      <th>128</th>\n",
       "      <td>129</td>\n",
       "      <td>Switzerland</td>\n",
       "      <td>21.62</td>\n",
       "      <td>8796669.0</td>\n",
       "    </tr>\n",
       "    <tr>\n",
       "      <th>129</th>\n",
       "      <td>130</td>\n",
       "      <td>Oman</td>\n",
       "      <td>20.34</td>\n",
       "      <td>4644384.0</td>\n",
       "    </tr>\n",
       "    <tr>\n",
       "      <th>130</th>\n",
       "      <td>131</td>\n",
       "      <td>Taiwan</td>\n",
       "      <td>15.46</td>\n",
       "      <td>23923276.0</td>\n",
       "    </tr>\n",
       "    <tr>\n",
       "      <th>131</th>\n",
       "      <td>132</td>\n",
       "      <td>United Arab Emirates</td>\n",
       "      <td>15.23</td>\n",
       "      <td>9516871.0</td>\n",
       "    </tr>\n",
       "    <tr>\n",
       "      <th>132</th>\n",
       "      <td>133</td>\n",
       "      <td>Qatar</td>\n",
       "      <td>12.13</td>\n",
       "      <td>2716391.0</td>\n",
       "    </tr>\n",
       "  </tbody>\n",
       "</table>\n",
       "<p>133 rows × 4 columns</p>\n",
       "</div>"
      ],
      "text/plain": [
       "     rank               country  crimeIndex     pop2023\n",
       "0       1             Venezuela       83.76  28838499.0\n",
       "1       2      Papua New Guinea       80.79  10329931.0\n",
       "2       3          South Africa       76.86  60414495.0\n",
       "3       4           Afghanistan       76.31  42239854.0\n",
       "4       5              Honduras       74.54  10593798.0\n",
       "..    ...                   ...         ...         ...\n",
       "128   129           Switzerland       21.62   8796669.0\n",
       "129   130                  Oman       20.34   4644384.0\n",
       "130   131                Taiwan       15.46  23923276.0\n",
       "131   132  United Arab Emirates       15.23   9516871.0\n",
       "132   133                 Qatar       12.13   2716391.0\n",
       "\n",
       "[133 rows x 4 columns]"
      ]
     },
     "execution_count": 9,
     "metadata": {},
     "output_type": "execute_result"
    }
   ],
   "source": [
    "#load the crime data of countries for 2023\n",
    "crime_df = pd.read_csv('crime-rate-by-country-2023.csv', thousands=',')\n",
    "print(crime_df.shape)\n",
    "crime_df"
   ]
  },
  {
   "cell_type": "markdown",
   "id": "c69a68ca",
   "metadata": {},
   "source": [
    "For the Crime dataset, we are renaming the ‘rank’ column to ‘Crime rank’ to avoid conflict with ‘Happiness rank’ after merging the dataframes. We are also renaming ‘country’ to ‘Country’ so that we can merge these three dataframes based on the ‘Country’ column. Additionally, we are renaming ‘crimeIndex’ to ‘Crime Index’ to keep the first letter capitalized for consistency. We are deleting the ‘pop2023’ column as it will be repetitive information. We are again dropping rows with empty data, but in this case, none of them are dropped."
   ]
  },
  {
   "cell_type": "code",
   "execution_count": 10,
   "id": "497aef7c",
   "metadata": {},
   "outputs": [
    {
     "name": "stdout",
     "output_type": "stream",
     "text": [
      "(133, 3)\n"
     ]
    },
    {
     "data": {
      "text/html": [
       "<div>\n",
       "<style scoped>\n",
       "    .dataframe tbody tr th:only-of-type {\n",
       "        vertical-align: middle;\n",
       "    }\n",
       "\n",
       "    .dataframe tbody tr th {\n",
       "        vertical-align: top;\n",
       "    }\n",
       "\n",
       "    .dataframe thead th {\n",
       "        text-align: right;\n",
       "    }\n",
       "</style>\n",
       "<table border=\"1\" class=\"dataframe\">\n",
       "  <thead>\n",
       "    <tr style=\"text-align: right;\">\n",
       "      <th></th>\n",
       "      <th>Country</th>\n",
       "      <th>Crime rank</th>\n",
       "      <th>Crime Index</th>\n",
       "    </tr>\n",
       "  </thead>\n",
       "  <tbody>\n",
       "    <tr>\n",
       "      <th>0</th>\n",
       "      <td>Venezuela</td>\n",
       "      <td>1</td>\n",
       "      <td>83.76</td>\n",
       "    </tr>\n",
       "    <tr>\n",
       "      <th>1</th>\n",
       "      <td>Papua New Guinea</td>\n",
       "      <td>2</td>\n",
       "      <td>80.79</td>\n",
       "    </tr>\n",
       "    <tr>\n",
       "      <th>2</th>\n",
       "      <td>South Africa</td>\n",
       "      <td>3</td>\n",
       "      <td>76.86</td>\n",
       "    </tr>\n",
       "    <tr>\n",
       "      <th>3</th>\n",
       "      <td>Afghanistan</td>\n",
       "      <td>4</td>\n",
       "      <td>76.31</td>\n",
       "    </tr>\n",
       "    <tr>\n",
       "      <th>4</th>\n",
       "      <td>Honduras</td>\n",
       "      <td>5</td>\n",
       "      <td>74.54</td>\n",
       "    </tr>\n",
       "    <tr>\n",
       "      <th>...</th>\n",
       "      <td>...</td>\n",
       "      <td>...</td>\n",
       "      <td>...</td>\n",
       "    </tr>\n",
       "    <tr>\n",
       "      <th>128</th>\n",
       "      <td>Switzerland</td>\n",
       "      <td>129</td>\n",
       "      <td>21.62</td>\n",
       "    </tr>\n",
       "    <tr>\n",
       "      <th>129</th>\n",
       "      <td>Oman</td>\n",
       "      <td>130</td>\n",
       "      <td>20.34</td>\n",
       "    </tr>\n",
       "    <tr>\n",
       "      <th>130</th>\n",
       "      <td>Taiwan</td>\n",
       "      <td>131</td>\n",
       "      <td>15.46</td>\n",
       "    </tr>\n",
       "    <tr>\n",
       "      <th>131</th>\n",
       "      <td>United Arab Emirates</td>\n",
       "      <td>132</td>\n",
       "      <td>15.23</td>\n",
       "    </tr>\n",
       "    <tr>\n",
       "      <th>132</th>\n",
       "      <td>Qatar</td>\n",
       "      <td>133</td>\n",
       "      <td>12.13</td>\n",
       "    </tr>\n",
       "  </tbody>\n",
       "</table>\n",
       "<p>133 rows × 3 columns</p>\n",
       "</div>"
      ],
      "text/plain": [
       "                  Country  Crime rank  Crime Index\n",
       "0               Venezuela           1        83.76\n",
       "1        Papua New Guinea           2        80.79\n",
       "2            South Africa           3        76.86\n",
       "3             Afghanistan           4        76.31\n",
       "4                Honduras           5        74.54\n",
       "..                    ...         ...          ...\n",
       "128           Switzerland         129        21.62\n",
       "129                  Oman         130        20.34\n",
       "130                Taiwan         131        15.46\n",
       "131  United Arab Emirates         132        15.23\n",
       "132                 Qatar         133        12.13\n",
       "\n",
       "[133 rows x 3 columns]"
      ]
     },
     "execution_count": 10,
     "metadata": {},
     "output_type": "execute_result"
    }
   ],
   "source": [
    "#rename columns\n",
    "crime_df.rename(columns={'country': 'Country'}, inplace=True) \n",
    "crime_df.rename(columns={'crimeIndex': 'Crime Index'}, inplace=True)\n",
    "crime_df.rename(columns={'rank': 'Crime rank'}, inplace=True)\n",
    "\n",
    "#select columns\n",
    "crime_df=crime_df[['Country','Crime rank','Crime Index']]\n",
    "\n",
    "#drop the rows where any of these columns is empty.\n",
    "crime_df=crime_df.dropna(subset=['Country', 'Crime Index','Crime rank'])\n",
    "\n",
    "print(crime_df.shape)\n",
    "crime_df"
   ]
  },
  {
   "cell_type": "markdown",
   "id": "d2a48dea",
   "metadata": {},
   "source": [
    "After merging the three DataFrames (econ_df, crime_df, and happiness_df) using the 'Country' column with inner joins, we now have data for analysis from 81 countries."
   ]
  },
  {
   "cell_type": "code",
   "execution_count": 11,
   "id": "4e31ebac",
   "metadata": {
    "scrolled": true
   },
   "outputs": [
    {
     "name": "stdout",
     "output_type": "stream",
     "text": [
      "(81, 11)\n"
     ]
    },
    {
     "data": {
      "text/html": [
       "<div>\n",
       "<style scoped>\n",
       "    .dataframe tbody tr th:only-of-type {\n",
       "        vertical-align: middle;\n",
       "    }\n",
       "\n",
       "    .dataframe tbody tr th {\n",
       "        vertical-align: top;\n",
       "    }\n",
       "\n",
       "    .dataframe thead th {\n",
       "        text-align: right;\n",
       "    }\n",
       "</style>\n",
       "<table border=\"1\" class=\"dataframe\">\n",
       "  <thead>\n",
       "    <tr style=\"text-align: right;\">\n",
       "      <th></th>\n",
       "      <th>Country</th>\n",
       "      <th>GDP($)</th>\n",
       "      <th>Population</th>\n",
       "      <th>GDP Per Capita</th>\n",
       "      <th>Minimum wage($)</th>\n",
       "      <th>Unemployment rate(%)</th>\n",
       "      <th>Consumer Price Index</th>\n",
       "      <th>Tax revenue (%)</th>\n",
       "      <th>Crime rank</th>\n",
       "      <th>Crime Index</th>\n",
       "      <th>Happiness score</th>\n",
       "    </tr>\n",
       "  </thead>\n",
       "  <tbody>\n",
       "    <tr>\n",
       "      <th>0</th>\n",
       "      <td>Afghanistan</td>\n",
       "      <td>1.910135e+10</td>\n",
       "      <td>38041754.0</td>\n",
       "      <td>502.115487</td>\n",
       "      <td>0.43</td>\n",
       "      <td>11.12</td>\n",
       "      <td>149.90</td>\n",
       "      <td>9.3</td>\n",
       "      <td>4</td>\n",
       "      <td>76.31</td>\n",
       "      <td>2404.0</td>\n",
       "    </tr>\n",
       "    <tr>\n",
       "      <th>1</th>\n",
       "      <td>Albania</td>\n",
       "      <td>1.527808e+10</td>\n",
       "      <td>2854191.0</td>\n",
       "      <td>5352.857411</td>\n",
       "      <td>1.12</td>\n",
       "      <td>12.33</td>\n",
       "      <td>119.05</td>\n",
       "      <td>18.6</td>\n",
       "      <td>76</td>\n",
       "      <td>42.53</td>\n",
       "      <td>5199.0</td>\n",
       "    </tr>\n",
       "    <tr>\n",
       "      <th>2</th>\n",
       "      <td>Algeria</td>\n",
       "      <td>1.699882e+11</td>\n",
       "      <td>43053054.0</td>\n",
       "      <td>3948.343279</td>\n",
       "      <td>0.95</td>\n",
       "      <td>11.70</td>\n",
       "      <td>151.36</td>\n",
       "      <td>37.2</td>\n",
       "      <td>42</td>\n",
       "      <td>52.03</td>\n",
       "      <td>5122.0</td>\n",
       "    </tr>\n",
       "    <tr>\n",
       "      <th>3</th>\n",
       "      <td>Argentina</td>\n",
       "      <td>4.496634e+11</td>\n",
       "      <td>44938712.0</td>\n",
       "      <td>10006.148974</td>\n",
       "      <td>3.35</td>\n",
       "      <td>9.79</td>\n",
       "      <td>232.75</td>\n",
       "      <td>10.1</td>\n",
       "      <td>17</td>\n",
       "      <td>63.82</td>\n",
       "      <td>5967.0</td>\n",
       "    </tr>\n",
       "    <tr>\n",
       "      <th>4</th>\n",
       "      <td>Armenia</td>\n",
       "      <td>1.367280e+10</td>\n",
       "      <td>2957731.0</td>\n",
       "      <td>4622.733493</td>\n",
       "      <td>0.66</td>\n",
       "      <td>16.99</td>\n",
       "      <td>129.18</td>\n",
       "      <td>20.9</td>\n",
       "      <td>125</td>\n",
       "      <td>22.79</td>\n",
       "      <td>5399.0</td>\n",
       "    </tr>\n",
       "    <tr>\n",
       "      <th>...</th>\n",
       "      <td>...</td>\n",
       "      <td>...</td>\n",
       "      <td>...</td>\n",
       "      <td>...</td>\n",
       "      <td>...</td>\n",
       "      <td>...</td>\n",
       "      <td>...</td>\n",
       "      <td>...</td>\n",
       "      <td>...</td>\n",
       "      <td>...</td>\n",
       "      <td>...</td>\n",
       "    </tr>\n",
       "    <tr>\n",
       "      <th>76</th>\n",
       "      <td>United Kingdom</td>\n",
       "      <td>2.827113e+12</td>\n",
       "      <td>66834405.0</td>\n",
       "      <td>42300.267126</td>\n",
       "      <td>10.13</td>\n",
       "      <td>3.85</td>\n",
       "      <td>119.62</td>\n",
       "      <td>25.5</td>\n",
       "      <td>63</td>\n",
       "      <td>46.07</td>\n",
       "      <td>6943.0</td>\n",
       "    </tr>\n",
       "    <tr>\n",
       "      <th>77</th>\n",
       "      <td>United States</td>\n",
       "      <td>2.142770e+13</td>\n",
       "      <td>328239523.0</td>\n",
       "      <td>65280.682241</td>\n",
       "      <td>7.25</td>\n",
       "      <td>14.70</td>\n",
       "      <td>117.24</td>\n",
       "      <td>9.6</td>\n",
       "      <td>55</td>\n",
       "      <td>47.81</td>\n",
       "      <td>6977.0</td>\n",
       "    </tr>\n",
       "    <tr>\n",
       "      <th>78</th>\n",
       "      <td>Uruguay</td>\n",
       "      <td>5.604591e+10</td>\n",
       "      <td>3461734.0</td>\n",
       "      <td>16190.126957</td>\n",
       "      <td>1.66</td>\n",
       "      <td>8.73</td>\n",
       "      <td>202.92</td>\n",
       "      <td>20.1</td>\n",
       "      <td>44</td>\n",
       "      <td>51.73</td>\n",
       "      <td>6474.0</td>\n",
       "    </tr>\n",
       "    <tr>\n",
       "      <th>79</th>\n",
       "      <td>Vietnam</td>\n",
       "      <td>2.619212e+11</td>\n",
       "      <td>96462106.0</td>\n",
       "      <td>2715.276036</td>\n",
       "      <td>0.73</td>\n",
       "      <td>2.01</td>\n",
       "      <td>163.52</td>\n",
       "      <td>19.1</td>\n",
       "      <td>62</td>\n",
       "      <td>46.19</td>\n",
       "      <td>5485.0</td>\n",
       "    </tr>\n",
       "    <tr>\n",
       "      <th>80</th>\n",
       "      <td>Zambia</td>\n",
       "      <td>2.306472e+10</td>\n",
       "      <td>17861030.0</td>\n",
       "      <td>1291.343357</td>\n",
       "      <td>0.24</td>\n",
       "      <td>11.43</td>\n",
       "      <td>212.31</td>\n",
       "      <td>16.2</td>\n",
       "      <td>73</td>\n",
       "      <td>43.62</td>\n",
       "      <td>3760.0</td>\n",
       "    </tr>\n",
       "  </tbody>\n",
       "</table>\n",
       "<p>81 rows × 11 columns</p>\n",
       "</div>"
      ],
      "text/plain": [
       "           Country        GDP($)   Population  GDP Per Capita  \\\n",
       "0      Afghanistan  1.910135e+10   38041754.0      502.115487   \n",
       "1          Albania  1.527808e+10    2854191.0     5352.857411   \n",
       "2          Algeria  1.699882e+11   43053054.0     3948.343279   \n",
       "3        Argentina  4.496634e+11   44938712.0    10006.148974   \n",
       "4          Armenia  1.367280e+10    2957731.0     4622.733493   \n",
       "..             ...           ...          ...             ...   \n",
       "76  United Kingdom  2.827113e+12   66834405.0    42300.267126   \n",
       "77   United States  2.142770e+13  328239523.0    65280.682241   \n",
       "78         Uruguay  5.604591e+10    3461734.0    16190.126957   \n",
       "79         Vietnam  2.619212e+11   96462106.0     2715.276036   \n",
       "80          Zambia  2.306472e+10   17861030.0     1291.343357   \n",
       "\n",
       "    Minimum wage($) Unemployment rate(%)  Consumer Price Index  \\\n",
       "0              0.43                11.12                149.90   \n",
       "1              1.12                12.33                119.05   \n",
       "2              0.95                11.70                151.36   \n",
       "3              3.35                 9.79                232.75   \n",
       "4              0.66                16.99                129.18   \n",
       "..              ...                  ...                   ...   \n",
       "76            10.13                 3.85                119.62   \n",
       "77             7.25                14.70                117.24   \n",
       "78             1.66                 8.73                202.92   \n",
       "79             0.73                 2.01                163.52   \n",
       "80             0.24                11.43                212.31   \n",
       "\n",
       "    Tax revenue (%)  Crime rank  Crime Index  Happiness score  \n",
       "0               9.3           4        76.31           2404.0  \n",
       "1              18.6          76        42.53           5199.0  \n",
       "2              37.2          42        52.03           5122.0  \n",
       "3              10.1          17        63.82           5967.0  \n",
       "4              20.9         125        22.79           5399.0  \n",
       "..              ...         ...          ...              ...  \n",
       "76             25.5          63        46.07           6943.0  \n",
       "77              9.6          55        47.81           6977.0  \n",
       "78             20.1          44        51.73           6474.0  \n",
       "79             19.1          62        46.19           5485.0  \n",
       "80             16.2          73        43.62           3760.0  \n",
       "\n",
       "[81 rows x 11 columns]"
      ]
     },
     "execution_count": 11,
     "metadata": {},
     "output_type": "execute_result"
    }
   ],
   "source": [
    "#merge three dataframes into a single data set \n",
    "merged_df = pd.merge(econ_df, crime_df, on='Country', how='inner')\n",
    "merged_df = pd.merge(merged_df, happiness_df, on='Country', how='inner')\n",
    "print(merged_df.shape)\n",
    "merged_df"
   ]
  },
  {
   "cell_type": "markdown",
   "id": "d8a2dd3f",
   "metadata": {},
   "source": [
    "### Demography\n",
    "Here we will import a dataframe that contains information about demography factors across different countries. This will be compared to countries' happiness scores to understand if there are any trends or patterns."
   ]
  },
  {
   "cell_type": "code",
   "execution_count": 12,
   "id": "cf046198",
   "metadata": {
    "scrolled": true
   },
   "outputs": [
    {
     "name": "stdout",
     "output_type": "stream",
     "text": [
      "         Country  Density\\n(P/Km2) Abbreviation Agricultural Land( %)  \\\n",
      "0    Afghanistan                60           AF                58.10%   \n",
      "1        Albania               105           AL                43.10%   \n",
      "2        Algeria                18           DZ                17.40%   \n",
      "3        Andorra               164           AD                40.00%   \n",
      "4         Angola                26           AO                47.50%   \n",
      "..           ...               ...          ...                   ...   \n",
      "190    Venezuela                32           VE                24.50%   \n",
      "191      Vietnam               314           VN                39.30%   \n",
      "192        Yemen                56           YE                44.60%   \n",
      "193       Zambia                25           ZM                32.10%   \n",
      "194     Zimbabwe                38           ZW                41.90%   \n",
      "\n",
      "     Land Area(Km2)  Armed Forces size  Birth Rate  Calling Code  \\\n",
      "0          652230.0           323000.0       32.49          93.0   \n",
      "1           28748.0             9000.0       11.78         355.0   \n",
      "2         2381741.0           317000.0       24.28         213.0   \n",
      "3             468.0                NaN        7.20         376.0   \n",
      "4         1246700.0           117000.0       40.73         244.0   \n",
      "..              ...                ...         ...           ...   \n",
      "190        912050.0           343000.0       17.88          58.0   \n",
      "191        331210.0           522000.0       16.75          84.0   \n",
      "192        527968.0            40000.0       30.45         967.0   \n",
      "193        752618.0            16000.0       36.19         260.0   \n",
      "194        390757.0            51000.0       30.68         263.0   \n",
      "\n",
      "    Capital/Major City  Co2-Emissions  ...  Out of pocket health expenditure  \\\n",
      "0                Kabul         8672.0  ...                            78.40%   \n",
      "1               Tirana         4536.0  ...                            56.90%   \n",
      "2              Algiers       150006.0  ...                            28.10%   \n",
      "3     Andorra la Vella          469.0  ...                            36.40%   \n",
      "4               Luanda        34693.0  ...                            33.40%   \n",
      "..                 ...            ...  ...                               ...   \n",
      "190            Caracas       164175.0  ...                            45.80%   \n",
      "191              Hanoi       192668.0  ...                            43.50%   \n",
      "192              Sanaa        10609.0  ...                            81.00%   \n",
      "193             Lusaka         5141.0  ...                            27.50%   \n",
      "194             Harare        10983.0  ...                            25.80%   \n",
      "\n",
      "    Physicians per thousand  Population  \\\n",
      "0                      0.28  38041754.0   \n",
      "1                      1.20   2854191.0   \n",
      "2                      1.72  43053054.0   \n",
      "3                      3.33     77142.0   \n",
      "4                      0.21  31825295.0   \n",
      "..                      ...         ...   \n",
      "190                    1.92  28515829.0   \n",
      "191                    0.82  96462106.0   \n",
      "192                    0.31  29161922.0   \n",
      "193                    1.19  17861030.0   \n",
      "194                    0.21  14645468.0   \n",
      "\n",
      "     Population: Labor force participation (%) Tax revenue (%) Total tax rate  \\\n",
      "0                                       48.90%           9.30%         71.40%   \n",
      "1                                       55.70%          18.60%         36.60%   \n",
      "2                                       41.20%          37.20%         66.10%   \n",
      "3                                          NaN             NaN            NaN   \n",
      "4                                       77.50%           9.20%         49.10%   \n",
      "..                                         ...             ...            ...   \n",
      "190                                     59.70%             NaN         73.30%   \n",
      "191                                     77.40%          19.10%         37.60%   \n",
      "192                                     38.00%             NaN         26.60%   \n",
      "193                                     74.60%          16.20%         15.60%   \n",
      "194                                     83.10%          20.70%         31.60%   \n",
      "\n",
      "    Unemployment rate Urban_population   Latitude   Longitude  \n",
      "0              11.12%        9797273.0  33.939110   67.709953  \n",
      "1              12.33%        1747593.0  41.153332   20.168331  \n",
      "2              11.70%       31510100.0  28.033886    1.659626  \n",
      "3                 NaN          67873.0  42.506285    1.521801  \n",
      "4               6.89%       21061025.0 -11.202692   17.873887  \n",
      "..                ...              ...        ...         ...  \n",
      "190             8.80%       25162368.0   6.423750  -66.589730  \n",
      "191             2.01%       35332140.0  14.058324  108.277199  \n",
      "192            12.91%       10869523.0  15.552727   48.516388  \n",
      "193            11.43%        7871713.0 -13.133897   27.849332  \n",
      "194             4.95%        4717305.0 -19.015438   29.154857  \n",
      "\n",
      "[195 rows x 35 columns]\n"
     ]
    }
   ],
   "source": [
    "world_data_df = pd.read_csv(\"world-data-2023.csv\", thousands = \",\")\n",
    "print(world_data_df)"
   ]
  },
  {
   "cell_type": "markdown",
   "id": "437f4034",
   "metadata": {},
   "source": [
    "Now we rename our columns of interest to have proper syntax so they are easy to access. The factors we are interested in looking at are birth rate, infant mortality, life expectancy, and maternal mortality ratio."
   ]
  },
  {
   "cell_type": "code",
   "execution_count": 13,
   "id": "f11cab4a",
   "metadata": {
    "scrolled": true
   },
   "outputs": [
    {
     "name": "stdout",
     "output_type": "stream",
     "text": [
      "         Country  Density\\n(P/Km2) Abbreviation Agricultural Land( %)  \\\n",
      "0    Afghanistan                60           AF                58.10%   \n",
      "1        Albania               105           AL                43.10%   \n",
      "2        Algeria                18           DZ                17.40%   \n",
      "3        Andorra               164           AD                40.00%   \n",
      "4         Angola                26           AO                47.50%   \n",
      "..           ...               ...          ...                   ...   \n",
      "190    Venezuela                32           VE                24.50%   \n",
      "191      Vietnam               314           VN                39.30%   \n",
      "192        Yemen                56           YE                44.60%   \n",
      "193       Zambia                25           ZM                32.10%   \n",
      "194     Zimbabwe                38           ZW                41.90%   \n",
      "\n",
      "     Land Area(Km2)  Armed Forces size  birth_rate  Calling Code  \\\n",
      "0          652230.0           323000.0       32.49          93.0   \n",
      "1           28748.0             9000.0       11.78         355.0   \n",
      "2         2381741.0           317000.0       24.28         213.0   \n",
      "3             468.0                NaN        7.20         376.0   \n",
      "4         1246700.0           117000.0       40.73         244.0   \n",
      "..              ...                ...         ...           ...   \n",
      "190        912050.0           343000.0       17.88          58.0   \n",
      "191        331210.0           522000.0       16.75          84.0   \n",
      "192        527968.0            40000.0       30.45         967.0   \n",
      "193        752618.0            16000.0       36.19         260.0   \n",
      "194        390757.0            51000.0       30.68         263.0   \n",
      "\n",
      "    Capital/Major City  Co2-Emissions  ...  Out of pocket health expenditure  \\\n",
      "0                Kabul         8672.0  ...                            78.40%   \n",
      "1               Tirana         4536.0  ...                            56.90%   \n",
      "2              Algiers       150006.0  ...                            28.10%   \n",
      "3     Andorra la Vella          469.0  ...                            36.40%   \n",
      "4               Luanda        34693.0  ...                            33.40%   \n",
      "..                 ...            ...  ...                               ...   \n",
      "190            Caracas       164175.0  ...                            45.80%   \n",
      "191              Hanoi       192668.0  ...                            43.50%   \n",
      "192              Sanaa        10609.0  ...                            81.00%   \n",
      "193             Lusaka         5141.0  ...                            27.50%   \n",
      "194             Harare        10983.0  ...                            25.80%   \n",
      "\n",
      "    Physicians per thousand  Population  \\\n",
      "0                      0.28  38041754.0   \n",
      "1                      1.20   2854191.0   \n",
      "2                      1.72  43053054.0   \n",
      "3                      3.33     77142.0   \n",
      "4                      0.21  31825295.0   \n",
      "..                      ...         ...   \n",
      "190                    1.92  28515829.0   \n",
      "191                    0.82  96462106.0   \n",
      "192                    0.31  29161922.0   \n",
      "193                    1.19  17861030.0   \n",
      "194                    0.21  14645468.0   \n",
      "\n",
      "     Population: Labor force participation (%) Tax revenue (%) Total tax rate  \\\n",
      "0                                       48.90%           9.30%         71.40%   \n",
      "1                                       55.70%          18.60%         36.60%   \n",
      "2                                       41.20%          37.20%         66.10%   \n",
      "3                                          NaN             NaN            NaN   \n",
      "4                                       77.50%           9.20%         49.10%   \n",
      "..                                         ...             ...            ...   \n",
      "190                                     59.70%             NaN         73.30%   \n",
      "191                                     77.40%          19.10%         37.60%   \n",
      "192                                     38.00%             NaN         26.60%   \n",
      "193                                     74.60%          16.20%         15.60%   \n",
      "194                                     83.10%          20.70%         31.60%   \n",
      "\n",
      "    Unemployment rate Urban_population   Latitude   Longitude  \n",
      "0              11.12%        9797273.0  33.939110   67.709953  \n",
      "1              12.33%        1747593.0  41.153332   20.168331  \n",
      "2              11.70%       31510100.0  28.033886    1.659626  \n",
      "3                 NaN          67873.0  42.506285    1.521801  \n",
      "4               6.89%       21061025.0 -11.202692   17.873887  \n",
      "..                ...              ...        ...         ...  \n",
      "190             8.80%       25162368.0   6.423750  -66.589730  \n",
      "191             2.01%       35332140.0  14.058324  108.277199  \n",
      "192            12.91%       10869523.0  15.552727   48.516388  \n",
      "193            11.43%        7871713.0 -13.133897   27.849332  \n",
      "194             4.95%        4717305.0 -19.015438   29.154857  \n",
      "\n",
      "[195 rows x 35 columns]\n"
     ]
    }
   ],
   "source": [
    "world_data_df = world_data_df.rename(columns={'Birth Rate': 'birth_rate', \n",
    "                'Infant mortality': 'infant_mortality', \n",
    "                'Life expectancy': 'life_expectancy', \n",
    "                'Maternal mortality ratio': 'maternal_mortality_ratio'})\n",
    "print(world_data_df)"
   ]
  },
  {
   "cell_type": "markdown",
   "id": "944c501a",
   "metadata": {},
   "source": [
    "Here we modify our dataframe to include only the columns that are relevant for our analysis. This results in a cleaner, less cluttered dataframe. Columns with NaN values are dropped, so that there are no missing data values present."
   ]
  },
  {
   "cell_type": "code",
   "execution_count": 14,
   "id": "64e6132b",
   "metadata": {},
   "outputs": [
    {
     "data": {
      "text/html": [
       "<div>\n",
       "<style scoped>\n",
       "    .dataframe tbody tr th:only-of-type {\n",
       "        vertical-align: middle;\n",
       "    }\n",
       "\n",
       "    .dataframe tbody tr th {\n",
       "        vertical-align: top;\n",
       "    }\n",
       "\n",
       "    .dataframe thead th {\n",
       "        text-align: right;\n",
       "    }\n",
       "</style>\n",
       "<table border=\"1\" class=\"dataframe\">\n",
       "  <thead>\n",
       "    <tr style=\"text-align: right;\">\n",
       "      <th></th>\n",
       "      <th>Country</th>\n",
       "      <th>birth_rate</th>\n",
       "      <th>infant_mortality</th>\n",
       "      <th>life_expectancy</th>\n",
       "      <th>maternal_mortality_ratio</th>\n",
       "    </tr>\n",
       "  </thead>\n",
       "  <tbody>\n",
       "    <tr>\n",
       "      <th>0</th>\n",
       "      <td>Afghanistan</td>\n",
       "      <td>32.49</td>\n",
       "      <td>47.9</td>\n",
       "      <td>64.5</td>\n",
       "      <td>638.0</td>\n",
       "    </tr>\n",
       "    <tr>\n",
       "      <th>1</th>\n",
       "      <td>Albania</td>\n",
       "      <td>11.78</td>\n",
       "      <td>7.8</td>\n",
       "      <td>78.5</td>\n",
       "      <td>15.0</td>\n",
       "    </tr>\n",
       "    <tr>\n",
       "      <th>2</th>\n",
       "      <td>Algeria</td>\n",
       "      <td>24.28</td>\n",
       "      <td>20.1</td>\n",
       "      <td>76.7</td>\n",
       "      <td>112.0</td>\n",
       "    </tr>\n",
       "    <tr>\n",
       "      <th>4</th>\n",
       "      <td>Angola</td>\n",
       "      <td>40.73</td>\n",
       "      <td>51.6</td>\n",
       "      <td>60.8</td>\n",
       "      <td>241.0</td>\n",
       "    </tr>\n",
       "    <tr>\n",
       "      <th>5</th>\n",
       "      <td>Antigua and Barbuda</td>\n",
       "      <td>15.33</td>\n",
       "      <td>5.0</td>\n",
       "      <td>76.9</td>\n",
       "      <td>42.0</td>\n",
       "    </tr>\n",
       "    <tr>\n",
       "      <th>...</th>\n",
       "      <td>...</td>\n",
       "      <td>...</td>\n",
       "      <td>...</td>\n",
       "      <td>...</td>\n",
       "      <td>...</td>\n",
       "    </tr>\n",
       "    <tr>\n",
       "      <th>190</th>\n",
       "      <td>Venezuela</td>\n",
       "      <td>17.88</td>\n",
       "      <td>21.4</td>\n",
       "      <td>72.1</td>\n",
       "      <td>125.0</td>\n",
       "    </tr>\n",
       "    <tr>\n",
       "      <th>191</th>\n",
       "      <td>Vietnam</td>\n",
       "      <td>16.75</td>\n",
       "      <td>16.5</td>\n",
       "      <td>75.3</td>\n",
       "      <td>43.0</td>\n",
       "    </tr>\n",
       "    <tr>\n",
       "      <th>192</th>\n",
       "      <td>Yemen</td>\n",
       "      <td>30.45</td>\n",
       "      <td>42.9</td>\n",
       "      <td>66.1</td>\n",
       "      <td>164.0</td>\n",
       "    </tr>\n",
       "    <tr>\n",
       "      <th>193</th>\n",
       "      <td>Zambia</td>\n",
       "      <td>36.19</td>\n",
       "      <td>40.4</td>\n",
       "      <td>63.5</td>\n",
       "      <td>213.0</td>\n",
       "    </tr>\n",
       "    <tr>\n",
       "      <th>194</th>\n",
       "      <td>Zimbabwe</td>\n",
       "      <td>30.68</td>\n",
       "      <td>33.9</td>\n",
       "      <td>61.2</td>\n",
       "      <td>458.0</td>\n",
       "    </tr>\n",
       "  </tbody>\n",
       "</table>\n",
       "<p>181 rows × 5 columns</p>\n",
       "</div>"
      ],
      "text/plain": [
       "                 Country  birth_rate  infant_mortality  life_expectancy  \\\n",
       "0            Afghanistan       32.49              47.9             64.5   \n",
       "1                Albania       11.78               7.8             78.5   \n",
       "2                Algeria       24.28              20.1             76.7   \n",
       "4                 Angola       40.73              51.6             60.8   \n",
       "5    Antigua and Barbuda       15.33               5.0             76.9   \n",
       "..                   ...         ...               ...              ...   \n",
       "190            Venezuela       17.88              21.4             72.1   \n",
       "191              Vietnam       16.75              16.5             75.3   \n",
       "192                Yemen       30.45              42.9             66.1   \n",
       "193               Zambia       36.19              40.4             63.5   \n",
       "194             Zimbabwe       30.68              33.9             61.2   \n",
       "\n",
       "     maternal_mortality_ratio  \n",
       "0                       638.0  \n",
       "1                        15.0  \n",
       "2                       112.0  \n",
       "4                       241.0  \n",
       "5                        42.0  \n",
       "..                        ...  \n",
       "190                     125.0  \n",
       "191                      43.0  \n",
       "192                     164.0  \n",
       "193                     213.0  \n",
       "194                     458.0  \n",
       "\n",
       "[181 rows x 5 columns]"
      ]
     },
     "execution_count": 14,
     "metadata": {},
     "output_type": "execute_result"
    }
   ],
   "source": [
    "world_data_df = duckdb.sql(\"SELECT Country, birth_rate, infant_mortality, \\\n",
    "life_expectancy, maternal_mortality_ratio FROM world_data_df\").df()\n",
    "world_data_df = world_data_df.dropna()\n",
    "world_data_df"
   ]
  },
  {
   "cell_type": "markdown",
   "id": "ad018e16",
   "metadata": {},
   "source": [
    "Next, we will refer back to the Happiness Score we used previously"
   ]
  },
  {
   "cell_type": "code",
   "execution_count": 15,
   "id": "d00c4621",
   "metadata": {},
   "outputs": [
    {
     "data": {
      "text/html": [
       "<div>\n",
       "<style scoped>\n",
       "    .dataframe tbody tr th:only-of-type {\n",
       "        vertical-align: middle;\n",
       "    }\n",
       "\n",
       "    .dataframe tbody tr th {\n",
       "        vertical-align: top;\n",
       "    }\n",
       "\n",
       "    .dataframe thead th {\n",
       "        text-align: right;\n",
       "    }\n",
       "</style>\n",
       "<table border=\"1\" class=\"dataframe\">\n",
       "  <thead>\n",
       "    <tr style=\"text-align: right;\">\n",
       "      <th></th>\n",
       "      <th>Country</th>\n",
       "      <th>Happiness score</th>\n",
       "    </tr>\n",
       "  </thead>\n",
       "  <tbody>\n",
       "    <tr>\n",
       "      <th>0</th>\n",
       "      <td>Finland</td>\n",
       "      <td>7821.0</td>\n",
       "    </tr>\n",
       "    <tr>\n",
       "      <th>1</th>\n",
       "      <td>Denmark</td>\n",
       "      <td>7636.0</td>\n",
       "    </tr>\n",
       "    <tr>\n",
       "      <th>2</th>\n",
       "      <td>Iceland</td>\n",
       "      <td>7557.0</td>\n",
       "    </tr>\n",
       "    <tr>\n",
       "      <th>3</th>\n",
       "      <td>Switzerland</td>\n",
       "      <td>7512.0</td>\n",
       "    </tr>\n",
       "    <tr>\n",
       "      <th>4</th>\n",
       "      <td>Netherlands</td>\n",
       "      <td>7415.0</td>\n",
       "    </tr>\n",
       "    <tr>\n",
       "      <th>...</th>\n",
       "      <td>...</td>\n",
       "      <td>...</td>\n",
       "    </tr>\n",
       "    <tr>\n",
       "      <th>141</th>\n",
       "      <td>Botswana*</td>\n",
       "      <td>3471.0</td>\n",
       "    </tr>\n",
       "    <tr>\n",
       "      <th>142</th>\n",
       "      <td>Rwanda*</td>\n",
       "      <td>3268.0</td>\n",
       "    </tr>\n",
       "    <tr>\n",
       "      <th>143</th>\n",
       "      <td>Zimbabwe</td>\n",
       "      <td>2995.0</td>\n",
       "    </tr>\n",
       "    <tr>\n",
       "      <th>144</th>\n",
       "      <td>Lebanon</td>\n",
       "      <td>2955.0</td>\n",
       "    </tr>\n",
       "    <tr>\n",
       "      <th>145</th>\n",
       "      <td>Afghanistan</td>\n",
       "      <td>2404.0</td>\n",
       "    </tr>\n",
       "  </tbody>\n",
       "</table>\n",
       "<p>146 rows × 2 columns</p>\n",
       "</div>"
      ],
      "text/plain": [
       "         Country  Happiness score\n",
       "0        Finland           7821.0\n",
       "1        Denmark           7636.0\n",
       "2        Iceland           7557.0\n",
       "3    Switzerland           7512.0\n",
       "4    Netherlands           7415.0\n",
       "..           ...              ...\n",
       "141    Botswana*           3471.0\n",
       "142      Rwanda*           3268.0\n",
       "143     Zimbabwe           2995.0\n",
       "144      Lebanon           2955.0\n",
       "145  Afghanistan           2404.0\n",
       "\n",
       "[146 rows x 2 columns]"
      ]
     },
     "execution_count": 15,
     "metadata": {},
     "output_type": "execute_result"
    }
   ],
   "source": [
    "happiness_df"
   ]
  },
  {
   "cell_type": "markdown",
   "id": "304514e8",
   "metadata": {},
   "source": [
    "Here, we join the world data dataframe, which contains relevant demography statistics by country, to the world happiness dataframe, which includes happiness scores by country. This creates a single dataframe with all the relevant information for analysis between demography statistics and happiness."
   ]
  },
  {
   "cell_type": "code",
   "execution_count": 16,
   "id": "0bfb524a",
   "metadata": {},
   "outputs": [
    {
     "data": {
      "text/html": [
       "<div>\n",
       "<style scoped>\n",
       "    .dataframe tbody tr th:only-of-type {\n",
       "        vertical-align: middle;\n",
       "    }\n",
       "\n",
       "    .dataframe tbody tr th {\n",
       "        vertical-align: top;\n",
       "    }\n",
       "\n",
       "    .dataframe thead th {\n",
       "        text-align: right;\n",
       "    }\n",
       "</style>\n",
       "<table border=\"1\" class=\"dataframe\">\n",
       "  <thead>\n",
       "    <tr style=\"text-align: right;\">\n",
       "      <th></th>\n",
       "      <th>Country</th>\n",
       "      <th>birth_rate</th>\n",
       "      <th>infant_mortality</th>\n",
       "      <th>life_expectancy</th>\n",
       "      <th>maternal_mortality_ratio</th>\n",
       "      <th>Happiness score</th>\n",
       "    </tr>\n",
       "  </thead>\n",
       "  <tbody>\n",
       "    <tr>\n",
       "      <th>0</th>\n",
       "      <td>Afghanistan</td>\n",
       "      <td>32.49</td>\n",
       "      <td>47.9</td>\n",
       "      <td>64.5</td>\n",
       "      <td>638.0</td>\n",
       "      <td>2404.0</td>\n",
       "    </tr>\n",
       "    <tr>\n",
       "      <th>1</th>\n",
       "      <td>Albania</td>\n",
       "      <td>11.78</td>\n",
       "      <td>7.8</td>\n",
       "      <td>78.5</td>\n",
       "      <td>15.0</td>\n",
       "      <td>5199.0</td>\n",
       "    </tr>\n",
       "    <tr>\n",
       "      <th>2</th>\n",
       "      <td>Algeria</td>\n",
       "      <td>24.28</td>\n",
       "      <td>20.1</td>\n",
       "      <td>76.7</td>\n",
       "      <td>112.0</td>\n",
       "      <td>5122.0</td>\n",
       "    </tr>\n",
       "    <tr>\n",
       "      <th>3</th>\n",
       "      <td>Armenia</td>\n",
       "      <td>13.99</td>\n",
       "      <td>11.0</td>\n",
       "      <td>74.9</td>\n",
       "      <td>26.0</td>\n",
       "      <td>5399.0</td>\n",
       "    </tr>\n",
       "    <tr>\n",
       "      <th>4</th>\n",
       "      <td>Australia</td>\n",
       "      <td>12.60</td>\n",
       "      <td>3.1</td>\n",
       "      <td>82.7</td>\n",
       "      <td>6.0</td>\n",
       "      <td>7162.0</td>\n",
       "    </tr>\n",
       "    <tr>\n",
       "      <th>...</th>\n",
       "      <td>...</td>\n",
       "      <td>...</td>\n",
       "      <td>...</td>\n",
       "      <td>...</td>\n",
       "      <td>...</td>\n",
       "      <td>...</td>\n",
       "    </tr>\n",
       "    <tr>\n",
       "      <th>113</th>\n",
       "      <td>Kazakhstan</td>\n",
       "      <td>21.77</td>\n",
       "      <td>8.8</td>\n",
       "      <td>73.2</td>\n",
       "      <td>10.0</td>\n",
       "      <td>6234.0</td>\n",
       "    </tr>\n",
       "    <tr>\n",
       "      <th>114</th>\n",
       "      <td>Lithuania</td>\n",
       "      <td>10.00</td>\n",
       "      <td>3.3</td>\n",
       "      <td>75.7</td>\n",
       "      <td>8.0</td>\n",
       "      <td>6446.0</td>\n",
       "    </tr>\n",
       "    <tr>\n",
       "      <th>115</th>\n",
       "      <td>Nigeria</td>\n",
       "      <td>37.91</td>\n",
       "      <td>75.7</td>\n",
       "      <td>54.3</td>\n",
       "      <td>917.0</td>\n",
       "      <td>4552.0</td>\n",
       "    </tr>\n",
       "    <tr>\n",
       "      <th>116</th>\n",
       "      <td>Romania</td>\n",
       "      <td>9.60</td>\n",
       "      <td>6.1</td>\n",
       "      <td>75.4</td>\n",
       "      <td>19.0</td>\n",
       "      <td>6477.0</td>\n",
       "    </tr>\n",
       "    <tr>\n",
       "      <th>117</th>\n",
       "      <td>Iran</td>\n",
       "      <td>18.78</td>\n",
       "      <td>12.4</td>\n",
       "      <td>76.5</td>\n",
       "      <td>16.0</td>\n",
       "      <td>4888.0</td>\n",
       "    </tr>\n",
       "  </tbody>\n",
       "</table>\n",
       "<p>118 rows × 6 columns</p>\n",
       "</div>"
      ],
      "text/plain": [
       "         Country  birth_rate  infant_mortality  life_expectancy  \\\n",
       "0    Afghanistan       32.49              47.9             64.5   \n",
       "1        Albania       11.78               7.8             78.5   \n",
       "2        Algeria       24.28              20.1             76.7   \n",
       "3        Armenia       13.99              11.0             74.9   \n",
       "4      Australia       12.60               3.1             82.7   \n",
       "..           ...         ...               ...              ...   \n",
       "113   Kazakhstan       21.77               8.8             73.2   \n",
       "114    Lithuania       10.00               3.3             75.7   \n",
       "115      Nigeria       37.91              75.7             54.3   \n",
       "116      Romania        9.60               6.1             75.4   \n",
       "117         Iran       18.78              12.4             76.5   \n",
       "\n",
       "     maternal_mortality_ratio  Happiness score  \n",
       "0                       638.0           2404.0  \n",
       "1                        15.0           5199.0  \n",
       "2                       112.0           5122.0  \n",
       "3                        26.0           5399.0  \n",
       "4                         6.0           7162.0  \n",
       "..                        ...              ...  \n",
       "113                      10.0           6234.0  \n",
       "114                       8.0           6446.0  \n",
       "115                     917.0           4552.0  \n",
       "116                      19.0           6477.0  \n",
       "117                      16.0           4888.0  \n",
       "\n",
       "[118 rows x 6 columns]"
      ]
     },
     "execution_count": 16,
     "metadata": {},
     "output_type": "execute_result"
    }
   ],
   "source": [
    "demography_df = duckdb.sql(\"SELECT world_data_df.Country, birth_rate, \\\n",
    "infant_mortality, life_expectancy, maternal_mortality_ratio, \\\n",
    "\\\"Happiness score\\\" FROM world_data_df INNER JOIN happiness_df \\\n",
    "ON world_data_df.Country = happiness_df.Country\").df()\n",
    "demography_df"
   ]
  },
  {
   "cell_type": "markdown",
   "id": "87b0596d",
   "metadata": {},
   "source": [
    "Additionally, we are adding some regional data, specifically continent and subregion, to help categorize groups of countries."
   ]
  },
  {
   "cell_type": "code",
   "execution_count": 17,
   "id": "3e1662d7",
   "metadata": {},
   "outputs": [
    {
     "data": {
      "text/html": [
       "<div>\n",
       "<style scoped>\n",
       "    .dataframe tbody tr th:only-of-type {\n",
       "        vertical-align: middle;\n",
       "    }\n",
       "\n",
       "    .dataframe tbody tr th {\n",
       "        vertical-align: top;\n",
       "    }\n",
       "\n",
       "    .dataframe thead th {\n",
       "        text-align: right;\n",
       "    }\n",
       "</style>\n",
       "<table border=\"1\" class=\"dataframe\">\n",
       "  <thead>\n",
       "    <tr style=\"text-align: right;\">\n",
       "      <th></th>\n",
       "      <th>country</th>\n",
       "      <th>code_2</th>\n",
       "      <th>code_3</th>\n",
       "      <th>country_code</th>\n",
       "      <th>iso_3166_2</th>\n",
       "      <th>continent</th>\n",
       "      <th>sub_region</th>\n",
       "      <th>region_code</th>\n",
       "      <th>sub_region_code</th>\n",
       "    </tr>\n",
       "  </thead>\n",
       "  <tbody>\n",
       "    <tr>\n",
       "      <th>0</th>\n",
       "      <td>Afghanistan</td>\n",
       "      <td>AF</td>\n",
       "      <td>AFG</td>\n",
       "      <td>4</td>\n",
       "      <td>ISO 3166-2:AF</td>\n",
       "      <td>Asia</td>\n",
       "      <td>Southern Asia</td>\n",
       "      <td>142.0</td>\n",
       "      <td>34.0</td>\n",
       "    </tr>\n",
       "    <tr>\n",
       "      <th>1</th>\n",
       "      <td>Åland Islands</td>\n",
       "      <td>AX</td>\n",
       "      <td>ALA</td>\n",
       "      <td>248</td>\n",
       "      <td>ISO 3166-2:AX</td>\n",
       "      <td>Europe</td>\n",
       "      <td>Northern Europe</td>\n",
       "      <td>150.0</td>\n",
       "      <td>154.0</td>\n",
       "    </tr>\n",
       "    <tr>\n",
       "      <th>2</th>\n",
       "      <td>Albania</td>\n",
       "      <td>AL</td>\n",
       "      <td>ALB</td>\n",
       "      <td>8</td>\n",
       "      <td>ISO 3166-2:AL</td>\n",
       "      <td>Europe</td>\n",
       "      <td>Southern Europe</td>\n",
       "      <td>150.0</td>\n",
       "      <td>39.0</td>\n",
       "    </tr>\n",
       "    <tr>\n",
       "      <th>3</th>\n",
       "      <td>Algeria</td>\n",
       "      <td>DZ</td>\n",
       "      <td>DZA</td>\n",
       "      <td>12</td>\n",
       "      <td>ISO 3166-2:DZ</td>\n",
       "      <td>Africa</td>\n",
       "      <td>Northern Africa</td>\n",
       "      <td>2.0</td>\n",
       "      <td>15.0</td>\n",
       "    </tr>\n",
       "    <tr>\n",
       "      <th>4</th>\n",
       "      <td>American Samoa</td>\n",
       "      <td>AS</td>\n",
       "      <td>ASM</td>\n",
       "      <td>16</td>\n",
       "      <td>ISO 3166-2:AS</td>\n",
       "      <td>Oceania</td>\n",
       "      <td>Polynesia</td>\n",
       "      <td>9.0</td>\n",
       "      <td>61.0</td>\n",
       "    </tr>\n",
       "    <tr>\n",
       "      <th>...</th>\n",
       "      <td>...</td>\n",
       "      <td>...</td>\n",
       "      <td>...</td>\n",
       "      <td>...</td>\n",
       "      <td>...</td>\n",
       "      <td>...</td>\n",
       "      <td>...</td>\n",
       "      <td>...</td>\n",
       "      <td>...</td>\n",
       "    </tr>\n",
       "    <tr>\n",
       "      <th>244</th>\n",
       "      <td>Wallis and Futuna</td>\n",
       "      <td>WF</td>\n",
       "      <td>WLF</td>\n",
       "      <td>876</td>\n",
       "      <td>ISO 3166-2:WF</td>\n",
       "      <td>Oceania</td>\n",
       "      <td>Polynesia</td>\n",
       "      <td>9.0</td>\n",
       "      <td>61.0</td>\n",
       "    </tr>\n",
       "    <tr>\n",
       "      <th>245</th>\n",
       "      <td>Western Sahara</td>\n",
       "      <td>EH</td>\n",
       "      <td>ESH</td>\n",
       "      <td>732</td>\n",
       "      <td>ISO 3166-2:EH</td>\n",
       "      <td>Africa</td>\n",
       "      <td>Northern Africa</td>\n",
       "      <td>2.0</td>\n",
       "      <td>15.0</td>\n",
       "    </tr>\n",
       "    <tr>\n",
       "      <th>246</th>\n",
       "      <td>Yemen</td>\n",
       "      <td>YE</td>\n",
       "      <td>YEM</td>\n",
       "      <td>887</td>\n",
       "      <td>ISO 3166-2:YE</td>\n",
       "      <td>Asia</td>\n",
       "      <td>Western Asia</td>\n",
       "      <td>142.0</td>\n",
       "      <td>145.0</td>\n",
       "    </tr>\n",
       "    <tr>\n",
       "      <th>247</th>\n",
       "      <td>Zambia</td>\n",
       "      <td>ZM</td>\n",
       "      <td>ZMB</td>\n",
       "      <td>894</td>\n",
       "      <td>ISO 3166-2:ZM</td>\n",
       "      <td>Africa</td>\n",
       "      <td>Eastern Africa</td>\n",
       "      <td>2.0</td>\n",
       "      <td>14.0</td>\n",
       "    </tr>\n",
       "    <tr>\n",
       "      <th>248</th>\n",
       "      <td>Zimbabwe</td>\n",
       "      <td>ZW</td>\n",
       "      <td>ZWE</td>\n",
       "      <td>716</td>\n",
       "      <td>ISO 3166-2:ZW</td>\n",
       "      <td>Africa</td>\n",
       "      <td>Eastern Africa</td>\n",
       "      <td>2.0</td>\n",
       "      <td>14.0</td>\n",
       "    </tr>\n",
       "  </tbody>\n",
       "</table>\n",
       "<p>249 rows × 9 columns</p>\n",
       "</div>"
      ],
      "text/plain": [
       "               country code_2 code_3  country_code     iso_3166_2 continent  \\\n",
       "0          Afghanistan     AF    AFG             4  ISO 3166-2:AF      Asia   \n",
       "1        Åland Islands     AX    ALA           248  ISO 3166-2:AX    Europe   \n",
       "2              Albania     AL    ALB             8  ISO 3166-2:AL    Europe   \n",
       "3              Algeria     DZ    DZA            12  ISO 3166-2:DZ    Africa   \n",
       "4       American Samoa     AS    ASM            16  ISO 3166-2:AS   Oceania   \n",
       "..                 ...    ...    ...           ...            ...       ...   \n",
       "244  Wallis and Futuna     WF    WLF           876  ISO 3166-2:WF   Oceania   \n",
       "245     Western Sahara     EH    ESH           732  ISO 3166-2:EH    Africa   \n",
       "246              Yemen     YE    YEM           887  ISO 3166-2:YE      Asia   \n",
       "247             Zambia     ZM    ZMB           894  ISO 3166-2:ZM    Africa   \n",
       "248           Zimbabwe     ZW    ZWE           716  ISO 3166-2:ZW    Africa   \n",
       "\n",
       "          sub_region  region_code  sub_region_code  \n",
       "0      Southern Asia        142.0             34.0  \n",
       "1    Northern Europe        150.0            154.0  \n",
       "2    Southern Europe        150.0             39.0  \n",
       "3    Northern Africa          2.0             15.0  \n",
       "4          Polynesia          9.0             61.0  \n",
       "..               ...          ...              ...  \n",
       "244        Polynesia          9.0             61.0  \n",
       "245  Northern Africa          2.0             15.0  \n",
       "246     Western Asia        142.0            145.0  \n",
       "247   Eastern Africa          2.0             14.0  \n",
       "248   Eastern Africa          2.0             14.0  \n",
       "\n",
       "[249 rows x 9 columns]"
      ]
     },
     "execution_count": 17,
     "metadata": {},
     "output_type": "execute_result"
    }
   ],
   "source": [
    "continent_df = pd.read_csv(\"countryContinent.csv\", encoding='ISO-8859-1')\n",
    "continent_df"
   ]
  },
  {
   "cell_type": "markdown",
   "id": "60efa5de",
   "metadata": {},
   "source": [
    "The dataframe is cleaned to only include relevant variables."
   ]
  },
  {
   "cell_type": "code",
   "execution_count": 18,
   "id": "10ef4b11",
   "metadata": {},
   "outputs": [
    {
     "data": {
      "text/html": [
       "<div>\n",
       "<style scoped>\n",
       "    .dataframe tbody tr th:only-of-type {\n",
       "        vertical-align: middle;\n",
       "    }\n",
       "\n",
       "    .dataframe tbody tr th {\n",
       "        vertical-align: top;\n",
       "    }\n",
       "\n",
       "    .dataframe thead th {\n",
       "        text-align: right;\n",
       "    }\n",
       "</style>\n",
       "<table border=\"1\" class=\"dataframe\">\n",
       "  <thead>\n",
       "    <tr style=\"text-align: right;\">\n",
       "      <th></th>\n",
       "      <th>country</th>\n",
       "      <th>continent</th>\n",
       "      <th>sub_region</th>\n",
       "    </tr>\n",
       "  </thead>\n",
       "  <tbody>\n",
       "    <tr>\n",
       "      <th>0</th>\n",
       "      <td>Afghanistan</td>\n",
       "      <td>Asia</td>\n",
       "      <td>Southern Asia</td>\n",
       "    </tr>\n",
       "    <tr>\n",
       "      <th>1</th>\n",
       "      <td>Åland Islands</td>\n",
       "      <td>Europe</td>\n",
       "      <td>Northern Europe</td>\n",
       "    </tr>\n",
       "    <tr>\n",
       "      <th>2</th>\n",
       "      <td>Albania</td>\n",
       "      <td>Europe</td>\n",
       "      <td>Southern Europe</td>\n",
       "    </tr>\n",
       "    <tr>\n",
       "      <th>3</th>\n",
       "      <td>Algeria</td>\n",
       "      <td>Africa</td>\n",
       "      <td>Northern Africa</td>\n",
       "    </tr>\n",
       "    <tr>\n",
       "      <th>4</th>\n",
       "      <td>American Samoa</td>\n",
       "      <td>Oceania</td>\n",
       "      <td>Polynesia</td>\n",
       "    </tr>\n",
       "    <tr>\n",
       "      <th>...</th>\n",
       "      <td>...</td>\n",
       "      <td>...</td>\n",
       "      <td>...</td>\n",
       "    </tr>\n",
       "    <tr>\n",
       "      <th>244</th>\n",
       "      <td>Wallis and Futuna</td>\n",
       "      <td>Oceania</td>\n",
       "      <td>Polynesia</td>\n",
       "    </tr>\n",
       "    <tr>\n",
       "      <th>245</th>\n",
       "      <td>Western Sahara</td>\n",
       "      <td>Africa</td>\n",
       "      <td>Northern Africa</td>\n",
       "    </tr>\n",
       "    <tr>\n",
       "      <th>246</th>\n",
       "      <td>Yemen</td>\n",
       "      <td>Asia</td>\n",
       "      <td>Western Asia</td>\n",
       "    </tr>\n",
       "    <tr>\n",
       "      <th>247</th>\n",
       "      <td>Zambia</td>\n",
       "      <td>Africa</td>\n",
       "      <td>Eastern Africa</td>\n",
       "    </tr>\n",
       "    <tr>\n",
       "      <th>248</th>\n",
       "      <td>Zimbabwe</td>\n",
       "      <td>Africa</td>\n",
       "      <td>Eastern Africa</td>\n",
       "    </tr>\n",
       "  </tbody>\n",
       "</table>\n",
       "<p>249 rows × 3 columns</p>\n",
       "</div>"
      ],
      "text/plain": [
       "               country continent       sub_region\n",
       "0          Afghanistan      Asia    Southern Asia\n",
       "1        Åland Islands    Europe  Northern Europe\n",
       "2              Albania    Europe  Southern Europe\n",
       "3              Algeria    Africa  Northern Africa\n",
       "4       American Samoa   Oceania        Polynesia\n",
       "..                 ...       ...              ...\n",
       "244  Wallis and Futuna   Oceania        Polynesia\n",
       "245     Western Sahara    Africa  Northern Africa\n",
       "246              Yemen      Asia     Western Asia\n",
       "247             Zambia    Africa   Eastern Africa\n",
       "248           Zimbabwe    Africa   Eastern Africa\n",
       "\n",
       "[249 rows x 3 columns]"
      ]
     },
     "execution_count": 18,
     "metadata": {},
     "output_type": "execute_result"
    }
   ],
   "source": [
    "continent_df = duckdb.sql(\"SELECT country, continent, sub_region FROM \\\n",
    "continent_df\").df()\n",
    "continent_df"
   ]
  },
  {
   "cell_type": "markdown",
   "id": "7d8c4168",
   "metadata": {},
   "source": [
    "Then it is joined to the demography data."
   ]
  },
  {
   "cell_type": "code",
   "execution_count": 19,
   "id": "e2bccbfc",
   "metadata": {},
   "outputs": [
    {
     "data": {
      "text/html": [
       "<div>\n",
       "<style scoped>\n",
       "    .dataframe tbody tr th:only-of-type {\n",
       "        vertical-align: middle;\n",
       "    }\n",
       "\n",
       "    .dataframe tbody tr th {\n",
       "        vertical-align: top;\n",
       "    }\n",
       "\n",
       "    .dataframe thead th {\n",
       "        text-align: right;\n",
       "    }\n",
       "</style>\n",
       "<table border=\"1\" class=\"dataframe\">\n",
       "  <thead>\n",
       "    <tr style=\"text-align: right;\">\n",
       "      <th></th>\n",
       "      <th>country</th>\n",
       "      <th>continent</th>\n",
       "      <th>sub_region</th>\n",
       "      <th>birth_rate</th>\n",
       "      <th>infant_mortality</th>\n",
       "      <th>life_expectancy</th>\n",
       "      <th>maternal_mortality_ratio</th>\n",
       "      <th>Happiness score</th>\n",
       "    </tr>\n",
       "  </thead>\n",
       "  <tbody>\n",
       "    <tr>\n",
       "      <th>0</th>\n",
       "      <td>Afghanistan</td>\n",
       "      <td>Asia</td>\n",
       "      <td>Southern Asia</td>\n",
       "      <td>32.49</td>\n",
       "      <td>47.9</td>\n",
       "      <td>64.5</td>\n",
       "      <td>638.0</td>\n",
       "      <td>2404.0</td>\n",
       "    </tr>\n",
       "    <tr>\n",
       "      <th>1</th>\n",
       "      <td>Albania</td>\n",
       "      <td>Europe</td>\n",
       "      <td>Southern Europe</td>\n",
       "      <td>11.78</td>\n",
       "      <td>7.8</td>\n",
       "      <td>78.5</td>\n",
       "      <td>15.0</td>\n",
       "      <td>5199.0</td>\n",
       "    </tr>\n",
       "    <tr>\n",
       "      <th>2</th>\n",
       "      <td>Algeria</td>\n",
       "      <td>Africa</td>\n",
       "      <td>Northern Africa</td>\n",
       "      <td>24.28</td>\n",
       "      <td>20.1</td>\n",
       "      <td>76.7</td>\n",
       "      <td>112.0</td>\n",
       "      <td>5122.0</td>\n",
       "    </tr>\n",
       "    <tr>\n",
       "      <th>3</th>\n",
       "      <td>Armenia</td>\n",
       "      <td>Asia</td>\n",
       "      <td>Western Asia</td>\n",
       "      <td>13.99</td>\n",
       "      <td>11.0</td>\n",
       "      <td>74.9</td>\n",
       "      <td>26.0</td>\n",
       "      <td>5399.0</td>\n",
       "    </tr>\n",
       "    <tr>\n",
       "      <th>4</th>\n",
       "      <td>Australia</td>\n",
       "      <td>Oceania</td>\n",
       "      <td>Australia and New Zealand</td>\n",
       "      <td>12.60</td>\n",
       "      <td>3.1</td>\n",
       "      <td>82.7</td>\n",
       "      <td>6.0</td>\n",
       "      <td>7162.0</td>\n",
       "    </tr>\n",
       "    <tr>\n",
       "      <th>...</th>\n",
       "      <td>...</td>\n",
       "      <td>...</td>\n",
       "      <td>...</td>\n",
       "      <td>...</td>\n",
       "      <td>...</td>\n",
       "      <td>...</td>\n",
       "      <td>...</td>\n",
       "      <td>...</td>\n",
       "    </tr>\n",
       "    <tr>\n",
       "      <th>101</th>\n",
       "      <td>Austria</td>\n",
       "      <td>Europe</td>\n",
       "      <td>Western Europe</td>\n",
       "      <td>9.70</td>\n",
       "      <td>2.9</td>\n",
       "      <td>81.6</td>\n",
       "      <td>5.0</td>\n",
       "      <td>7163.0</td>\n",
       "    </tr>\n",
       "    <tr>\n",
       "      <th>102</th>\n",
       "      <td>Ecuador</td>\n",
       "      <td>Americas</td>\n",
       "      <td>South America</td>\n",
       "      <td>19.72</td>\n",
       "      <td>12.2</td>\n",
       "      <td>76.8</td>\n",
       "      <td>59.0</td>\n",
       "      <td>5533.0</td>\n",
       "    </tr>\n",
       "    <tr>\n",
       "      <th>103</th>\n",
       "      <td>Lithuania</td>\n",
       "      <td>Europe</td>\n",
       "      <td>Northern Europe</td>\n",
       "      <td>10.00</td>\n",
       "      <td>3.3</td>\n",
       "      <td>75.7</td>\n",
       "      <td>8.0</td>\n",
       "      <td>6446.0</td>\n",
       "    </tr>\n",
       "    <tr>\n",
       "      <th>104</th>\n",
       "      <td>Romania</td>\n",
       "      <td>Europe</td>\n",
       "      <td>Eastern Europe</td>\n",
       "      <td>9.60</td>\n",
       "      <td>6.1</td>\n",
       "      <td>75.4</td>\n",
       "      <td>19.0</td>\n",
       "      <td>6477.0</td>\n",
       "    </tr>\n",
       "    <tr>\n",
       "      <th>105</th>\n",
       "      <td>Zambia</td>\n",
       "      <td>Africa</td>\n",
       "      <td>Eastern Africa</td>\n",
       "      <td>36.19</td>\n",
       "      <td>40.4</td>\n",
       "      <td>63.5</td>\n",
       "      <td>213.0</td>\n",
       "      <td>3760.0</td>\n",
       "    </tr>\n",
       "  </tbody>\n",
       "</table>\n",
       "<p>106 rows × 8 columns</p>\n",
       "</div>"
      ],
      "text/plain": [
       "         country continent                 sub_region  birth_rate  \\\n",
       "0    Afghanistan      Asia              Southern Asia       32.49   \n",
       "1        Albania    Europe            Southern Europe       11.78   \n",
       "2        Algeria    Africa            Northern Africa       24.28   \n",
       "3        Armenia      Asia               Western Asia       13.99   \n",
       "4      Australia   Oceania  Australia and New Zealand       12.60   \n",
       "..           ...       ...                        ...         ...   \n",
       "101      Austria    Europe             Western Europe        9.70   \n",
       "102      Ecuador  Americas              South America       19.72   \n",
       "103    Lithuania    Europe            Northern Europe       10.00   \n",
       "104      Romania    Europe             Eastern Europe        9.60   \n",
       "105       Zambia    Africa             Eastern Africa       36.19   \n",
       "\n",
       "     infant_mortality  life_expectancy  maternal_mortality_ratio  \\\n",
       "0                47.9             64.5                     638.0   \n",
       "1                 7.8             78.5                      15.0   \n",
       "2                20.1             76.7                     112.0   \n",
       "3                11.0             74.9                      26.0   \n",
       "4                 3.1             82.7                       6.0   \n",
       "..                ...              ...                       ...   \n",
       "101               2.9             81.6                       5.0   \n",
       "102              12.2             76.8                      59.0   \n",
       "103               3.3             75.7                       8.0   \n",
       "104               6.1             75.4                      19.0   \n",
       "105              40.4             63.5                     213.0   \n",
       "\n",
       "     Happiness score  \n",
       "0             2404.0  \n",
       "1             5199.0  \n",
       "2             5122.0  \n",
       "3             5399.0  \n",
       "4             7162.0  \n",
       "..               ...  \n",
       "101           7163.0  \n",
       "102           5533.0  \n",
       "103           6446.0  \n",
       "104           6477.0  \n",
       "105           3760.0  \n",
       "\n",
       "[106 rows x 8 columns]"
      ]
     },
     "execution_count": 19,
     "metadata": {},
     "output_type": "execute_result"
    }
   ],
   "source": [
    "demography_df = duckdb.sql(\"SELECT continent_df.country, continent, \\\n",
    "sub_region, birth_rate, infant_mortality, life_expectancy, \\\n",
    "maternal_mortality_ratio, \\\"Happiness score\\\", FROM continent_df INNER JOIN \\\n",
    "demography_df ON continent_df.country = demography_df.Country\").df()\n",
    "demography_df"
   ]
  },
  {
   "cell_type": "markdown",
   "id": "1f214f77",
   "metadata": {},
   "source": [
    "The data can then be separated into dataframes by continent for further analysis."
   ]
  },
  {
   "cell_type": "code",
   "execution_count": 20,
   "id": "b8aa9e78",
   "metadata": {},
   "outputs": [
    {
     "data": {
      "text/html": [
       "<div>\n",
       "<style scoped>\n",
       "    .dataframe tbody tr th:only-of-type {\n",
       "        vertical-align: middle;\n",
       "    }\n",
       "\n",
       "    .dataframe tbody tr th {\n",
       "        vertical-align: top;\n",
       "    }\n",
       "\n",
       "    .dataframe thead th {\n",
       "        text-align: right;\n",
       "    }\n",
       "</style>\n",
       "<table border=\"1\" class=\"dataframe\">\n",
       "  <thead>\n",
       "    <tr style=\"text-align: right;\">\n",
       "      <th></th>\n",
       "      <th>Country</th>\n",
       "      <th>Population</th>\n",
       "      <th>Crime Index</th>\n",
       "      <th>Minimum wage($)</th>\n",
       "      <th>birth_rate</th>\n",
       "      <th>Happiness score</th>\n",
       "    </tr>\n",
       "  </thead>\n",
       "  <tbody>\n",
       "    <tr>\n",
       "      <th>0</th>\n",
       "      <td>Afghanistan</td>\n",
       "      <td>38041754.0</td>\n",
       "      <td>76.31</td>\n",
       "      <td>0.43</td>\n",
       "      <td>32.49</td>\n",
       "      <td>2404.0</td>\n",
       "    </tr>\n",
       "    <tr>\n",
       "      <th>1</th>\n",
       "      <td>Albania</td>\n",
       "      <td>2854191.0</td>\n",
       "      <td>42.53</td>\n",
       "      <td>1.12</td>\n",
       "      <td>11.78</td>\n",
       "      <td>5199.0</td>\n",
       "    </tr>\n",
       "    <tr>\n",
       "      <th>2</th>\n",
       "      <td>Algeria</td>\n",
       "      <td>43053054.0</td>\n",
       "      <td>52.03</td>\n",
       "      <td>0.95</td>\n",
       "      <td>24.28</td>\n",
       "      <td>5122.0</td>\n",
       "    </tr>\n",
       "    <tr>\n",
       "      <th>3</th>\n",
       "      <td>Armenia</td>\n",
       "      <td>2957731.0</td>\n",
       "      <td>22.79</td>\n",
       "      <td>0.66</td>\n",
       "      <td>13.99</td>\n",
       "      <td>5399.0</td>\n",
       "    </tr>\n",
       "    <tr>\n",
       "      <th>4</th>\n",
       "      <td>Australia</td>\n",
       "      <td>25766605.0</td>\n",
       "      <td>43.03</td>\n",
       "      <td>13.59</td>\n",
       "      <td>12.60</td>\n",
       "      <td>7162.0</td>\n",
       "    </tr>\n",
       "    <tr>\n",
       "      <th>...</th>\n",
       "      <td>...</td>\n",
       "      <td>...</td>\n",
       "      <td>...</td>\n",
       "      <td>...</td>\n",
       "      <td>...</td>\n",
       "      <td>...</td>\n",
       "    </tr>\n",
       "    <tr>\n",
       "      <th>67</th>\n",
       "      <td>Kazakhstan</td>\n",
       "      <td>18513930.0</td>\n",
       "      <td>53.77</td>\n",
       "      <td>0.41</td>\n",
       "      <td>21.77</td>\n",
       "      <td>6234.0</td>\n",
       "    </tr>\n",
       "    <tr>\n",
       "      <th>68</th>\n",
       "      <td>Nigeria</td>\n",
       "      <td>200963599.0</td>\n",
       "      <td>64.06</td>\n",
       "      <td>0.54</td>\n",
       "      <td>37.91</td>\n",
       "      <td>4552.0</td>\n",
       "    </tr>\n",
       "    <tr>\n",
       "      <th>69</th>\n",
       "      <td>Argentina</td>\n",
       "      <td>44938712.0</td>\n",
       "      <td>63.82</td>\n",
       "      <td>3.35</td>\n",
       "      <td>17.02</td>\n",
       "      <td>5967.0</td>\n",
       "    </tr>\n",
       "    <tr>\n",
       "      <th>70</th>\n",
       "      <td>Lithuania</td>\n",
       "      <td>2786844.0</td>\n",
       "      <td>33.42</td>\n",
       "      <td>2.41</td>\n",
       "      <td>10.00</td>\n",
       "      <td>6446.0</td>\n",
       "    </tr>\n",
       "    <tr>\n",
       "      <th>71</th>\n",
       "      <td>Romania</td>\n",
       "      <td>19356544.0</td>\n",
       "      <td>28.30</td>\n",
       "      <td>2.25</td>\n",
       "      <td>9.60</td>\n",
       "      <td>6477.0</td>\n",
       "    </tr>\n",
       "  </tbody>\n",
       "</table>\n",
       "<p>72 rows × 6 columns</p>\n",
       "</div>"
      ],
      "text/plain": [
       "        Country   Population  Crime Index  Minimum wage($)  birth_rate  \\\n",
       "0   Afghanistan   38041754.0        76.31             0.43       32.49   \n",
       "1       Albania    2854191.0        42.53             1.12       11.78   \n",
       "2       Algeria   43053054.0        52.03             0.95       24.28   \n",
       "3       Armenia    2957731.0        22.79             0.66       13.99   \n",
       "4     Australia   25766605.0        43.03            13.59       12.60   \n",
       "..          ...          ...          ...              ...         ...   \n",
       "67   Kazakhstan   18513930.0        53.77             0.41       21.77   \n",
       "68      Nigeria  200963599.0        64.06             0.54       37.91   \n",
       "69    Argentina   44938712.0        63.82             3.35       17.02   \n",
       "70    Lithuania    2786844.0        33.42             2.41       10.00   \n",
       "71      Romania   19356544.0        28.30             2.25        9.60   \n",
       "\n",
       "    Happiness score  \n",
       "0            2404.0  \n",
       "1            5199.0  \n",
       "2            5122.0  \n",
       "3            5399.0  \n",
       "4            7162.0  \n",
       "..              ...  \n",
       "67           6234.0  \n",
       "68           4552.0  \n",
       "69           5967.0  \n",
       "70           6446.0  \n",
       "71           6477.0  \n",
       "\n",
       "[72 rows x 6 columns]"
      ]
     },
     "execution_count": 20,
     "metadata": {},
     "output_type": "execute_result"
    }
   ],
   "source": [
    "hypothesis2_df = duckdb.sql(\"SELECT merged_df.Country, Population, \\\"Crime Index\\\", \\\"Minimum wage($)\\\", \\\n",
    "birth_rate, demography_df.\\\"Happiness score\\\" FROM merged_df INNER JOIN demography_df \\\n",
    "ON merged_df.Country = demography_df.Country\").df()\n",
    "hypothesis2_df"
   ]
  },
  {
   "cell_type": "markdown",
   "id": "f993e614",
   "metadata": {},
   "source": [
    "### Health"
   ]
  },
  {
   "cell_type": "markdown",
   "id": "10b7f23c",
   "metadata": {},
   "source": [
    "First we load in the CSV files analyze suicide rates and mental health disorders in various countries"
   ]
  },
  {
   "cell_type": "code",
   "execution_count": 21,
   "id": "8575dc1a",
   "metadata": {},
   "outputs": [],
   "source": [
    "mental_health_df = pd.read_csv('Mental health Depression disorder Data.csv', dtype='unicode')\n",
    "# https://stackoverflow.com/questions/24251219/pandas-read-csv-low-memory-and-dtype-options"
   ]
  },
  {
   "cell_type": "markdown",
   "id": "23e73431",
   "metadata": {},
   "source": [
    "#### Mental Disorders\n",
    "We begin by removing unnecessary columns from the data frame"
   ]
  },
  {
   "cell_type": "code",
   "execution_count": 22,
   "id": "76765b46",
   "metadata": {},
   "outputs": [],
   "source": [
    "mental_health_df.drop('Code', axis=1, inplace=True)"
   ]
  },
  {
   "cell_type": "markdown",
   "id": "43e53fac",
   "metadata": {},
   "source": [
    "We rename the columns to make them more intuitive. We renamed the \"Entity\" column to the \"Country\". Then we removed the missing values from the dataframe to ensure we only focus on the relevant data."
   ]
  },
  {
   "cell_type": "code",
   "execution_count": 23,
   "id": "cb51a173",
   "metadata": {},
   "outputs": [],
   "source": [
    "#Rename the Entity column to countries\n",
    "mental_health_df = mental_health_df.rename(columns={'Entity': 'Country'})\n",
    "\n",
    "# #Remove NaN\n",
    "mental_health_df = mental_health_df.dropna()"
   ]
  },
  {
   "cell_type": "markdown",
   "id": "337ae837",
   "metadata": {},
   "source": [
    "The \"Year\" column wasn't an int, so we changed it to make it easier to remove and select years later on. We deleted years before 2013 since we wanted to collect more recent data. "
   ]
  },
  {
   "cell_type": "code",
   "execution_count": 24,
   "id": "fbe791c0",
   "metadata": {},
   "outputs": [],
   "source": [
    "# Make years into int, since it was an object before\n",
    "mental_health_df['Year'] = mental_health_df['Year'].astype(int)\n",
    "\n",
    "# remove years before 2013 \n",
    "mental_health_df = mental_health_df[mental_health_df['Year'] >= 2013]"
   ]
  },
  {
   "cell_type": "markdown",
   "id": "4a20d137",
   "metadata": {},
   "source": [
    "The disorder columns contained errors in its data that needed to be removed. For example, one of its data contained 2 periods instead 1 for percentages. To solve this we converted all the disorders to numeric values and set all non-passing vales as NaN. We then dropped those values."
   ]
  },
  {
   "cell_type": "code",
   "execution_count": 25,
   "id": "94bfd54e",
   "metadata": {},
   "outputs": [],
   "source": [
    "# Remove the data in the percentages that aren't numeric. Ex) \n",
    "columns_to_convert = [\n",
    "    'Schizophrenia (%)', 'Bipolar disorder (%)', 'Eating disorders (%)',\n",
    "    'Anxiety disorders (%)', 'Drug use disorders (%)',\n",
    "    'Depression (%)', 'Alcohol use disorders (%)']\n",
    "\n",
    "# change to numeric, ignore errors\n",
    "# https://stackoverflow.com/questions/44522741/pandas-mean-typeerror-could-not-convert-to-numeric\n",
    "mental_health_df[columns_to_convert] = mental_health_df[columns_to_convert].apply(pd.to_numeric, \n",
    "                                                                                  errors='coerce')\n",
    "mental_health_df.dropna(subset=columns_to_convert, inplace=True)"
   ]
  },
  {
   "cell_type": "markdown",
   "id": "62d261a1",
   "metadata": {},
   "source": [
    "We then grouped the data by country and took the mean of the disorder percentages. We dropped the columns that were not relevant to the final dataframe."
   ]
  },
  {
   "cell_type": "code",
   "execution_count": 26,
   "id": "58fe250e",
   "metadata": {},
   "outputs": [
    {
     "data": {
      "text/html": [
       "<div>\n",
       "<style scoped>\n",
       "    .dataframe tbody tr th:only-of-type {\n",
       "        vertical-align: middle;\n",
       "    }\n",
       "\n",
       "    .dataframe tbody tr th {\n",
       "        vertical-align: top;\n",
       "    }\n",
       "\n",
       "    .dataframe thead th {\n",
       "        text-align: right;\n",
       "    }\n",
       "</style>\n",
       "<table border=\"1\" class=\"dataframe\">\n",
       "  <thead>\n",
       "    <tr style=\"text-align: right;\">\n",
       "      <th></th>\n",
       "      <th>Country</th>\n",
       "      <th>Schizophrenia (%)</th>\n",
       "      <th>Bipolar disorder (%)</th>\n",
       "      <th>Eating disorders (%)</th>\n",
       "      <th>Anxiety disorders (%)</th>\n",
       "      <th>Drug use disorders (%)</th>\n",
       "      <th>Depression (%)</th>\n",
       "      <th>Alcohol use disorders (%)</th>\n",
       "    </tr>\n",
       "  </thead>\n",
       "  <tbody>\n",
       "    <tr>\n",
       "      <th>0</th>\n",
       "      <td>Afghanistan</td>\n",
       "      <td>0.165882</td>\n",
       "      <td>0.707279</td>\n",
       "      <td>0.104365</td>\n",
       "      <td>4.875703</td>\n",
       "      <td>2.533182</td>\n",
       "      <td>4.135129</td>\n",
       "      <td>0.662045</td>\n",
       "    </tr>\n",
       "    <tr>\n",
       "      <th>1</th>\n",
       "      <td>Albania</td>\n",
       "      <td>0.200605</td>\n",
       "      <td>0.704141</td>\n",
       "      <td>0.170857</td>\n",
       "      <td>3.387972</td>\n",
       "      <td>0.512789</td>\n",
       "      <td>2.205231</td>\n",
       "      <td>1.847211</td>\n",
       "    </tr>\n",
       "    <tr>\n",
       "      <th>2</th>\n",
       "      <td>Algeria</td>\n",
       "      <td>0.197709</td>\n",
       "      <td>0.817824</td>\n",
       "      <td>0.211327</td>\n",
       "      <td>5.058440</td>\n",
       "      <td>1.708282</td>\n",
       "      <td>3.639566</td>\n",
       "      <td>0.665544</td>\n",
       "    </tr>\n",
       "    <tr>\n",
       "      <th>3</th>\n",
       "      <td>American Samoa</td>\n",
       "      <td>0.248964</td>\n",
       "      <td>0.468421</td>\n",
       "      <td>0.179106</td>\n",
       "      <td>3.316180</td>\n",
       "      <td>0.769744</td>\n",
       "      <td>2.937838</td>\n",
       "      <td>1.141303</td>\n",
       "    </tr>\n",
       "    <tr>\n",
       "      <th>4</th>\n",
       "      <td>Andean Latin America</td>\n",
       "      <td>0.200701</td>\n",
       "      <td>0.881123</td>\n",
       "      <td>0.350026</td>\n",
       "      <td>4.266526</td>\n",
       "      <td>0.666658</td>\n",
       "      <td>2.606462</td>\n",
       "      <td>1.548944</td>\n",
       "    </tr>\n",
       "    <tr>\n",
       "      <th>...</th>\n",
       "      <td>...</td>\n",
       "      <td>...</td>\n",
       "      <td>...</td>\n",
       "      <td>...</td>\n",
       "      <td>...</td>\n",
       "      <td>...</td>\n",
       "      <td>...</td>\n",
       "      <td>...</td>\n",
       "    </tr>\n",
       "    <tr>\n",
       "      <th>226</th>\n",
       "      <td>Western Sub-Saharan Africa</td>\n",
       "      <td>0.174619</td>\n",
       "      <td>0.636718</td>\n",
       "      <td>0.139599</td>\n",
       "      <td>2.904105</td>\n",
       "      <td>0.483082</td>\n",
       "      <td>3.757981</td>\n",
       "      <td>0.967807</td>\n",
       "    </tr>\n",
       "    <tr>\n",
       "      <th>227</th>\n",
       "      <td>World</td>\n",
       "      <td>0.254415</td>\n",
       "      <td>0.596277</td>\n",
       "      <td>0.207662</td>\n",
       "      <td>3.774304</td>\n",
       "      <td>0.930513</td>\n",
       "      <td>3.439976</td>\n",
       "      <td>1.412415</td>\n",
       "    </tr>\n",
       "    <tr>\n",
       "      <th>228</th>\n",
       "      <td>Yemen</td>\n",
       "      <td>0.172382</td>\n",
       "      <td>0.735498</td>\n",
       "      <td>0.136447</td>\n",
       "      <td>4.852630</td>\n",
       "      <td>1.400195</td>\n",
       "      <td>4.017016</td>\n",
       "      <td>0.635910</td>\n",
       "    </tr>\n",
       "    <tr>\n",
       "      <th>229</th>\n",
       "      <td>Zambia</td>\n",
       "      <td>0.165007</td>\n",
       "      <td>0.605270</td>\n",
       "      <td>0.138857</td>\n",
       "      <td>3.585710</td>\n",
       "      <td>0.507067</td>\n",
       "      <td>3.581924</td>\n",
       "      <td>1.632803</td>\n",
       "    </tr>\n",
       "    <tr>\n",
       "      <th>230</th>\n",
       "      <td>Zimbabwe</td>\n",
       "      <td>0.156640</td>\n",
       "      <td>0.609488</td>\n",
       "      <td>0.120138</td>\n",
       "      <td>3.099608</td>\n",
       "      <td>0.770384</td>\n",
       "      <td>3.158223</td>\n",
       "      <td>1.514015</td>\n",
       "    </tr>\n",
       "  </tbody>\n",
       "</table>\n",
       "<p>231 rows × 8 columns</p>\n",
       "</div>"
      ],
      "text/plain": [
       "                        Country  Schizophrenia (%)  Bipolar disorder (%)  \\\n",
       "0                   Afghanistan           0.165882              0.707279   \n",
       "1                       Albania           0.200605              0.704141   \n",
       "2                       Algeria           0.197709              0.817824   \n",
       "3                American Samoa           0.248964              0.468421   \n",
       "4          Andean Latin America           0.200701              0.881123   \n",
       "..                          ...                ...                   ...   \n",
       "226  Western Sub-Saharan Africa           0.174619              0.636718   \n",
       "227                       World           0.254415              0.596277   \n",
       "228                       Yemen           0.172382              0.735498   \n",
       "229                      Zambia           0.165007              0.605270   \n",
       "230                    Zimbabwe           0.156640              0.609488   \n",
       "\n",
       "     Eating disorders (%)  Anxiety disorders (%)  Drug use disorders (%)  \\\n",
       "0                0.104365               4.875703                2.533182   \n",
       "1                0.170857               3.387972                0.512789   \n",
       "2                0.211327               5.058440                1.708282   \n",
       "3                0.179106               3.316180                0.769744   \n",
       "4                0.350026               4.266526                0.666658   \n",
       "..                    ...                    ...                     ...   \n",
       "226              0.139599               2.904105                0.483082   \n",
       "227              0.207662               3.774304                0.930513   \n",
       "228              0.136447               4.852630                1.400195   \n",
       "229              0.138857               3.585710                0.507067   \n",
       "230              0.120138               3.099608                0.770384   \n",
       "\n",
       "     Depression (%)  Alcohol use disorders (%)  \n",
       "0          4.135129                   0.662045  \n",
       "1          2.205231                   1.847211  \n",
       "2          3.639566                   0.665544  \n",
       "3          2.937838                   1.141303  \n",
       "4          2.606462                   1.548944  \n",
       "..              ...                        ...  \n",
       "226        3.757981                   0.967807  \n",
       "227        3.439976                   1.412415  \n",
       "228        4.017016                   0.635910  \n",
       "229        3.581924                   1.632803  \n",
       "230        3.158223                   1.514015  \n",
       "\n",
       "[231 rows x 8 columns]"
      ]
     },
     "execution_count": 26,
     "metadata": {},
     "output_type": "execute_result"
    }
   ],
   "source": [
    "# Group the disorder percentage mean for 2013-2017\n",
    "averages_by_country = mental_health_df.groupby('Country').mean()\n",
    "averages_by_country.drop(axis=0, columns=['Year','index'], inplace=True)\n",
    "averages_by_country.reset_index(inplace=True)\n",
    "averages_by_country"
   ]
  },
  {
   "cell_type": "markdown",
   "id": "1483b932",
   "metadata": {},
   "source": [
    "#### Suicide Table"
   ]
  },
  {
   "cell_type": "markdown",
   "id": "ccca902c",
   "metadata": {},
   "source": [
    "First we renamed the countries column to Country to better align with the other CSV file names. Then we dropped the years before the year 2013 and reset the index for more accurate data collection. "
   ]
  },
  {
   "cell_type": "code",
   "execution_count": 27,
   "id": "487527b0",
   "metadata": {},
   "outputs": [],
   "source": [
    "#Rename the Entity column to countries\n",
    "suicide_df = pd.read_csv('master.csv')\n",
    "suicide_df = suicide_df.rename(columns={'country': 'Country'})\n",
    "\n",
    "# drop years before 2013\n",
    "suicide_df = suicide_df[suicide_df['year'] >= 2013]\n",
    "\n",
    "\n",
    "suicide_df.reset_index(drop=True, inplace=True)\n"
   ]
  },
  {
   "cell_type": "markdown",
   "id": "6bedcdc0",
   "metadata": {},
   "source": [
    "First we added together the suicide numbers if the year and the country was the same. We did this to account for the fact that the data took data based on different age groups. Then, we collected the suicide rates for each country and retook the sum of the suicide number."
   ]
  },
  {
   "cell_type": "code",
   "execution_count": 28,
   "id": "7240f988",
   "metadata": {},
   "outputs": [
    {
     "data": {
      "text/html": [
       "<div>\n",
       "<style scoped>\n",
       "    .dataframe tbody tr th:only-of-type {\n",
       "        vertical-align: middle;\n",
       "    }\n",
       "\n",
       "    .dataframe tbody tr th {\n",
       "        vertical-align: top;\n",
       "    }\n",
       "\n",
       "    .dataframe thead th {\n",
       "        text-align: right;\n",
       "    }\n",
       "</style>\n",
       "<table border=\"1\" class=\"dataframe\">\n",
       "  <thead>\n",
       "    <tr style=\"text-align: right;\">\n",
       "      <th></th>\n",
       "      <th>Country</th>\n",
       "      <th>suicide_rate</th>\n",
       "    </tr>\n",
       "  </thead>\n",
       "  <tbody>\n",
       "    <tr>\n",
       "      <th>0</th>\n",
       "      <td>Antigua and Barbuda</td>\n",
       "      <td>0.433889</td>\n",
       "    </tr>\n",
       "    <tr>\n",
       "      <th>1</th>\n",
       "      <td>Argentina</td>\n",
       "      <td>9.080556</td>\n",
       "    </tr>\n",
       "    <tr>\n",
       "      <th>2</th>\n",
       "      <td>Armenia</td>\n",
       "      <td>3.509208</td>\n",
       "    </tr>\n",
       "    <tr>\n",
       "      <th>3</th>\n",
       "      <td>Australia</td>\n",
       "      <td>12.278611</td>\n",
       "    </tr>\n",
       "    <tr>\n",
       "      <th>4</th>\n",
       "      <td>Austria</td>\n",
       "      <td>17.425750</td>\n",
       "    </tr>\n",
       "    <tr>\n",
       "      <th>...</th>\n",
       "      <td>...</td>\n",
       "      <td>...</td>\n",
       "    </tr>\n",
       "    <tr>\n",
       "      <th>79</th>\n",
       "      <td>Ukraine</td>\n",
       "      <td>20.634167</td>\n",
       "    </tr>\n",
       "    <tr>\n",
       "      <th>80</th>\n",
       "      <td>United Kingdom</td>\n",
       "      <td>7.099722</td>\n",
       "    </tr>\n",
       "    <tr>\n",
       "      <th>81</th>\n",
       "      <td>United States</td>\n",
       "      <td>14.261389</td>\n",
       "    </tr>\n",
       "    <tr>\n",
       "      <th>82</th>\n",
       "      <td>Uruguay</td>\n",
       "      <td>21.326389</td>\n",
       "    </tr>\n",
       "    <tr>\n",
       "      <th>83</th>\n",
       "      <td>Uzbekistan</td>\n",
       "      <td>6.832500</td>\n",
       "    </tr>\n",
       "  </tbody>\n",
       "</table>\n",
       "<p>84 rows × 2 columns</p>\n",
       "</div>"
      ],
      "text/plain": [
       "                Country  suicide_rate\n",
       "0   Antigua and Barbuda      0.433889\n",
       "1             Argentina      9.080556\n",
       "2               Armenia      3.509208\n",
       "3             Australia     12.278611\n",
       "4               Austria     17.425750\n",
       "..                  ...           ...\n",
       "79              Ukraine     20.634167\n",
       "80       United Kingdom      7.099722\n",
       "81        United States     14.261389\n",
       "82              Uruguay     21.326389\n",
       "83           Uzbekistan      6.832500\n",
       "\n",
       "[84 rows x 2 columns]"
      ]
     },
     "execution_count": 28,
     "metadata": {},
     "output_type": "execute_result"
    }
   ],
   "source": [
    "suicide_df.rename(columns={'suicides/100k pop': 'suicide_rate'}, inplace=True)\n",
    "suicide_df = suicide_df.groupby(['Country', 'year'])['suicide_rate'].mean().reset_index()\n",
    "# Total number of suicides on the most recent years\n",
    "suicide_2013_to_2017_df = suicide_df.groupby('Country')['suicide_rate'].mean().reset_index()\n",
    "suicide_2013_to_2017_df"
   ]
  },
  {
   "cell_type": "markdown",
   "id": "16c09744",
   "metadata": {},
   "source": [
    "Next we will refer back to the Happiness score we had before"
   ]
  },
  {
   "cell_type": "code",
   "execution_count": 29,
   "id": "82a40229",
   "metadata": {},
   "outputs": [
    {
     "data": {
      "text/html": [
       "<div>\n",
       "<style scoped>\n",
       "    .dataframe tbody tr th:only-of-type {\n",
       "        vertical-align: middle;\n",
       "    }\n",
       "\n",
       "    .dataframe tbody tr th {\n",
       "        vertical-align: top;\n",
       "    }\n",
       "\n",
       "    .dataframe thead th {\n",
       "        text-align: right;\n",
       "    }\n",
       "</style>\n",
       "<table border=\"1\" class=\"dataframe\">\n",
       "  <thead>\n",
       "    <tr style=\"text-align: right;\">\n",
       "      <th></th>\n",
       "      <th>Country</th>\n",
       "      <th>Happiness score</th>\n",
       "    </tr>\n",
       "  </thead>\n",
       "  <tbody>\n",
       "    <tr>\n",
       "      <th>0</th>\n",
       "      <td>Finland</td>\n",
       "      <td>7821.0</td>\n",
       "    </tr>\n",
       "    <tr>\n",
       "      <th>1</th>\n",
       "      <td>Denmark</td>\n",
       "      <td>7636.0</td>\n",
       "    </tr>\n",
       "    <tr>\n",
       "      <th>2</th>\n",
       "      <td>Iceland</td>\n",
       "      <td>7557.0</td>\n",
       "    </tr>\n",
       "    <tr>\n",
       "      <th>3</th>\n",
       "      <td>Switzerland</td>\n",
       "      <td>7512.0</td>\n",
       "    </tr>\n",
       "    <tr>\n",
       "      <th>4</th>\n",
       "      <td>Netherlands</td>\n",
       "      <td>7415.0</td>\n",
       "    </tr>\n",
       "    <tr>\n",
       "      <th>...</th>\n",
       "      <td>...</td>\n",
       "      <td>...</td>\n",
       "    </tr>\n",
       "    <tr>\n",
       "      <th>141</th>\n",
       "      <td>Botswana*</td>\n",
       "      <td>3471.0</td>\n",
       "    </tr>\n",
       "    <tr>\n",
       "      <th>142</th>\n",
       "      <td>Rwanda*</td>\n",
       "      <td>3268.0</td>\n",
       "    </tr>\n",
       "    <tr>\n",
       "      <th>143</th>\n",
       "      <td>Zimbabwe</td>\n",
       "      <td>2995.0</td>\n",
       "    </tr>\n",
       "    <tr>\n",
       "      <th>144</th>\n",
       "      <td>Lebanon</td>\n",
       "      <td>2955.0</td>\n",
       "    </tr>\n",
       "    <tr>\n",
       "      <th>145</th>\n",
       "      <td>Afghanistan</td>\n",
       "      <td>2404.0</td>\n",
       "    </tr>\n",
       "  </tbody>\n",
       "</table>\n",
       "<p>146 rows × 2 columns</p>\n",
       "</div>"
      ],
      "text/plain": [
       "         Country  Happiness score\n",
       "0        Finland           7821.0\n",
       "1        Denmark           7636.0\n",
       "2        Iceland           7557.0\n",
       "3    Switzerland           7512.0\n",
       "4    Netherlands           7415.0\n",
       "..           ...              ...\n",
       "141    Botswana*           3471.0\n",
       "142      Rwanda*           3268.0\n",
       "143     Zimbabwe           2995.0\n",
       "144      Lebanon           2955.0\n",
       "145  Afghanistan           2404.0\n",
       "\n",
       "[146 rows x 2 columns]"
      ]
     },
     "execution_count": 29,
     "metadata": {},
     "output_type": "execute_result"
    }
   ],
   "source": [
    "happiness_df"
   ]
  },
  {
   "cell_type": "markdown",
   "id": "8cc913b4",
   "metadata": {},
   "source": [
    "#### Merge all 3 tables by country"
   ]
  },
  {
   "cell_type": "markdown",
   "id": "94af6c39",
   "metadata": {},
   "source": [
    "We merged together the suicide, mental disorder, and happiness score dateframe."
   ]
  },
  {
   "cell_type": "code",
   "execution_count": 30,
   "id": "0af1e62b",
   "metadata": {},
   "outputs": [
    {
     "data": {
      "text/html": [
       "<div>\n",
       "<style scoped>\n",
       "    .dataframe tbody tr th:only-of-type {\n",
       "        vertical-align: middle;\n",
       "    }\n",
       "\n",
       "    .dataframe tbody tr th {\n",
       "        vertical-align: top;\n",
       "    }\n",
       "\n",
       "    .dataframe thead th {\n",
       "        text-align: right;\n",
       "    }\n",
       "</style>\n",
       "<table border=\"1\" class=\"dataframe\">\n",
       "  <thead>\n",
       "    <tr style=\"text-align: right;\">\n",
       "      <th></th>\n",
       "      <th>Country</th>\n",
       "      <th>Schizophrenia (%)</th>\n",
       "      <th>Bipolar disorder (%)</th>\n",
       "      <th>Eating disorders (%)</th>\n",
       "      <th>Anxiety disorders (%)</th>\n",
       "      <th>Drug use disorders (%)</th>\n",
       "      <th>Depression (%)</th>\n",
       "      <th>Alcohol use disorders (%)</th>\n",
       "      <th>suicide_rate</th>\n",
       "      <th>Happiness score</th>\n",
       "    </tr>\n",
       "  </thead>\n",
       "  <tbody>\n",
       "    <tr>\n",
       "      <th>0</th>\n",
       "      <td>Argentina</td>\n",
       "      <td>0.197961</td>\n",
       "      <td>0.772578</td>\n",
       "      <td>0.397766</td>\n",
       "      <td>6.278569</td>\n",
       "      <td>0.989317</td>\n",
       "      <td>3.657941</td>\n",
       "      <td>1.823537</td>\n",
       "      <td>9.080556</td>\n",
       "      <td>5967.0</td>\n",
       "    </tr>\n",
       "    <tr>\n",
       "      <th>1</th>\n",
       "      <td>Armenia</td>\n",
       "      <td>0.196526</td>\n",
       "      <td>0.716817</td>\n",
       "      <td>0.164855</td>\n",
       "      <td>2.590217</td>\n",
       "      <td>0.495973</td>\n",
       "      <td>2.740602</td>\n",
       "      <td>1.979112</td>\n",
       "      <td>3.509208</td>\n",
       "      <td>5399.0</td>\n",
       "    </tr>\n",
       "    <tr>\n",
       "      <th>2</th>\n",
       "      <td>Australia</td>\n",
       "      <td>0.364150</td>\n",
       "      <td>1.144993</td>\n",
       "      <td>0.942223</td>\n",
       "      <td>6.595998</td>\n",
       "      <td>2.181237</td>\n",
       "      <td>4.694260</td>\n",
       "      <td>1.509925</td>\n",
       "      <td>12.278611</td>\n",
       "      <td>7162.0</td>\n",
       "    </tr>\n",
       "    <tr>\n",
       "      <th>3</th>\n",
       "      <td>Austria</td>\n",
       "      <td>0.256640</td>\n",
       "      <td>0.939808</td>\n",
       "      <td>0.674277</td>\n",
       "      <td>5.345074</td>\n",
       "      <td>0.909465</td>\n",
       "      <td>3.265730</td>\n",
       "      <td>1.879006</td>\n",
       "      <td>17.425750</td>\n",
       "      <td>7163.0</td>\n",
       "    </tr>\n",
       "    <tr>\n",
       "      <th>4</th>\n",
       "      <td>Bahrain</td>\n",
       "      <td>0.206873</td>\n",
       "      <td>0.836296</td>\n",
       "      <td>0.269325</td>\n",
       "      <td>4.657096</td>\n",
       "      <td>1.710888</td>\n",
       "      <td>3.896715</td>\n",
       "      <td>0.731456</td>\n",
       "      <td>0.375417</td>\n",
       "      <td>6647.0</td>\n",
       "    </tr>\n",
       "    <tr>\n",
       "      <th>...</th>\n",
       "      <td>...</td>\n",
       "      <td>...</td>\n",
       "      <td>...</td>\n",
       "      <td>...</td>\n",
       "      <td>...</td>\n",
       "      <td>...</td>\n",
       "      <td>...</td>\n",
       "      <td>...</td>\n",
       "      <td>...</td>\n",
       "      <td>...</td>\n",
       "    </tr>\n",
       "    <tr>\n",
       "      <th>57</th>\n",
       "      <td>Ukraine</td>\n",
       "      <td>0.190860</td>\n",
       "      <td>0.687293</td>\n",
       "      <td>0.171669</td>\n",
       "      <td>2.941524</td>\n",
       "      <td>0.696986</td>\n",
       "      <td>4.091572</td>\n",
       "      <td>4.816161</td>\n",
       "      <td>20.634167</td>\n",
       "      <td>5084.0</td>\n",
       "    </tr>\n",
       "    <tr>\n",
       "      <th>58</th>\n",
       "      <td>United Kingdom</td>\n",
       "      <td>0.258671</td>\n",
       "      <td>1.086026</td>\n",
       "      <td>0.542953</td>\n",
       "      <td>4.656162</td>\n",
       "      <td>1.696709</td>\n",
       "      <td>4.123517</td>\n",
       "      <td>1.911172</td>\n",
       "      <td>7.099722</td>\n",
       "      <td>6943.0</td>\n",
       "    </tr>\n",
       "    <tr>\n",
       "      <th>59</th>\n",
       "      <td>United States</td>\n",
       "      <td>0.335195</td>\n",
       "      <td>0.651874</td>\n",
       "      <td>0.521523</td>\n",
       "      <td>6.651867</td>\n",
       "      <td>3.272024</td>\n",
       "      <td>4.799864</td>\n",
       "      <td>2.020849</td>\n",
       "      <td>14.261389</td>\n",
       "      <td>6977.0</td>\n",
       "    </tr>\n",
       "    <tr>\n",
       "      <th>60</th>\n",
       "      <td>Uruguay</td>\n",
       "      <td>0.198341</td>\n",
       "      <td>0.780724</td>\n",
       "      <td>0.392434</td>\n",
       "      <td>6.309361</td>\n",
       "      <td>0.933896</td>\n",
       "      <td>3.585823</td>\n",
       "      <td>1.181403</td>\n",
       "      <td>21.326389</td>\n",
       "      <td>6474.0</td>\n",
       "    </tr>\n",
       "    <tr>\n",
       "      <th>61</th>\n",
       "      <td>Uzbekistan</td>\n",
       "      <td>0.187263</td>\n",
       "      <td>0.668441</td>\n",
       "      <td>0.148843</td>\n",
       "      <td>2.556248</td>\n",
       "      <td>0.477325</td>\n",
       "      <td>2.884805</td>\n",
       "      <td>1.917761</td>\n",
       "      <td>6.832500</td>\n",
       "      <td>6063.0</td>\n",
       "    </tr>\n",
       "  </tbody>\n",
       "</table>\n",
       "<p>62 rows × 10 columns</p>\n",
       "</div>"
      ],
      "text/plain": [
       "           Country  Schizophrenia (%)  Bipolar disorder (%)  \\\n",
       "0        Argentina           0.197961              0.772578   \n",
       "1          Armenia           0.196526              0.716817   \n",
       "2        Australia           0.364150              1.144993   \n",
       "3          Austria           0.256640              0.939808   \n",
       "4          Bahrain           0.206873              0.836296   \n",
       "..             ...                ...                   ...   \n",
       "57         Ukraine           0.190860              0.687293   \n",
       "58  United Kingdom           0.258671              1.086026   \n",
       "59   United States           0.335195              0.651874   \n",
       "60         Uruguay           0.198341              0.780724   \n",
       "61      Uzbekistan           0.187263              0.668441   \n",
       "\n",
       "    Eating disorders (%)  Anxiety disorders (%)  Drug use disorders (%)  \\\n",
       "0               0.397766               6.278569                0.989317   \n",
       "1               0.164855               2.590217                0.495973   \n",
       "2               0.942223               6.595998                2.181237   \n",
       "3               0.674277               5.345074                0.909465   \n",
       "4               0.269325               4.657096                1.710888   \n",
       "..                   ...                    ...                     ...   \n",
       "57              0.171669               2.941524                0.696986   \n",
       "58              0.542953               4.656162                1.696709   \n",
       "59              0.521523               6.651867                3.272024   \n",
       "60              0.392434               6.309361                0.933896   \n",
       "61              0.148843               2.556248                0.477325   \n",
       "\n",
       "    Depression (%)  Alcohol use disorders (%)  suicide_rate  Happiness score  \n",
       "0         3.657941                   1.823537      9.080556           5967.0  \n",
       "1         2.740602                   1.979112      3.509208           5399.0  \n",
       "2         4.694260                   1.509925     12.278611           7162.0  \n",
       "3         3.265730                   1.879006     17.425750           7163.0  \n",
       "4         3.896715                   0.731456      0.375417           6647.0  \n",
       "..             ...                        ...           ...              ...  \n",
       "57        4.091572                   4.816161     20.634167           5084.0  \n",
       "58        4.123517                   1.911172      7.099722           6943.0  \n",
       "59        4.799864                   2.020849     14.261389           6977.0  \n",
       "60        3.585823                   1.181403     21.326389           6474.0  \n",
       "61        2.884805                   1.917761      6.832500           6063.0  \n",
       "\n",
       "[62 rows x 10 columns]"
      ]
     },
     "execution_count": 30,
     "metadata": {},
     "output_type": "execute_result"
    }
   ],
   "source": [
    "merged_1_2_df= pd.merge(averages_by_country, suicide_2013_to_2017_df, on='Country', how='inner')\n",
    "health_df = pd.merge(merged_1_2_df, happiness_df, on='Country', how='inner')\n",
    "health_df"
   ]
  },
  {
   "cell_type": "markdown",
   "id": "c79b5416",
   "metadata": {},
   "source": [
    "___\n",
    "## **Hypothesis 1**: Countries that are reported to have an overall higher rate of happiness will experience lower levels of suicide rates. \n",
    "\n",
    "### Data Analysis\n",
    "#### Description Analysis \n",
    "\n",
    "To begin looking into the hypothesis, we wanted to gauge a visual understanding of the relationship between the __suicide rate__ and __happiness__ across countries. We used a simple correlation matrix and heatmap to represent our findings. By specifically focusing on the correlation between happiness scores and suicide rates, this matrix provided an initial quantitative assessment of the strength and direction of their association. Its purpose was to reveal any inherent relationships between these key variables, offering an initial insight into whether a relationship, if present, was positive, negative, or negligible."
   ]
  },
  {
   "cell_type": "markdown",
   "id": "fc55e474",
   "metadata": {},
   "source": [
    "We took the correlation of the suicide rate and happiness score and created a correlation matrix off the results. We then inputted the results onto a heatmap to better display the results"
   ]
  },
  {
   "cell_type": "code",
   "execution_count": 31,
   "id": "1b688f47",
   "metadata": {},
   "outputs": [
    {
     "data": {
      "image/png": "[encoded data removed]",
      "text/plain": [
       "<Figure size 640x480 with 2 Axes>"
      ]
     },
     "metadata": {},
     "output_type": "display_data"
    }
   ],
   "source": [
    "correlation_matrix = health_df[['suicide_rate', 'Happiness score']].corr()\n",
    "\n",
    "sns.heatmap(correlation_matrix, annot=True, cmap='coolwarm')\n",
    "plt.title('Correlation Matrix: Suicide Rate vs Happiness Score')\n",
    "plt.show()"
   ]
  },
  {
   "cell_type": "markdown",
   "id": "4ce139d8",
   "metadata": {},
   "source": [
    "Secondly, I decided to include a geographical map to complement the quantitative analysis with a visual representation of the distribution of happiness scores and suicide rates across different countries. This graphical approach allowed for a spatial understanding, showcasing potential patterns or variations in these factors based on geographic location. We wanted to potentially indicate any geographical clustering or disparities among countries."
   ]
  },
  {
   "cell_type": "code",
   "execution_count": 68,
   "id": "550c3d13",
   "metadata": {},
   "outputs": [
    {
     "data": {
      "application/vnd.plotly.v1+json": {
       "config": {
        "plotlyServerURL": "https://plot.ly"
       },
       "data": [
        {
         "coloraxis": "coloraxis",
         "geo": "geo",
         "hovertemplate": "<b>%{hovertext}</b><br><br>Country=%{location}<br>suicide_rate=%{z}<extra></extra>",
         "hovertext": [
          "Argentina",
          "Armenia",
          "Australia",
          "Austria",
          "Bahrain",
          "Belgium",
          "Bosnia and Herzegovina",
          "Brazil",
          "Bulgaria",
          "Canada",
          "Chile",
          "Colombia",
          "Costa Rica",
          "Croatia",
          "Cyprus",
          "Denmark",
          "Ecuador",
          "El Salvador",
          "Estonia",
          "Finland",
          "France",
          "Georgia",
          "Germany",
          "Greece",
          "Hungary",
          "Iceland",
          "Ireland",
          "Israel",
          "Italy",
          "Japan",
          "Kazakhstan",
          "Kyrgyzstan",
          "Latvia",
          "Lithuania",
          "Malta",
          "Mauritius",
          "Mexico",
          "Mongolia",
          "Netherlands",
          "New Zealand",
          "Nicaragua",
          "Norway",
          "Panama",
          "Paraguay",
          "Poland",
          "Portugal",
          "Romania",
          "Serbia",
          "Singapore",
          "Slovakia",
          "Slovenia",
          "South Africa",
          "Spain",
          "Sweden",
          "Switzerland",
          "Thailand",
          "Turkey",
          "Ukraine",
          "United Kingdom",
          "United States",
          "Uruguay",
          "Uzbekistan"
         ],
         "locationmode": "country names",
         "locations": [
          "Argentina",
          "Armenia",
          "Australia",
          "Austria",
          "Bahrain",
          "Belgium",
          "Bosnia and Herzegovina",
          "Brazil",
          "Bulgaria",
          "Canada",
          "Chile",
          "Colombia",
          "Costa Rica",
          "Croatia",
          "Cyprus",
          "Denmark",
          "Ecuador",
          "El Salvador",
          "Estonia",
          "Finland",
          "France",
          "Georgia",
          "Germany",
          "Greece",
          "Hungary",
          "Iceland",
          "Ireland",
          "Israel",
          "Italy",
          "Japan",
          "Kazakhstan",
          "Kyrgyzstan",
          "Latvia",
          "Lithuania",
          "Malta",
          "Mauritius",
          "Mexico",
          "Mongolia",
          "Netherlands",
          "New Zealand",
          "Nicaragua",
          "Norway",
          "Panama",
          "Paraguay",
          "Poland",
          "Portugal",
          "Romania",
          "Serbia",
          "Singapore",
          "Slovakia",
          "Slovenia",
          "South Africa",
          "Spain",
          "Sweden",
          "Switzerland",
          "Thailand",
          "Turkey",
          "Ukraine",
          "United Kingdom",
          "United States",
          "Uruguay",
          "Uzbekistan"
         ],
         "name": "",
         "type": "choropleth",
         "z": [
          9.080555555555556,
          3.5092083333333335,
          12.278611111111111,
          17.42575,
          0.3754166666666667,
          16.668333333333333,
          9.125,
          6.221944444444444,
          11.41375,
          11.090833333333334,
          11.654722222222224,
          5.570833333333333,
          6.67125,
          19.131083333333336,
          4.7475,
          10.936111111111112,
          6.285833333333333,
          9.079166666666666,
          19.339166666666667,
          14.86611111111111,
          15.495416666666667,
          5.965,
          12.679444444444444,
          4.749722222222222,
          22.029541666666667,
          15.115291666666666,
          9.87875,
          5.871666666666666,
          6.817777777777778,
          18.20583333333333,
          21.993888888888886,
          8.88888888888889,
          20.624166666666667,
          34.69529166666667,
          6.599166666666666,
          9.005208333333332,
          5.553888888888888,
          18.439,
          10.973916666666668,
          12.045833333333334,
          6.173333333333333,
          10.851944444444444,
          4.171944444444445,
          6.1475,
          14.802222222222222,
          11.9425,
          11.295124999999999,
          17.79111111111111,
          10.526111111111112,
          11.530416666666667,
          21.894444444444446,
          1.1938888888888888,
          8.418055555555556,
          12.982458333333334,
          13.80611111111111,
          6.884458333333333,
          2.6311111111111107,
          20.634166666666665,
          7.099722222222223,
          14.26138888888889,
          21.32638888888889,
          6.8325
         ]
        }
       ],
       "layout": {
        "coloraxis": {
         "colorbar": {
          "title": {
           "text": "suicide_rate"
          }
         },
         "colorscale": [
          [
           0,
           "#0d0887"
          ],
          [
           0.1111111111111111,
           "#46039f"
          ],
          [
           0.2222222222222222,
           "#7201a8"
          ],
          [
           0.3333333333333333,
           "#9c179e"
          ],
          [
           0.4444444444444444,
           "#bd3786"
          ],
          [
           0.5555555555555556,
           "#d8576b"
          ],
          [
           0.6666666666666666,
           "#ed7953"
          ],
          [
           0.7777777777777778,
           "#fb9f3a"
          ],
          [
           0.8888888888888888,
           "#fdca26"
          ],
          [
           1,
           "#f0f921"
          ]
         ]
        },
        "geo": {
         "center": {},
         "domain": {
          "x": [
           0,
           1
          ],
          "y": [
           0,
           1
          ]
         },
         "projection": {
          "type": "natural earth"
         }
        },
        "legend": {
         "tracegroupgap": 0
        },
        "template": {
         "data": {
          "bar": [
           {
            "error_x": {
             "color": "#2a3f5f"
            },
            "error_y": {
             "color": "#2a3f5f"
            },
            "marker": {
             "line": {
              "color": "#E5ECF6",
              "width": 0.5
             },
             "pattern": {
              "fillmode": "overlay",
              "size": 10,
              "solidity": 0.2
             }
            },
            "type": "bar"
           }
          ],
          "barpolar": [
           {
            "marker": {
             "line": {
              "color": "#E5ECF6",
              "width": 0.5
             },
             "pattern": {
              "fillmode": "overlay",
              "size": 10,
              "solidity": 0.2
             }
            },
            "type": "barpolar"
           }
          ],
          "carpet": [
           {
            "aaxis": {
             "endlinecolor": "#2a3f5f",
             "gridcolor": "white",
             "linecolor": "white",
             "minorgridcolor": "white",
             "startlinecolor": "#2a3f5f"
            },
            "baxis": {
             "endlinecolor": "#2a3f5f",
             "gridcolor": "white",
             "linecolor": "white",
             "minorgridcolor": "white",
             "startlinecolor": "#2a3f5f"
            },
            "type": "carpet"
           }
          ],
          "choropleth": [
           {
            "colorbar": {
             "outlinewidth": 0,
             "ticks": ""
            },
            "type": "choropleth"
           }
          ],
          "contour": [
           {
            "colorbar": {
             "outlinewidth": 0,
             "ticks": ""
            },
            "colorscale": [
             [
              0,
              "#0d0887"
             ],
             [
              0.1111111111111111,
              "#46039f"
             ],
             [
              0.2222222222222222,
              "#7201a8"
             ],
             [
              0.3333333333333333,
              "#9c179e"
             ],
             [
              0.4444444444444444,
              "#bd3786"
             ],
             [
              0.5555555555555556,
              "#d8576b"
             ],
             [
              0.6666666666666666,
              "#ed7953"
             ],
             [
              0.7777777777777778,
              "#fb9f3a"
             ],
             [
              0.8888888888888888,
              "#fdca26"
             ],
             [
              1,
              "#f0f921"
             ]
            ],
            "type": "contour"
           }
          ],
          "contourcarpet": [
           {
            "colorbar": {
             "outlinewidth": 0,
             "ticks": ""
            },
            "type": "contourcarpet"
           }
          ],
          "heatmap": [
           {
            "colorbar": {
             "outlinewidth": 0,
             "ticks": ""
            },
            "colorscale": [
             [
              0,
              "#0d0887"
             ],
             [
              0.1111111111111111,
              "#46039f"
             ],
             [
              0.2222222222222222,
              "#7201a8"
             ],
             [
              0.3333333333333333,
              "#9c179e"
             ],
             [
              0.4444444444444444,
              "#bd3786"
             ],
             [
              0.5555555555555556,
              "#d8576b"
             ],
             [
              0.6666666666666666,
              "#ed7953"
             ],
             [
              0.7777777777777778,
              "#fb9f3a"
             ],
             [
              0.8888888888888888,
              "#fdca26"
             ],
             [
              1,
              "#f0f921"
             ]
            ],
            "type": "heatmap"
           }
          ],
          "heatmapgl": [
           {
            "colorbar": {
             "outlinewidth": 0,
             "ticks": ""
            },
            "colorscale": [
             [
              0,
              "#0d0887"
             ],
             [
              0.1111111111111111,
              "#46039f"
             ],
             [
              0.2222222222222222,
              "#7201a8"
             ],
             [
              0.3333333333333333,
              "#9c179e"
             ],
             [
              0.4444444444444444,
              "#bd3786"
             ],
             [
              0.5555555555555556,
              "#d8576b"
             ],
             [
              0.6666666666666666,
              "#ed7953"
             ],
             [
              0.7777777777777778,
              "#fb9f3a"
             ],
             [
              0.8888888888888888,
              "#fdca26"
             ],
             [
              1,
              "#f0f921"
             ]
            ],
            "type": "heatmapgl"
           }
          ],
          "histogram": [
           {
            "marker": {
             "pattern": {
              "fillmode": "overlay",
              "size": 10,
              "solidity": 0.2
             }
            },
            "type": "histogram"
           }
          ],
          "histogram2d": [
           {
            "colorbar": {
             "outlinewidth": 0,
             "ticks": ""
            },
            "colorscale": [
             [
              0,
              "#0d0887"
             ],
             [
              0.1111111111111111,
              "#46039f"
             ],
             [
              0.2222222222222222,
              "#7201a8"
             ],
             [
              0.3333333333333333,
              "#9c179e"
             ],
             [
              0.4444444444444444,
              "#bd3786"
             ],
             [
              0.5555555555555556,
              "#d8576b"
             ],
             [
              0.6666666666666666,
              "#ed7953"
             ],
             [
              0.7777777777777778,
              "#fb9f3a"
             ],
             [
              0.8888888888888888,
              "#fdca26"
             ],
             [
              1,
              "#f0f921"
             ]
            ],
            "type": "histogram2d"
           }
          ],
          "histogram2dcontour": [
           {
            "colorbar": {
             "outlinewidth": 0,
             "ticks": ""
            },
            "colorscale": [
             [
              0,
              "#0d0887"
             ],
             [
              0.1111111111111111,
              "#46039f"
             ],
             [
              0.2222222222222222,
              "#7201a8"
             ],
             [
              0.3333333333333333,
              "#9c179e"
             ],
             [
              0.4444444444444444,
              "#bd3786"
             ],
             [
              0.5555555555555556,
              "#d8576b"
             ],
             [
              0.6666666666666666,
              "#ed7953"
             ],
             [
              0.7777777777777778,
              "#fb9f3a"
             ],
             [
              0.8888888888888888,
              "#fdca26"
             ],
             [
              1,
              "#f0f921"
             ]
            ],
            "type": "histogram2dcontour"
           }
          ],
          "mesh3d": [
           {
            "colorbar": {
             "outlinewidth": 0,
             "ticks": ""
            },
            "type": "mesh3d"
           }
          ],
          "parcoords": [
           {
            "line": {
             "colorbar": {
              "outlinewidth": 0,
              "ticks": ""
             }
            },
            "type": "parcoords"
           }
          ],
          "pie": [
           {
            "automargin": true,
            "type": "pie"
           }
          ],
          "scatter": [
           {
            "fillpattern": {
             "fillmode": "overlay",
             "size": 10,
             "solidity": 0.2
            },
            "type": "scatter"
           }
          ],
          "scatter3d": [
           {
            "line": {
             "colorbar": {
              "outlinewidth": 0,
              "ticks": ""
             }
            },
            "marker": {
             "colorbar": {
              "outlinewidth": 0,
              "ticks": ""
             }
            },
            "type": "scatter3d"
           }
          ],
          "scattercarpet": [
           {
            "marker": {
             "colorbar": {
              "outlinewidth": 0,
              "ticks": ""
             }
            },
            "type": "scattercarpet"
           }
          ],
          "scattergeo": [
           {
            "marker": {
             "colorbar": {
              "outlinewidth": 0,
              "ticks": ""
             }
            },
            "type": "scattergeo"
           }
          ],
          "scattergl": [
           {
            "marker": {
             "colorbar": {
              "outlinewidth": 0,
              "ticks": ""
             }
            },
            "type": "scattergl"
           }
          ],
          "scattermapbox": [
           {
            "marker": {
             "colorbar": {
              "outlinewidth": 0,
              "ticks": ""
             }
            },
            "type": "scattermapbox"
           }
          ],
          "scatterpolar": [
           {
            "marker": {
             "colorbar": {
              "outlinewidth": 0,
              "ticks": ""
             }
            },
            "type": "scatterpolar"
           }
          ],
          "scatterpolargl": [
           {
            "marker": {
             "colorbar": {
              "outlinewidth": 0,
              "ticks": ""
             }
            },
            "type": "scatterpolargl"
           }
          ],
          "scatterternary": [
           {
            "marker": {
             "colorbar": {
              "outlinewidth": 0,
              "ticks": ""
             }
            },
            "type": "scatterternary"
           }
          ],
          "surface": [
           {
            "colorbar": {
             "outlinewidth": 0,
             "ticks": ""
            },
            "colorscale": [
             [
              0,
              "#0d0887"
             ],
             [
              0.1111111111111111,
              "#46039f"
             ],
             [
              0.2222222222222222,
              "#7201a8"
             ],
             [
              0.3333333333333333,
              "#9c179e"
             ],
             [
              0.4444444444444444,
              "#bd3786"
             ],
             [
              0.5555555555555556,
              "#d8576b"
             ],
             [
              0.6666666666666666,
              "#ed7953"
             ],
             [
              0.7777777777777778,
              "#fb9f3a"
             ],
             [
              0.8888888888888888,
              "#fdca26"
             ],
             [
              1,
              "#f0f921"
             ]
            ],
            "type": "surface"
           }
          ],
          "table": [
           {
            "cells": {
             "fill": {
              "color": "#EBF0F8"
             },
             "line": {
              "color": "white"
             }
            },
            "header": {
             "fill": {
              "color": "#C8D4E3"
             },
             "line": {
              "color": "white"
             }
            },
            "type": "table"
           }
          ]
         },
         "layout": {
          "annotationdefaults": {
           "arrowcolor": "#2a3f5f",
           "arrowhead": 0,
           "arrowwidth": 1
          },
          "autotypenumbers": "strict",
          "coloraxis": {
           "colorbar": {
            "outlinewidth": 0,
            "ticks": ""
           }
          },
          "colorscale": {
           "diverging": [
            [
             0,
             "#8e0152"
            ],
            [
             0.1,
             "#c51b7d"
            ],
            [
             0.2,
             "#de77ae"
            ],
            [
             0.3,
             "#f1b6da"
            ],
            [
             0.4,
             "#fde0ef"
            ],
            [
             0.5,
             "#f7f7f7"
            ],
            [
             0.6,
             "#e6f5d0"
            ],
            [
             0.7,
             "#b8e186"
            ],
            [
             0.8,
             "#7fbc41"
            ],
            [
             0.9,
             "#4d9221"
            ],
            [
             1,
             "#276419"
            ]
           ],
           "sequential": [
            [
             0,
             "#0d0887"
            ],
            [
             0.1111111111111111,
             "#46039f"
            ],
            [
             0.2222222222222222,
             "#7201a8"
            ],
            [
             0.3333333333333333,
             "#9c179e"
            ],
            [
             0.4444444444444444,
             "#bd3786"
            ],
            [
             0.5555555555555556,
             "#d8576b"
            ],
            [
             0.6666666666666666,
             "#ed7953"
            ],
            [
             0.7777777777777778,
             "#fb9f3a"
            ],
            [
             0.8888888888888888,
             "#fdca26"
            ],
            [
             1,
             "#f0f921"
            ]
           ],
           "sequentialminus": [
            [
             0,
             "#0d0887"
            ],
            [
             0.1111111111111111,
             "#46039f"
            ],
            [
             0.2222222222222222,
             "#7201a8"
            ],
            [
             0.3333333333333333,
             "#9c179e"
            ],
            [
             0.4444444444444444,
             "#bd3786"
            ],
            [
             0.5555555555555556,
             "#d8576b"
            ],
            [
             0.6666666666666666,
             "#ed7953"
            ],
            [
             0.7777777777777778,
             "#fb9f3a"
            ],
            [
             0.8888888888888888,
             "#fdca26"
            ],
            [
             1,
             "#f0f921"
            ]
           ]
          },
          "colorway": [
           "#636efa",
           "#EF553B",
           "#00cc96",
           "#ab63fa",
           "#FFA15A",
           "#19d3f3",
           "#FF6692",
           "#B6E880",
           "#FF97FF",
           "#FECB52"
          ],
          "font": {
           "color": "#2a3f5f"
          },
          "geo": {
           "bgcolor": "white",
           "lakecolor": "white",
           "landcolor": "#E5ECF6",
           "showlakes": true,
           "showland": true,
           "subunitcolor": "white"
          },
          "hoverlabel": {
           "align": "left"
          },
          "hovermode": "closest",
          "mapbox": {
           "style": "light"
          },
          "paper_bgcolor": "white",
          "plot_bgcolor": "#E5ECF6",
          "polar": {
           "angularaxis": {
            "gridcolor": "white",
            "linecolor": "white",
            "ticks": ""
           },
           "bgcolor": "#E5ECF6",
           "radialaxis": {
            "gridcolor": "white",
            "linecolor": "white",
            "ticks": ""
           }
          },
          "scene": {
           "xaxis": {
            "backgroundcolor": "#E5ECF6",
            "gridcolor": "white",
            "gridwidth": 2,
            "linecolor": "white",
            "showbackground": true,
            "ticks": "",
            "zerolinecolor": "white"
           },
           "yaxis": {
            "backgroundcolor": "#E5ECF6",
            "gridcolor": "white",
            "gridwidth": 2,
            "linecolor": "white",
            "showbackground": true,
            "ticks": "",
            "zerolinecolor": "white"
           },
           "zaxis": {
            "backgroundcolor": "#E5ECF6",
            "gridcolor": "white",
            "gridwidth": 2,
            "linecolor": "white",
            "showbackground": true,
            "ticks": "",
            "zerolinecolor": "white"
           }
          },
          "shapedefaults": {
           "line": {
            "color": "#2a3f5f"
           }
          },
          "ternary": {
           "aaxis": {
            "gridcolor": "white",
            "linecolor": "white",
            "ticks": ""
           },
           "baxis": {
            "gridcolor": "white",
            "linecolor": "white",
            "ticks": ""
           },
           "bgcolor": "#E5ECF6",
           "caxis": {
            "gridcolor": "white",
            "linecolor": "white",
            "ticks": ""
           }
          },
          "title": {
           "x": 0.05
          },
          "xaxis": {
           "automargin": true,
           "gridcolor": "white",
           "linecolor": "white",
           "ticks": "",
           "title": {
            "standoff": 15
           },
           "zerolinecolor": "white",
           "zerolinewidth": 2
          },
          "yaxis": {
           "automargin": true,
           "gridcolor": "white",
           "linecolor": "white",
           "ticks": "",
           "title": {
            "standoff": 15
           },
           "zerolinecolor": "white",
           "zerolinewidth": 2
          }
         }
        },
        "title": {
         "text": "Suicide Rate by Country"
        }
       }
      },
      "text/html": [
       "<div>                            <div id=\"d877f6ed-9b63-4509-8b14-c059adf48850\" class=\"plotly-graph-div\" style=\"height:525px; width:100%;\"></div>            <script type=\"text/javascript\">                require([\"plotly\"], function(Plotly) {                    window.PLOTLYENV=window.PLOTLYENV || {};                                    if (document.getElementById(\"d877f6ed-9b63-4509-8b14-c059adf48850\")) {                    Plotly.newPlot(                        \"d877f6ed-9b63-4509-8b14-c059adf48850\",                        [{\"coloraxis\":\"coloraxis\",\"geo\":\"geo\",\"hovertemplate\":\"<b>%{hovertext}</b><br><br>Country=%{location}<br>suicide_rate=%{z}<extra></extra>\",\"hovertext\":[\"Argentina\",\"Armenia\",\"Australia\",\"Austria\",\"Bahrain\",\"Belgium\",\"Bosnia and Herzegovina\",\"Brazil\",\"Bulgaria\",\"Canada\",\"Chile\",\"Colombia\",\"Costa Rica\",\"Croatia\",\"Cyprus\",\"Denmark\",\"Ecuador\",\"El Salvador\",\"Estonia\",\"Finland\",\"France\",\"Georgia\",\"Germany\",\"Greece\",\"Hungary\",\"Iceland\",\"Ireland\",\"Israel\",\"Italy\",\"Japan\",\"Kazakhstan\",\"Kyrgyzstan\",\"Latvia\",\"Lithuania\",\"Malta\",\"Mauritius\",\"Mexico\",\"Mongolia\",\"Netherlands\",\"New Zealand\",\"Nicaragua\",\"Norway\",\"Panama\",\"Paraguay\",\"Poland\",\"Portugal\",\"Romania\",\"Serbia\",\"Singapore\",\"Slovakia\",\"Slovenia\",\"South Africa\",\"Spain\",\"Sweden\",\"Switzerland\",\"Thailand\",\"Turkey\",\"Ukraine\",\"United Kingdom\",\"United States\",\"Uruguay\",\"Uzbekistan\"],\"locationmode\":\"country names\",\"locations\":[\"Argentina\",\"Armenia\",\"Australia\",\"Austria\",\"Bahrain\",\"Belgium\",\"Bosnia and Herzegovina\",\"Brazil\",\"Bulgaria\",\"Canada\",\"Chile\",\"Colombia\",\"Costa Rica\",\"Croatia\",\"Cyprus\",\"Denmark\",\"Ecuador\",\"El Salvador\",\"Estonia\",\"Finland\",\"France\",\"Georgia\",\"Germany\",\"Greece\",\"Hungary\",\"Iceland\",\"Ireland\",\"Israel\",\"Italy\",\"Japan\",\"Kazakhstan\",\"Kyrgyzstan\",\"Latvia\",\"Lithuania\",\"Malta\",\"Mauritius\",\"Mexico\",\"Mongolia\",\"Netherlands\",\"New Zealand\",\"Nicaragua\",\"Norway\",\"Panama\",\"Paraguay\",\"Poland\",\"Portugal\",\"Romania\",\"Serbia\",\"Singapore\",\"Slovakia\",\"Slovenia\",\"South Africa\",\"Spain\",\"Sweden\",\"Switzerland\",\"Thailand\",\"Turkey\",\"Ukraine\",\"United Kingdom\",\"United States\",\"Uruguay\",\"Uzbekistan\"],\"name\":\"\",\"z\":[9.080555555555556,3.5092083333333335,12.278611111111111,17.42575,0.3754166666666667,16.668333333333333,9.125,6.221944444444444,11.41375,11.090833333333334,11.654722222222224,5.570833333333333,6.67125,19.131083333333336,4.7475,10.936111111111112,6.285833333333333,9.079166666666666,19.339166666666667,14.86611111111111,15.495416666666667,5.965,12.679444444444444,4.749722222222222,22.029541666666667,15.115291666666666,9.87875,5.871666666666666,6.817777777777778,18.20583333333333,21.993888888888886,8.88888888888889,20.624166666666667,34.69529166666667,6.599166666666666,9.005208333333332,5.553888888888888,18.439,10.973916666666668,12.045833333333334,6.173333333333333,10.851944444444444,4.171944444444445,6.1475,14.802222222222222,11.9425,11.295124999999999,17.79111111111111,10.526111111111112,11.530416666666667,21.894444444444446,1.1938888888888888,8.418055555555556,12.982458333333334,13.80611111111111,6.884458333333333,2.6311111111111107,20.634166666666665,7.099722222222223,14.26138888888889,21.32638888888889,6.8325],\"type\":\"choropleth\"}],                        {\"template\":{\"data\":{\"histogram2dcontour\":[{\"type\":\"histogram2dcontour\",\"colorbar\":{\"outlinewidth\":0,\"ticks\":\"\"},\"colorscale\":[[0.0,\"#0d0887\"],[0.1111111111111111,\"#46039f\"],[0.2222222222222222,\"#7201a8\"],[0.3333333333333333,\"#9c179e\"],[0.4444444444444444,\"#bd3786\"],[0.5555555555555556,\"#d8576b\"],[0.6666666666666666,\"#ed7953\"],[0.7777777777777778,\"#fb9f3a\"],[0.8888888888888888,\"#fdca26\"],[1.0,\"#f0f921\"]]}],\"choropleth\":[{\"type\":\"choropleth\",\"colorbar\":{\"outlinewidth\":0,\"ticks\":\"\"}}],\"histogram2d\":[{\"type\":\"histogram2d\",\"colorbar\":{\"outlinewidth\":0,\"ticks\":\"\"},\"colorscale\":[[0.0,\"#0d0887\"],[0.1111111111111111,\"#46039f\"],[0.2222222222222222,\"#7201a8\"],[0.3333333333333333,\"#9c179e\"],[0.4444444444444444,\"#bd3786\"],[0.5555555555555556,\"#d8576b\"],[0.6666666666666666,\"#ed7953\"],[0.7777777777777778,\"#fb9f3a\"],[0.8888888888888888,\"#fdca26\"],[1.0,\"#f0f921\"]]}],\"heatmap\":[{\"type\":\"heatmap\",\"colorbar\":{\"outlinewidth\":0,\"ticks\":\"\"},\"colorscale\":[[0.0,\"#0d0887\"],[0.1111111111111111,\"#46039f\"],[0.2222222222222222,\"#7201a8\"],[0.3333333333333333,\"#9c179e\"],[0.4444444444444444,\"#bd3786\"],[0.5555555555555556,\"#d8576b\"],[0.6666666666666666,\"#ed7953\"],[0.7777777777777778,\"#fb9f3a\"],[0.8888888888888888,\"#fdca26\"],[1.0,\"#f0f921\"]]}],\"heatmapgl\":[{\"type\":\"heatmapgl\",\"colorbar\":{\"outlinewidth\":0,\"ticks\":\"\"},\"colorscale\":[[0.0,\"#0d0887\"],[0.1111111111111111,\"#46039f\"],[0.2222222222222222,\"#7201a8\"],[0.3333333333333333,\"#9c179e\"],[0.4444444444444444,\"#bd3786\"],[0.5555555555555556,\"#d8576b\"],[0.6666666666666666,\"#ed7953\"],[0.7777777777777778,\"#fb9f3a\"],[0.8888888888888888,\"#fdca26\"],[1.0,\"#f0f921\"]]}],\"contourcarpet\":[{\"type\":\"contourcarpet\",\"colorbar\":{\"outlinewidth\":0,\"ticks\":\"\"}}],\"contour\":[{\"type\":\"contour\",\"colorbar\":{\"outlinewidth\":0,\"ticks\":\"\"},\"colorscale\":[[0.0,\"#0d0887\"],[0.1111111111111111,\"#46039f\"],[0.2222222222222222,\"#7201a8\"],[0.3333333333333333,\"#9c179e\"],[0.4444444444444444,\"#bd3786\"],[0.5555555555555556,\"#d8576b\"],[0.6666666666666666,\"#ed7953\"],[0.7777777777777778,\"#fb9f3a\"],[0.8888888888888888,\"#fdca26\"],[1.0,\"#f0f921\"]]}],\"surface\":[{\"type\":\"surface\",\"colorbar\":{\"outlinewidth\":0,\"ticks\":\"\"},\"colorscale\":[[0.0,\"#0d0887\"],[0.1111111111111111,\"#46039f\"],[0.2222222222222222,\"#7201a8\"],[0.3333333333333333,\"#9c179e\"],[0.4444444444444444,\"#bd3786\"],[0.5555555555555556,\"#d8576b\"],[0.6666666666666666,\"#ed7953\"],[0.7777777777777778,\"#fb9f3a\"],[0.8888888888888888,\"#fdca26\"],[1.0,\"#f0f921\"]]}],\"mesh3d\":[{\"type\":\"mesh3d\",\"colorbar\":{\"outlinewidth\":0,\"ticks\":\"\"}}],\"scatter\":[{\"fillpattern\":{\"fillmode\":\"overlay\",\"size\":10,\"solidity\":0.2},\"type\":\"scatter\"}],\"parcoords\":[{\"type\":\"parcoords\",\"line\":{\"colorbar\":{\"outlinewidth\":0,\"ticks\":\"\"}}}],\"scatterpolargl\":[{\"type\":\"scatterpolargl\",\"marker\":{\"colorbar\":{\"outlinewidth\":0,\"ticks\":\"\"}}}],\"bar\":[{\"error_x\":{\"color\":\"#2a3f5f\"},\"error_y\":{\"color\":\"#2a3f5f\"},\"marker\":{\"line\":{\"color\":\"#E5ECF6\",\"width\":0.5},\"pattern\":{\"fillmode\":\"overlay\",\"size\":10,\"solidity\":0.2}},\"type\":\"bar\"}],\"scattergeo\":[{\"type\":\"scattergeo\",\"marker\":{\"colorbar\":{\"outlinewidth\":0,\"ticks\":\"\"}}}],\"scatterpolar\":[{\"type\":\"scatterpolar\",\"marker\":{\"colorbar\":{\"outlinewidth\":0,\"ticks\":\"\"}}}],\"histogram\":[{\"marker\":{\"pattern\":{\"fillmode\":\"overlay\",\"size\":10,\"solidity\":0.2}},\"type\":\"histogram\"}],\"scattergl\":[{\"type\":\"scattergl\",\"marker\":{\"colorbar\":{\"outlinewidth\":0,\"ticks\":\"\"}}}],\"scatter3d\":[{\"type\":\"scatter3d\",\"line\":{\"colorbar\":{\"outlinewidth\":0,\"ticks\":\"\"}},\"marker\":{\"colorbar\":{\"outlinewidth\":0,\"ticks\":\"\"}}}],\"scattermapbox\":[{\"type\":\"scattermapbox\",\"marker\":{\"colorbar\":{\"outlinewidth\":0,\"ticks\":\"\"}}}],\"scatterternary\":[{\"type\":\"scatterternary\",\"marker\":{\"colorbar\":{\"outlinewidth\":0,\"ticks\":\"\"}}}],\"scattercarpet\":[{\"type\":\"scattercarpet\",\"marker\":{\"colorbar\":{\"outlinewidth\":0,\"ticks\":\"\"}}}],\"carpet\":[{\"aaxis\":{\"endlinecolor\":\"#2a3f5f\",\"gridcolor\":\"white\",\"linecolor\":\"white\",\"minorgridcolor\":\"white\",\"startlinecolor\":\"#2a3f5f\"},\"baxis\":{\"endlinecolor\":\"#2a3f5f\",\"gridcolor\":\"white\",\"linecolor\":\"white\",\"minorgridcolor\":\"white\",\"startlinecolor\":\"#2a3f5f\"},\"type\":\"carpet\"}],\"table\":[{\"cells\":{\"fill\":{\"color\":\"#EBF0F8\"},\"line\":{\"color\":\"white\"}},\"header\":{\"fill\":{\"color\":\"#C8D4E3\"},\"line\":{\"color\":\"white\"}},\"type\":\"table\"}],\"barpolar\":[{\"marker\":{\"line\":{\"color\":\"#E5ECF6\",\"width\":0.5},\"pattern\":{\"fillmode\":\"overlay\",\"size\":10,\"solidity\":0.2}},\"type\":\"barpolar\"}],\"pie\":[{\"automargin\":true,\"type\":\"pie\"}]},\"layout\":{\"autotypenumbers\":\"strict\",\"colorway\":[\"#636efa\",\"#EF553B\",\"#00cc96\",\"#ab63fa\",\"#FFA15A\",\"#19d3f3\",\"#FF6692\",\"#B6E880\",\"#FF97FF\",\"#FECB52\"],\"font\":{\"color\":\"#2a3f5f\"},\"hovermode\":\"closest\",\"hoverlabel\":{\"align\":\"left\"},\"paper_bgcolor\":\"white\",\"plot_bgcolor\":\"#E5ECF6\",\"polar\":{\"bgcolor\":\"#E5ECF6\",\"angularaxis\":{\"gridcolor\":\"white\",\"linecolor\":\"white\",\"ticks\":\"\"},\"radialaxis\":{\"gridcolor\":\"white\",\"linecolor\":\"white\",\"ticks\":\"\"}},\"ternary\":{\"bgcolor\":\"#E5ECF6\",\"aaxis\":{\"gridcolor\":\"white\",\"linecolor\":\"white\",\"ticks\":\"\"},\"baxis\":{\"gridcolor\":\"white\",\"linecolor\":\"white\",\"ticks\":\"\"},\"caxis\":{\"gridcolor\":\"white\",\"linecolor\":\"white\",\"ticks\":\"\"}},\"coloraxis\":{\"colorbar\":{\"outlinewidth\":0,\"ticks\":\"\"}},\"colorscale\":{\"sequential\":[[0.0,\"#0d0887\"],[0.1111111111111111,\"#46039f\"],[0.2222222222222222,\"#7201a8\"],[0.3333333333333333,\"#9c179e\"],[0.4444444444444444,\"#bd3786\"],[0.5555555555555556,\"#d8576b\"],[0.6666666666666666,\"#ed7953\"],[0.7777777777777778,\"#fb9f3a\"],[0.8888888888888888,\"#fdca26\"],[1.0,\"#f0f921\"]],\"sequentialminus\":[[0.0,\"#0d0887\"],[0.1111111111111111,\"#46039f\"],[0.2222222222222222,\"#7201a8\"],[0.3333333333333333,\"#9c179e\"],[0.4444444444444444,\"#bd3786\"],[0.5555555555555556,\"#d8576b\"],[0.6666666666666666,\"#ed7953\"],[0.7777777777777778,\"#fb9f3a\"],[0.8888888888888888,\"#fdca26\"],[1.0,\"#f0f921\"]],\"diverging\":[[0,\"#8e0152\"],[0.1,\"#c51b7d\"],[0.2,\"#de77ae\"],[0.3,\"#f1b6da\"],[0.4,\"#fde0ef\"],[0.5,\"#f7f7f7\"],[0.6,\"#e6f5d0\"],[0.7,\"#b8e186\"],[0.8,\"#7fbc41\"],[0.9,\"#4d9221\"],[1,\"#276419\"]]},\"xaxis\":{\"gridcolor\":\"white\",\"linecolor\":\"white\",\"ticks\":\"\",\"title\":{\"standoff\":15},\"zerolinecolor\":\"white\",\"automargin\":true,\"zerolinewidth\":2},\"yaxis\":{\"gridcolor\":\"white\",\"linecolor\":\"white\",\"ticks\":\"\",\"title\":{\"standoff\":15},\"zerolinecolor\":\"white\",\"automargin\":true,\"zerolinewidth\":2},\"scene\":{\"xaxis\":{\"backgroundcolor\":\"#E5ECF6\",\"gridcolor\":\"white\",\"linecolor\":\"white\",\"showbackground\":true,\"ticks\":\"\",\"zerolinecolor\":\"white\",\"gridwidth\":2},\"yaxis\":{\"backgroundcolor\":\"#E5ECF6\",\"gridcolor\":\"white\",\"linecolor\":\"white\",\"showbackground\":true,\"ticks\":\"\",\"zerolinecolor\":\"white\",\"gridwidth\":2},\"zaxis\":{\"backgroundcolor\":\"#E5ECF6\",\"gridcolor\":\"white\",\"linecolor\":\"white\",\"showbackground\":true,\"ticks\":\"\",\"zerolinecolor\":\"white\",\"gridwidth\":2}},\"shapedefaults\":{\"line\":{\"color\":\"#2a3f5f\"}},\"annotationdefaults\":{\"arrowcolor\":\"#2a3f5f\",\"arrowhead\":0,\"arrowwidth\":1},\"geo\":{\"bgcolor\":\"white\",\"landcolor\":\"#E5ECF6\",\"subunitcolor\":\"white\",\"showland\":true,\"showlakes\":true,\"lakecolor\":\"white\"},\"title\":{\"x\":0.05},\"mapbox\":{\"style\":\"light\"}}},\"geo\":{\"domain\":{\"x\":[0.0,1.0],\"y\":[0.0,1.0]},\"projection\":{\"type\":\"natural earth\"},\"center\":{}},\"coloraxis\":{\"colorbar\":{\"title\":{\"text\":\"suicide_rate\"}},\"colorscale\":[[0.0,\"#0d0887\"],[0.1111111111111111,\"#46039f\"],[0.2222222222222222,\"#7201a8\"],[0.3333333333333333,\"#9c179e\"],[0.4444444444444444,\"#bd3786\"],[0.5555555555555556,\"#d8576b\"],[0.6666666666666666,\"#ed7953\"],[0.7777777777777778,\"#fb9f3a\"],[0.8888888888888888,\"#fdca26\"],[1.0,\"#f0f921\"]]},\"legend\":{\"tracegroupgap\":0},\"title\":{\"text\":\"Suicide Rate by Country\"}},                        {\"responsive\": true}                    ).then(function(){\n",
       "                            \n",
       "var gd = document.getElementById('d877f6ed-9b63-4509-8b14-c059adf48850');\n",
       "var x = new MutationObserver(function (mutations, observer) {{\n",
       "        var display = window.getComputedStyle(gd).display;\n",
       "        if (!display || display === 'none') {{\n",
       "            console.log([gd, 'removed!']);\n",
       "            Plotly.purge(gd);\n",
       "            observer.disconnect();\n",
       "        }}\n",
       "}});\n",
       "\n",
       "// Listen for the removal of the full notebook cells\n",
       "var notebookContainer = gd.closest('#notebook-container');\n",
       "if (notebookContainer) {{\n",
       "    x.observe(notebookContainer, {childList: true});\n",
       "}}\n",
       "\n",
       "// Listen for the clearing of the current output cell\n",
       "var outputEl = gd.closest('.output');\n",
       "if (outputEl) {{\n",
       "    x.observe(outputEl, {childList: true});\n",
       "}}\n",
       "\n",
       "                        })                };                });            </script>        </div>"
      ]
     },
     "metadata": {},
     "output_type": "display_data"
    },
    {
     "data": {
      "application/vnd.plotly.v1+json": {
       "config": {
        "plotlyServerURL": "https://plot.ly"
       },
       "data": [
        {
         "coloraxis": "coloraxis",
         "geo": "geo",
         "hovertemplate": "<b>%{hovertext}</b><br><br>Country=%{location}<br>Happiness score=%{z}<extra></extra>",
         "hovertext": [
          "Argentina",
          "Armenia",
          "Australia",
          "Austria",
          "Bahrain",
          "Belgium",
          "Bosnia and Herzegovina",
          "Brazil",
          "Bulgaria",
          "Canada",
          "Chile",
          "Colombia",
          "Costa Rica",
          "Croatia",
          "Cyprus",
          "Denmark",
          "Ecuador",
          "El Salvador",
          "Estonia",
          "Finland",
          "France",
          "Georgia",
          "Germany",
          "Greece",
          "Hungary",
          "Iceland",
          "Ireland",
          "Israel",
          "Italy",
          "Japan",
          "Kazakhstan",
          "Kyrgyzstan",
          "Latvia",
          "Lithuania",
          "Malta",
          "Mauritius",
          "Mexico",
          "Mongolia",
          "Netherlands",
          "New Zealand",
          "Nicaragua",
          "Norway",
          "Panama",
          "Paraguay",
          "Poland",
          "Portugal",
          "Romania",
          "Serbia",
          "Singapore",
          "Slovakia",
          "Slovenia",
          "South Africa",
          "Spain",
          "Sweden",
          "Switzerland",
          "Thailand",
          "Turkey",
          "Ukraine",
          "United Kingdom",
          "United States",
          "Uruguay",
          "Uzbekistan"
         ],
         "locationmode": "country names",
         "locations": [
          "Argentina",
          "Armenia",
          "Australia",
          "Austria",
          "Bahrain",
          "Belgium",
          "Bosnia and Herzegovina",
          "Brazil",
          "Bulgaria",
          "Canada",
          "Chile",
          "Colombia",
          "Costa Rica",
          "Croatia",
          "Cyprus",
          "Denmark",
          "Ecuador",
          "El Salvador",
          "Estonia",
          "Finland",
          "France",
          "Georgia",
          "Germany",
          "Greece",
          "Hungary",
          "Iceland",
          "Ireland",
          "Israel",
          "Italy",
          "Japan",
          "Kazakhstan",
          "Kyrgyzstan",
          "Latvia",
          "Lithuania",
          "Malta",
          "Mauritius",
          "Mexico",
          "Mongolia",
          "Netherlands",
          "New Zealand",
          "Nicaragua",
          "Norway",
          "Panama",
          "Paraguay",
          "Poland",
          "Portugal",
          "Romania",
          "Serbia",
          "Singapore",
          "Slovakia",
          "Slovenia",
          "South Africa",
          "Spain",
          "Sweden",
          "Switzerland",
          "Thailand",
          "Turkey",
          "Ukraine",
          "United Kingdom",
          "United States",
          "Uruguay",
          "Uzbekistan"
         ],
         "name": "",
         "type": "choropleth",
         "z": [
          5967,
          5399,
          7162,
          7163,
          6647,
          6805,
          5768,
          6293,
          5371,
          7025,
          6172,
          5781,
          6582,
          6125,
          6221,
          7636,
          5533,
          6120,
          6341,
          7821,
          6687,
          4973,
          7034,
          5948,
          6086,
          7557,
          7041,
          7364,
          6467,
          6039,
          6234,
          5828,
          6180,
          6446,
          6447,
          6071,
          6128,
          5761,
          7415,
          7200,
          6165,
          7365,
          6309,
          5578,
          6123,
          6016,
          6477,
          6178,
          6480,
          6391,
          6630,
          5194,
          6476,
          7384,
          7512,
          5891,
          4744,
          5084,
          6943,
          6977,
          6474,
          6063
         ]
        }
       ],
       "layout": {
        "coloraxis": {
         "colorbar": {
          "title": {
           "text": "Happiness score"
          }
         },
         "colorscale": [
          [
           0,
           "#0d0887"
          ],
          [
           0.1111111111111111,
           "#46039f"
          ],
          [
           0.2222222222222222,
           "#7201a8"
          ],
          [
           0.3333333333333333,
           "#9c179e"
          ],
          [
           0.4444444444444444,
           "#bd3786"
          ],
          [
           0.5555555555555556,
           "#d8576b"
          ],
          [
           0.6666666666666666,
           "#ed7953"
          ],
          [
           0.7777777777777778,
           "#fb9f3a"
          ],
          [
           0.8888888888888888,
           "#fdca26"
          ],
          [
           1,
           "#f0f921"
          ]
         ]
        },
        "geo": {
         "center": {},
         "domain": {
          "x": [
           0,
           1
          ],
          "y": [
           0,
           1
          ]
         },
         "projection": {
          "type": "natural earth"
         }
        },
        "legend": {
         "tracegroupgap": 0
        },
        "template": {
         "data": {
          "bar": [
           {
            "error_x": {
             "color": "#2a3f5f"
            },
            "error_y": {
             "color": "#2a3f5f"
            },
            "marker": {
             "line": {
              "color": "#E5ECF6",
              "width": 0.5
             },
             "pattern": {
              "fillmode": "overlay",
              "size": 10,
              "solidity": 0.2
             }
            },
            "type": "bar"
           }
          ],
          "barpolar": [
           {
            "marker": {
             "line": {
              "color": "#E5ECF6",
              "width": 0.5
             },
             "pattern": {
              "fillmode": "overlay",
              "size": 10,
              "solidity": 0.2
             }
            },
            "type": "barpolar"
           }
          ],
          "carpet": [
           {
            "aaxis": {
             "endlinecolor": "#2a3f5f",
             "gridcolor": "white",
             "linecolor": "white",
             "minorgridcolor": "white",
             "startlinecolor": "#2a3f5f"
            },
            "baxis": {
             "endlinecolor": "#2a3f5f",
             "gridcolor": "white",
             "linecolor": "white",
             "minorgridcolor": "white",
             "startlinecolor": "#2a3f5f"
            },
            "type": "carpet"
           }
          ],
          "choropleth": [
           {
            "colorbar": {
             "outlinewidth": 0,
             "ticks": ""
            },
            "type": "choropleth"
           }
          ],
          "contour": [
           {
            "colorbar": {
             "outlinewidth": 0,
             "ticks": ""
            },
            "colorscale": [
             [
              0,
              "#0d0887"
             ],
             [
              0.1111111111111111,
              "#46039f"
             ],
             [
              0.2222222222222222,
              "#7201a8"
             ],
             [
              0.3333333333333333,
              "#9c179e"
             ],
             [
              0.4444444444444444,
              "#bd3786"
             ],
             [
              0.5555555555555556,
              "#d8576b"
             ],
             [
              0.6666666666666666,
              "#ed7953"
             ],
             [
              0.7777777777777778,
              "#fb9f3a"
             ],
             [
              0.8888888888888888,
              "#fdca26"
             ],
             [
              1,
              "#f0f921"
             ]
            ],
            "type": "contour"
           }
          ],
          "contourcarpet": [
           {
            "colorbar": {
             "outlinewidth": 0,
             "ticks": ""
            },
            "type": "contourcarpet"
           }
          ],
          "heatmap": [
           {
            "colorbar": {
             "outlinewidth": 0,
             "ticks": ""
            },
            "colorscale": [
             [
              0,
              "#0d0887"
             ],
             [
              0.1111111111111111,
              "#46039f"
             ],
             [
              0.2222222222222222,
              "#7201a8"
             ],
             [
              0.3333333333333333,
              "#9c179e"
             ],
             [
              0.4444444444444444,
              "#bd3786"
             ],
             [
              0.5555555555555556,
              "#d8576b"
             ],
             [
              0.6666666666666666,
              "#ed7953"
             ],
             [
              0.7777777777777778,
              "#fb9f3a"
             ],
             [
              0.8888888888888888,
              "#fdca26"
             ],
             [
              1,
              "#f0f921"
             ]
            ],
            "type": "heatmap"
           }
          ],
          "heatmapgl": [
           {
            "colorbar": {
             "outlinewidth": 0,
             "ticks": ""
            },
            "colorscale": [
             [
              0,
              "#0d0887"
             ],
             [
              0.1111111111111111,
              "#46039f"
             ],
             [
              0.2222222222222222,
              "#7201a8"
             ],
             [
              0.3333333333333333,
              "#9c179e"
             ],
             [
              0.4444444444444444,
              "#bd3786"
             ],
             [
              0.5555555555555556,
              "#d8576b"
             ],
             [
              0.6666666666666666,
              "#ed7953"
             ],
             [
              0.7777777777777778,
              "#fb9f3a"
             ],
             [
              0.8888888888888888,
              "#fdca26"
             ],
             [
              1,
              "#f0f921"
             ]
            ],
            "type": "heatmapgl"
           }
          ],
          "histogram": [
           {
            "marker": {
             "pattern": {
              "fillmode": "overlay",
              "size": 10,
              "solidity": 0.2
             }
            },
            "type": "histogram"
           }
          ],
          "histogram2d": [
           {
            "colorbar": {
             "outlinewidth": 0,
             "ticks": ""
            },
            "colorscale": [
             [
              0,
              "#0d0887"
             ],
             [
              0.1111111111111111,
              "#46039f"
             ],
             [
              0.2222222222222222,
              "#7201a8"
             ],
             [
              0.3333333333333333,
              "#9c179e"
             ],
             [
              0.4444444444444444,
              "#bd3786"
             ],
             [
              0.5555555555555556,
              "#d8576b"
             ],
             [
              0.6666666666666666,
              "#ed7953"
             ],
             [
              0.7777777777777778,
              "#fb9f3a"
             ],
             [
              0.8888888888888888,
              "#fdca26"
             ],
             [
              1,
              "#f0f921"
             ]
            ],
            "type": "histogram2d"
           }
          ],
          "histogram2dcontour": [
           {
            "colorbar": {
             "outlinewidth": 0,
             "ticks": ""
            },
            "colorscale": [
             [
              0,
              "#0d0887"
             ],
             [
              0.1111111111111111,
              "#46039f"
             ],
             [
              0.2222222222222222,
              "#7201a8"
             ],
             [
              0.3333333333333333,
              "#9c179e"
             ],
             [
              0.4444444444444444,
              "#bd3786"
             ],
             [
              0.5555555555555556,
              "#d8576b"
             ],
             [
              0.6666666666666666,
              "#ed7953"
             ],
             [
              0.7777777777777778,
              "#fb9f3a"
             ],
             [
              0.8888888888888888,
              "#fdca26"
             ],
             [
              1,
              "#f0f921"
             ]
            ],
            "type": "histogram2dcontour"
           }
          ],
          "mesh3d": [
           {
            "colorbar": {
             "outlinewidth": 0,
             "ticks": ""
            },
            "type": "mesh3d"
           }
          ],
          "parcoords": [
           {
            "line": {
             "colorbar": {
              "outlinewidth": 0,
              "ticks": ""
             }
            },
            "type": "parcoords"
           }
          ],
          "pie": [
           {
            "automargin": true,
            "type": "pie"
           }
          ],
          "scatter": [
           {
            "fillpattern": {
             "fillmode": "overlay",
             "size": 10,
             "solidity": 0.2
            },
            "type": "scatter"
           }
          ],
          "scatter3d": [
           {
            "line": {
             "colorbar": {
              "outlinewidth": 0,
              "ticks": ""
             }
            },
            "marker": {
             "colorbar": {
              "outlinewidth": 0,
              "ticks": ""
             }
            },
            "type": "scatter3d"
           }
          ],
          "scattercarpet": [
           {
            "marker": {
             "colorbar": {
              "outlinewidth": 0,
              "ticks": ""
             }
            },
            "type": "scattercarpet"
           }
          ],
          "scattergeo": [
           {
            "marker": {
             "colorbar": {
              "outlinewidth": 0,
              "ticks": ""
             }
            },
            "type": "scattergeo"
           }
          ],
          "scattergl": [
           {
            "marker": {
             "colorbar": {
              "outlinewidth": 0,
              "ticks": ""
             }
            },
            "type": "scattergl"
           }
          ],
          "scattermapbox": [
           {
            "marker": {
             "colorbar": {
              "outlinewidth": 0,
              "ticks": ""
             }
            },
            "type": "scattermapbox"
           }
          ],
          "scatterpolar": [
           {
            "marker": {
             "colorbar": {
              "outlinewidth": 0,
              "ticks": ""
             }
            },
            "type": "scatterpolar"
           }
          ],
          "scatterpolargl": [
           {
            "marker": {
             "colorbar": {
              "outlinewidth": 0,
              "ticks": ""
             }
            },
            "type": "scatterpolargl"
           }
          ],
          "scatterternary": [
           {
            "marker": {
             "colorbar": {
              "outlinewidth": 0,
              "ticks": ""
             }
            },
            "type": "scatterternary"
           }
          ],
          "surface": [
           {
            "colorbar": {
             "outlinewidth": 0,
             "ticks": ""
            },
            "colorscale": [
             [
              0,
              "#0d0887"
             ],
             [
              0.1111111111111111,
              "#46039f"
             ],
             [
              0.2222222222222222,
              "#7201a8"
             ],
             [
              0.3333333333333333,
              "#9c179e"
             ],
             [
              0.4444444444444444,
              "#bd3786"
             ],
             [
              0.5555555555555556,
              "#d8576b"
             ],
             [
              0.6666666666666666,
              "#ed7953"
             ],
             [
              0.7777777777777778,
              "#fb9f3a"
             ],
             [
              0.8888888888888888,
              "#fdca26"
             ],
             [
              1,
              "#f0f921"
             ]
            ],
            "type": "surface"
           }
          ],
          "table": [
           {
            "cells": {
             "fill": {
              "color": "#EBF0F8"
             },
             "line": {
              "color": "white"
             }
            },
            "header": {
             "fill": {
              "color": "#C8D4E3"
             },
             "line": {
              "color": "white"
             }
            },
            "type": "table"
           }
          ]
         },
         "layout": {
          "annotationdefaults": {
           "arrowcolor": "#2a3f5f",
           "arrowhead": 0,
           "arrowwidth": 1
          },
          "autotypenumbers": "strict",
          "coloraxis": {
           "colorbar": {
            "outlinewidth": 0,
            "ticks": ""
           }
          },
          "colorscale": {
           "diverging": [
            [
             0,
             "#8e0152"
            ],
            [
             0.1,
             "#c51b7d"
            ],
            [
             0.2,
             "#de77ae"
            ],
            [
             0.3,
             "#f1b6da"
            ],
            [
             0.4,
             "#fde0ef"
            ],
            [
             0.5,
             "#f7f7f7"
            ],
            [
             0.6,
             "#e6f5d0"
            ],
            [
             0.7,
             "#b8e186"
            ],
            [
             0.8,
             "#7fbc41"
            ],
            [
             0.9,
             "#4d9221"
            ],
            [
             1,
             "#276419"
            ]
           ],
           "sequential": [
            [
             0,
             "#0d0887"
            ],
            [
             0.1111111111111111,
             "#46039f"
            ],
            [
             0.2222222222222222,
             "#7201a8"
            ],
            [
             0.3333333333333333,
             "#9c179e"
            ],
            [
             0.4444444444444444,
             "#bd3786"
            ],
            [
             0.5555555555555556,
             "#d8576b"
            ],
            [
             0.6666666666666666,
             "#ed7953"
            ],
            [
             0.7777777777777778,
             "#fb9f3a"
            ],
            [
             0.8888888888888888,
             "#fdca26"
            ],
            [
             1,
             "#f0f921"
            ]
           ],
           "sequentialminus": [
            [
             0,
             "#0d0887"
            ],
            [
             0.1111111111111111,
             "#46039f"
            ],
            [
             0.2222222222222222,
             "#7201a8"
            ],
            [
             0.3333333333333333,
             "#9c179e"
            ],
            [
             0.4444444444444444,
             "#bd3786"
            ],
            [
             0.5555555555555556,
             "#d8576b"
            ],
            [
             0.6666666666666666,
             "#ed7953"
            ],
            [
             0.7777777777777778,
             "#fb9f3a"
            ],
            [
             0.8888888888888888,
             "#fdca26"
            ],
            [
             1,
             "#f0f921"
            ]
           ]
          },
          "colorway": [
           "#636efa",
           "#EF553B",
           "#00cc96",
           "#ab63fa",
           "#FFA15A",
           "#19d3f3",
           "#FF6692",
           "#B6E880",
           "#FF97FF",
           "#FECB52"
          ],
          "font": {
           "color": "#2a3f5f"
          },
          "geo": {
           "bgcolor": "white",
           "lakecolor": "white",
           "landcolor": "#E5ECF6",
           "showlakes": true,
           "showland": true,
           "subunitcolor": "white"
          },
          "hoverlabel": {
           "align": "left"
          },
          "hovermode": "closest",
          "mapbox": {
           "style": "light"
          },
          "paper_bgcolor": "white",
          "plot_bgcolor": "#E5ECF6",
          "polar": {
           "angularaxis": {
            "gridcolor": "white",
            "linecolor": "white",
            "ticks": ""
           },
           "bgcolor": "#E5ECF6",
           "radialaxis": {
            "gridcolor": "white",
            "linecolor": "white",
            "ticks": ""
           }
          },
          "scene": {
           "xaxis": {
            "backgroundcolor": "#E5ECF6",
            "gridcolor": "white",
            "gridwidth": 2,
            "linecolor": "white",
            "showbackground": true,
            "ticks": "",
            "zerolinecolor": "white"
           },
           "yaxis": {
            "backgroundcolor": "#E5ECF6",
            "gridcolor": "white",
            "gridwidth": 2,
            "linecolor": "white",
            "showbackground": true,
            "ticks": "",
            "zerolinecolor": "white"
           },
           "zaxis": {
            "backgroundcolor": "#E5ECF6",
            "gridcolor": "white",
            "gridwidth": 2,
            "linecolor": "white",
            "showbackground": true,
            "ticks": "",
            "zerolinecolor": "white"
           }
          },
          "shapedefaults": {
           "line": {
            "color": "#2a3f5f"
           }
          },
          "ternary": {
           "aaxis": {
            "gridcolor": "white",
            "linecolor": "white",
            "ticks": ""
           },
           "baxis": {
            "gridcolor": "white",
            "linecolor": "white",
            "ticks": ""
           },
           "bgcolor": "#E5ECF6",
           "caxis": {
            "gridcolor": "white",
            "linecolor": "white",
            "ticks": ""
           }
          },
          "title": {
           "x": 0.05
          },
          "xaxis": {
           "automargin": true,
           "gridcolor": "white",
           "linecolor": "white",
           "ticks": "",
           "title": {
            "standoff": 15
           },
           "zerolinecolor": "white",
           "zerolinewidth": 2
          },
          "yaxis": {
           "automargin": true,
           "gridcolor": "white",
           "linecolor": "white",
           "ticks": "",
           "title": {
            "standoff": 15
           },
           "zerolinecolor": "white",
           "zerolinewidth": 2
          }
         }
        },
        "title": {
         "text": "Happiness by Country"
        }
       }
      },
      "text/html": [
       "<div>                            <div id=\"451fe0cd-0bee-4366-a537-a6591aef9efd\" class=\"plotly-graph-div\" style=\"height:525px; width:100%;\"></div>            <script type=\"text/javascript\">                require([\"plotly\"], function(Plotly) {                    window.PLOTLYENV=window.PLOTLYENV || {};                                    if (document.getElementById(\"451fe0cd-0bee-4366-a537-a6591aef9efd\")) {                    Plotly.newPlot(                        \"451fe0cd-0bee-4366-a537-a6591aef9efd\",                        [{\"coloraxis\":\"coloraxis\",\"geo\":\"geo\",\"hovertemplate\":\"<b>%{hovertext}</b><br><br>Country=%{location}<br>Happiness score=%{z}<extra></extra>\",\"hovertext\":[\"Argentina\",\"Armenia\",\"Australia\",\"Austria\",\"Bahrain\",\"Belgium\",\"Bosnia and Herzegovina\",\"Brazil\",\"Bulgaria\",\"Canada\",\"Chile\",\"Colombia\",\"Costa Rica\",\"Croatia\",\"Cyprus\",\"Denmark\",\"Ecuador\",\"El Salvador\",\"Estonia\",\"Finland\",\"France\",\"Georgia\",\"Germany\",\"Greece\",\"Hungary\",\"Iceland\",\"Ireland\",\"Israel\",\"Italy\",\"Japan\",\"Kazakhstan\",\"Kyrgyzstan\",\"Latvia\",\"Lithuania\",\"Malta\",\"Mauritius\",\"Mexico\",\"Mongolia\",\"Netherlands\",\"New Zealand\",\"Nicaragua\",\"Norway\",\"Panama\",\"Paraguay\",\"Poland\",\"Portugal\",\"Romania\",\"Serbia\",\"Singapore\",\"Slovakia\",\"Slovenia\",\"South Africa\",\"Spain\",\"Sweden\",\"Switzerland\",\"Thailand\",\"Turkey\",\"Ukraine\",\"United Kingdom\",\"United States\",\"Uruguay\",\"Uzbekistan\"],\"locationmode\":\"country names\",\"locations\":[\"Argentina\",\"Armenia\",\"Australia\",\"Austria\",\"Bahrain\",\"Belgium\",\"Bosnia and Herzegovina\",\"Brazil\",\"Bulgaria\",\"Canada\",\"Chile\",\"Colombia\",\"Costa Rica\",\"Croatia\",\"Cyprus\",\"Denmark\",\"Ecuador\",\"El Salvador\",\"Estonia\",\"Finland\",\"France\",\"Georgia\",\"Germany\",\"Greece\",\"Hungary\",\"Iceland\",\"Ireland\",\"Israel\",\"Italy\",\"Japan\",\"Kazakhstan\",\"Kyrgyzstan\",\"Latvia\",\"Lithuania\",\"Malta\",\"Mauritius\",\"Mexico\",\"Mongolia\",\"Netherlands\",\"New Zealand\",\"Nicaragua\",\"Norway\",\"Panama\",\"Paraguay\",\"Poland\",\"Portugal\",\"Romania\",\"Serbia\",\"Singapore\",\"Slovakia\",\"Slovenia\",\"South Africa\",\"Spain\",\"Sweden\",\"Switzerland\",\"Thailand\",\"Turkey\",\"Ukraine\",\"United Kingdom\",\"United States\",\"Uruguay\",\"Uzbekistan\"],\"name\":\"\",\"z\":[5967.0,5399.0,7162.0,7163.0,6647.0,6805.0,5768.0,6293.0,5371.0,7025.0,6172.0,5781.0,6582.0,6125.0,6221.0,7636.0,5533.0,6120.0,6341.0,7821.0,6687.0,4973.0,7034.0,5948.0,6086.0,7557.0,7041.0,7364.0,6467.0,6039.0,6234.0,5828.0,6180.0,6446.0,6447.0,6071.0,6128.0,5761.0,7415.0,7200.0,6165.0,7365.0,6309.0,5578.0,6123.0,6016.0,6477.0,6178.0,6480.0,6391.0,6630.0,5194.0,6476.0,7384.0,7512.0,5891.0,4744.0,5084.0,6943.0,6977.0,6474.0,6063.0],\"type\":\"choropleth\"}],                        {\"template\":{\"data\":{\"histogram2dcontour\":[{\"type\":\"histogram2dcontour\",\"colorbar\":{\"outlinewidth\":0,\"ticks\":\"\"},\"colorscale\":[[0.0,\"#0d0887\"],[0.1111111111111111,\"#46039f\"],[0.2222222222222222,\"#7201a8\"],[0.3333333333333333,\"#9c179e\"],[0.4444444444444444,\"#bd3786\"],[0.5555555555555556,\"#d8576b\"],[0.6666666666666666,\"#ed7953\"],[0.7777777777777778,\"#fb9f3a\"],[0.8888888888888888,\"#fdca26\"],[1.0,\"#f0f921\"]]}],\"choropleth\":[{\"type\":\"choropleth\",\"colorbar\":{\"outlinewidth\":0,\"ticks\":\"\"}}],\"histogram2d\":[{\"type\":\"histogram2d\",\"colorbar\":{\"outlinewidth\":0,\"ticks\":\"\"},\"colorscale\":[[0.0,\"#0d0887\"],[0.1111111111111111,\"#46039f\"],[0.2222222222222222,\"#7201a8\"],[0.3333333333333333,\"#9c179e\"],[0.4444444444444444,\"#bd3786\"],[0.5555555555555556,\"#d8576b\"],[0.6666666666666666,\"#ed7953\"],[0.7777777777777778,\"#fb9f3a\"],[0.8888888888888888,\"#fdca26\"],[1.0,\"#f0f921\"]]}],\"heatmap\":[{\"type\":\"heatmap\",\"colorbar\":{\"outlinewidth\":0,\"ticks\":\"\"},\"colorscale\":[[0.0,\"#0d0887\"],[0.1111111111111111,\"#46039f\"],[0.2222222222222222,\"#7201a8\"],[0.3333333333333333,\"#9c179e\"],[0.4444444444444444,\"#bd3786\"],[0.5555555555555556,\"#d8576b\"],[0.6666666666666666,\"#ed7953\"],[0.7777777777777778,\"#fb9f3a\"],[0.8888888888888888,\"#fdca26\"],[1.0,\"#f0f921\"]]}],\"heatmapgl\":[{\"type\":\"heatmapgl\",\"colorbar\":{\"outlinewidth\":0,\"ticks\":\"\"},\"colorscale\":[[0.0,\"#0d0887\"],[0.1111111111111111,\"#46039f\"],[0.2222222222222222,\"#7201a8\"],[0.3333333333333333,\"#9c179e\"],[0.4444444444444444,\"#bd3786\"],[0.5555555555555556,\"#d8576b\"],[0.6666666666666666,\"#ed7953\"],[0.7777777777777778,\"#fb9f3a\"],[0.8888888888888888,\"#fdca26\"],[1.0,\"#f0f921\"]]}],\"contourcarpet\":[{\"type\":\"contourcarpet\",\"colorbar\":{\"outlinewidth\":0,\"ticks\":\"\"}}],\"contour\":[{\"type\":\"contour\",\"colorbar\":{\"outlinewidth\":0,\"ticks\":\"\"},\"colorscale\":[[0.0,\"#0d0887\"],[0.1111111111111111,\"#46039f\"],[0.2222222222222222,\"#7201a8\"],[0.3333333333333333,\"#9c179e\"],[0.4444444444444444,\"#bd3786\"],[0.5555555555555556,\"#d8576b\"],[0.6666666666666666,\"#ed7953\"],[0.7777777777777778,\"#fb9f3a\"],[0.8888888888888888,\"#fdca26\"],[1.0,\"#f0f921\"]]}],\"surface\":[{\"type\":\"surface\",\"colorbar\":{\"outlinewidth\":0,\"ticks\":\"\"},\"colorscale\":[[0.0,\"#0d0887\"],[0.1111111111111111,\"#46039f\"],[0.2222222222222222,\"#7201a8\"],[0.3333333333333333,\"#9c179e\"],[0.4444444444444444,\"#bd3786\"],[0.5555555555555556,\"#d8576b\"],[0.6666666666666666,\"#ed7953\"],[0.7777777777777778,\"#fb9f3a\"],[0.8888888888888888,\"#fdca26\"],[1.0,\"#f0f921\"]]}],\"mesh3d\":[{\"type\":\"mesh3d\",\"colorbar\":{\"outlinewidth\":0,\"ticks\":\"\"}}],\"scatter\":[{\"fillpattern\":{\"fillmode\":\"overlay\",\"size\":10,\"solidity\":0.2},\"type\":\"scatter\"}],\"parcoords\":[{\"type\":\"parcoords\",\"line\":{\"colorbar\":{\"outlinewidth\":0,\"ticks\":\"\"}}}],\"scatterpolargl\":[{\"type\":\"scatterpolargl\",\"marker\":{\"colorbar\":{\"outlinewidth\":0,\"ticks\":\"\"}}}],\"bar\":[{\"error_x\":{\"color\":\"#2a3f5f\"},\"error_y\":{\"color\":\"#2a3f5f\"},\"marker\":{\"line\":{\"color\":\"#E5ECF6\",\"width\":0.5},\"pattern\":{\"fillmode\":\"overlay\",\"size\":10,\"solidity\":0.2}},\"type\":\"bar\"}],\"scattergeo\":[{\"type\":\"scattergeo\",\"marker\":{\"colorbar\":{\"outlinewidth\":0,\"ticks\":\"\"}}}],\"scatterpolar\":[{\"type\":\"scatterpolar\",\"marker\":{\"colorbar\":{\"outlinewidth\":0,\"ticks\":\"\"}}}],\"histogram\":[{\"marker\":{\"pattern\":{\"fillmode\":\"overlay\",\"size\":10,\"solidity\":0.2}},\"type\":\"histogram\"}],\"scattergl\":[{\"type\":\"scattergl\",\"marker\":{\"colorbar\":{\"outlinewidth\":0,\"ticks\":\"\"}}}],\"scatter3d\":[{\"type\":\"scatter3d\",\"line\":{\"colorbar\":{\"outlinewidth\":0,\"ticks\":\"\"}},\"marker\":{\"colorbar\":{\"outlinewidth\":0,\"ticks\":\"\"}}}],\"scattermapbox\":[{\"type\":\"scattermapbox\",\"marker\":{\"colorbar\":{\"outlinewidth\":0,\"ticks\":\"\"}}}],\"scatterternary\":[{\"type\":\"scatterternary\",\"marker\":{\"colorbar\":{\"outlinewidth\":0,\"ticks\":\"\"}}}],\"scattercarpet\":[{\"type\":\"scattercarpet\",\"marker\":{\"colorbar\":{\"outlinewidth\":0,\"ticks\":\"\"}}}],\"carpet\":[{\"aaxis\":{\"endlinecolor\":\"#2a3f5f\",\"gridcolor\":\"white\",\"linecolor\":\"white\",\"minorgridcolor\":\"white\",\"startlinecolor\":\"#2a3f5f\"},\"baxis\":{\"endlinecolor\":\"#2a3f5f\",\"gridcolor\":\"white\",\"linecolor\":\"white\",\"minorgridcolor\":\"white\",\"startlinecolor\":\"#2a3f5f\"},\"type\":\"carpet\"}],\"table\":[{\"cells\":{\"fill\":{\"color\":\"#EBF0F8\"},\"line\":{\"color\":\"white\"}},\"header\":{\"fill\":{\"color\":\"#C8D4E3\"},\"line\":{\"color\":\"white\"}},\"type\":\"table\"}],\"barpolar\":[{\"marker\":{\"line\":{\"color\":\"#E5ECF6\",\"width\":0.5},\"pattern\":{\"fillmode\":\"overlay\",\"size\":10,\"solidity\":0.2}},\"type\":\"barpolar\"}],\"pie\":[{\"automargin\":true,\"type\":\"pie\"}]},\"layout\":{\"autotypenumbers\":\"strict\",\"colorway\":[\"#636efa\",\"#EF553B\",\"#00cc96\",\"#ab63fa\",\"#FFA15A\",\"#19d3f3\",\"#FF6692\",\"#B6E880\",\"#FF97FF\",\"#FECB52\"],\"font\":{\"color\":\"#2a3f5f\"},\"hovermode\":\"closest\",\"hoverlabel\":{\"align\":\"left\"},\"paper_bgcolor\":\"white\",\"plot_bgcolor\":\"#E5ECF6\",\"polar\":{\"bgcolor\":\"#E5ECF6\",\"angularaxis\":{\"gridcolor\":\"white\",\"linecolor\":\"white\",\"ticks\":\"\"},\"radialaxis\":{\"gridcolor\":\"white\",\"linecolor\":\"white\",\"ticks\":\"\"}},\"ternary\":{\"bgcolor\":\"#E5ECF6\",\"aaxis\":{\"gridcolor\":\"white\",\"linecolor\":\"white\",\"ticks\":\"\"},\"baxis\":{\"gridcolor\":\"white\",\"linecolor\":\"white\",\"ticks\":\"\"},\"caxis\":{\"gridcolor\":\"white\",\"linecolor\":\"white\",\"ticks\":\"\"}},\"coloraxis\":{\"colorbar\":{\"outlinewidth\":0,\"ticks\":\"\"}},\"colorscale\":{\"sequential\":[[0.0,\"#0d0887\"],[0.1111111111111111,\"#46039f\"],[0.2222222222222222,\"#7201a8\"],[0.3333333333333333,\"#9c179e\"],[0.4444444444444444,\"#bd3786\"],[0.5555555555555556,\"#d8576b\"],[0.6666666666666666,\"#ed7953\"],[0.7777777777777778,\"#fb9f3a\"],[0.8888888888888888,\"#fdca26\"],[1.0,\"#f0f921\"]],\"sequentialminus\":[[0.0,\"#0d0887\"],[0.1111111111111111,\"#46039f\"],[0.2222222222222222,\"#7201a8\"],[0.3333333333333333,\"#9c179e\"],[0.4444444444444444,\"#bd3786\"],[0.5555555555555556,\"#d8576b\"],[0.6666666666666666,\"#ed7953\"],[0.7777777777777778,\"#fb9f3a\"],[0.8888888888888888,\"#fdca26\"],[1.0,\"#f0f921\"]],\"diverging\":[[0,\"#8e0152\"],[0.1,\"#c51b7d\"],[0.2,\"#de77ae\"],[0.3,\"#f1b6da\"],[0.4,\"#fde0ef\"],[0.5,\"#f7f7f7\"],[0.6,\"#e6f5d0\"],[0.7,\"#b8e186\"],[0.8,\"#7fbc41\"],[0.9,\"#4d9221\"],[1,\"#276419\"]]},\"xaxis\":{\"gridcolor\":\"white\",\"linecolor\":\"white\",\"ticks\":\"\",\"title\":{\"standoff\":15},\"zerolinecolor\":\"white\",\"automargin\":true,\"zerolinewidth\":2},\"yaxis\":{\"gridcolor\":\"white\",\"linecolor\":\"white\",\"ticks\":\"\",\"title\":{\"standoff\":15},\"zerolinecolor\":\"white\",\"automargin\":true,\"zerolinewidth\":2},\"scene\":{\"xaxis\":{\"backgroundcolor\":\"#E5ECF6\",\"gridcolor\":\"white\",\"linecolor\":\"white\",\"showbackground\":true,\"ticks\":\"\",\"zerolinecolor\":\"white\",\"gridwidth\":2},\"yaxis\":{\"backgroundcolor\":\"#E5ECF6\",\"gridcolor\":\"white\",\"linecolor\":\"white\",\"showbackground\":true,\"ticks\":\"\",\"zerolinecolor\":\"white\",\"gridwidth\":2},\"zaxis\":{\"backgroundcolor\":\"#E5ECF6\",\"gridcolor\":\"white\",\"linecolor\":\"white\",\"showbackground\":true,\"ticks\":\"\",\"zerolinecolor\":\"white\",\"gridwidth\":2}},\"shapedefaults\":{\"line\":{\"color\":\"#2a3f5f\"}},\"annotationdefaults\":{\"arrowcolor\":\"#2a3f5f\",\"arrowhead\":0,\"arrowwidth\":1},\"geo\":{\"bgcolor\":\"white\",\"landcolor\":\"#E5ECF6\",\"subunitcolor\":\"white\",\"showland\":true,\"showlakes\":true,\"lakecolor\":\"white\"},\"title\":{\"x\":0.05},\"mapbox\":{\"style\":\"light\"}}},\"geo\":{\"domain\":{\"x\":[0.0,1.0],\"y\":[0.0,1.0]},\"projection\":{\"type\":\"natural earth\"},\"center\":{}},\"coloraxis\":{\"colorbar\":{\"title\":{\"text\":\"Happiness score\"}},\"colorscale\":[[0.0,\"#0d0887\"],[0.1111111111111111,\"#46039f\"],[0.2222222222222222,\"#7201a8\"],[0.3333333333333333,\"#9c179e\"],[0.4444444444444444,\"#bd3786\"],[0.5555555555555556,\"#d8576b\"],[0.6666666666666666,\"#ed7953\"],[0.7777777777777778,\"#fb9f3a\"],[0.8888888888888888,\"#fdca26\"],[1.0,\"#f0f921\"]]},\"legend\":{\"tracegroupgap\":0},\"title\":{\"text\":\"Happiness by Country\"}},                        {\"responsive\": true}                    ).then(function(){\n",
       "                            \n",
       "var gd = document.getElementById('451fe0cd-0bee-4366-a537-a6591aef9efd');\n",
       "var x = new MutationObserver(function (mutations, observer) {{\n",
       "        var display = window.getComputedStyle(gd).display;\n",
       "        if (!display || display === 'none') {{\n",
       "            console.log([gd, 'removed!']);\n",
       "            Plotly.purge(gd);\n",
       "            observer.disconnect();\n",
       "        }}\n",
       "}});\n",
       "\n",
       "// Listen for the removal of the full notebook cells\n",
       "var notebookContainer = gd.closest('#notebook-container');\n",
       "if (notebookContainer) {{\n",
       "    x.observe(notebookContainer, {childList: true});\n",
       "}}\n",
       "\n",
       "// Listen for the clearing of the current output cell\n",
       "var outputEl = gd.closest('.output');\n",
       "if (outputEl) {{\n",
       "    x.observe(outputEl, {childList: true});\n",
       "}}\n",
       "\n",
       "                        })                };                });            </script>        </div>"
      ]
     },
     "metadata": {},
     "output_type": "display_data"
    }
   ],
   "source": [
    "# SUICIDE RATE\n",
    "fig = px.choropleth(\n",
    "    health_df,\n",
    "    locations='Country',\n",
    "    locationmode='country names',\n",
    "    color='suicide_rate',\n",
    "    hover_name='Country',\n",
    "    projection='natural earth',\n",
    "    title='Suicide Rate by Country'\n",
    ")\n",
    "fig.show()\n",
    "\n",
    "# HAPPINESS RATE\n",
    "fig = px.choropleth(\n",
    "    health_df,\n",
    "    locations='Country',\n",
    "    locationmode='country names',\n",
    "    color='Happiness score',\n",
    "    hover_name='Country',\n",
    "    projection='natural earth',\n",
    "    title='Happiness by Country'\n",
    ")\n",
    "fig.show()"
   ]
  },
  {
   "cell_type": "markdown",
   "id": "189c424a",
   "metadata": {},
   "source": [
    "#### Hypthesis Testing\n",
    "\n",
    "Next we used a __Linear Regression Model__ to obtain a quantative understanding between suicide rate and happiness score. We estimated the coefficient and intercept of the model to find the general direction and magnitide of the relationship. We had suicide rate as the x-value and happiness score as the y-value, then used a simple line chart to show the relationship."
   ]
  },
  {
   "cell_type": "code",
   "execution_count": 33,
   "id": "10b655de",
   "metadata": {},
   "outputs": [
    {
     "name": "stdout",
     "output_type": "stream",
     "text": [
      "Coefficient: 22.59\n",
      "Intercept: 6115.47\n"
     ]
    },
    {
     "data": {
      "image/png": "[encoded data removed]",
      "text/plain": [
       "<Figure size 640x480 with 1 Axes>"
      ]
     },
     "metadata": {},
     "output_type": "display_data"
    }
   ],
   "source": [
    "X = health_df[['suicide_rate']]\n",
    "y = health_df['Happiness score']\n",
    "\n",
    "model = LinearRegression()\n",
    "model.fit(X, y)\n",
    "\n",
    "print(f\"Coefficient: {model.coef_[0]:.2f}\")\n",
    "print(f\"Intercept: {model.intercept_:.2f}\")\n",
    "\n",
    "sns.lineplot(x=health_df['suicide_rate'], y=health_df['Happiness score'], color='blue', alpha=0.5)\n",
    "plt.title('Suicide Rate vs Happiness Score')\n",
    "plt.xlabel('Suicide Rate')\n",
    "plt.ylabel('Happiness Score')\n",
    "\n",
    "plt.show()"
   ]
  },
  {
   "cell_type": "markdown",
   "id": "48d4fa1d",
   "metadata": {},
   "source": [
    "The data showed us that for each unit increase in the suicide rate, there is an estimated increase of 22.59 units in the happiness score. Additionally, the intercept value of 6115.47 indicates the baseline level of happiness score when suicide rate is zero.\n",
    "\n",
    "**Observations**: The graph displays a fluctuating pattern, which may indicate that the relationship between suicide rate and happiness score might not strictly follow a linear trend. The erratic pattern also might indicate that various other factors beyond the suicide rate significantly impact happiness scores. Overall the graph displays a non-monotonic relationship. However, overall, the graph generally kept an upwards direction.\n"
   ]
  },
  {
   "cell_type": "markdown",
   "id": "9156e60f",
   "metadata": {},
   "source": [
    "#### Bootstrapped graph \n",
    "\n",
    "We included a bootstrapped graph to further assess the relationship between variables. We created 100 bootstrapped samples of the same size as the original dataset are created. Each sample was generated by random resampling with replacement. Subsequently, linear regression models were built for each bootstrapped sample, focusing on the 'suicide_rate' as the predictor and 'Happiness score' as the target variable. We kept the domain for suicide rate from 0 to 30 as to stay consistent to the range of the suicide rate across all countries. "
   ]
  },
  {
   "cell_type": "code",
   "execution_count": 34,
   "id": "215d2848",
   "metadata": {},
   "outputs": [
    {
     "data": {
      "image/png": "[encoded data removed]",
      "text/plain": [
       "<Figure size 640x480 with 1 Axes>"
      ]
     },
     "metadata": {},
     "output_type": "display_data"
    }
   ],
   "source": [
    "\n",
    "domain = np.array([[0], [30]]) \n",
    "bootstrapped_health = []\n",
    "\n",
    "for _ in range(100):\n",
    "    bootstrapped_sample = health_df.sample(len(health_df), replace=True)\n",
    "    bootstrapped_health.append(bootstrapped_sample)\n",
    "\n",
    "for i in range(100):\n",
    "    df = bootstrapped_health[i]\n",
    "\n",
    "    bt_model = LinearRegression()\n",
    "    bt_model.fit(df[['suicide_rate']].values, df['Happiness score'])\n",
    "\n",
    "    y_pred = bt_model.predict(domain)\n",
    "\n",
    "    sns.lineplot(x=domain.reshape(-1), y=y_pred, color='lightgreen', alpha=0.3)    \n",
    "\n",
    "plt.xlabel('Suicide Rate')\n",
    "plt.ylabel('Happiness Score')\n",
    "plt.title('Bootstrapped Linear Regression: Suicide Rate vs Happiness Score')\n",
    "plt.show()"
   ]
  },
  {
   "cell_type": "markdown",
   "id": "cb859b73",
   "metadata": {},
   "source": [
    "__Observations__ \n",
    "1. The bootstrapped linear regression generated a large range of predicted relationships between suicide rates and happiness scores. It represented that various predicted trends that could arise from different subsamples of the dataset.\n",
    "2. The graph consistently had a upward direction. This can be observed by the dark green centered betweened the varied possibilities. This suggest that a more stable relationship between the variables across multiple subsamples.\n"
   ]
  },
  {
   "cell_type": "markdown",
   "id": "45a6cdc4",
   "metadata": {},
   "source": [
    "### Evulation of Significance\n",
    "\n",
    "We used a **OLS summary** to evaluate the significance and reliability of the data. We inputed the data into the OLS model and printed the summary."
   ]
  },
  {
   "cell_type": "code",
   "execution_count": 35,
   "id": "5fe6c708",
   "metadata": {},
   "outputs": [
    {
     "name": "stdout",
     "output_type": "stream",
     "text": [
      "                                 OLS Regression Results                                \n",
      "=======================================================================================\n",
      "Dep. Variable:        Happiness score   R-squared (uncentered):                   0.780\n",
      "Model:                            OLS   Adj. R-squared (uncentered):              0.777\n",
      "Method:                 Least Squares   F-statistic:                              216.7\n",
      "Date:                Thu, 16 Nov 2023   Prob (F-statistic):                    9.58e-22\n",
      "Time:                        20:27:45   Log-Likelihood:                         -584.47\n",
      "No. Observations:                  62   AIC:                                      1171.\n",
      "Df Residuals:                      61   BIC:                                      1173.\n",
      "Df Model:                           1                                                  \n",
      "Covariance Type:            nonrobust                                                  \n",
      "================================================================================\n",
      "                   coef    std err          t      P>|t|      [0.025      0.975]\n",
      "--------------------------------------------------------------------------------\n",
      "suicide_rate   431.5450     29.313     14.722      0.000     372.930     490.160\n",
      "==============================================================================\n",
      "Omnibus:                       17.100   Durbin-Watson:                   1.705\n",
      "Prob(Omnibus):                  0.000   Jarque-Bera (JB):               21.056\n",
      "Skew:                          -1.153   Prob(JB):                     2.68e-05\n",
      "Kurtosis:                       4.682   Cond. No.                         1.00\n",
      "==============================================================================\n",
      "\n",
      "Notes:\n",
      "[1] R² is computed without centering (uncentered) since the model does not contain a constant.\n",
      "[2] Standard Errors assume that the covariance matrix of the errors is correctly specified.\n"
     ]
    }
   ],
   "source": [
    "def summary(df, input):\n",
    "    X = df[input]\n",
    "    reg = sm.OLS(df['Happiness score'], X).fit()\n",
    "    print(reg.summary())\n",
    "    \n",
    "    \n",
    "summary(health_df, ['suicide_rate'])"
   ]
  },
  {
   "cell_type": "markdown",
   "id": "e83d6f65",
   "metadata": {},
   "source": [
    "__Observation__: The data showed that the model has around 78% variance without centering the variable. Looking at the F-statistic probability, the probability is extremely low (9.58e-22), indicating the model's significance is highly unlikely due to random chance. Additionally, p-value is 0.00 which is way below the 0.05 threshold.\n",
    "However, due to the high variance of the data, it might indicate that the model is too complex or flexible, capturing noise or specific patterns in the dataset rather than the underlying true relationships."
   ]
  },
  {
   "cell_type": "markdown",
   "id": "d4bf0fab",
   "metadata": {},
   "source": [
    "Additionally we used **permutations** to test for randomness and significance in the data. First we extracted values from the suicide rate, then we randomly shuffled them to create a random assortment of values. We then changed the original suicide rate values to the shuffled values. We created a linear regression model based off of those results, and created a side to side visualtion of the original data to the permuted data"
   ]
  },
  {
   "cell_type": "code",
   "execution_count": 36,
   "id": "d8eeaa58",
   "metadata": {},
   "outputs": [
    {
     "data": {
      "image/png": "[encoded data removed]",
      "text/plain": [
       "<Figure size 1200x600 with 2 Axes>"
      ]
     },
     "metadata": {},
     "output_type": "display_data"
    }
   ],
   "source": [
    "\n",
    "# Make copy\n",
    "permuted_health_df = health_df.copy()\n",
    "# take value\n",
    "suicide_rates = permuted_health_df['suicide_rate'].values\n",
    "# get random assortment of suicide rate\n",
    "np.random.shuffle(suicide_rates)\n",
    "permuted_health_df['suicide_rate'] = suicide_rates\n",
    "\n",
    "# input into linear regression model\n",
    "model_permuted = LinearRegression()\n",
    "model_permuted.fit(permuted_health_df[['suicide_rate']], permuted_health_df['Happiness score'])\n",
    "\n",
    "fig, (ax1, ax2) = plt.subplots(nrows=1, ncols=2, figsize=(12, 6), sharey=True)\n",
    "\n",
    "# original\n",
    "sns.scatterplot(x='suicide_rate', y='Happiness score', data=health_df, ax=ax1)\n",
    "sns.lineplot(x=health_df['suicide_rate'], y=model.predict(health_df[['suicide_rate']]), color='red', ax=ax1)\n",
    "ax1.set_title('True Data')\n",
    "\n",
    "# permuted\n",
    "sns.scatterplot(x='suicide_rate', y='Happiness score', data=permuted_health_df, ax=ax2)\n",
    "sns.lineplot(x=permuted_health_df['suicide_rate'], y=model_permuted.predict(permuted_health_df[['suicide_rate']]), color='red', ax=ax2)\n",
    "ax2.set_title('Permuted Data')\n",
    "\n",
    "plt.show()"
   ]
  },
  {
   "cell_type": "markdown",
   "id": "17b2b6d8",
   "metadata": {},
   "source": [
    "__Observation__: Looking at the different permutations of the graph, the observed relationship differs significantly from the relationships derived from permutations. This suggests that the observed association is not likely to happen by random chance alone. In other words, it demonstrates the data is distinguishable from randomness. Overall, it shows the data may be significant."
   ]
  },
  {
   "cell_type": "markdown",
   "id": "9eea06df",
   "metadata": {},
   "source": [
    "___\n",
    "## Hypothesis 2: \n",
    "Smaller population sizes of countries correspond to lower birth rates, higher minimum wages, and lower crime index, which in turn leads to higher happiness scores for countries."
   ]
  },
  {
   "cell_type": "markdown",
   "id": "60a87596",
   "metadata": {},
   "source": [
    "### **Data Analysis**"
   ]
  },
  {
   "cell_type": "markdown",
   "id": "703c37bf",
   "metadata": {},
   "source": [
    "For the second question, our overall goal is to perform a linear regression using crime index, minimum wage, birth rate, and population size as inputs to happiness score as an output. \n",
    "\n",
    "To complete this, we want to check for heteroskedasticity and multicollinearity to ensure the variables are valid to be used in a multivariable linear regression. First, we make residual plots between between each input variable and the output variable to ensure that the data points are randomly distributed. We check to see if there are any signs of heteroskedasticity, and there are none. Because of this, no transformations need to be performed. "
   ]
  },
  {
   "cell_type": "code",
   "execution_count": 63,
   "id": "80d11bcf",
   "metadata": {
    "scrolled": false
   },
   "outputs": [
    {
     "data": {
      "image/png": "[encoded data removed]",
      "text/plain": [
       "<Figure size 640x480 with 1 Axes>"
      ]
     },
     "metadata": {},
     "output_type": "display_data"
    },
    {
     "data": {
      "image/png": "[encoded data removed]",
      "text/plain": [
       "<Figure size 640x480 with 1 Axes>"
      ]
     },
     "metadata": {},
     "output_type": "display_data"
    },
    {
     "data": {
      "image/png": "[encoded data removed]",
      "text/plain": [
       "<Figure size 640x480 with 1 Axes>"
      ]
     },
     "metadata": {},
     "output_type": "display_data"
    },
    {
     "data": {
      "image/png": "[encoded data removed]",
      "text/plain": [
       "<Figure size 640x480 with 1 Axes>"
      ]
     },
     "metadata": {},
     "output_type": "display_data"
    }
   ],
   "source": [
    "columns = hypothesis2_df.columns[1:5]\n",
    "for i in columns:\n",
    "    sns.residplot(data=hypothesis2_df, x=i, y='Happiness score')\n",
    "    plt.show()"
   ]
  },
  {
   "cell_type": "markdown",
   "id": "50a0132c",
   "metadata": {},
   "source": [
    "Next, we make a correlation matrix that includes the factors of population, crime index, minimum wage, birth rate, and happiness score. The goal is to compare how crime index, minimum wage, and birth rate are correlated to population, and how population is correlated to happiness score. This addresses the more nuanced element of our analysis, where we want to understand if smaller population leads to more happiness, and if lower birth rates, higher minimum wages, and lower crime index relate to smaller population size.\n",
    "\n",
    "From the correlation matrix, we can determine there is no multicollinearity between variables, as none of their correlations are high (close to 1). Therefore, we do not need to drop any of these predictor variables."
   ]
  },
  {
   "cell_type": "code",
   "execution_count": 60,
   "id": "643c1010",
   "metadata": {
    "scrolled": true
   },
   "outputs": [
    {
     "data": {
      "text/html": [
       "<div>\n",
       "<style scoped>\n",
       "    .dataframe tbody tr th:only-of-type {\n",
       "        vertical-align: middle;\n",
       "    }\n",
       "\n",
       "    .dataframe tbody tr th {\n",
       "        vertical-align: top;\n",
       "    }\n",
       "\n",
       "    .dataframe thead th {\n",
       "        text-align: right;\n",
       "    }\n",
       "</style>\n",
       "<table border=\"1\" class=\"dataframe\">\n",
       "  <thead>\n",
       "    <tr style=\"text-align: right;\">\n",
       "      <th></th>\n",
       "      <th>Population</th>\n",
       "      <th>Crime Index</th>\n",
       "      <th>Minimum wage($)</th>\n",
       "      <th>birth_rate</th>\n",
       "      <th>Happiness score</th>\n",
       "    </tr>\n",
       "  </thead>\n",
       "  <tbody>\n",
       "    <tr>\n",
       "      <th>Population</th>\n",
       "      <td>1.000000</td>\n",
       "      <td>-0.053486</td>\n",
       "      <td>-0.126019</td>\n",
       "      <td>0.000756</td>\n",
       "      <td>-0.203763</td>\n",
       "    </tr>\n",
       "    <tr>\n",
       "      <th>Crime Index</th>\n",
       "      <td>-0.053486</td>\n",
       "      <td>1.000000</td>\n",
       "      <td>-0.328737</td>\n",
       "      <td>0.534143</td>\n",
       "      <td>-0.292256</td>\n",
       "    </tr>\n",
       "    <tr>\n",
       "      <th>Minimum wage($)</th>\n",
       "      <td>-0.126019</td>\n",
       "      <td>-0.328737</td>\n",
       "      <td>1.000000</td>\n",
       "      <td>-0.453007</td>\n",
       "      <td>0.621926</td>\n",
       "    </tr>\n",
       "    <tr>\n",
       "      <th>birth_rate</th>\n",
       "      <td>0.000756</td>\n",
       "      <td>0.534143</td>\n",
       "      <td>-0.453007</td>\n",
       "      <td>1.000000</td>\n",
       "      <td>-0.582908</td>\n",
       "    </tr>\n",
       "    <tr>\n",
       "      <th>Happiness score</th>\n",
       "      <td>-0.203763</td>\n",
       "      <td>-0.292256</td>\n",
       "      <td>0.621926</td>\n",
       "      <td>-0.582908</td>\n",
       "      <td>1.000000</td>\n",
       "    </tr>\n",
       "  </tbody>\n",
       "</table>\n",
       "</div>"
      ],
      "text/plain": [
       "                 Population  Crime Index  Minimum wage($)  birth_rate  \\\n",
       "Population         1.000000    -0.053486        -0.126019    0.000756   \n",
       "Crime Index       -0.053486     1.000000        -0.328737    0.534143   \n",
       "Minimum wage($)   -0.126019    -0.328737         1.000000   -0.453007   \n",
       "birth_rate         0.000756     0.534143        -0.453007    1.000000   \n",
       "Happiness score   -0.203763    -0.292256         0.621926   -0.582908   \n",
       "\n",
       "                 Happiness score  \n",
       "Population             -0.203763  \n",
       "Crime Index            -0.292256  \n",
       "Minimum wage($)         0.621926  \n",
       "birth_rate             -0.582908  \n",
       "Happiness score         1.000000  "
      ]
     },
     "execution_count": 60,
     "metadata": {},
     "output_type": "execute_result"
    }
   ],
   "source": [
    "correlation = hypothesis2_df[['Population', 'Crime Index', 'Minimum wage($)', 'birth_rate', \n",
    "                              'Happiness score']].corr()\n",
    "correlation"
   ]
  },
  {
   "cell_type": "markdown",
   "id": "cd35f701",
   "metadata": {},
   "source": [
    "We then construct a heat map to show a more visual representation of the correlations."
   ]
  },
  {
   "cell_type": "code",
   "execution_count": 65,
   "id": "2ea70b2b",
   "metadata": {
    "scrolled": true
   },
   "outputs": [
    {
     "data": {
      "image/png": "[encoded data removed]",
      "text/plain": [
       "<Figure size 640x480 with 2 Axes>"
      ]
     },
     "metadata": {},
     "output_type": "display_data"
    }
   ],
   "source": [
    "sns.heatmap(correlation, annot=True, cmap='coolwarm')\n",
    "plt.show()"
   ]
  },
  {
   "cell_type": "markdown",
   "id": "22655e62",
   "metadata": {},
   "source": [
    "## Interpretation and Conclusions"
   ]
  },
  {
   "cell_type": "markdown",
   "id": "1c6d8d34",
   "metadata": {},
   "source": [
    "**Interpretation**:\n",
    "\n",
    "1. Our analysis showed a __significant positive relationship between suicide rate and happiness score__. Looking at the coefficient and intercept of our linegraph, we can say theres a 22.59 increase in happiness score per 1 unit increase in suicide rate. Therefore, countries that reported to be happier had overall more suicides than countries that were deemed less happy. However, the bootstrapped data showed our data was varied and had wide range of outcomes. This could be due to the high R-square value (78%) which may have clouded our data. The OLS summary and permutation model showed that our data was significant, with our F-statistic being 9.58e-22. Additionally the p-value was 0.00, suggesting that 'suicide_rate' significantly predicted 'Happiness score'.\n",
    "    \n",
    "2. From the heatmap, we can see that crime index has a weak negative correlation with population (-0.053). Minimum wage also has a weak negative correlation with population (-0.13). Birth rate has a weak positive correlation with population (0.00076). From the heatmap, correlations between the various factors and population do not appear strong. We are particularly interested to see if there is a relationship between population size and happiness score. Population has a weak negative correlation with happiness score (-0.2). Thus, there does not appear to be a strong correlation between population and happiness score. According to the heatmap, minimum wage seems to have the strongest positive correlation to happiness score (0.62). Birth rate has the strongest negative correlation to happiness score (-0.58).\n",
    "\n",
    "**Conclusion**:\n",
    "\n",
    "Our findings suggest a notable association between higher reported happiness and higher suicide rates among countries. While the regression model demonstrated significance, further scrutiny of assumptions and model refinement is crucial to ensure its reliability and applicability to varied scenarios. For future steps, I'd consider looking into the residual plots of the suicide rate. \n",
    "\n",
    "There does not appear to be strong correlations with crime index, minimum wage, and birth rate to population size. There also does not appear to be a strong correlation between population and happiness score."
   ]
  },
  {
   "cell_type": "markdown",
   "id": "55f17079",
   "metadata": {},
   "source": [
    "## Limitations\n",
    "\n",
    "\n",
    "__1.__ Here are some limitations of the health data:\n",
    "\n",
    "  - The Suicide Number CSV could have accuracy problems through the collection process. It is hard to account for all the suicides globally since it doesn’t account for missing people, doesn’t account for underreportings, and we don’t know what constitutes as a suicide. \n",
    "\n",
    "  - When merging the different data frames, it was difficult to keep all the countries shared by the three data sets. Since we were inner joining, only countries that were on all datasets were included. \n",
    "  \n",
    "  - The data points are very scattered so its hard to indicate a pattern in the relationship of suicide rate and happiness score.\n",
    "\n",
    "__2.__ Though the global country information dataset is very comprehensive and has over 18,000 downloads, there isn’t clear documentation of its sources and how the data was collected. Thus, there is some ambiguity associated with reporting findings based on this data.\n",
    "\n",
    "__3.__ The world happiness report data is not up to date to 2023, so we have chosen to use the most recent data collected from 2022 in our analysis. This could potentially alter our findings as it may not completely and accurately reflect the current situation.\n",
    "\n",
    "__4.__ The world happiness report data was mainly collected through a survey, the Gallup World Survey. Thus, there could be selection biases in the responses and the data may not be completely representative of the whole population.\n",
    "\n",
    "__5.__ The Crime Rate By Country 2023 CSV doesn’t clearly explain how the 'crime index' is calculated, which raises concerns about potential bias in data collection.\n",
    "\n",
    "__6.__ The geography map made it difficult to compare data between the suicide rate and happiness score since it quanitified the effects in number rather numerics. "
   ]
  },
  {
   "cell_type": "markdown",
   "id": "3ca6957a",
   "metadata": {},
   "source": [
    "## Questions For Reviewers:\n",
    "\n"
   ]
  },
  {
   "cell_type": "markdown",
   "id": "3389a58d",
   "metadata": {},
   "source": [
    "__1.__ What are some examples of graphs that you think would be better or necessary for our final project?\n",
    "\n",
    "__2.__ What do you think we should focus on in our final submission?\n",
    "\n",
    "__3.__ What other data do you think we should include on top of our preregistration hyptothesis"
   ]
  }
 ],
 "metadata": {
  "kernelspec": {
   "display_name": "Python 3 (ipykernel)",
   "language": "python",
   "name": "python3"
  },
  "language_info": {
   "codemirror_mode": {
    "name": "ipython",
    "version": 3
   },
   "file_extension": ".py",
   "mimetype": "text/x-python",
   "name": "python",
   "nbconvert_exporter": "python",
   "pygments_lexer": "ipython3",
   "version": "3.11.4"
  }
 },
 "nbformat": 4,
 "nbformat_minor": 5
}
