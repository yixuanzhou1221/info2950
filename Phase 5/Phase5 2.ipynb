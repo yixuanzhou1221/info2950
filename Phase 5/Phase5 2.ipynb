{
 "cells": [
  {
   "cell_type": "markdown",
   "id": "4dc8784d",
   "metadata": {},
   "source": [
    "# INFO 2950 Final Project - Phase V  <a name=\"top\"></a>\n",
    "___"
   ]
  },
  {
   "cell_type": "markdown",
   "id": "64e31a18",
   "metadata": {},
   "source": [
    "## Table of Contents\n",
    "1. [Introduction](#introduction)\n",
    "    - [Key Terms](#keyTerms)\n",
    "    - [Research Questions](#researchQuestion)\n",
    "    - [Summary of Findings](#summary)\n",
    "2. [Data Description](#desc)\n",
    "3. [Preregistration Statements](#prereg)\n",
    "4. [Hypothesis 1](#hypo1)\n",
    "    - [Data Analysis](#analysis1)\n",
    "    - [Evaluation of Significance](#eval1)\n",
    "    - [Interpretation](#inter1)\n",
    "5. [Hypothesis 2](#hypo2)\n",
    "    - [Data Analysis](#analysis2)\n",
    "    - [Evaluation of Significance](#eval2)\n",
    "    - [Interpretation](#inter2)\n",
    "6. [Conclusion](#conclusion)\n",
    "7. [Limitations](#limit)\n",
    "8. [Appendix](#appendix)"
   ]
  },
  {
   "cell_type": "markdown",
   "id": "1c9bbd0b",
   "metadata": {},
   "source": [
    "## Introduction <a name=\"introduction\"></a>\n",
    "The question of happiness has been commonly pondered and explored throughout history. People have constantly looked for the best way to live their lives and seek happiness. Whether it's defined by personal achievements, meaningful relationships, or moments of delight, the concept of happiness is an important part of the human experience, shaping our perspectives, decisions, and the overall quality of our lives.\n",
    "\n",
    "Our research aims to shed light on this question by examining how different areas of life can play a role in influencing countries' happiness scores. Though happiness has been commonly studied, our research is differentiated because it combines the impact of different factors in the areas of health, economics, and demography, which are typically analyzed separately. \n",
    "\n",
    "In particular, factors we have chosen to study are suicide rate, birth rate, minimum wage, crime index, and population size. We chose factors from a wide range of areas because we are interested in understanding if different aspects of lifestyle (ie. health, economics, and demography) have more weight than others in influencing happiness.\n",
    "\n",
    "Understanding how these various factors can influence happiness is important on a personal level because every individual is invested in their own happiness. However, this research can also be used extract broader insights into the way different societies are structured and how that can subsequently affect happiness. Thus, the findings from this research can be used as a basis for informing policy decisions that can have the potential to increase happiness worldwide.\n",
    "\n",
    "## Key Terms <a name=\"keyTerms\"></a>\n",
    "1) **Suicide rate**: Number of suicide deaths in a year, divided by the population and multiplied by 100,000.\n",
    "(Source: https://www.who.int/data/gho)\n",
    "\n",
    "2) **World happiness score**: A publication that contains articles and rankings of national happiness, based on respondent ratings of their own lives, which the report also correlates with various (quality of) life factors.\n",
    "(Source: https://en.wikipedia.org/wiki/World_Happiness_Report)\n",
    "\n",
    "3) **Population size**: The number of individuals present in a subjectively designated geographic range. (Source: https://www.nature.com)\n",
    "\n",
    "4) **Minimum wage**: The lowest remuneration that employers can legally pay their employees—the price floor below which employees may not sell their labor. (Source: https://en.wikipedia.org/wiki/Minimum_wage)\n",
    "\n",
    "5) **Crime index**: The crime rate per 1,000 population for all crimes in a specific neighborhood or city. (Source: https://help.neighborhoodscout.com)\n",
    "\n",
    "6) **Birth rate**: The total number of live human births per 1,000 population for a given period divided by the length of the period in years. (Source: https://en.wikipedia.org/wiki/Birth_rate)\n",
    "\n",
    "7) **Bootstrapping**: A method of inferring results for a population from results found on a collection of smaller random samples of that population, using replacement during the sampling process. (Source: https://www.mastersindatascience.org/learning/machine-learning-algorithms/bootstrapping/)\n",
    "\n",
    "8) **Heteroskedasticity**: Happens when the standard deviations of a predicted variable, monitored over different values of an independent variable or as related to prior time periods, are non-constant. (Source: https://www.investopedia.com)\n",
    "\n",
    "10) **Multivariable linear regression**: A statistical technique that uses several explanatory variables to predict the outcome of a response variable. (Source: https://www.investopedia.com/terms/m/mlr.asp)\n",
    "\n",
    "## Research Question <a name=\"researchQuestion\"></a>\n",
    "**Main Question**: Among the factors of suicide rate, birth rate, minimum wage, crime index, and population size, which are the most prominent in influencing “happiness”? \n",
    "\n",
    "To answer this question, we use the following sub-questions to assist:\n",
    "\n",
    "1) Is there a relationship between the levels of suicide rate and a country's happiness score?\n",
    "\n",
    "2) Does a smaller population size, lower birth rate, higher minimum wage, and lower crime index lead to a higher happiness score for countries?\n",
    "\n",
    "\n",
    "## Summary of Findings <a name=\"summary\"></a>\n",
    "\n",
    "We began the project by cleaning the data, removing all the null values, the less relevant columns, and renaming any columns to make them more clear. We then converted the files into a CSV file to make it easier to edit and import into the final project.\n",
    "\n",
    "**Hypothesis 1 Results:** We found that suicide rate **does not have an significant impact on happiness score**, and that suicide rate does not predict overall happiness in each country.\n",
    "\n",
    "**Overview**:\n",
    "1. <u>Heatmap/Correlation Matrix </u>: We looked at the correlation between happiness and suicide rate to gauge the general relationship between the two variables. The heatmap helped us visualize the connection between the two. \n",
    "2. <u>Geography Map of Suicide Rate to Happiness Score</u>: We created two individual geography map of suicide rate and happiness. This allowed us to look at the magnitude of suicide rate and happiness score on a global scale. Additionally, the two maps side-to-side allowed us a quick and convenient way to compare the two variables. \n",
    "3. <u>Coefficient and Intercept + Line Plot Comparison</u>: We calculated for the coefficient and intercept through a linear regression model. This allowed us to observe a numeric value between happiness and suicide rates between countries. The line plot visualized this relationship making it easier to understand.\n",
    "4. <u>Bootstrap Graph + Confidence Interval</u>: We created a bootstrapped graph to visualize the various predicts trends of the model. We also calculated the confidence interval based off the slopes of the various graphs. This allowed us to estimate the variability and uncertainty associated with the regression coefficients. \n",
    "5. <u>OLS Regression Summary</u>: The OLS regression summary gave us the p-value of the data, enabling us to test for significance within the dataset. \n",
    "6. <u>Permutation</u>: We also created permutation graphs to understand the distribution and variability of a particular statistic under the assumption of no relationship between variables.\n",
    "\n",
    "**Hypothesis 2 Results:** We found that minimum wage and population **positively predicts happiness score**, while birth rate **negatively predicts happiness score**. Lastly, the crime rate **does not significantly predict happiness rate.**\n",
    "\n",
    "**Overview**:\n",
    "1. <u>Heteroskedasticity Check (Residual Plot)</u>: For the heteroskedasticity check, we created residual plots to check for the randomness of points. We wanted to ensure that the data was randomly distributed in preparation for the multiple linear regression, and perform transformations if necessary.\n",
    "2. <u>Log Transform Results</u>: The results of the residual plots show no heteroskedasticity, and therefore no need to transform any of the variables for that reason. However, due to the outliers we observed in the population data, we decided to log transform the population data to account for those outliers.\n",
    "3. <u>Multicollinearity Check (Correlation Matrix/Heatmap)</u>: We checked for multicollinearity to ensure that variables weren't too highly correlated. The purpose of this was to make sure that predictor variables didn't disproportionately affect regression outcomes. Using the correlation coefficent values from a correlation matrix and heatmap, we found that there is no multicollinearity.\n",
    "4. <u>Seaborn Regplot</u>:\n",
    "5. <u>OLS Regression Summary</u>:\n",
    "\n"
   ]
  },
  {
   "cell_type": "markdown",
   "id": "e4de3600",
   "metadata": {},
   "source": [
    "## Data Description: <a name=\"desc\"></a>\n",
    "\n",
    "### __Motivation__\n",
    "__Why was this dataset created?__\n",
    "- Our dataset was created to observe the factors that influenced life satisfaction in various countries. We wanted to isolate factors that demonstrated the strongest correlation to overall happiness. The five datasets we analyzed all compared individual factors that would influence or measure the wellbeing of the country. Their purpose was to capture the overall state of different countries. \n",
    "\n",
    "__Who funded the creation of the dataset?__\n",
    "- These datasets took information from organizations like the “World Health Organization”, “World Bank” statistics, United Nations Statistics, and other datasets. It is unclear who funded these datasets. \n",
    "### __Composition__\n",
    "__Is any information missing from individual instances?__\n",
    "- There is information missing from individual instances, such as data from smaller countries like Andorra, which may have less resources to collect the data. These rows of missing values have been removed.\n",
    "\n",
    "__What are the observations (rows) and the attributes (columns)?__\n",
    "\n",
    "- For these datasets, the rows are the names of countries, and the columns are health, economic, and demography factors. These include number of suicides, infant mortality rate, crime rates, and so on. \n",
    "\n",
    "__What processes might have influenced what data was observed and recorded and what was not?__\n",
    "- The data has mainly been collected from research studies, using methods such as surveys. Thus, there could be several biases that could have influenced data collection, such as selection bias, sampling bias, and social desirability bias.\n",
    "\n",
    "\n",
    "### __Collection Process__\n",
    "__How was the data associated with each instance acquired?__\n",
    "- We gathered the data from various CSV files in order to analyze various facets of influential attributes that impacted a nation. The individual CSV files took data from large health organizations that measured population statistics. Some examples are the \"https://ourworldindata.org/\", the \"Sustainable Development Solutions Network\", and the \"World Health Organization\".\n",
    "\n",
    "__Over what timeframe was the data collected?__\n",
    "- Our research analyzed data from the year 2013 to 2023. This data allows us to predict the more recent trends in happiness levels, minimum wage, birth rate, and so forth. \n",
    "\n",
    "__What preprocessing was done, and how did the data come to be in the form that you are using?__\n",
    "- The data was scraped from large organizations that provided public data. Data was also used from previous research studies using the same data. The data was changed to its current form once we removed less relevant columns and collected the correlation value. Additionally, we dropped empty column values to focus on the analyzable data. \n",
    "\n",
    "### __Uses__\n",
    "__Where can your raw source data be found, if applicable? Provide a link to the raw data (hosted on Github, in a Cornell Google Drive or Cornell Box).__\n",
    "\n",
    "Overall, we used 6 datasets. They can be found in their raw data sources as follows. \n",
    "\n",
    "1. Mental health disorders dataset:\n",
    "https://github.com/yixuanzhou1221/info2950/blob/main/Phase%202/Mental%20health%20Depression%20disorder%20Data.csv\n",
    "\n",
    "2. Suicide dataset:\n",
    "https://github.com/yixuanzhou1221/info2950/blob/main/Phase%202/master.csv\n",
    "\n",
    "3. Demography and economic information dataset:\n",
    "https://github.com/yixuanzhou1221/info2950/blob/main/Phase%202/world-data-2023.csv\n",
    "\n",
    "4. Crime information dataset:\n",
    "https://github.com/yixuanzhou1221/info2950/blob/main/Phase%202/crime-rate-by-country-2023.csv\n",
    "\n",
    "5. Country and continent dataset:\n",
    "https://github.com/yixuanzhou1221/info2950/blob/main/Phase%202/countryContinent.csv\n",
    "\n",
    "6. Happiness information dataset:\n",
    "https://github.com/yixuanzhou1221/info2950/blob/main/Phase%202/2022.csv\n",
    "\n",
    "__What (other) tasks could the dataset be used for?__\n",
    "- These datasets contain a lot of rich information that can be used for a variety of different tasks. For example, other ideas that could be studied include the patterns between education levels and human development, between labor force participation and overall economic performance, and between urbanization trends and environmental consequences.\n",
    "\n",
    "__Are there tasks for which the dataset should not be used?__\n",
    "- Some potential tasks that these data should not be used for are visualizing trends over time, because not all the datasets include data over time.\n",
    "\n",
    "\n"
   ]
  },
  {
   "cell_type": "markdown",
   "id": "c917f6d4",
   "metadata": {},
   "source": [
    "## Preregistration Statements <a name=\"prereg\"></a>\n",
    "**Hypothesis 1**: \n",
    "Countries that are reported to have an overall higher rate of happiness will experience lower levels of suicide rates. \n",
    "\n",
    "**Analysis**: We will run a linear regression model to determine if there is a relationship between happiness score and suicide rates (number of suicides per 100,000 people).This would be our formula: Happiness Score = α + $β_{\\text{ Suicide rate}}$ * Suicide Rate + ε. We will be looking to see if $β_{\\text{ Suicide rate}}$ < 0, to determine if there is a negative correlation between happiness and suicide rates per country.\n",
    "\n",
    "**Hypothesis 2**: \n",
    "Smaller population sizes of countries correspond to lower birth rates, higher minimum wages, and lower crime index, which in turn leads to higher happiness scores for countries.\n",
    "\n",
    "**Analysis**: We will run a multivariable linear regression to determine the correlation of the inputs of birth rate (number of live births per 1,000 people in the population), minimum wage (in dollars), crime index (out of 100), and population (in number of people) in affecting the output of happiness score. We will test whether $β_{\\text{ Population}} < 0$, $β_{\\text{ Birth rate}} < 0$, $β_{\\text{ Minimum wage}} > 0$, and $β_{\\text{ Crime index}} < 0$. Our formula would be: Happiness Score = α + $β_{\\text{ Birth rate}}$ * Birth rate + $β_{\\text{  Minimum wage}}$ * Minimum wage + $β_{\\text{ Crime index}}$ * Crime index + $β_{\\text{ Population}}$ * Population + ε."
   ]
  },
  {
   "cell_type": "markdown",
   "id": "c79b5416",
   "metadata": {},
   "source": [
    "\n",
    "## **Hypothesis 1**: <a name=\"hypo1\"></a>\n",
    "\n",
    "$H_O$: Countries that are reported to have an overall higher rate of happiness do not experience lower levels of suicide rates.\n",
    "\n",
    "$H_A$: Countries that are reported to have an overall higher rate of happiness experience lower levels of suicide rates.\n",
    "\n",
    "### Data Analysis:<a name=\"analysis1\"></a>"
   ]
  },
  {
   "cell_type": "code",
   "execution_count": 2,
   "id": "07bbcfdf",
   "metadata": {},
   "outputs": [],
   "source": [
    "import numpy as np\n",
    "import pandas as pd\n",
    "import matplotlib.pyplot as plt\n",
    "import seaborn as sns\n",
    "import datetime\n",
    "import duckdb\n",
    "import statsmodels.api as sm\n",
    "from sklearn.linear_model import LinearRegression\n",
    "import plotly.express as px"
   ]
  },
  {
   "cell_type": "markdown",
   "id": "f1de8b4a",
   "metadata": {},
   "source": [
    "We use the clean CSV we generated for the analysis of Hypothesis 1, completing light cleaning to organize the format better."
   ]
  },
  {
   "cell_type": "code",
   "execution_count": 3,
   "id": "5c358b84",
   "metadata": {},
   "outputs": [
    {
     "ename": "KeyError",
     "evalue": "\"['Unnamed: 0.1', 'Unnamed: 0'] not found in axis\"",
     "output_type": "error",
     "traceback": [
      "\u001b[0;31m---------------------------------------------------------------------------\u001b[0m",
      "\u001b[0;31mKeyError\u001b[0m                                  Traceback (most recent call last)",
      "Cell \u001b[0;32mIn[3], line 2\u001b[0m\n\u001b[1;32m      1\u001b[0m health_df \u001b[38;5;241m=\u001b[39m pd\u001b[38;5;241m.\u001b[39mread_csv(\u001b[38;5;124m\"\u001b[39m\u001b[38;5;124mhealth1.csv\u001b[39m\u001b[38;5;124m\"\u001b[39m)\n\u001b[0;32m----> 2\u001b[0m health_df \u001b[38;5;241m=\u001b[39m health_df\u001b[38;5;241m.\u001b[39mdrop(columns\u001b[38;5;241m=\u001b[39m[\u001b[38;5;124m'\u001b[39m\u001b[38;5;124mUnnamed: 0.1\u001b[39m\u001b[38;5;124m'\u001b[39m, \u001b[38;5;124m'\u001b[39m\u001b[38;5;124mUnnamed: 0\u001b[39m\u001b[38;5;124m'\u001b[39m])\n\u001b[1;32m      3\u001b[0m health_df\n",
      "File \u001b[0;32m~/anaconda3/envs/test/lib/python3.11/site-packages/pandas/core/frame.py:5258\u001b[0m, in \u001b[0;36mDataFrame.drop\u001b[0;34m(self, labels, axis, index, columns, level, inplace, errors)\u001b[0m\n\u001b[1;32m   5110\u001b[0m \u001b[38;5;28;01mdef\u001b[39;00m \u001b[38;5;21mdrop\u001b[39m(\n\u001b[1;32m   5111\u001b[0m     \u001b[38;5;28mself\u001b[39m,\n\u001b[1;32m   5112\u001b[0m     labels: IndexLabel \u001b[38;5;241m=\u001b[39m \u001b[38;5;28;01mNone\u001b[39;00m,\n\u001b[0;32m   (...)\u001b[0m\n\u001b[1;32m   5119\u001b[0m     errors: IgnoreRaise \u001b[38;5;241m=\u001b[39m \u001b[38;5;124m\"\u001b[39m\u001b[38;5;124mraise\u001b[39m\u001b[38;5;124m\"\u001b[39m,\n\u001b[1;32m   5120\u001b[0m ) \u001b[38;5;241m-\u001b[39m\u001b[38;5;241m>\u001b[39m DataFrame \u001b[38;5;241m|\u001b[39m \u001b[38;5;28;01mNone\u001b[39;00m:\n\u001b[1;32m   5121\u001b[0m \u001b[38;5;250m    \u001b[39m\u001b[38;5;124;03m\"\"\"\u001b[39;00m\n\u001b[1;32m   5122\u001b[0m \u001b[38;5;124;03m    Drop specified labels from rows or columns.\u001b[39;00m\n\u001b[1;32m   5123\u001b[0m \n\u001b[0;32m   (...)\u001b[0m\n\u001b[1;32m   5256\u001b[0m \u001b[38;5;124;03m            weight  1.0     0.8\u001b[39;00m\n\u001b[1;32m   5257\u001b[0m \u001b[38;5;124;03m    \"\"\"\u001b[39;00m\n\u001b[0;32m-> 5258\u001b[0m     \u001b[38;5;28;01mreturn\u001b[39;00m \u001b[38;5;28msuper\u001b[39m()\u001b[38;5;241m.\u001b[39mdrop(\n\u001b[1;32m   5259\u001b[0m         labels\u001b[38;5;241m=\u001b[39mlabels,\n\u001b[1;32m   5260\u001b[0m         axis\u001b[38;5;241m=\u001b[39maxis,\n\u001b[1;32m   5261\u001b[0m         index\u001b[38;5;241m=\u001b[39mindex,\n\u001b[1;32m   5262\u001b[0m         columns\u001b[38;5;241m=\u001b[39mcolumns,\n\u001b[1;32m   5263\u001b[0m         level\u001b[38;5;241m=\u001b[39mlevel,\n\u001b[1;32m   5264\u001b[0m         inplace\u001b[38;5;241m=\u001b[39minplace,\n\u001b[1;32m   5265\u001b[0m         errors\u001b[38;5;241m=\u001b[39merrors,\n\u001b[1;32m   5266\u001b[0m     )\n",
      "File \u001b[0;32m~/anaconda3/envs/test/lib/python3.11/site-packages/pandas/core/generic.py:4549\u001b[0m, in \u001b[0;36mNDFrame.drop\u001b[0;34m(self, labels, axis, index, columns, level, inplace, errors)\u001b[0m\n\u001b[1;32m   4547\u001b[0m \u001b[38;5;28;01mfor\u001b[39;00m axis, labels \u001b[38;5;129;01min\u001b[39;00m axes\u001b[38;5;241m.\u001b[39mitems():\n\u001b[1;32m   4548\u001b[0m     \u001b[38;5;28;01mif\u001b[39;00m labels \u001b[38;5;129;01mis\u001b[39;00m \u001b[38;5;129;01mnot\u001b[39;00m \u001b[38;5;28;01mNone\u001b[39;00m:\n\u001b[0;32m-> 4549\u001b[0m         obj \u001b[38;5;241m=\u001b[39m obj\u001b[38;5;241m.\u001b[39m_drop_axis(labels, axis, level\u001b[38;5;241m=\u001b[39mlevel, errors\u001b[38;5;241m=\u001b[39merrors)\n\u001b[1;32m   4551\u001b[0m \u001b[38;5;28;01mif\u001b[39;00m inplace:\n\u001b[1;32m   4552\u001b[0m     \u001b[38;5;28mself\u001b[39m\u001b[38;5;241m.\u001b[39m_update_inplace(obj)\n",
      "File \u001b[0;32m~/anaconda3/envs/test/lib/python3.11/site-packages/pandas/core/generic.py:4591\u001b[0m, in \u001b[0;36mNDFrame._drop_axis\u001b[0;34m(self, labels, axis, level, errors, only_slice)\u001b[0m\n\u001b[1;32m   4589\u001b[0m         new_axis \u001b[38;5;241m=\u001b[39m axis\u001b[38;5;241m.\u001b[39mdrop(labels, level\u001b[38;5;241m=\u001b[39mlevel, errors\u001b[38;5;241m=\u001b[39merrors)\n\u001b[1;32m   4590\u001b[0m     \u001b[38;5;28;01melse\u001b[39;00m:\n\u001b[0;32m-> 4591\u001b[0m         new_axis \u001b[38;5;241m=\u001b[39m axis\u001b[38;5;241m.\u001b[39mdrop(labels, errors\u001b[38;5;241m=\u001b[39merrors)\n\u001b[1;32m   4592\u001b[0m     indexer \u001b[38;5;241m=\u001b[39m axis\u001b[38;5;241m.\u001b[39mget_indexer(new_axis)\n\u001b[1;32m   4594\u001b[0m \u001b[38;5;66;03m# Case for non-unique axis\u001b[39;00m\n\u001b[1;32m   4595\u001b[0m \u001b[38;5;28;01melse\u001b[39;00m:\n",
      "File \u001b[0;32m~/anaconda3/envs/test/lib/python3.11/site-packages/pandas/core/indexes/base.py:6699\u001b[0m, in \u001b[0;36mIndex.drop\u001b[0;34m(self, labels, errors)\u001b[0m\n\u001b[1;32m   6697\u001b[0m \u001b[38;5;28;01mif\u001b[39;00m mask\u001b[38;5;241m.\u001b[39many():\n\u001b[1;32m   6698\u001b[0m     \u001b[38;5;28;01mif\u001b[39;00m errors \u001b[38;5;241m!=\u001b[39m \u001b[38;5;124m\"\u001b[39m\u001b[38;5;124mignore\u001b[39m\u001b[38;5;124m\"\u001b[39m:\n\u001b[0;32m-> 6699\u001b[0m         \u001b[38;5;28;01mraise\u001b[39;00m \u001b[38;5;167;01mKeyError\u001b[39;00m(\u001b[38;5;124mf\u001b[39m\u001b[38;5;124m\"\u001b[39m\u001b[38;5;132;01m{\u001b[39;00m\u001b[38;5;28mlist\u001b[39m(labels[mask])\u001b[38;5;132;01m}\u001b[39;00m\u001b[38;5;124m not found in axis\u001b[39m\u001b[38;5;124m\"\u001b[39m)\n\u001b[1;32m   6700\u001b[0m     indexer \u001b[38;5;241m=\u001b[39m indexer[\u001b[38;5;241m~\u001b[39mmask]\n\u001b[1;32m   6701\u001b[0m \u001b[38;5;28;01mreturn\u001b[39;00m \u001b[38;5;28mself\u001b[39m\u001b[38;5;241m.\u001b[39mdelete(indexer)\n",
      "\u001b[0;31mKeyError\u001b[0m: \"['Unnamed: 0.1', 'Unnamed: 0'] not found in axis\""
     ]
    }
   ],
   "source": [
    "health_df = pd.read_csv(\"health1.csv\")\n",
    "health_df = health_df.drop(columns=['Unnamed: 0.1', 'Unnamed: 0'])\n",
    "health_df"
   ]
  },
  {
   "cell_type": "markdown",
   "id": "fc55e474",
   "metadata": {},
   "source": [
    "We took the correlation of the suicide rate and happiness score and created a correlation matrix off the results. We then inputted the values into a heatmap to better display the results. We then printed out the correlation value and rounded the input to 5 digits to specify it. "
   ]
  },
  {
   "cell_type": "code",
   "execution_count": null,
   "id": "1b688f47",
   "metadata": {},
   "outputs": [],
   "source": [
    "correlation_matrix = health_df[['Suicide rate', 'Happiness score']].corr()\n",
    "\n",
    "sns.heatmap(correlation_matrix, annot=True, cmap='coolwarm')\n",
    "plt.title('Heat Map: Suicide Rate vs Happiness Score')\n",
    "plt.show()\n",
    "\n",
    "correlation_value = health_df['Suicide rate'].corr(health_df['Happiness score'])\n",
    "print(\"\")\n",
    "print(f\"Correlation between Suicide rate and Happiness score: {correlation_value:.5f}\")"
   ]
  },
  {
   "cell_type": "markdown",
   "id": "d68980c7",
   "metadata": {},
   "source": [
    "A correlation coefficient of 0.20834 suggests a **positive but weak** relationship between Suicide rate and Happiness score. Although there's a tendency for the variables to move in the same direction (as one variable increases, the other tends to increase as well), the strength of this relationship is not very strong."
   ]
  },
  {
   "cell_type": "markdown",
   "id": "4ce139d8",
   "metadata": {},
   "source": [
    "Secondly, we decided to include a geographical map to complement the quantitative analysis with a visual representation of the distribution of happiness scores and suicide rates across different countries. This graphical approach allowed for a spatial understanding, showcasing potential patterns or variations in these factors based on geographic location. We wanted to potentially indicate any geographical clustering or disparities among countries."
   ]
  },
  {
   "cell_type": "code",
   "execution_count": null,
   "id": "550c3d13",
   "metadata": {},
   "outputs": [],
   "source": [
    "\n",
    "fig_suicide_rate = px.choropleth(\n",
    "    health_df,\n",
    "    locations='Country',\n",
    "    locationmode='country names',\n",
    "    color='Suicide rate',\n",
    "    hover_name='Country',\n",
    "    projection='natural earth',\n",
    "    title='Suicide Rate by Country'\n",
    ")\n",
    "fig_suicide_rate.show()\n",
    "\n",
    "# Happiness Rate Choropleth\n",
    "fig_happiness_rate = px.choropleth(\n",
    "    health_df,\n",
    "    locations='Country',\n",
    "    locationmode='country names',\n",
    "    color='Happiness score',\n",
    "    hover_name='Country',\n",
    "    projection='natural earth',\n",
    "    title='Happiness by Country'\n",
    ")\n",
    "fig_happiness_rate.show()"
   ]
  },
  {
   "cell_type": "markdown",
   "id": "189c424a",
   "metadata": {},
   "source": [
    "#### Hypothesis Testing\n",
    "\n",
    "Next we used a __Linear Regression Model__ to obtain a quantitative understanding between suicide rate and happiness score. We estimated the coefficient and intercept of the model to find the general direction and magnitude of the relationship. We had suicide rate as the x-value and happiness score as the y-value, then used a simple line chart to show the relationship."
   ]
  },
  {
   "cell_type": "code",
   "execution_count": null,
   "id": "10b655de",
   "metadata": {},
   "outputs": [],
   "source": [
    "X = health_df[['Suicide rate']]\n",
    "y = health_df['Happiness score']\n",
    "\n",
    "model = LinearRegression()\n",
    "model.fit(X, y)\n",
    "\n",
    "print(f\"Coefficient: {model.coef_[0]:.2f}\")\n",
    "print(f\"Intercept: {model.intercept_:.2f}\")\n",
    "\n",
    "sns.lineplot(x=health_df['Suicide rate'], y=health_df['Happiness score'], color='blue', alpha=0.5)\n",
    "plt.title('Suicide Rate vs Happiness Score')\n",
    "plt.xlabel('Suicide Rate')\n",
    "plt.ylabel('Happiness Score')\n",
    "\n",
    "plt.show()"
   ]
  },
  {
   "cell_type": "markdown",
   "id": "48d4fa1d",
   "metadata": {},
   "source": [
    "The data showed us that for each unit increase in the suicide rate, there is an estimated increase of 22.59 units in the happiness score. Additionally, the intercept value of 6115.47 indicates the baseline level of happiness score when suicide rate is zero.\n",
    "\n",
    "**Observations**: The graph displays a fluctuating pattern, which may indicate that the relationship between suicide rate and happiness score might not strictly follow a linear trend. The erratic pattern also might indicate that various other factors beyond the suicide rate significantly impact happiness scores. Overall the graph displays a non-monotonic relationship. However, overall, the graph generally kept an upwards direction.\n"
   ]
  },
  {
   "cell_type": "markdown",
   "id": "9156e60f",
   "metadata": {},
   "source": [
    "#### Bootstrapped graph \n",
    "\n",
    "We included a bootstrapped graph to __estimate the relationship between suicide rates and happiness scores while quantifying the uncertainty in this relationship.__\n",
    "We created 500 bootstrapped samples of the same size as the original dataset are created. Each sample was generated by random resampling with replacement. Subsequently, linear regression models were built for each bootstrapped sample, focusing on the 'Suicide rate' as the predictor and 'Happiness score' as the target variable. \n",
    "The looped iterations of bootstrap resampling generated numerous samples from our dataset, enabling the creation of multiple linear regression models for our graph.\n",
    "Lastly, we kept the domain for suicide rate from 0 to 30 as to stay consistent to the range of the suicide rate across all countries. \n",
    "\n",
    "We also calculated for the 95% confidence interval between the relationship of suicide rate and happiness. This interval signifies our confidence that __the true relationship between suicide rates and happiness scores, as represented by the slope in a linear regression model, falls within a specific range__. The visualization of the bootstrapped regression lines further emphasized the potential variations in this relationship. "
   ]
  },
  {
   "cell_type": "code",
   "execution_count": null,
   "id": "215d2848",
   "metadata": {},
   "outputs": [],
   "source": [
    "\n",
    "domain = np.array([[0], [30]]) \n",
    "bootstrapped_health = []\n",
    "n= 500\n",
    "bootstrap_slopes = np.zeros(n)\n",
    "\n",
    "for _ in range(n):\n",
    "    bootstrapped_sample = health_df.sample(len(health_df), replace=True)\n",
    "    bootstrapped_health.append(bootstrapped_sample)\n",
    "\n",
    "for i in range(n):\n",
    "    df = bootstrapped_health[i]\n",
    "\n",
    "    bt_model = LinearRegression()\n",
    "    bt_model.fit(df[['Suicide rate']].values, df['Happiness score'])\n",
    "    \n",
    "    bootstrap_slopes[i] = bt_model.coef_[0]\n",
    "    \n",
    "    y_pred = bt_model.predict(domain)\n",
    "\n",
    "    sns.lineplot(x=domain.reshape(-1), y=y_pred, color='lightgreen', alpha=0.3)    \n",
    "\n",
    "plt.xlabel('Suicide Rate')\n",
    "plt.ylabel('Happiness Score')\n",
    "plt.title('Bootstrapped Linear Regression: Suicide Rate vs Happiness Score')\n",
    "plt.show()\n",
    "\n",
    "print(f'The 95% confidence interval is: {np.round(np.quantile(bootstrap_slopes, q=[0.025, 0.975]), 3)}')"
   ]
  },
  {
   "cell_type": "markdown",
   "id": "cb859b73",
   "metadata": {},
   "source": [
    "__Observations__ \n",
    "1. The bootstrapped linear regression generated a large range of predicted relationships between suicide rates and happiness scores. It represented that various predicted trends that could arise from different subsamples of the dataset.\n",
    "2. The graph consistently had a upward direction. This can be observed by the dark green centered betweened the varied possibilities. This may suggest a more stable relationship between the variables across multiple subsamples.\n",
    "3. We calculated a 95% confidence interval of [ 0.31  53.607] for the relationship between suicide rate and happiness score. This suggests that, with 95% confidence, the true impact of changes in suicide rates on happiness scores lies between an increase of 0.31 units to a potential increase of 53.607 units in happiness score for every unit change in the suicide rate.\n",
    "    - However, the wide range between these bounds __suggests a considerable uncertainty in the relationship between suicide rates and happiness scores__. It implies that the impact of changes in suicide rates on happiness scores can vary significantly, and it might not be possible to precisely determine the effect solely based on this analysis. Therefore, further investigation or consideration of additional variables might be necessary to better understand this relationship and its implications.\n"
   ]
  },
  {
   "cell_type": "markdown",
   "id": "45a6cdc4",
   "metadata": {},
   "source": [
    "### Evulation of Significance<a name=\"eval1\"></a>\n",
    "\n",
    "We used a **OLS summary** to evaluate the significance and reliability of the data. We inputted the data into the OLS model and printed the summary."
   ]
  },
  {
   "cell_type": "code",
   "execution_count": null,
   "id": "5fe6c708",
   "metadata": {},
   "outputs": [],
   "source": [
    "def summary(df, input):\n",
    "    X = df[input]\n",
    "    X = sm.add_constant(X)\n",
    "    reg = sm.OLS(df['Happiness score'], X).fit()\n",
    "    print(reg.summary())\n",
    "    \n",
    "    \n",
    "summary(health_df, ['Suicide rate'])"
   ]
  },
  {
   "cell_type": "markdown",
   "id": "e83d6f65",
   "metadata": {},
   "source": [
    "__Observation__: The data showed that the model has around 4.3% variance without centering the variable. Considering the p-value, which stands relatively high at 0.104, it suggests that the model's significance might be attributed to chance. Therefore, since the p-value is greater than the alpha value of 0.05, we can say that the relationship between suicide rate to happiness score is **not significant.**"
   ]
  },
  {
   "cell_type": "markdown",
   "id": "d4bf0fab",
   "metadata": {},
   "source": [
    "Additionally we used **permutations** to test for randomness and significance in the data. First we extracted values from the suicide rate, then we randomly shuffled them to create a random assortment of values. We then changed the original suicide rate values to the shuffled values. We created a linear regression model based off of those results, and created a side to side visualtion of the original data to the permuted data"
   ]
  },
  {
   "cell_type": "code",
   "execution_count": null,
   "id": "d8eeaa58",
   "metadata": {},
   "outputs": [],
   "source": [
    "# Make copy\n",
    "permuted_health_df = health_df.copy()\n",
    "# take value\n",
    "suicide_rates = permuted_health_df['Suicide rate'].values\n",
    "# get random assortment of suicide rate\n",
    "np.random.shuffle(suicide_rates)\n",
    "permuted_health_df['Suicide rate'] = suicide_rates\n",
    "\n",
    "# input into linear regression model\n",
    "model_permuted = LinearRegression()\n",
    "model_permuted.fit(permuted_health_df[['Suicide rate']], permuted_health_df['Happiness score'])\n",
    "\n",
    "fig, (ax1, ax2) = plt.subplots(nrows=1, ncols=2, figsize=(12, 6), sharey=True)\n",
    "\n",
    "# original\n",
    "sns.scatterplot(x='Suicide rate', y='Happiness score', data=health_df, ax=ax1)\n",
    "sns.lineplot(x=health_df['Suicide rate'], y=model.predict(health_df[['Suicide rate']]), color='red', ax=ax1)\n",
    "ax1.set_title('True Data')\n",
    "\n",
    "# permuted\n",
    "sns.scatterplot(x='Suicide rate', y='Happiness score', data=permuted_health_df, ax=ax2)\n",
    "sns.lineplot(x=permuted_health_df['Suicide rate'], y=model_permuted.predict(permuted_health_df[['Suicide rate']]), color='red', ax=ax2)\n",
    "ax2.set_title('Permuted Data')\n",
    "\n",
    "plt.show()"
   ]
  },
  {
   "cell_type": "markdown",
   "id": "17b2b6d8",
   "metadata": {},
   "source": [
    "__Observation__: Looking at the different permutations of the graph, the observed relationship doesn't differs significantly from the relationships derived from permutations. This suggests that the observed association is likely to happen by random chance alone. In other words, it demonstrates the data is undistinguishable from randomness. Overall, it shows the data is **not significant.**"
   ]
  },
  {
   "cell_type": "markdown",
   "id": "40c5f4d6",
   "metadata": {},
   "source": [
    "## Interpretation <a name=\"inter1\"></a>"
   ]
  },
  {
   "cell_type": "markdown",
   "id": "8aa6d1c5",
   "metadata": {},
   "source": [
    "Our analysis showed a __non-significant positive relationship between suicide rate and happiness score__. Looking at the coefficient and intercept of our linegraph, we can say there is a _22.59 increase in happiness score per 1 unit increase in suicide rate_. Moreover, the positive correlation of 0.208 between suicide rate and happiness show a **positive yet weak relationship**. Therefore, *countries that reported to be happier had more suicides than countries that were less happy*. In terms of significance, the OLS summary and permutation model showed that our data was **not significant**, with our __p-value being 0.104__ and the **lack of randomness in the permutation graphs**. Additionally, the bootstrapped data showed our data was **varied** and had wide range of outcomes. This can be seen through our confidence interval; the 95% confidence interval was between **0.31 and 53.607**. This shows __uncertainty__ in our data due to the large disparity between the lower bound and the higher bound. Due to our findings, we will **fail to reject the null hypothesis** due to lack of significance in the data. The presence of uncertainty, evident in the significance testing and substantial range within the 95% confidence interval, necessitates a deeper investigation into the nuances of these associations."
   ]
  },
  {
   "cell_type": "markdown",
   "id": "9eea06df",
   "metadata": {},
   "source": [
    "___\n",
    "## Hypothesis 2: <a name=\"hypo2\"></a>"
   ]
  },
  {
   "cell_type": "markdown",
   "id": "f8aa4874",
   "metadata": {},
   "source": [
    "$H_O$: Population sizes of countries, birth rates, minimum wages, and crime index do not lead to higher happiness scores for countries.\n",
    "\n",
    "$H_A$: Population sizes of countries, birth rates, minimum wages, and crime index lead to higher happiness scores for countries."
   ]
  },
  {
   "cell_type": "markdown",
   "id": "60a87596",
   "metadata": {},
   "source": [
    "### **Data Analysis** <a name=\"analysis2\"></a>"
   ]
  },
  {
   "cell_type": "markdown",
   "id": "80401098",
   "metadata": {},
   "source": [
    "For the second question, our overall goal is to perform a linear regression using crime index, minimum wage, birth rate, and population size as inputs to happiness score as an output. \n",
    "\n",
    "To complete this, we first want to check for heteroskedasticity and multicollinearity to ensure the variables are valid to be used in a multivariable linear regression. \n",
    "\n",
    "We use the clean CSV we generated for the analysis of Hypothesis 2, performing light cleaning to organize the format better."
   ]
  },
  {
   "cell_type": "code",
   "execution_count": null,
   "id": "9a8ff391",
   "metadata": {
    "scrolled": true
   },
   "outputs": [],
   "source": [
    "hypothesis2_df = pd.read_csv(\"hypothesis2.csv\")\n",
    "hypothesis2_df = hypothesis2_df.drop(columns=['Unnamed: 0'])\n",
    "hypothesis2_df.rename(columns={' Crime index': 'Crime index'}, inplace=True)\n",
    "\n",
    "hypothesis2_df"
   ]
  },
  {
   "cell_type": "markdown",
   "id": "65dea9ed",
   "metadata": {},
   "source": [
    "**Performing Heteroskedasticity Check**\n",
    "\n",
    "First, we will check for heteroskedasticity. We make residual plots between between each input variable and the output variable. The purpose of this is to ensure that the data points are randomly distributed. We can check to see if there are any signs of heteroskedasticity, which is indicated by a fan shape. The following graphs show this check for heteroskedasticity, revealing that there is no heteroskedasticity in the data."
   ]
  },
  {
   "cell_type": "code",
   "execution_count": null,
   "id": "80d11bcf",
   "metadata": {},
   "outputs": [],
   "source": [
    "columns = hypothesis2_df.columns[1:5]\n",
    "for i in columns:\n",
    "    sns.residplot(data=hypothesis2_df, x=i, y='Happiness score')\n",
    "    plt.title(f\"Heteroskedasticity Check for {i}\")\n",
    "    plt.show()"
   ]
  },
  {
   "cell_type": "markdown",
   "id": "fcf39004",
   "metadata": {},
   "source": [
    "**Log transformation on population data**\n",
    "\n",
    "However, we notice two outliers in the population data. Thus, we will perform a log transformation on the population data to account for this and show the data in a more clear manner. Here is the updated dataframe including the new log values. "
   ]
  },
  {
   "cell_type": "code",
   "execution_count": null,
   "id": "881f5a3b",
   "metadata": {
    "scrolled": true
   },
   "outputs": [],
   "source": [
    "hypothesis2_df"
   ]
  },
  {
   "cell_type": "markdown",
   "id": "57da439f",
   "metadata": {},
   "source": [
    "Below is the new graph for population, showing the log of population values compared to happiness score."
   ]
  },
  {
   "cell_type": "code",
   "execution_count": null,
   "id": "55cffa75",
   "metadata": {
    "scrolled": true
   },
   "outputs": [],
   "source": [
    "hypothesis2_df[\"Log population\"] = np.log(hypothesis2_df[\"Population\"])\n",
    "sns.residplot(data=hypothesis2_df, x=\"Log population\", y=\"Happiness score\")\n",
    "plt.xlabel(\"Log of population\")\n",
    "plt.title(\"Log of Population vs Happiness Score\")\n",
    "plt.show()"
   ]
  },
  {
   "cell_type": "markdown",
   "id": "50a0132c",
   "metadata": {},
   "source": [
    "**Correlation Matrix**\n",
    "\n",
    "Next, we make a correlation matrix that includes the factors of population, crime index, minimum wage, birth rate, and happiness score. The goal is to compare how crime index, minimum wage, birth rate, and population are correlated to happiness score. "
   ]
  },
  {
   "cell_type": "code",
   "execution_count": null,
   "id": "643c1010",
   "metadata": {
    "scrolled": true
   },
   "outputs": [],
   "source": [
    "correlation = hypothesis2_df[['Log population', 'Crime index', 'Minimum wage ($)', 'Birth rate', \n",
    "                              'Happiness score']].corr()\n",
    "correlation"
   ]
  },
  {
   "cell_type": "markdown",
   "id": "cd35f701",
   "metadata": {},
   "source": [
    "**Performing Multicollinearity Check**\n",
    "\n",
    "From the correlation matrix, we can determine there is no multicollinearity between variables, as none of their correlations are high (close to 1 or -1). Therefore, we do not need to drop any of these predictor variables for the regression.\n",
    "\n",
    "We then construct a heat map to show a more visual representation of the correlations."
   ]
  },
  {
   "cell_type": "code",
   "execution_count": null,
   "id": "2ea70b2b",
   "metadata": {
    "scrolled": true
   },
   "outputs": [],
   "source": [
    "sns.heatmap(correlation, annot=True, cmap='coolwarm')\n",
    "plt.xticks(rotation=45)\n",
    "plt.title(\"Heatmap of Input Variables to Happiness Score\")\n",
    "plt.show()"
   ]
  },
  {
   "cell_type": "markdown",
   "id": "5bf42c7d",
   "metadata": {},
   "source": [
    "#### Visualizing with Seaborn Regplot: \n",
    "Here, we are using Seaborn’s regplot function to visualize the relationship between ‘Crime index’, ‘Minimum wage ($)’, ‘Birth rate’, and ‘Log population’ (independent variables) and ‘Happiness score’ (dependent variable). The data is represented as a scatter plot, with a linear regression model fit plotted on top of the data. The translucent band around the regression line represents the 95% confidence interval for the regression estimate. "
   ]
  },
  {
   "cell_type": "code",
   "execution_count": null,
   "id": "f46fc3e5",
   "metadata": {
    "scrolled": true
   },
   "outputs": [],
   "source": [
    "x_vars = ['Crime index', 'Minimum wage ($)', 'Birth rate', 'Log population']  \n",
    "for x_var in x_vars:\n",
    "    ax = sns.regplot(data=hypothesis2_df , x=x_var, y='Happiness score', n_boot=10)\n",
    "    plt.title(f\"Regplot of {x_var} vs Happiness Score\")\n",
    "    plt.show()"
   ]
  },
  {
   "cell_type": "markdown",
   "id": "d65af74f",
   "metadata": {},
   "source": [
    "#### OLS Regression Results: "
   ]
  },
  {
   "cell_type": "code",
   "execution_count": null,
   "id": "e537973c",
   "metadata": {},
   "outputs": [],
   "source": [
    "input = ['Crime index', 'Minimum wage ($)', 'Birth rate', 'Log population'] \n",
    "def summary(df, input):\n",
    "    X = df[input]\n",
    "    reg = sm.OLS(df['Happiness score'], X).fit()\n",
    "    print(reg.summary())\n",
    "summary(hypothesis2_df, input)"
   ]
  },
  {
   "cell_type": "markdown",
   "id": "fb5f5c94",
   "metadata": {},
   "source": [
    "### Evaluation of significance: <a name=\"eval2\"></a>\n",
    "- **Crime index**: The p-value is 0.061, which is greater than the significance level of 0.05. This means we cannot reject the null hypothesis, indicating that the crime index is not a statistically significant predictor of the happiness score.\n",
    "\n",
    "- **Minimum wage ($)**: The p-value is 0.000, which is smaller than the significance level of 0.05. This means we can reject the null hypothesis, indicating that the minimum wage is a statistically significant predictor of the happiness score.\n",
    "\n",
    "- **Birth rate**: The p-value is 0.004, which is smaller than the significance level of 0.05. This means we can reject the null hypothesis, indicating that the birth rate is a statistically significant predictor of the happiness score.\n",
    "\n",
    "- **Log population**: The p-value is 0.000, which is smaller than the significance level of 0.05. This means we can reject the null hypothesis, indicating that the log population is a statistically significant predictor of the happiness score."
   ]
  },
  {
   "cell_type": "markdown",
   "id": "22655e62",
   "metadata": {},
   "source": [
    "## Interpretation <a name=\"inter2\"></a>"
   ]
  },
  {
   "cell_type": "markdown",
   "id": "1c6d8d34",
   "metadata": {},
   "source": [
    "From our findings, we see that population has a weak negative correlation with happiness score, with a correlation coefficient of -0.28. Thus, there does not appear to be a strong correlation between population and happiness score. According to the correlation matrix, minimum wage seems to have the strongest positive correlation to happiness score, with a correlation coefficient of 0.62. Birth rate has the strongest negative correlation to happiness score, with a correlation coefficient of -0.58. In addition, the correlation between crime index and happiness score is -0.029, demonstrating a weak negative relationship between factors.\n",
    "\n",
    "\n",
    "To answer our second research question, we ran an OLS regression model to examine the relationship between the happiness score of 72 countries and four independent variables: Crime Index, Minimum Wage ($), Birth Rate, and Log Population.\n",
    "\n",
    "- **Crime Index**: The coefficient is 19.2137, indicating a positive relationship between the Crime Index and the Happiness Score. According to our model, for each unit increase in the Crime Index, all else being equal, we expect the Happiness Score to increase by 19.2137. Therefore, a country with a high Crime Index is more likely to have a high happiness score.\n",
    "- **Minimum Wage ($)**: The coefficient is 181.6290, showing a positive relationship between the Minimum Wage and the Happiness Score. According to our model, for each unit increase in the Minimum Wage, all else being equal, we expect the Happiness Score to increase by 181.6290. Therefore, a country with a high minimum wage is more likely to have a high happiness score.\n",
    "- **Birth Rate**: The coefficient is -56.2399, demonstrating a negative relationship between the Birth Rate and the Happiness Score. According to our model, for each unit increase in the Birth Rate, all else being equal, we expect the Happiness Score to decrease by 56.2399. Therefore, a country with a high Birth Rate is more likely to have a low happiness score. \n",
    "- **Log Population**: The coefficient is 310.8791, showcasing a positive relationship between the Log Population and the Happiness Score. According to our model, for each unit increase in the Log Population, all else being equal, we expect the Happiness Score to increase by 310.8791. Therefore, a country with a high population is more likely to have a high happiness score."
   ]
  },
  {
   "cell_type": "markdown",
   "id": "a43ce1b9",
   "metadata": {},
   "source": [
    "## Conclusion <a name=\"conclusion\"></a>"
   ]
  },
  {
   "cell_type": "markdown",
   "id": "68de2d81",
   "metadata": {},
   "source": [
    "Our research looked at different variables in the areas of health, economics, and demography, seeking to understand any relationships that exist between these variables and countries' happiness scores. We wanted to see if there were substantial findings that could potentially be used to help inform policy decisions. To accomplish this, we used **bootstrapping, permutation, confidence intervals, linear regression, and multiple linear regression** to test our hypotheses and answer our questions.\n",
    "\n",
    "Our analysis suggested a non-significant positive link between suicide rates and happiness scores. Surprisingly, happier countries seemed to report higher suicide rates, albeit weakly connected. However, our findings lacked statistical significance across various analyses. The absence of clear significance, evidenced by non-significant p-values and uncertain outcomes within wide confidence intervals, suggests a need for a deeper exploration. We couldn't reject the idea that there's no relationship due to the lack of statistical weight. This underscores the importance of delving deeper into the complexities that might influence the seemingly counterintuitive relationship between suicide rates and reported happiness scores. A more nuanced investigation could reveal hidden factors and shed light on the true nature of this association.\n",
    "\n",
    "Understanding the nuances of the relationship between suicide rates and reported happiness scores could have profound implications for mental health policies and interventions. Unraveling the factors influencing this unexpected association might reshape how we approach mental health initiatives and societal well-being, potentially leading to more targeted and effective strategies to prevent and address suicide rates in populations worldwide.\n",
    "\n",
    "Based on our resulting p-values, which are 0.061 for the Crime Index, 0.000 for Minimum Wage, 0.004 for the Birth Rate, and 0.000 for Log Population, we are unable to conclude that there is a relationship between the Crime Index and the Happiness Score. However, for the other three variables - Minimum Wage, Birth Rate, and Log Population - we can infer that a higher minimum wage, a lower birth rate, and a higher population are associated with a higher happiness score for countries.\n",
    "\n",
    "There is a link between higher minimum wage and higher happiness score, indicating that perhaps better economic conditions can have a positive effect on people's well-being. Lower birth rate corresponds to a higher happiness score, suggesting that increased access to contraception, education, and family planning might be beneficial in improving quality of life. Though it might seem counterintuitive that a larger population can lead to higher happiness, perhaps this is because larger populations have more diversity, opportunities, and cultural richness.\n",
    "\n",
    "Overall, we had a mix of significant and non-significant findings. For further analysis, it would be interesting to explore the relationship of different mental health disorders, pollution levels, and carbon dioxide emissions with happiness. More concrete research can be done to better understand what affects happiness and how we can structure our societies to reflect those findings."
   ]
  },
  {
   "cell_type": "markdown",
   "id": "23c89a79",
   "metadata": {},
   "source": [
    "## Limitations <a name=\"limit\"></a>"
   ]
  },
  {
   "cell_type": "markdown",
   "id": "55f17079",
   "metadata": {},
   "source": [
    "Though we believe this report can be used as a basis for informing policy recommendations, verification of this work should be done before proceeding further.\n",
    "\n",
    "__1.__ **Potential accuracy issues in data** The Suicide Number CSV may have accuracy problems through the collection process. It is hard to account for all the suicides globally since it doesn’t account for missing people, doesn’t account for underreportings, and it's not defined what constitutes as a suicide. \n",
    "\n",
    "__2.__ **Limited country information** When merging our initial data frames, we only included countries that were present in all dataframes we merged. Thus, only the data from select countries is used and it is not a comprehensive list.\n",
    "\n",
    "__3.__ **Lack of clear documentation in data sources** Though the global country information dataset is very comprehensive and has over 18,000 downloads, there isn’t clear documentation of its sources and how the data was collected. Thus, there is some ambiguity associated with reporting findings based on this data.\n",
    "\n",
    "__4.__ **Lack of most current data** The world happiness report data is not up to date to 2023, so we have chosen to use the most recent data collected from 2022 in our analysis. This could potentially alter our findings as it may not completely and accurately reflect the current situation.\n",
    "\n",
    "__5.__ **Survey bias in data collection** The world happiness report data was mainly collected through a survey, the Gallup World Survey. Thus, there could be selection biases in the responses and the data may not be completely representative of the whole population.\n",
    "\n",
    "__6.__ **Lack of procedure explanation in data sources** The Crime Rate By Country 2023 CSV dataset that we used doesn’t clearly explain how the 'crime index' is calculated, which raises concerns about potential bias in data collection.\n",
    "\n",
    "__7.__ **Difficulty comparing data side-by-side** In the geography map, it difficult to compare data between the suicide rate and happiness score since the information is contained in two separate maps. Additionally, the map is incomplete because there is no data for some countries.\n",
    "\n",
    "__8.__ **Outliers** Our population data had outliers, which could have impacted the results of the data in a way that was not representation to the rest of the data. Though we did perform log transformations to try to reduce this, it doesn't completely eliminate the impact of the outliers.\n",
    "\n",
    "__9.__ **Lack of model diversity** We only used linear regressions to perform our analysis, and perhaps other methods, such as cubic or hyperbolic regressions, could reveal different insights about the data."
   ]
  },
  {
   "cell_type": "markdown",
   "id": "aa81b2ff",
   "metadata": {},
   "source": [
    "## Appendix <a name=\"appendix\"></a>\n",
    "\n",
    "\n"
   ]
  },
  {
   "cell_type": "markdown",
   "id": "339bd1a3",
   "metadata": {},
   "source": [
    "### Please look at our github repository, info2950/Phase5 folder\n",
    "**Data Cleaning Description**\n",
    "- <u>Data_cleaning_appendix.ipynd</u>\n",
    "\n",
    "\n",
    "**Data Sets Used**\n",
    "- <u>2022.csv:</u> dataset on the happiness score per country\n",
    "- <u>countryContinent.csv:</u> dataset to max countries to continent \n",
    "- <u>crime-rate-by-country-2023:</u> dataset for crime index per country\n",
    "- <u>World-data-2023.csv:</u> dataset for birth rate, minimum wage, and population per country\n",
    "- <u>Master.csv:</u> dataset on suicide rate per country\n",
    "- <u>Mental health Depression disorder Data.csv:</u> dataset on the mental illness per country\n"
   ]
  },
  {
   "cell_type": "markdown",
   "id": "ec5b6d44",
   "metadata": {},
   "source": [
    "[Back to the top](#top)"
   ]
  }
 ],
 "metadata": {
  "kernelspec": {
   "display_name": "Python 3 (ipykernel)",
   "language": "python",
   "name": "python3"
  },
  "language_info": {
   "codemirror_mode": {
    "name": "ipython",
    "version": 3
   },
   "file_extension": ".py",
   "mimetype": "text/x-python",
   "name": "python",
   "nbconvert_exporter": "python",
   "pygments_lexer": "ipython3",
   "version": "3.11.4"
  }
 },
 "nbformat": 4,
 "nbformat_minor": 5
}
