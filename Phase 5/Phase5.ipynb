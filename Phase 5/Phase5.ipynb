{
 "cells": [
  {
   "cell_type": "markdown",
   "id": "4528e6e1",
   "metadata": {},
   "source": [
    "## INFO 2950 Final Project: Phase 5"
   ]
  },
  {
   "cell_type": "markdown",
   "id": "4dc8784d",
   "metadata": {},
   "source": [
    "## Table of Contents\n",
    "1. Introduction\n",
    "    - Key Terms\n",
    "    - Research Questions\n",
    "    - Summary of Findings\n",
    "2. Data Description\n",
    "3. Preregistration Statements\n",
    "4. Hypothesis 1\n",
    "    - Data Analysis\n",
    "    - Evaluation of Significance\n",
    "5. Hypothesis 2\n",
    "    - Data Analysis\n",
    "    - Evaluation of Significance\n",
    "6. Interpretation and Conclusions\n",
    "7. Limitations\n",
    "8. Appendix - Data Cleaning"
   ]
  },
  {
   "cell_type": "markdown",
   "id": "1c9bbd0b",
   "metadata": {},
   "source": [
    "## Introduction\n",
    "The question of happiness has been commonly pondered and explored throughout history. People have constantly looked for the best way to live their lives and seek happiness. Whether it's defined by personal achievements, meaningful relationships, or moments of delight, the concept of happiness is an important part of the human experience, shaping our perspectives, decisions, and the overall quality of our lives.\n",
    "\n",
    "Our research aims to shed light on this question by examining how different areas of life can play a role in influencing countries' happiness scores. Though happiness has been commonly studied, our research is differentiated because it combines the impact of different factors in the areas of health, economics, and demography, which are typically analyzed separately. \n",
    "\n",
    "In particular, factors we have chosen to study are suicide rate, birth rate, minimum wage, crime index, and population size. We chose factors from a wide range of areas because we are interested in understanding if different aspects of lifestyle (ie. health, economics, and demography) have more weight than others in influencing happiness.\n",
    "\n",
    "Understanding how these various factors can influence happiness is important on a personal level because every individual is invested in their own happiness. However, this research can also be used extract broader insights into the way different societies are structured and how that can subsequently affect happiness. Thus, the findings from this research can be used as a basis for informing policy decisions that can have the potential to increase happiness worldwide.\n",
    "\n",
    "## Key Terms\n",
    "1) **Suicide rate**: Number of suicide deaths in a year, divided by the population and multiplied by 100,000.\n",
    "(Source: https://www.who.int/data/gho)\n",
    "\n",
    "2) **World happiness score**: A publication that contains articles and rankings of national happiness, based on respondent ratings of their own lives, which the report also correlates with various (quality of) life factors.\n",
    "(Source: https://en.wikipedia.org/wiki/World_Happiness_Report)\n",
    "\n",
    "3) **Population size**: The number of individuals present in a subjectively designated geographic range. (Source: https://www.nature.com)\n",
    "\n",
    "4) **Minimum wage**: The lowest remuneration that employers can legally pay their employees—the price floor below which employees may not sell their labor. (Source: https://en.wikipedia.org/wiki/Minimum_wage)\n",
    "\n",
    "5) **Crime index**: The crime rate per 1,000 population for all crimes in a specific neighborhood or city. (Source: https://help.neighborhoodscout.com)\n",
    "\n",
    "6) **Birth rate**: The total number of live human births per 1,000 population for a given period divided by the length of the period in years. (Source: https://en.wikipedia.org/wiki/Birth_rate)\n",
    "\n",
    "7) **Bootstrapping**: A method of inferring results for a population from results found on a collection of smaller random samples of that population, using replacement during the sampling process. (Source: https://www.mastersindatascience.org/learning/machine-learning-algorithms/bootstrapping/)\n",
    "\n",
    "8) **Heteroskedasticity**: Happens when the standard deviations of a predicted variable, monitored over different values of an independent variable or as related to prior time periods, are non-constant. (Source: https://www.investopedia.com)\n",
    "\n",
    "10) **Multivariable linear regression**: A statistical technique that uses several explanatory variables to predict the outcome of a response variable. (Source: https://www.investopedia.com/terms/m/mlr.asp)\n",
    "\n",
    "## Research Question:\n",
    "**Main Question**: Among the factors of suicide rate, birth rate, minimum wage, crime index, and population size, which are the most prominent in influencing “happiness”? \n",
    "\n",
    "To answer this question, we use the following sub-questions to assist:\n",
    "\n",
    "1) Is there a relationship between the levels of suicide rate and a country's happiness score?\n",
    "\n",
    "2) Do birth rates, minimum wage, and crime index have correlations to population size? And does the population size have a relationship with happiness score? \n"
   ]
  },
  {
   "cell_type": "code",
   "execution_count": 20,
   "id": "3d976761",
   "metadata": {
    "scrolled": true
   },
   "outputs": [],
   "source": [
    "import numpy as np\n",
    "import pandas as pd\n",
    "import matplotlib.pyplot as plt\n",
    "import seaborn as sns\n",
    "import datetime\n",
    "import duckdb\n",
    "import statsmodels.api as sm\n",
    "from sklearn.linear_model import LinearRegression\n",
    "import plotly.express as px"
   ]
  },
  {
   "cell_type": "markdown",
   "id": "e4de3600",
   "metadata": {},
   "source": [
    "## Data Description:\n",
    "\n",
    "### __MOTIVATION__\n",
    "__Why was this dataset created?__\n",
    "- Our dataset was created to observe the factors that influenced life satisfaction in various countries. We wanted to isolate factors that demonstrated the strongest correlation to overall happiness. The five datasets we analyzed all compared individual factors that would influence or measure the wellbeing of the country. Their purpose was to capture the overall state of different countries. \n",
    "\n",
    "__Who funded the creation of the dataset?__\n",
    "- These datasets took information from organizations like the “World Health Organization”, “World bank” statistics, United Nations Statistics, and other datasets. It is unclear who funded these datasets. \n",
    "### __Composition__\n",
    "__Is any information missing from individual instances?__\n",
    "- There is information missing from individual instances, such as data from smaller countries like Andorra, which may have less resources to collect the data. These rows of missing values have been removed.\n",
    "\n",
    "__What are the observations (rows) and the attributes (columns)?__\n",
    "\n",
    "- For these datasets, the rows are the names of countries, and the columns are health, economic, and demography factors. These include number of suicides, infant mortality rate, crime rates, and so on. \n",
    "\n",
    "__What processes might have influenced what data was observed and recorded and what was not?__\n",
    "- The data has mainly been collected from research studies, using methods such as surveys. Thus, there could be several biases that could have influenced data collection, such as selection bias, sampling bias, and social desirability bias.\n",
    "\n",
    "\n",
    "### __Collection Process__\n",
    "__How was the data associated with each instance acquired?__\n",
    "- We gathered the data from various CSV files in order to analyze various facets of influential attributes that impacted a nation. The individual CSV files took data from large health organizations that measured population statistics. Some examples are the \"https://ourworldindata.org/\", the \"Sustainable Development Solutions Network\", and the \"World Health Organization\".\n",
    "\n",
    "__Over what timeframe was the data collected?__\n",
    "- Our research analyzed data from the year 2013 to 2023. This data allows us to predict the more recent trends in Happiness levels, GDP, birth rate, etc. \n",
    "\n",
    "__What preprocessing was done, and how did the data come to be in the form that you are using?__\n",
    "- The data scrapped data from large organizations that provided public data. They also took data from previous research studies that used the same data. The data was changed to its current form once we removed less relevant columns and collected the correlation value. Additionally we dropped empty column values to focus on the analyzable data. \n",
    "\n",
    "### __Uses__\n",
    "__Where can your raw source data be found, if applicable? Provide a link to the raw data (hosted on Github, in a Cornell Google Drive or Cornell Box).__\n",
    "\n",
    "Overall, we used 6 datasets. They can be found in their raw data sources as follows. \n",
    "\n",
    "1. Mental health disorders dataset:\n",
    "https://github.com/yixuanzhou1221/info2950/blob/main/Phase%202/Mental%20health%20Depression%20disorder%20Data.csv\n",
    "\n",
    "2. Suicide dataset:\n",
    "https://github.com/yixuanzhou1221/info2950/blob/main/Phase%202/master.csv\n",
    "\n",
    "3. Demography and economic information dataset:\n",
    "https://github.com/yixuanzhou1221/info2950/blob/main/Phase%202/world-data-2023.csv\n",
    "\n",
    "4. Crime information dataset:\n",
    "https://github.com/yixuanzhou1221/info2950/blob/main/Phase%202/crime-rate-by-country-2023.csv\n",
    "\n",
    "5. Country and continent dataset:\n",
    "https://github.com/yixuanzhou1221/info2950/blob/main/Phase%202/countryContinent.csv\n",
    "\n",
    "6. Happiness information dataset:\n",
    "https://github.com/yixuanzhou1221/info2950/blob/main/Phase%202/2022.csv\n",
    "\n",
    "__What (other) tasks could the dataset be used for?__\n",
    "- These datasets contain a lot of rich information that can be used for a variety of different tasks. For example, other ideas that could be studied include the patterns between education levels and human development, between labor force participation and overall economic performance, and between urbanization trends and environmental consequences.\n",
    "\n",
    "__Are there tasks for which the dataset should not be used?__\n",
    "- Some potential tasks that these data should not be used for are visualizing trends over time, because not all the datasets include data over time. Additionally, further verification of the data should be done before using it to inform any policy recommendations.\n",
    "\n",
    "\n"
   ]
  },
  {
   "cell_type": "markdown",
   "id": "c917f6d4",
   "metadata": {},
   "source": [
    "## Preregistration Statements\n",
    "**Hypothesis 1**: \n",
    "Countries that are reported to have an overall higher rate of happiness will experience lower levels of suicide rates. \n",
    "**Analysis**: We will run a linear regression model to determine if there is a relationship between happiness score and suicide rates (number of suicides per 100,000 people).This would be our formula: Happiness Score = α + βsuicide_rate * Suicide Rate + ε. We will be looking to see if βsuicide_rate < 0, to determine if there is a negative correlation between happiness and suicide rates per country.\n",
    "\n",
    "**Hypothesis 2**: \n",
    "Smaller population sizes of countries correspond to lower birth rates, higher minimum wages, and lower crime index, which in turn leads to higher happiness scores for countries.\n",
    "**Analysis**: We will run a multivariable linear regression to determine the correlation of the inputs of birth rate (number of live births per 1,000 people in the population), minimum wage (in dollars), crime index (out of 100), and population (in number of people) in affecting the output of happiness score. We will test whether 𝛽population< 0 , 𝛽birth_rate< 0, 𝛽min_wage > 0, and 𝛽crime< 0. Our formula would be: Happiness Score = α + βbirth_rate * Birth_rate + βminimum_wage * Minimum wage + βcrime * Crime + βpopulation * Population + ε."
   ]
  },
  {
   "cell_type": "markdown",
   "id": "ea30ec0d",
   "metadata": {},
   "source": [
    "## Data Cleaning:"
   ]
  },
  {
   "cell_type": "code",
   "execution_count": 21,
   "id": "031f9af1",
   "metadata": {},
   "outputs": [
    {
     "data": {
      "text/html": [
       "<div>\n",
       "<style scoped>\n",
       "    .dataframe tbody tr th:only-of-type {\n",
       "        vertical-align: middle;\n",
       "    }\n",
       "\n",
       "    .dataframe tbody tr th {\n",
       "        vertical-align: top;\n",
       "    }\n",
       "\n",
       "    .dataframe thead th {\n",
       "        text-align: right;\n",
       "    }\n",
       "</style>\n",
       "<table border=\"1\" class=\"dataframe\">\n",
       "  <thead>\n",
       "    <tr style=\"text-align: right;\">\n",
       "      <th></th>\n",
       "      <th>Country</th>\n",
       "      <th>Schizophrenia (%)</th>\n",
       "      <th>Bipolar disorder (%)</th>\n",
       "      <th>Eating disorders (%)</th>\n",
       "      <th>Anxiety disorders (%)</th>\n",
       "      <th>Drug use disorders (%)</th>\n",
       "      <th>Depression (%)</th>\n",
       "      <th>Alcohol use disorders (%)</th>\n",
       "      <th>Suicide rate</th>\n",
       "      <th>Happiness score</th>\n",
       "    </tr>\n",
       "  </thead>\n",
       "  <tbody>\n",
       "    <tr>\n",
       "      <th>0</th>\n",
       "      <td>Argentina</td>\n",
       "      <td>0.197961</td>\n",
       "      <td>0.772578</td>\n",
       "      <td>0.397766</td>\n",
       "      <td>6.278569</td>\n",
       "      <td>0.989317</td>\n",
       "      <td>3.657941</td>\n",
       "      <td>1.823537</td>\n",
       "      <td>9.080556</td>\n",
       "      <td>5967.0</td>\n",
       "    </tr>\n",
       "    <tr>\n",
       "      <th>1</th>\n",
       "      <td>Armenia</td>\n",
       "      <td>0.196526</td>\n",
       "      <td>0.716817</td>\n",
       "      <td>0.164855</td>\n",
       "      <td>2.590217</td>\n",
       "      <td>0.495973</td>\n",
       "      <td>2.740602</td>\n",
       "      <td>1.979112</td>\n",
       "      <td>3.509208</td>\n",
       "      <td>5399.0</td>\n",
       "    </tr>\n",
       "    <tr>\n",
       "      <th>2</th>\n",
       "      <td>Australia</td>\n",
       "      <td>0.364150</td>\n",
       "      <td>1.144993</td>\n",
       "      <td>0.942223</td>\n",
       "      <td>6.595998</td>\n",
       "      <td>2.181237</td>\n",
       "      <td>4.694260</td>\n",
       "      <td>1.509925</td>\n",
       "      <td>12.278611</td>\n",
       "      <td>7162.0</td>\n",
       "    </tr>\n",
       "    <tr>\n",
       "      <th>3</th>\n",
       "      <td>Austria</td>\n",
       "      <td>0.256640</td>\n",
       "      <td>0.939808</td>\n",
       "      <td>0.674277</td>\n",
       "      <td>5.345074</td>\n",
       "      <td>0.909465</td>\n",
       "      <td>3.265730</td>\n",
       "      <td>1.879006</td>\n",
       "      <td>17.425750</td>\n",
       "      <td>7163.0</td>\n",
       "    </tr>\n",
       "    <tr>\n",
       "      <th>4</th>\n",
       "      <td>Bahrain</td>\n",
       "      <td>0.206873</td>\n",
       "      <td>0.836296</td>\n",
       "      <td>0.269325</td>\n",
       "      <td>4.657096</td>\n",
       "      <td>1.710888</td>\n",
       "      <td>3.896715</td>\n",
       "      <td>0.731456</td>\n",
       "      <td>0.375417</td>\n",
       "      <td>6647.0</td>\n",
       "    </tr>\n",
       "    <tr>\n",
       "      <th>...</th>\n",
       "      <td>...</td>\n",
       "      <td>...</td>\n",
       "      <td>...</td>\n",
       "      <td>...</td>\n",
       "      <td>...</td>\n",
       "      <td>...</td>\n",
       "      <td>...</td>\n",
       "      <td>...</td>\n",
       "      <td>...</td>\n",
       "      <td>...</td>\n",
       "    </tr>\n",
       "    <tr>\n",
       "      <th>57</th>\n",
       "      <td>Ukraine</td>\n",
       "      <td>0.190860</td>\n",
       "      <td>0.687293</td>\n",
       "      <td>0.171669</td>\n",
       "      <td>2.941524</td>\n",
       "      <td>0.696986</td>\n",
       "      <td>4.091572</td>\n",
       "      <td>4.816161</td>\n",
       "      <td>20.634167</td>\n",
       "      <td>5084.0</td>\n",
       "    </tr>\n",
       "    <tr>\n",
       "      <th>58</th>\n",
       "      <td>United Kingdom</td>\n",
       "      <td>0.258671</td>\n",
       "      <td>1.086026</td>\n",
       "      <td>0.542953</td>\n",
       "      <td>4.656162</td>\n",
       "      <td>1.696709</td>\n",
       "      <td>4.123517</td>\n",
       "      <td>1.911172</td>\n",
       "      <td>7.099722</td>\n",
       "      <td>6943.0</td>\n",
       "    </tr>\n",
       "    <tr>\n",
       "      <th>59</th>\n",
       "      <td>United States</td>\n",
       "      <td>0.335195</td>\n",
       "      <td>0.651874</td>\n",
       "      <td>0.521523</td>\n",
       "      <td>6.651867</td>\n",
       "      <td>3.272024</td>\n",
       "      <td>4.799864</td>\n",
       "      <td>2.020849</td>\n",
       "      <td>14.261389</td>\n",
       "      <td>6977.0</td>\n",
       "    </tr>\n",
       "    <tr>\n",
       "      <th>60</th>\n",
       "      <td>Uruguay</td>\n",
       "      <td>0.198341</td>\n",
       "      <td>0.780724</td>\n",
       "      <td>0.392434</td>\n",
       "      <td>6.309361</td>\n",
       "      <td>0.933896</td>\n",
       "      <td>3.585823</td>\n",
       "      <td>1.181403</td>\n",
       "      <td>21.326389</td>\n",
       "      <td>6474.0</td>\n",
       "    </tr>\n",
       "    <tr>\n",
       "      <th>61</th>\n",
       "      <td>Uzbekistan</td>\n",
       "      <td>0.187263</td>\n",
       "      <td>0.668441</td>\n",
       "      <td>0.148843</td>\n",
       "      <td>2.556248</td>\n",
       "      <td>0.477325</td>\n",
       "      <td>2.884805</td>\n",
       "      <td>1.917761</td>\n",
       "      <td>6.832500</td>\n",
       "      <td>6063.0</td>\n",
       "    </tr>\n",
       "  </tbody>\n",
       "</table>\n",
       "<p>62 rows × 10 columns</p>\n",
       "</div>"
      ],
      "text/plain": [
       "           Country  Schizophrenia (%)  Bipolar disorder (%)  \\\n",
       "0        Argentina           0.197961              0.772578   \n",
       "1          Armenia           0.196526              0.716817   \n",
       "2        Australia           0.364150              1.144993   \n",
       "3          Austria           0.256640              0.939808   \n",
       "4          Bahrain           0.206873              0.836296   \n",
       "..             ...                ...                   ...   \n",
       "57         Ukraine           0.190860              0.687293   \n",
       "58  United Kingdom           0.258671              1.086026   \n",
       "59   United States           0.335195              0.651874   \n",
       "60         Uruguay           0.198341              0.780724   \n",
       "61      Uzbekistan           0.187263              0.668441   \n",
       "\n",
       "    Eating disorders (%)  Anxiety disorders (%)  Drug use disorders (%)  \\\n",
       "0               0.397766               6.278569                0.989317   \n",
       "1               0.164855               2.590217                0.495973   \n",
       "2               0.942223               6.595998                2.181237   \n",
       "3               0.674277               5.345074                0.909465   \n",
       "4               0.269325               4.657096                1.710888   \n",
       "..                   ...                    ...                     ...   \n",
       "57              0.171669               2.941524                0.696986   \n",
       "58              0.542953               4.656162                1.696709   \n",
       "59              0.521523               6.651867                3.272024   \n",
       "60              0.392434               6.309361                0.933896   \n",
       "61              0.148843               2.556248                0.477325   \n",
       "\n",
       "    Depression (%)  Alcohol use disorders (%)  Suicide rate  Happiness score  \n",
       "0         3.657941                   1.823537      9.080556           5967.0  \n",
       "1         2.740602                   1.979112      3.509208           5399.0  \n",
       "2         4.694260                   1.509925     12.278611           7162.0  \n",
       "3         3.265730                   1.879006     17.425750           7163.0  \n",
       "4         3.896715                   0.731456      0.375417           6647.0  \n",
       "..             ...                        ...           ...              ...  \n",
       "57        4.091572                   4.816161     20.634167           5084.0  \n",
       "58        4.123517                   1.911172      7.099722           6943.0  \n",
       "59        4.799864                   2.020849     14.261389           6977.0  \n",
       "60        3.585823                   1.181403     21.326389           6474.0  \n",
       "61        2.884805                   1.917761      6.832500           6063.0  \n",
       "\n",
       "[62 rows x 10 columns]"
      ]
     },
     "execution_count": 21,
     "metadata": {},
     "output_type": "execute_result"
    }
   ],
   "source": [
    "health_df= pd.read_csv(\"health1.csv\")\n",
    "health_df = health_df.drop(columns=['Unnamed: 0.1', 'Unnamed: 0'])\n",
    "health_df"
   ]
  },
  {
   "cell_type": "code",
   "execution_count": 22,
   "id": "f81d11bb",
   "metadata": {},
   "outputs": [
    {
     "data": {
      "text/html": [
       "<div>\n",
       "<style scoped>\n",
       "    .dataframe tbody tr th:only-of-type {\n",
       "        vertical-align: middle;\n",
       "    }\n",
       "\n",
       "    .dataframe tbody tr th {\n",
       "        vertical-align: top;\n",
       "    }\n",
       "\n",
       "    .dataframe thead th {\n",
       "        text-align: right;\n",
       "    }\n",
       "</style>\n",
       "<table border=\"1\" class=\"dataframe\">\n",
       "  <thead>\n",
       "    <tr style=\"text-align: right;\">\n",
       "      <th></th>\n",
       "      <th>Country</th>\n",
       "      <th>Population</th>\n",
       "      <th>Crime index</th>\n",
       "      <th>Minimum wage ($)</th>\n",
       "      <th>Birth rate</th>\n",
       "      <th>Happiness score</th>\n",
       "    </tr>\n",
       "  </thead>\n",
       "  <tbody>\n",
       "    <tr>\n",
       "      <th>0</th>\n",
       "      <td>Afghanistan</td>\n",
       "      <td>38041754.0</td>\n",
       "      <td>76.31</td>\n",
       "      <td>0.43</td>\n",
       "      <td>32.49</td>\n",
       "      <td>2404.0</td>\n",
       "    </tr>\n",
       "    <tr>\n",
       "      <th>1</th>\n",
       "      <td>Albania</td>\n",
       "      <td>2854191.0</td>\n",
       "      <td>42.53</td>\n",
       "      <td>1.12</td>\n",
       "      <td>11.78</td>\n",
       "      <td>5199.0</td>\n",
       "    </tr>\n",
       "    <tr>\n",
       "      <th>2</th>\n",
       "      <td>Algeria</td>\n",
       "      <td>43053054.0</td>\n",
       "      <td>52.03</td>\n",
       "      <td>0.95</td>\n",
       "      <td>24.28</td>\n",
       "      <td>5122.0</td>\n",
       "    </tr>\n",
       "    <tr>\n",
       "      <th>3</th>\n",
       "      <td>Armenia</td>\n",
       "      <td>2957731.0</td>\n",
       "      <td>22.79</td>\n",
       "      <td>0.66</td>\n",
       "      <td>13.99</td>\n",
       "      <td>5399.0</td>\n",
       "    </tr>\n",
       "    <tr>\n",
       "      <th>4</th>\n",
       "      <td>Australia</td>\n",
       "      <td>25766605.0</td>\n",
       "      <td>43.03</td>\n",
       "      <td>13.59</td>\n",
       "      <td>12.60</td>\n",
       "      <td>7162.0</td>\n",
       "    </tr>\n",
       "    <tr>\n",
       "      <th>...</th>\n",
       "      <td>...</td>\n",
       "      <td>...</td>\n",
       "      <td>...</td>\n",
       "      <td>...</td>\n",
       "      <td>...</td>\n",
       "      <td>...</td>\n",
       "    </tr>\n",
       "    <tr>\n",
       "      <th>67</th>\n",
       "      <td>Kazakhstan</td>\n",
       "      <td>18513930.0</td>\n",
       "      <td>53.77</td>\n",
       "      <td>0.41</td>\n",
       "      <td>21.77</td>\n",
       "      <td>6234.0</td>\n",
       "    </tr>\n",
       "    <tr>\n",
       "      <th>68</th>\n",
       "      <td>Nigeria</td>\n",
       "      <td>200963599.0</td>\n",
       "      <td>64.06</td>\n",
       "      <td>0.54</td>\n",
       "      <td>37.91</td>\n",
       "      <td>4552.0</td>\n",
       "    </tr>\n",
       "    <tr>\n",
       "      <th>69</th>\n",
       "      <td>Argentina</td>\n",
       "      <td>44938712.0</td>\n",
       "      <td>63.82</td>\n",
       "      <td>3.35</td>\n",
       "      <td>17.02</td>\n",
       "      <td>5967.0</td>\n",
       "    </tr>\n",
       "    <tr>\n",
       "      <th>70</th>\n",
       "      <td>Lithuania</td>\n",
       "      <td>2786844.0</td>\n",
       "      <td>33.42</td>\n",
       "      <td>2.41</td>\n",
       "      <td>10.00</td>\n",
       "      <td>6446.0</td>\n",
       "    </tr>\n",
       "    <tr>\n",
       "      <th>71</th>\n",
       "      <td>Romania</td>\n",
       "      <td>19356544.0</td>\n",
       "      <td>28.30</td>\n",
       "      <td>2.25</td>\n",
       "      <td>9.60</td>\n",
       "      <td>6477.0</td>\n",
       "    </tr>\n",
       "  </tbody>\n",
       "</table>\n",
       "<p>72 rows × 6 columns</p>\n",
       "</div>"
      ],
      "text/plain": [
       "        Country   Population   Crime index  Minimum wage ($)  Birth rate  \\\n",
       "0   Afghanistan   38041754.0         76.31              0.43       32.49   \n",
       "1       Albania    2854191.0         42.53              1.12       11.78   \n",
       "2       Algeria   43053054.0         52.03              0.95       24.28   \n",
       "3       Armenia    2957731.0         22.79              0.66       13.99   \n",
       "4     Australia   25766605.0         43.03             13.59       12.60   \n",
       "..          ...          ...           ...               ...         ...   \n",
       "67   Kazakhstan   18513930.0         53.77              0.41       21.77   \n",
       "68      Nigeria  200963599.0         64.06              0.54       37.91   \n",
       "69    Argentina   44938712.0         63.82              3.35       17.02   \n",
       "70    Lithuania    2786844.0         33.42              2.41       10.00   \n",
       "71      Romania   19356544.0         28.30              2.25        9.60   \n",
       "\n",
       "    Happiness score  \n",
       "0            2404.0  \n",
       "1            5199.0  \n",
       "2            5122.0  \n",
       "3            5399.0  \n",
       "4            7162.0  \n",
       "..              ...  \n",
       "67           6234.0  \n",
       "68           4552.0  \n",
       "69           5967.0  \n",
       "70           6446.0  \n",
       "71           6477.0  \n",
       "\n",
       "[72 rows x 6 columns]"
      ]
     },
     "execution_count": 22,
     "metadata": {},
     "output_type": "execute_result"
    }
   ],
   "source": [
    "\n",
    "hypothesis2_df = pd.read_csv(\"hypothesis2.csv\")\n",
    "hypothesis2_df = hypothesis2_df.drop(columns=['Unnamed: 0'])\n",
    "hypothesis2_df"
   ]
  },
  {
   "cell_type": "markdown",
   "id": "c79b5416",
   "metadata": {},
   "source": [
    "___\n",
    "## **Hypothesis 1**: \n",
    "\n",
    "$H_O$: Countries that are reported to have an overall higher rate of happiness do not experience lower levels of suicide rates.\n",
    "\n",
    "$H_A$: Countries that are reported to have an overall higher rate of happiness experience lower levels of suicide rates.\n",
    "\n",
    "### Data Analysis:\n",
    "#### Description Analysis \n",
    "\n",
    "To begin looking into the hypothesis, we wanted to gauge a visual understanding of the relationship between the __suicide rate__ and __happiness__ across countries. We used a simple correlation matrix and heatmap to represent our findings. By specifically focusing on the correlation between happiness scores and suicide rates, this matrix provided an initial quantitative assessment of the strength and direction of their association. Its purpose was to reveal any inherent relationships between these key variables, offering an initial insight into whether a relationship, if present, was positive, negative, or negligible."
   ]
  },
  {
   "cell_type": "markdown",
   "id": "fc55e474",
   "metadata": {},
   "source": [
    "We took the correlation of the suicide rate and happiness score and created a correlation matrix off the results. We then inputted the results onto a heatmap to better display the results"
   ]
  },
  {
   "cell_type": "code",
   "execution_count": 23,
   "id": "1b688f47",
   "metadata": {},
   "outputs": [
    {
     "data": {
      "image/png": "[encoded data removed]",
      "text/plain": [
       "<Figure size 640x480 with 2 Axes>"
      ]
     },
     "metadata": {},
     "output_type": "display_data"
    }
   ],
   "source": [
    "correlation_matrix = health_df[['Suicide rate', 'Happiness score']].corr()\n",
    "\n",
    "sns.heatmap(correlation_matrix, annot=True, cmap='coolwarm')\n",
    "plt.title('Correlation Matrix: Suicide Rate vs Happiness Score')\n",
    "plt.show()"
   ]
  },
  {
   "cell_type": "markdown",
   "id": "4ce139d8",
   "metadata": {},
   "source": [
    "Secondly, I decided to include a geographical map to complement the quantitative analysis with a visual representation of the distribution of happiness scores and suicide rates across different countries. This graphical approach allowed for a spatial understanding, showcasing potential patterns or variations in these factors based on geographic location. We wanted to potentially indicate any geographical clustering or disparities among countries."
   ]
  },
  {
   "cell_type": "code",
   "execution_count": 24,
   "id": "550c3d13",
   "metadata": {},
   "outputs": [
    {
     "data": {
      "application/vnd.plotly.v1+json": {
       "config": {
        "plotlyServerURL": "https://plot.ly"
       },
       "data": [
        {
         "coloraxis": "coloraxis",
         "geo": "geo",
         "hovertemplate": "<b>%{hovertext}</b><br><br>Country=%{location}<br>Suicide rate=%{z}<extra></extra>",
         "hovertext": [
          "Argentina",
          "Armenia",
          "Australia",
          "Austria",
          "Bahrain",
          "Belgium",
          "Bosnia and Herzegovina",
          "Brazil",
          "Bulgaria",
          "Canada",
          "Chile",
          "Colombia",
          "Costa Rica",
          "Croatia",
          "Cyprus",
          "Denmark",
          "Ecuador",
          "El Salvador",
          "Estonia",
          "Finland",
          "France",
          "Georgia",
          "Germany",
          "Greece",
          "Hungary",
          "Iceland",
          "Ireland",
          "Israel",
          "Italy",
          "Japan",
          "Kazakhstan",
          "Kyrgyzstan",
          "Latvia",
          "Lithuania",
          "Malta",
          "Mauritius",
          "Mexico",
          "Mongolia",
          "Netherlands",
          "New Zealand",
          "Nicaragua",
          "Norway",
          "Panama",
          "Paraguay",
          "Poland",
          "Portugal",
          "Romania",
          "Serbia",
          "Singapore",
          "Slovakia",
          "Slovenia",
          "South Africa",
          "Spain",
          "Sweden",
          "Switzerland",
          "Thailand",
          "Turkey",
          "Ukraine",
          "United Kingdom",
          "United States",
          "Uruguay",
          "Uzbekistan"
         ],
         "locationmode": "country names",
         "locations": [
          "Argentina",
          "Armenia",
          "Australia",
          "Austria",
          "Bahrain",
          "Belgium",
          "Bosnia and Herzegovina",
          "Brazil",
          "Bulgaria",
          "Canada",
          "Chile",
          "Colombia",
          "Costa Rica",
          "Croatia",
          "Cyprus",
          "Denmark",
          "Ecuador",
          "El Salvador",
          "Estonia",
          "Finland",
          "France",
          "Georgia",
          "Germany",
          "Greece",
          "Hungary",
          "Iceland",
          "Ireland",
          "Israel",
          "Italy",
          "Japan",
          "Kazakhstan",
          "Kyrgyzstan",
          "Latvia",
          "Lithuania",
          "Malta",
          "Mauritius",
          "Mexico",
          "Mongolia",
          "Netherlands",
          "New Zealand",
          "Nicaragua",
          "Norway",
          "Panama",
          "Paraguay",
          "Poland",
          "Portugal",
          "Romania",
          "Serbia",
          "Singapore",
          "Slovakia",
          "Slovenia",
          "South Africa",
          "Spain",
          "Sweden",
          "Switzerland",
          "Thailand",
          "Turkey",
          "Ukraine",
          "United Kingdom",
          "United States",
          "Uruguay",
          "Uzbekistan"
         ],
         "name": "",
         "type": "choropleth",
         "z": [
          9.080555555555556,
          3.509208333333333,
          12.278611111111111,
          17.42575,
          0.3754166666666667,
          16.668333333333333,
          9.125,
          6.221944444444444,
          11.41375,
          11.090833333333334,
          11.654722222222224,
          5.570833333333333,
          6.67125,
          19.131083333333336,
          4.7475,
          10.936111111111112,
          6.285833333333333,
          9.079166666666666,
          19.339166666666667,
          14.86611111111111,
          15.495416666666667,
          5.965,
          12.679444444444444,
          4.749722222222222,
          22.029541666666667,
          15.115291666666666,
          9.87875,
          5.871666666666666,
          6.817777777777778,
          18.20583333333333,
          21.99388888888889,
          8.88888888888889,
          20.624166666666667,
          34.69529166666667,
          6.599166666666666,
          9.005208333333332,
          5.553888888888888,
          18.439,
          10.973916666666668,
          12.045833333333334,
          6.173333333333333,
          10.851944444444444,
          4.171944444444445,
          6.1475,
          14.802222222222222,
          11.9425,
          11.295125,
          17.79111111111111,
          10.526111111111112,
          11.530416666666667,
          21.89444444444445,
          1.1938888888888888,
          8.418055555555556,
          12.982458333333334,
          13.80611111111111,
          6.884458333333333,
          2.6311111111111107,
          20.634166666666665,
          7.099722222222223,
          14.26138888888889,
          21.32638888888889,
          6.8325
         ]
        }
       ],
       "layout": {
        "autosize": true,
        "coloraxis": {
         "colorbar": {
          "title": {
           "text": "Suicide rate"
          }
         },
         "colorscale": [
          [
           0,
           "#0d0887"
          ],
          [
           0.1111111111111111,
           "#46039f"
          ],
          [
           0.2222222222222222,
           "#7201a8"
          ],
          [
           0.3333333333333333,
           "#9c179e"
          ],
          [
           0.4444444444444444,
           "#bd3786"
          ],
          [
           0.5555555555555556,
           "#d8576b"
          ],
          [
           0.6666666666666666,
           "#ed7953"
          ],
          [
           0.7777777777777778,
           "#fb9f3a"
          ],
          [
           0.8888888888888888,
           "#fdca26"
          ],
          [
           1,
           "#f0f921"
          ]
         ]
        },
        "geo": {
         "center": {},
         "domain": {
          "x": [
           0,
           1
          ],
          "y": [
           0,
           1
          ]
         },
         "projection": {
          "type": "natural earth"
         }
        },
        "legend": {
         "tracegroupgap": 0
        },
        "template": {
         "data": {
          "bar": [
           {
            "error_x": {
             "color": "#2a3f5f"
            },
            "error_y": {
             "color": "#2a3f5f"
            },
            "marker": {
             "line": {
              "color": "#E5ECF6",
              "width": 0.5
             },
             "pattern": {
              "fillmode": "overlay",
              "size": 10,
              "solidity": 0.2
             }
            },
            "type": "bar"
           }
          ],
          "barpolar": [
           {
            "marker": {
             "line": {
              "color": "#E5ECF6",
              "width": 0.5
             },
             "pattern": {
              "fillmode": "overlay",
              "size": 10,
              "solidity": 0.2
             }
            },
            "type": "barpolar"
           }
          ],
          "carpet": [
           {
            "aaxis": {
             "endlinecolor": "#2a3f5f",
             "gridcolor": "white",
             "linecolor": "white",
             "minorgridcolor": "white",
             "startlinecolor": "#2a3f5f"
            },
            "baxis": {
             "endlinecolor": "#2a3f5f",
             "gridcolor": "white",
             "linecolor": "white",
             "minorgridcolor": "white",
             "startlinecolor": "#2a3f5f"
            },
            "type": "carpet"
           }
          ],
          "choropleth": [
           {
            "colorbar": {
             "outlinewidth": 0,
             "ticks": ""
            },
            "type": "choropleth"
           }
          ],
          "contour": [
           {
            "colorbar": {
             "outlinewidth": 0,
             "ticks": ""
            },
            "colorscale": [
             [
              0,
              "#0d0887"
             ],
             [
              0.1111111111111111,
              "#46039f"
             ],
             [
              0.2222222222222222,
              "#7201a8"
             ],
             [
              0.3333333333333333,
              "#9c179e"
             ],
             [
              0.4444444444444444,
              "#bd3786"
             ],
             [
              0.5555555555555556,
              "#d8576b"
             ],
             [
              0.6666666666666666,
              "#ed7953"
             ],
             [
              0.7777777777777778,
              "#fb9f3a"
             ],
             [
              0.8888888888888888,
              "#fdca26"
             ],
             [
              1,
              "#f0f921"
             ]
            ],
            "type": "contour"
           }
          ],
          "contourcarpet": [
           {
            "colorbar": {
             "outlinewidth": 0,
             "ticks": ""
            },
            "type": "contourcarpet"
           }
          ],
          "heatmap": [
           {
            "colorbar": {
             "outlinewidth": 0,
             "ticks": ""
            },
            "colorscale": [
             [
              0,
              "#0d0887"
             ],
             [
              0.1111111111111111,
              "#46039f"
             ],
             [
              0.2222222222222222,
              "#7201a8"
             ],
             [
              0.3333333333333333,
              "#9c179e"
             ],
             [
              0.4444444444444444,
              "#bd3786"
             ],
             [
              0.5555555555555556,
              "#d8576b"
             ],
             [
              0.6666666666666666,
              "#ed7953"
             ],
             [
              0.7777777777777778,
              "#fb9f3a"
             ],
             [
              0.8888888888888888,
              "#fdca26"
             ],
             [
              1,
              "#f0f921"
             ]
            ],
            "type": "heatmap"
           }
          ],
          "heatmapgl": [
           {
            "colorbar": {
             "outlinewidth": 0,
             "ticks": ""
            },
            "colorscale": [
             [
              0,
              "#0d0887"
             ],
             [
              0.1111111111111111,
              "#46039f"
             ],
             [
              0.2222222222222222,
              "#7201a8"
             ],
             [
              0.3333333333333333,
              "#9c179e"
             ],
             [
              0.4444444444444444,
              "#bd3786"
             ],
             [
              0.5555555555555556,
              "#d8576b"
             ],
             [
              0.6666666666666666,
              "#ed7953"
             ],
             [
              0.7777777777777778,
              "#fb9f3a"
             ],
             [
              0.8888888888888888,
              "#fdca26"
             ],
             [
              1,
              "#f0f921"
             ]
            ],
            "type": "heatmapgl"
           }
          ],
          "histogram": [
           {
            "marker": {
             "pattern": {
              "fillmode": "overlay",
              "size": 10,
              "solidity": 0.2
             }
            },
            "type": "histogram"
           }
          ],
          "histogram2d": [
           {
            "colorbar": {
             "outlinewidth": 0,
             "ticks": ""
            },
            "colorscale": [
             [
              0,
              "#0d0887"
             ],
             [
              0.1111111111111111,
              "#46039f"
             ],
             [
              0.2222222222222222,
              "#7201a8"
             ],
             [
              0.3333333333333333,
              "#9c179e"
             ],
             [
              0.4444444444444444,
              "#bd3786"
             ],
             [
              0.5555555555555556,
              "#d8576b"
             ],
             [
              0.6666666666666666,
              "#ed7953"
             ],
             [
              0.7777777777777778,
              "#fb9f3a"
             ],
             [
              0.8888888888888888,
              "#fdca26"
             ],
             [
              1,
              "#f0f921"
             ]
            ],
            "type": "histogram2d"
           }
          ],
          "histogram2dcontour": [
           {
            "colorbar": {
             "outlinewidth": 0,
             "ticks": ""
            },
            "colorscale": [
             [
              0,
              "#0d0887"
             ],
             [
              0.1111111111111111,
              "#46039f"
             ],
             [
              0.2222222222222222,
              "#7201a8"
             ],
             [
              0.3333333333333333,
              "#9c179e"
             ],
             [
              0.4444444444444444,
              "#bd3786"
             ],
             [
              0.5555555555555556,
              "#d8576b"
             ],
             [
              0.6666666666666666,
              "#ed7953"
             ],
             [
              0.7777777777777778,
              "#fb9f3a"
             ],
             [
              0.8888888888888888,
              "#fdca26"
             ],
             [
              1,
              "#f0f921"
             ]
            ],
            "type": "histogram2dcontour"
           }
          ],
          "mesh3d": [
           {
            "colorbar": {
             "outlinewidth": 0,
             "ticks": ""
            },
            "type": "mesh3d"
           }
          ],
          "parcoords": [
           {
            "line": {
             "colorbar": {
              "outlinewidth": 0,
              "ticks": ""
             }
            },
            "type": "parcoords"
           }
          ],
          "pie": [
           {
            "automargin": true,
            "type": "pie"
           }
          ],
          "scatter": [
           {
            "fillpattern": {
             "fillmode": "overlay",
             "size": 10,
             "solidity": 0.2
            },
            "type": "scatter"
           }
          ],
          "scatter3d": [
           {
            "line": {
             "colorbar": {
              "outlinewidth": 0,
              "ticks": ""
             }
            },
            "marker": {
             "colorbar": {
              "outlinewidth": 0,
              "ticks": ""
             }
            },
            "type": "scatter3d"
           }
          ],
          "scattercarpet": [
           {
            "marker": {
             "colorbar": {
              "outlinewidth": 0,
              "ticks": ""
             }
            },
            "type": "scattercarpet"
           }
          ],
          "scattergeo": [
           {
            "marker": {
             "colorbar": {
              "outlinewidth": 0,
              "ticks": ""
             }
            },
            "type": "scattergeo"
           }
          ],
          "scattergl": [
           {
            "marker": {
             "colorbar": {
              "outlinewidth": 0,
              "ticks": ""
             }
            },
            "type": "scattergl"
           }
          ],
          "scattermapbox": [
           {
            "marker": {
             "colorbar": {
              "outlinewidth": 0,
              "ticks": ""
             }
            },
            "type": "scattermapbox"
           }
          ],
          "scatterpolar": [
           {
            "marker": {
             "colorbar": {
              "outlinewidth": 0,
              "ticks": ""
             }
            },
            "type": "scatterpolar"
           }
          ],
          "scatterpolargl": [
           {
            "marker": {
             "colorbar": {
              "outlinewidth": 0,
              "ticks": ""
             }
            },
            "type": "scatterpolargl"
           }
          ],
          "scatterternary": [
           {
            "marker": {
             "colorbar": {
              "outlinewidth": 0,
              "ticks": ""
             }
            },
            "type": "scatterternary"
           }
          ],
          "surface": [
           {
            "colorbar": {
             "outlinewidth": 0,
             "ticks": ""
            },
            "colorscale": [
             [
              0,
              "#0d0887"
             ],
             [
              0.1111111111111111,
              "#46039f"
             ],
             [
              0.2222222222222222,
              "#7201a8"
             ],
             [
              0.3333333333333333,
              "#9c179e"
             ],
             [
              0.4444444444444444,
              "#bd3786"
             ],
             [
              0.5555555555555556,
              "#d8576b"
             ],
             [
              0.6666666666666666,
              "#ed7953"
             ],
             [
              0.7777777777777778,
              "#fb9f3a"
             ],
             [
              0.8888888888888888,
              "#fdca26"
             ],
             [
              1,
              "#f0f921"
             ]
            ],
            "type": "surface"
           }
          ],
          "table": [
           {
            "cells": {
             "fill": {
              "color": "#EBF0F8"
             },
             "line": {
              "color": "white"
             }
            },
            "header": {
             "fill": {
              "color": "#C8D4E3"
             },
             "line": {
              "color": "white"
             }
            },
            "type": "table"
           }
          ]
         },
         "layout": {
          "annotationdefaults": {
           "arrowcolor": "#2a3f5f",
           "arrowhead": 0,
           "arrowwidth": 1
          },
          "autotypenumbers": "strict",
          "coloraxis": {
           "colorbar": {
            "outlinewidth": 0,
            "ticks": ""
           }
          },
          "colorscale": {
           "diverging": [
            [
             0,
             "#8e0152"
            ],
            [
             0.1,
             "#c51b7d"
            ],
            [
             0.2,
             "#de77ae"
            ],
            [
             0.3,
             "#f1b6da"
            ],
            [
             0.4,
             "#fde0ef"
            ],
            [
             0.5,
             "#f7f7f7"
            ],
            [
             0.6,
             "#e6f5d0"
            ],
            [
             0.7,
             "#b8e186"
            ],
            [
             0.8,
             "#7fbc41"
            ],
            [
             0.9,
             "#4d9221"
            ],
            [
             1,
             "#276419"
            ]
           ],
           "sequential": [
            [
             0,
             "#0d0887"
            ],
            [
             0.1111111111111111,
             "#46039f"
            ],
            [
             0.2222222222222222,
             "#7201a8"
            ],
            [
             0.3333333333333333,
             "#9c179e"
            ],
            [
             0.4444444444444444,
             "#bd3786"
            ],
            [
             0.5555555555555556,
             "#d8576b"
            ],
            [
             0.6666666666666666,
             "#ed7953"
            ],
            [
             0.7777777777777778,
             "#fb9f3a"
            ],
            [
             0.8888888888888888,
             "#fdca26"
            ],
            [
             1,
             "#f0f921"
            ]
           ],
           "sequentialminus": [
            [
             0,
             "#0d0887"
            ],
            [
             0.1111111111111111,
             "#46039f"
            ],
            [
             0.2222222222222222,
             "#7201a8"
            ],
            [
             0.3333333333333333,
             "#9c179e"
            ],
            [
             0.4444444444444444,
             "#bd3786"
            ],
            [
             0.5555555555555556,
             "#d8576b"
            ],
            [
             0.6666666666666666,
             "#ed7953"
            ],
            [
             0.7777777777777778,
             "#fb9f3a"
            ],
            [
             0.8888888888888888,
             "#fdca26"
            ],
            [
             1,
             "#f0f921"
            ]
           ]
          },
          "colorway": [
           "#636efa",
           "#EF553B",
           "#00cc96",
           "#ab63fa",
           "#FFA15A",
           "#19d3f3",
           "#FF6692",
           "#B6E880",
           "#FF97FF",
           "#FECB52"
          ],
          "font": {
           "color": "#2a3f5f"
          },
          "geo": {
           "bgcolor": "white",
           "lakecolor": "white",
           "landcolor": "#E5ECF6",
           "showlakes": true,
           "showland": true,
           "subunitcolor": "white"
          },
          "hoverlabel": {
           "align": "left"
          },
          "hovermode": "closest",
          "mapbox": {
           "style": "light"
          },
          "paper_bgcolor": "white",
          "plot_bgcolor": "#E5ECF6",
          "polar": {
           "angularaxis": {
            "gridcolor": "white",
            "linecolor": "white",
            "ticks": ""
           },
           "bgcolor": "#E5ECF6",
           "radialaxis": {
            "gridcolor": "white",
            "linecolor": "white",
            "ticks": ""
           }
          },
          "scene": {
           "xaxis": {
            "backgroundcolor": "#E5ECF6",
            "gridcolor": "white",
            "gridwidth": 2,
            "linecolor": "white",
            "showbackground": true,
            "ticks": "",
            "zerolinecolor": "white"
           },
           "yaxis": {
            "backgroundcolor": "#E5ECF6",
            "gridcolor": "white",
            "gridwidth": 2,
            "linecolor": "white",
            "showbackground": true,
            "ticks": "",
            "zerolinecolor": "white"
           },
           "zaxis": {
            "backgroundcolor": "#E5ECF6",
            "gridcolor": "white",
            "gridwidth": 2,
            "linecolor": "white",
            "showbackground": true,
            "ticks": "",
            "zerolinecolor": "white"
           }
          },
          "shapedefaults": {
           "line": {
            "color": "#2a3f5f"
           }
          },
          "ternary": {
           "aaxis": {
            "gridcolor": "white",
            "linecolor": "white",
            "ticks": ""
           },
           "baxis": {
            "gridcolor": "white",
            "linecolor": "white",
            "ticks": ""
           },
           "bgcolor": "#E5ECF6",
           "caxis": {
            "gridcolor": "white",
            "linecolor": "white",
            "ticks": ""
           }
          },
          "title": {
           "x": 0.05
          },
          "xaxis": {
           "automargin": true,
           "gridcolor": "white",
           "linecolor": "white",
           "ticks": "",
           "title": {
            "standoff": 15
           },
           "zerolinecolor": "white",
           "zerolinewidth": 2
          },
          "yaxis": {
           "automargin": true,
           "gridcolor": "white",
           "linecolor": "white",
           "ticks": "",
           "title": {
            "standoff": 15
           },
           "zerolinecolor": "white",
           "zerolinewidth": 2
          }
         }
        },
        "title": {
         "text": "Suicide Rate by Country"
        }
       }
      },
      "image/png": "[encoded data removed]",
      "text/html": [
       "<div>                            <div id=\"714b488f-2a97-4cfa-9089-a2962cffefef\" class=\"plotly-graph-div\" style=\"height:525px; width:100%;\"></div>            <script type=\"text/javascript\">                require([\"plotly\"], function(Plotly) {                    window.PLOTLYENV=window.PLOTLYENV || {};                                    if (document.getElementById(\"714b488f-2a97-4cfa-9089-a2962cffefef\")) {                    Plotly.newPlot(                        \"714b488f-2a97-4cfa-9089-a2962cffefef\",                        [{\"coloraxis\":\"coloraxis\",\"geo\":\"geo\",\"hovertemplate\":\"<b>%{hovertext}</b><br><br>Country=%{location}<br>Suicide rate=%{z}<extra></extra>\",\"hovertext\":[\"Argentina\",\"Armenia\",\"Australia\",\"Austria\",\"Bahrain\",\"Belgium\",\"Bosnia and Herzegovina\",\"Brazil\",\"Bulgaria\",\"Canada\",\"Chile\",\"Colombia\",\"Costa Rica\",\"Croatia\",\"Cyprus\",\"Denmark\",\"Ecuador\",\"El Salvador\",\"Estonia\",\"Finland\",\"France\",\"Georgia\",\"Germany\",\"Greece\",\"Hungary\",\"Iceland\",\"Ireland\",\"Israel\",\"Italy\",\"Japan\",\"Kazakhstan\",\"Kyrgyzstan\",\"Latvia\",\"Lithuania\",\"Malta\",\"Mauritius\",\"Mexico\",\"Mongolia\",\"Netherlands\",\"New Zealand\",\"Nicaragua\",\"Norway\",\"Panama\",\"Paraguay\",\"Poland\",\"Portugal\",\"Romania\",\"Serbia\",\"Singapore\",\"Slovakia\",\"Slovenia\",\"South Africa\",\"Spain\",\"Sweden\",\"Switzerland\",\"Thailand\",\"Turkey\",\"Ukraine\",\"United Kingdom\",\"United States\",\"Uruguay\",\"Uzbekistan\"],\"locationmode\":\"country names\",\"locations\":[\"Argentina\",\"Armenia\",\"Australia\",\"Austria\",\"Bahrain\",\"Belgium\",\"Bosnia and Herzegovina\",\"Brazil\",\"Bulgaria\",\"Canada\",\"Chile\",\"Colombia\",\"Costa Rica\",\"Croatia\",\"Cyprus\",\"Denmark\",\"Ecuador\",\"El Salvador\",\"Estonia\",\"Finland\",\"France\",\"Georgia\",\"Germany\",\"Greece\",\"Hungary\",\"Iceland\",\"Ireland\",\"Israel\",\"Italy\",\"Japan\",\"Kazakhstan\",\"Kyrgyzstan\",\"Latvia\",\"Lithuania\",\"Malta\",\"Mauritius\",\"Mexico\",\"Mongolia\",\"Netherlands\",\"New Zealand\",\"Nicaragua\",\"Norway\",\"Panama\",\"Paraguay\",\"Poland\",\"Portugal\",\"Romania\",\"Serbia\",\"Singapore\",\"Slovakia\",\"Slovenia\",\"South Africa\",\"Spain\",\"Sweden\",\"Switzerland\",\"Thailand\",\"Turkey\",\"Ukraine\",\"United Kingdom\",\"United States\",\"Uruguay\",\"Uzbekistan\"],\"name\":\"\",\"z\":[9.080555555555556,3.509208333333333,12.278611111111111,17.42575,0.3754166666666667,16.668333333333333,9.125,6.221944444444444,11.41375,11.090833333333334,11.654722222222224,5.570833333333333,6.67125,19.131083333333336,4.7475,10.936111111111112,6.285833333333333,9.079166666666666,19.339166666666667,14.86611111111111,15.495416666666667,5.965,12.679444444444444,4.749722222222222,22.029541666666667,15.115291666666666,9.87875,5.871666666666666,6.817777777777778,18.20583333333333,21.99388888888889,8.88888888888889,20.624166666666667,34.69529166666667,6.599166666666666,9.005208333333332,5.553888888888888,18.439,10.973916666666668,12.045833333333334,6.173333333333333,10.851944444444444,4.171944444444445,6.1475,14.802222222222222,11.9425,11.295125,17.79111111111111,10.526111111111112,11.530416666666667,21.89444444444445,1.1938888888888888,8.418055555555556,12.982458333333334,13.80611111111111,6.884458333333333,2.6311111111111107,20.634166666666665,7.099722222222223,14.26138888888889,21.32638888888889,6.8325],\"type\":\"choropleth\"}],                        {\"template\":{\"data\":{\"histogram2dcontour\":[{\"type\":\"histogram2dcontour\",\"colorbar\":{\"outlinewidth\":0,\"ticks\":\"\"},\"colorscale\":[[0.0,\"#0d0887\"],[0.1111111111111111,\"#46039f\"],[0.2222222222222222,\"#7201a8\"],[0.3333333333333333,\"#9c179e\"],[0.4444444444444444,\"#bd3786\"],[0.5555555555555556,\"#d8576b\"],[0.6666666666666666,\"#ed7953\"],[0.7777777777777778,\"#fb9f3a\"],[0.8888888888888888,\"#fdca26\"],[1.0,\"#f0f921\"]]}],\"choropleth\":[{\"type\":\"choropleth\",\"colorbar\":{\"outlinewidth\":0,\"ticks\":\"\"}}],\"histogram2d\":[{\"type\":\"histogram2d\",\"colorbar\":{\"outlinewidth\":0,\"ticks\":\"\"},\"colorscale\":[[0.0,\"#0d0887\"],[0.1111111111111111,\"#46039f\"],[0.2222222222222222,\"#7201a8\"],[0.3333333333333333,\"#9c179e\"],[0.4444444444444444,\"#bd3786\"],[0.5555555555555556,\"#d8576b\"],[0.6666666666666666,\"#ed7953\"],[0.7777777777777778,\"#fb9f3a\"],[0.8888888888888888,\"#fdca26\"],[1.0,\"#f0f921\"]]}],\"heatmap\":[{\"type\":\"heatmap\",\"colorbar\":{\"outlinewidth\":0,\"ticks\":\"\"},\"colorscale\":[[0.0,\"#0d0887\"],[0.1111111111111111,\"#46039f\"],[0.2222222222222222,\"#7201a8\"],[0.3333333333333333,\"#9c179e\"],[0.4444444444444444,\"#bd3786\"],[0.5555555555555556,\"#d8576b\"],[0.6666666666666666,\"#ed7953\"],[0.7777777777777778,\"#fb9f3a\"],[0.8888888888888888,\"#fdca26\"],[1.0,\"#f0f921\"]]}],\"heatmapgl\":[{\"type\":\"heatmapgl\",\"colorbar\":{\"outlinewidth\":0,\"ticks\":\"\"},\"colorscale\":[[0.0,\"#0d0887\"],[0.1111111111111111,\"#46039f\"],[0.2222222222222222,\"#7201a8\"],[0.3333333333333333,\"#9c179e\"],[0.4444444444444444,\"#bd3786\"],[0.5555555555555556,\"#d8576b\"],[0.6666666666666666,\"#ed7953\"],[0.7777777777777778,\"#fb9f3a\"],[0.8888888888888888,\"#fdca26\"],[1.0,\"#f0f921\"]]}],\"contourcarpet\":[{\"type\":\"contourcarpet\",\"colorbar\":{\"outlinewidth\":0,\"ticks\":\"\"}}],\"contour\":[{\"type\":\"contour\",\"colorbar\":{\"outlinewidth\":0,\"ticks\":\"\"},\"colorscale\":[[0.0,\"#0d0887\"],[0.1111111111111111,\"#46039f\"],[0.2222222222222222,\"#7201a8\"],[0.3333333333333333,\"#9c179e\"],[0.4444444444444444,\"#bd3786\"],[0.5555555555555556,\"#d8576b\"],[0.6666666666666666,\"#ed7953\"],[0.7777777777777778,\"#fb9f3a\"],[0.8888888888888888,\"#fdca26\"],[1.0,\"#f0f921\"]]}],\"surface\":[{\"type\":\"surface\",\"colorbar\":{\"outlinewidth\":0,\"ticks\":\"\"},\"colorscale\":[[0.0,\"#0d0887\"],[0.1111111111111111,\"#46039f\"],[0.2222222222222222,\"#7201a8\"],[0.3333333333333333,\"#9c179e\"],[0.4444444444444444,\"#bd3786\"],[0.5555555555555556,\"#d8576b\"],[0.6666666666666666,\"#ed7953\"],[0.7777777777777778,\"#fb9f3a\"],[0.8888888888888888,\"#fdca26\"],[1.0,\"#f0f921\"]]}],\"mesh3d\":[{\"type\":\"mesh3d\",\"colorbar\":{\"outlinewidth\":0,\"ticks\":\"\"}}],\"scatter\":[{\"fillpattern\":{\"fillmode\":\"overlay\",\"size\":10,\"solidity\":0.2},\"type\":\"scatter\"}],\"parcoords\":[{\"type\":\"parcoords\",\"line\":{\"colorbar\":{\"outlinewidth\":0,\"ticks\":\"\"}}}],\"scatterpolargl\":[{\"type\":\"scatterpolargl\",\"marker\":{\"colorbar\":{\"outlinewidth\":0,\"ticks\":\"\"}}}],\"bar\":[{\"error_x\":{\"color\":\"#2a3f5f\"},\"error_y\":{\"color\":\"#2a3f5f\"},\"marker\":{\"line\":{\"color\":\"#E5ECF6\",\"width\":0.5},\"pattern\":{\"fillmode\":\"overlay\",\"size\":10,\"solidity\":0.2}},\"type\":\"bar\"}],\"scattergeo\":[{\"type\":\"scattergeo\",\"marker\":{\"colorbar\":{\"outlinewidth\":0,\"ticks\":\"\"}}}],\"scatterpolar\":[{\"type\":\"scatterpolar\",\"marker\":{\"colorbar\":{\"outlinewidth\":0,\"ticks\":\"\"}}}],\"histogram\":[{\"marker\":{\"pattern\":{\"fillmode\":\"overlay\",\"size\":10,\"solidity\":0.2}},\"type\":\"histogram\"}],\"scattergl\":[{\"type\":\"scattergl\",\"marker\":{\"colorbar\":{\"outlinewidth\":0,\"ticks\":\"\"}}}],\"scatter3d\":[{\"type\":\"scatter3d\",\"line\":{\"colorbar\":{\"outlinewidth\":0,\"ticks\":\"\"}},\"marker\":{\"colorbar\":{\"outlinewidth\":0,\"ticks\":\"\"}}}],\"scattermapbox\":[{\"type\":\"scattermapbox\",\"marker\":{\"colorbar\":{\"outlinewidth\":0,\"ticks\":\"\"}}}],\"scatterternary\":[{\"type\":\"scatterternary\",\"marker\":{\"colorbar\":{\"outlinewidth\":0,\"ticks\":\"\"}}}],\"scattercarpet\":[{\"type\":\"scattercarpet\",\"marker\":{\"colorbar\":{\"outlinewidth\":0,\"ticks\":\"\"}}}],\"carpet\":[{\"aaxis\":{\"endlinecolor\":\"#2a3f5f\",\"gridcolor\":\"white\",\"linecolor\":\"white\",\"minorgridcolor\":\"white\",\"startlinecolor\":\"#2a3f5f\"},\"baxis\":{\"endlinecolor\":\"#2a3f5f\",\"gridcolor\":\"white\",\"linecolor\":\"white\",\"minorgridcolor\":\"white\",\"startlinecolor\":\"#2a3f5f\"},\"type\":\"carpet\"}],\"table\":[{\"cells\":{\"fill\":{\"color\":\"#EBF0F8\"},\"line\":{\"color\":\"white\"}},\"header\":{\"fill\":{\"color\":\"#C8D4E3\"},\"line\":{\"color\":\"white\"}},\"type\":\"table\"}],\"barpolar\":[{\"marker\":{\"line\":{\"color\":\"#E5ECF6\",\"width\":0.5},\"pattern\":{\"fillmode\":\"overlay\",\"size\":10,\"solidity\":0.2}},\"type\":\"barpolar\"}],\"pie\":[{\"automargin\":true,\"type\":\"pie\"}]},\"layout\":{\"autotypenumbers\":\"strict\",\"colorway\":[\"#636efa\",\"#EF553B\",\"#00cc96\",\"#ab63fa\",\"#FFA15A\",\"#19d3f3\",\"#FF6692\",\"#B6E880\",\"#FF97FF\",\"#FECB52\"],\"font\":{\"color\":\"#2a3f5f\"},\"hovermode\":\"closest\",\"hoverlabel\":{\"align\":\"left\"},\"paper_bgcolor\":\"white\",\"plot_bgcolor\":\"#E5ECF6\",\"polar\":{\"bgcolor\":\"#E5ECF6\",\"angularaxis\":{\"gridcolor\":\"white\",\"linecolor\":\"white\",\"ticks\":\"\"},\"radialaxis\":{\"gridcolor\":\"white\",\"linecolor\":\"white\",\"ticks\":\"\"}},\"ternary\":{\"bgcolor\":\"#E5ECF6\",\"aaxis\":{\"gridcolor\":\"white\",\"linecolor\":\"white\",\"ticks\":\"\"},\"baxis\":{\"gridcolor\":\"white\",\"linecolor\":\"white\",\"ticks\":\"\"},\"caxis\":{\"gridcolor\":\"white\",\"linecolor\":\"white\",\"ticks\":\"\"}},\"coloraxis\":{\"colorbar\":{\"outlinewidth\":0,\"ticks\":\"\"}},\"colorscale\":{\"sequential\":[[0.0,\"#0d0887\"],[0.1111111111111111,\"#46039f\"],[0.2222222222222222,\"#7201a8\"],[0.3333333333333333,\"#9c179e\"],[0.4444444444444444,\"#bd3786\"],[0.5555555555555556,\"#d8576b\"],[0.6666666666666666,\"#ed7953\"],[0.7777777777777778,\"#fb9f3a\"],[0.8888888888888888,\"#fdca26\"],[1.0,\"#f0f921\"]],\"sequentialminus\":[[0.0,\"#0d0887\"],[0.1111111111111111,\"#46039f\"],[0.2222222222222222,\"#7201a8\"],[0.3333333333333333,\"#9c179e\"],[0.4444444444444444,\"#bd3786\"],[0.5555555555555556,\"#d8576b\"],[0.6666666666666666,\"#ed7953\"],[0.7777777777777778,\"#fb9f3a\"],[0.8888888888888888,\"#fdca26\"],[1.0,\"#f0f921\"]],\"diverging\":[[0,\"#8e0152\"],[0.1,\"#c51b7d\"],[0.2,\"#de77ae\"],[0.3,\"#f1b6da\"],[0.4,\"#fde0ef\"],[0.5,\"#f7f7f7\"],[0.6,\"#e6f5d0\"],[0.7,\"#b8e186\"],[0.8,\"#7fbc41\"],[0.9,\"#4d9221\"],[1,\"#276419\"]]},\"xaxis\":{\"gridcolor\":\"white\",\"linecolor\":\"white\",\"ticks\":\"\",\"title\":{\"standoff\":15},\"zerolinecolor\":\"white\",\"automargin\":true,\"zerolinewidth\":2},\"yaxis\":{\"gridcolor\":\"white\",\"linecolor\":\"white\",\"ticks\":\"\",\"title\":{\"standoff\":15},\"zerolinecolor\":\"white\",\"automargin\":true,\"zerolinewidth\":2},\"scene\":{\"xaxis\":{\"backgroundcolor\":\"#E5ECF6\",\"gridcolor\":\"white\",\"linecolor\":\"white\",\"showbackground\":true,\"ticks\":\"\",\"zerolinecolor\":\"white\",\"gridwidth\":2},\"yaxis\":{\"backgroundcolor\":\"#E5ECF6\",\"gridcolor\":\"white\",\"linecolor\":\"white\",\"showbackground\":true,\"ticks\":\"\",\"zerolinecolor\":\"white\",\"gridwidth\":2},\"zaxis\":{\"backgroundcolor\":\"#E5ECF6\",\"gridcolor\":\"white\",\"linecolor\":\"white\",\"showbackground\":true,\"ticks\":\"\",\"zerolinecolor\":\"white\",\"gridwidth\":2}},\"shapedefaults\":{\"line\":{\"color\":\"#2a3f5f\"}},\"annotationdefaults\":{\"arrowcolor\":\"#2a3f5f\",\"arrowhead\":0,\"arrowwidth\":1},\"geo\":{\"bgcolor\":\"white\",\"landcolor\":\"#E5ECF6\",\"subunitcolor\":\"white\",\"showland\":true,\"showlakes\":true,\"lakecolor\":\"white\"},\"title\":{\"x\":0.05},\"mapbox\":{\"style\":\"light\"}}},\"geo\":{\"domain\":{\"x\":[0.0,1.0],\"y\":[0.0,1.0]},\"projection\":{\"type\":\"natural earth\"},\"center\":{}},\"coloraxis\":{\"colorbar\":{\"title\":{\"text\":\"Suicide rate\"}},\"colorscale\":[[0.0,\"#0d0887\"],[0.1111111111111111,\"#46039f\"],[0.2222222222222222,\"#7201a8\"],[0.3333333333333333,\"#9c179e\"],[0.4444444444444444,\"#bd3786\"],[0.5555555555555556,\"#d8576b\"],[0.6666666666666666,\"#ed7953\"],[0.7777777777777778,\"#fb9f3a\"],[0.8888888888888888,\"#fdca26\"],[1.0,\"#f0f921\"]]},\"legend\":{\"tracegroupgap\":0},\"title\":{\"text\":\"Suicide Rate by Country\"}},                        {\"responsive\": true}                    ).then(function(){\n",
       "                            \n",
       "var gd = document.getElementById('714b488f-2a97-4cfa-9089-a2962cffefef');\n",
       "var x = new MutationObserver(function (mutations, observer) {{\n",
       "        var display = window.getComputedStyle(gd).display;\n",
       "        if (!display || display === 'none') {{\n",
       "            console.log([gd, 'removed!']);\n",
       "            Plotly.purge(gd);\n",
       "            observer.disconnect();\n",
       "        }}\n",
       "}});\n",
       "\n",
       "// Listen for the removal of the full notebook cells\n",
       "var notebookContainer = gd.closest('#notebook-container');\n",
       "if (notebookContainer) {{\n",
       "    x.observe(notebookContainer, {childList: true});\n",
       "}}\n",
       "\n",
       "// Listen for the clearing of the current output cell\n",
       "var outputEl = gd.closest('.output');\n",
       "if (outputEl) {{\n",
       "    x.observe(outputEl, {childList: true});\n",
       "}}\n",
       "\n",
       "                        })                };                });            </script>        </div>"
      ]
     },
     "metadata": {},
     "output_type": "display_data"
    },
    {
     "data": {
      "application/vnd.plotly.v1+json": {
       "config": {
        "plotlyServerURL": "https://plot.ly"
       },
       "data": [
        {
         "coloraxis": "coloraxis",
         "geo": "geo",
         "hovertemplate": "<b>%{hovertext}</b><br><br>Country=%{location}<br>Happiness score=%{z}<extra></extra>",
         "hovertext": [
          "Argentina",
          "Armenia",
          "Australia",
          "Austria",
          "Bahrain",
          "Belgium",
          "Bosnia and Herzegovina",
          "Brazil",
          "Bulgaria",
          "Canada",
          "Chile",
          "Colombia",
          "Costa Rica",
          "Croatia",
          "Cyprus",
          "Denmark",
          "Ecuador",
          "El Salvador",
          "Estonia",
          "Finland",
          "France",
          "Georgia",
          "Germany",
          "Greece",
          "Hungary",
          "Iceland",
          "Ireland",
          "Israel",
          "Italy",
          "Japan",
          "Kazakhstan",
          "Kyrgyzstan",
          "Latvia",
          "Lithuania",
          "Malta",
          "Mauritius",
          "Mexico",
          "Mongolia",
          "Netherlands",
          "New Zealand",
          "Nicaragua",
          "Norway",
          "Panama",
          "Paraguay",
          "Poland",
          "Portugal",
          "Romania",
          "Serbia",
          "Singapore",
          "Slovakia",
          "Slovenia",
          "South Africa",
          "Spain",
          "Sweden",
          "Switzerland",
          "Thailand",
          "Turkey",
          "Ukraine",
          "United Kingdom",
          "United States",
          "Uruguay",
          "Uzbekistan"
         ],
         "locationmode": "country names",
         "locations": [
          "Argentina",
          "Armenia",
          "Australia",
          "Austria",
          "Bahrain",
          "Belgium",
          "Bosnia and Herzegovina",
          "Brazil",
          "Bulgaria",
          "Canada",
          "Chile",
          "Colombia",
          "Costa Rica",
          "Croatia",
          "Cyprus",
          "Denmark",
          "Ecuador",
          "El Salvador",
          "Estonia",
          "Finland",
          "France",
          "Georgia",
          "Germany",
          "Greece",
          "Hungary",
          "Iceland",
          "Ireland",
          "Israel",
          "Italy",
          "Japan",
          "Kazakhstan",
          "Kyrgyzstan",
          "Latvia",
          "Lithuania",
          "Malta",
          "Mauritius",
          "Mexico",
          "Mongolia",
          "Netherlands",
          "New Zealand",
          "Nicaragua",
          "Norway",
          "Panama",
          "Paraguay",
          "Poland",
          "Portugal",
          "Romania",
          "Serbia",
          "Singapore",
          "Slovakia",
          "Slovenia",
          "South Africa",
          "Spain",
          "Sweden",
          "Switzerland",
          "Thailand",
          "Turkey",
          "Ukraine",
          "United Kingdom",
          "United States",
          "Uruguay",
          "Uzbekistan"
         ],
         "name": "",
         "type": "choropleth",
         "z": [
          5967,
          5399,
          7162,
          7163,
          6647,
          6805,
          5768,
          6293,
          5371,
          7025,
          6172,
          5781,
          6582,
          6125,
          6221,
          7636,
          5533,
          6120,
          6341,
          7821,
          6687,
          4973,
          7034,
          5948,
          6086,
          7557,
          7041,
          7364,
          6467,
          6039,
          6234,
          5828,
          6180,
          6446,
          6447,
          6071,
          6128,
          5761,
          7415,
          7200,
          6165,
          7365,
          6309,
          5578,
          6123,
          6016,
          6477,
          6178,
          6480,
          6391,
          6630,
          5194,
          6476,
          7384,
          7512,
          5891,
          4744,
          5084,
          6943,
          6977,
          6474,
          6063
         ]
        }
       ],
       "layout": {
        "autosize": true,
        "coloraxis": {
         "colorbar": {
          "title": {
           "text": "Happiness score"
          }
         },
         "colorscale": [
          [
           0,
           "#0d0887"
          ],
          [
           0.1111111111111111,
           "#46039f"
          ],
          [
           0.2222222222222222,
           "#7201a8"
          ],
          [
           0.3333333333333333,
           "#9c179e"
          ],
          [
           0.4444444444444444,
           "#bd3786"
          ],
          [
           0.5555555555555556,
           "#d8576b"
          ],
          [
           0.6666666666666666,
           "#ed7953"
          ],
          [
           0.7777777777777778,
           "#fb9f3a"
          ],
          [
           0.8888888888888888,
           "#fdca26"
          ],
          [
           1,
           "#f0f921"
          ]
         ]
        },
        "geo": {
         "center": {},
         "domain": {
          "x": [
           0,
           1
          ],
          "y": [
           0,
           1
          ]
         },
         "projection": {
          "type": "natural earth"
         }
        },
        "legend": {
         "tracegroupgap": 0
        },
        "template": {
         "data": {
          "bar": [
           {
            "error_x": {
             "color": "#2a3f5f"
            },
            "error_y": {
             "color": "#2a3f5f"
            },
            "marker": {
             "line": {
              "color": "#E5ECF6",
              "width": 0.5
             },
             "pattern": {
              "fillmode": "overlay",
              "size": 10,
              "solidity": 0.2
             }
            },
            "type": "bar"
           }
          ],
          "barpolar": [
           {
            "marker": {
             "line": {
              "color": "#E5ECF6",
              "width": 0.5
             },
             "pattern": {
              "fillmode": "overlay",
              "size": 10,
              "solidity": 0.2
             }
            },
            "type": "barpolar"
           }
          ],
          "carpet": [
           {
            "aaxis": {
             "endlinecolor": "#2a3f5f",
             "gridcolor": "white",
             "linecolor": "white",
             "minorgridcolor": "white",
             "startlinecolor": "#2a3f5f"
            },
            "baxis": {
             "endlinecolor": "#2a3f5f",
             "gridcolor": "white",
             "linecolor": "white",
             "minorgridcolor": "white",
             "startlinecolor": "#2a3f5f"
            },
            "type": "carpet"
           }
          ],
          "choropleth": [
           {
            "colorbar": {
             "outlinewidth": 0,
             "ticks": ""
            },
            "type": "choropleth"
           }
          ],
          "contour": [
           {
            "colorbar": {
             "outlinewidth": 0,
             "ticks": ""
            },
            "colorscale": [
             [
              0,
              "#0d0887"
             ],
             [
              0.1111111111111111,
              "#46039f"
             ],
             [
              0.2222222222222222,
              "#7201a8"
             ],
             [
              0.3333333333333333,
              "#9c179e"
             ],
             [
              0.4444444444444444,
              "#bd3786"
             ],
             [
              0.5555555555555556,
              "#d8576b"
             ],
             [
              0.6666666666666666,
              "#ed7953"
             ],
             [
              0.7777777777777778,
              "#fb9f3a"
             ],
             [
              0.8888888888888888,
              "#fdca26"
             ],
             [
              1,
              "#f0f921"
             ]
            ],
            "type": "contour"
           }
          ],
          "contourcarpet": [
           {
            "colorbar": {
             "outlinewidth": 0,
             "ticks": ""
            },
            "type": "contourcarpet"
           }
          ],
          "heatmap": [
           {
            "colorbar": {
             "outlinewidth": 0,
             "ticks": ""
            },
            "colorscale": [
             [
              0,
              "#0d0887"
             ],
             [
              0.1111111111111111,
              "#46039f"
             ],
             [
              0.2222222222222222,
              "#7201a8"
             ],
             [
              0.3333333333333333,
              "#9c179e"
             ],
             [
              0.4444444444444444,
              "#bd3786"
             ],
             [
              0.5555555555555556,
              "#d8576b"
             ],
             [
              0.6666666666666666,
              "#ed7953"
             ],
             [
              0.7777777777777778,
              "#fb9f3a"
             ],
             [
              0.8888888888888888,
              "#fdca26"
             ],
             [
              1,
              "#f0f921"
             ]
            ],
            "type": "heatmap"
           }
          ],
          "heatmapgl": [
           {
            "colorbar": {
             "outlinewidth": 0,
             "ticks": ""
            },
            "colorscale": [
             [
              0,
              "#0d0887"
             ],
             [
              0.1111111111111111,
              "#46039f"
             ],
             [
              0.2222222222222222,
              "#7201a8"
             ],
             [
              0.3333333333333333,
              "#9c179e"
             ],
             [
              0.4444444444444444,
              "#bd3786"
             ],
             [
              0.5555555555555556,
              "#d8576b"
             ],
             [
              0.6666666666666666,
              "#ed7953"
             ],
             [
              0.7777777777777778,
              "#fb9f3a"
             ],
             [
              0.8888888888888888,
              "#fdca26"
             ],
             [
              1,
              "#f0f921"
             ]
            ],
            "type": "heatmapgl"
           }
          ],
          "histogram": [
           {
            "marker": {
             "pattern": {
              "fillmode": "overlay",
              "size": 10,
              "solidity": 0.2
             }
            },
            "type": "histogram"
           }
          ],
          "histogram2d": [
           {
            "colorbar": {
             "outlinewidth": 0,
             "ticks": ""
            },
            "colorscale": [
             [
              0,
              "#0d0887"
             ],
             [
              0.1111111111111111,
              "#46039f"
             ],
             [
              0.2222222222222222,
              "#7201a8"
             ],
             [
              0.3333333333333333,
              "#9c179e"
             ],
             [
              0.4444444444444444,
              "#bd3786"
             ],
             [
              0.5555555555555556,
              "#d8576b"
             ],
             [
              0.6666666666666666,
              "#ed7953"
             ],
             [
              0.7777777777777778,
              "#fb9f3a"
             ],
             [
              0.8888888888888888,
              "#fdca26"
             ],
             [
              1,
              "#f0f921"
             ]
            ],
            "type": "histogram2d"
           }
          ],
          "histogram2dcontour": [
           {
            "colorbar": {
             "outlinewidth": 0,
             "ticks": ""
            },
            "colorscale": [
             [
              0,
              "#0d0887"
             ],
             [
              0.1111111111111111,
              "#46039f"
             ],
             [
              0.2222222222222222,
              "#7201a8"
             ],
             [
              0.3333333333333333,
              "#9c179e"
             ],
             [
              0.4444444444444444,
              "#bd3786"
             ],
             [
              0.5555555555555556,
              "#d8576b"
             ],
             [
              0.6666666666666666,
              "#ed7953"
             ],
             [
              0.7777777777777778,
              "#fb9f3a"
             ],
             [
              0.8888888888888888,
              "#fdca26"
             ],
             [
              1,
              "#f0f921"
             ]
            ],
            "type": "histogram2dcontour"
           }
          ],
          "mesh3d": [
           {
            "colorbar": {
             "outlinewidth": 0,
             "ticks": ""
            },
            "type": "mesh3d"
           }
          ],
          "parcoords": [
           {
            "line": {
             "colorbar": {
              "outlinewidth": 0,
              "ticks": ""
             }
            },
            "type": "parcoords"
           }
          ],
          "pie": [
           {
            "automargin": true,
            "type": "pie"
           }
          ],
          "scatter": [
           {
            "fillpattern": {
             "fillmode": "overlay",
             "size": 10,
             "solidity": 0.2
            },
            "type": "scatter"
           }
          ],
          "scatter3d": [
           {
            "line": {
             "colorbar": {
              "outlinewidth": 0,
              "ticks": ""
             }
            },
            "marker": {
             "colorbar": {
              "outlinewidth": 0,
              "ticks": ""
             }
            },
            "type": "scatter3d"
           }
          ],
          "scattercarpet": [
           {
            "marker": {
             "colorbar": {
              "outlinewidth": 0,
              "ticks": ""
             }
            },
            "type": "scattercarpet"
           }
          ],
          "scattergeo": [
           {
            "marker": {
             "colorbar": {
              "outlinewidth": 0,
              "ticks": ""
             }
            },
            "type": "scattergeo"
           }
          ],
          "scattergl": [
           {
            "marker": {
             "colorbar": {
              "outlinewidth": 0,
              "ticks": ""
             }
            },
            "type": "scattergl"
           }
          ],
          "scattermapbox": [
           {
            "marker": {
             "colorbar": {
              "outlinewidth": 0,
              "ticks": ""
             }
            },
            "type": "scattermapbox"
           }
          ],
          "scatterpolar": [
           {
            "marker": {
             "colorbar": {
              "outlinewidth": 0,
              "ticks": ""
             }
            },
            "type": "scatterpolar"
           }
          ],
          "scatterpolargl": [
           {
            "marker": {
             "colorbar": {
              "outlinewidth": 0,
              "ticks": ""
             }
            },
            "type": "scatterpolargl"
           }
          ],
          "scatterternary": [
           {
            "marker": {
             "colorbar": {
              "outlinewidth": 0,
              "ticks": ""
             }
            },
            "type": "scatterternary"
           }
          ],
          "surface": [
           {
            "colorbar": {
             "outlinewidth": 0,
             "ticks": ""
            },
            "colorscale": [
             [
              0,
              "#0d0887"
             ],
             [
              0.1111111111111111,
              "#46039f"
             ],
             [
              0.2222222222222222,
              "#7201a8"
             ],
             [
              0.3333333333333333,
              "#9c179e"
             ],
             [
              0.4444444444444444,
              "#bd3786"
             ],
             [
              0.5555555555555556,
              "#d8576b"
             ],
             [
              0.6666666666666666,
              "#ed7953"
             ],
             [
              0.7777777777777778,
              "#fb9f3a"
             ],
             [
              0.8888888888888888,
              "#fdca26"
             ],
             [
              1,
              "#f0f921"
             ]
            ],
            "type": "surface"
           }
          ],
          "table": [
           {
            "cells": {
             "fill": {
              "color": "#EBF0F8"
             },
             "line": {
              "color": "white"
             }
            },
            "header": {
             "fill": {
              "color": "#C8D4E3"
             },
             "line": {
              "color": "white"
             }
            },
            "type": "table"
           }
          ]
         },
         "layout": {
          "annotationdefaults": {
           "arrowcolor": "#2a3f5f",
           "arrowhead": 0,
           "arrowwidth": 1
          },
          "autotypenumbers": "strict",
          "coloraxis": {
           "colorbar": {
            "outlinewidth": 0,
            "ticks": ""
           }
          },
          "colorscale": {
           "diverging": [
            [
             0,
             "#8e0152"
            ],
            [
             0.1,
             "#c51b7d"
            ],
            [
             0.2,
             "#de77ae"
            ],
            [
             0.3,
             "#f1b6da"
            ],
            [
             0.4,
             "#fde0ef"
            ],
            [
             0.5,
             "#f7f7f7"
            ],
            [
             0.6,
             "#e6f5d0"
            ],
            [
             0.7,
             "#b8e186"
            ],
            [
             0.8,
             "#7fbc41"
            ],
            [
             0.9,
             "#4d9221"
            ],
            [
             1,
             "#276419"
            ]
           ],
           "sequential": [
            [
             0,
             "#0d0887"
            ],
            [
             0.1111111111111111,
             "#46039f"
            ],
            [
             0.2222222222222222,
             "#7201a8"
            ],
            [
             0.3333333333333333,
             "#9c179e"
            ],
            [
             0.4444444444444444,
             "#bd3786"
            ],
            [
             0.5555555555555556,
             "#d8576b"
            ],
            [
             0.6666666666666666,
             "#ed7953"
            ],
            [
             0.7777777777777778,
             "#fb9f3a"
            ],
            [
             0.8888888888888888,
             "#fdca26"
            ],
            [
             1,
             "#f0f921"
            ]
           ],
           "sequentialminus": [
            [
             0,
             "#0d0887"
            ],
            [
             0.1111111111111111,
             "#46039f"
            ],
            [
             0.2222222222222222,
             "#7201a8"
            ],
            [
             0.3333333333333333,
             "#9c179e"
            ],
            [
             0.4444444444444444,
             "#bd3786"
            ],
            [
             0.5555555555555556,
             "#d8576b"
            ],
            [
             0.6666666666666666,
             "#ed7953"
            ],
            [
             0.7777777777777778,
             "#fb9f3a"
            ],
            [
             0.8888888888888888,
             "#fdca26"
            ],
            [
             1,
             "#f0f921"
            ]
           ]
          },
          "colorway": [
           "#636efa",
           "#EF553B",
           "#00cc96",
           "#ab63fa",
           "#FFA15A",
           "#19d3f3",
           "#FF6692",
           "#B6E880",
           "#FF97FF",
           "#FECB52"
          ],
          "font": {
           "color": "#2a3f5f"
          },
          "geo": {
           "bgcolor": "white",
           "lakecolor": "white",
           "landcolor": "#E5ECF6",
           "showlakes": true,
           "showland": true,
           "subunitcolor": "white"
          },
          "hoverlabel": {
           "align": "left"
          },
          "hovermode": "closest",
          "mapbox": {
           "style": "light"
          },
          "paper_bgcolor": "white",
          "plot_bgcolor": "#E5ECF6",
          "polar": {
           "angularaxis": {
            "gridcolor": "white",
            "linecolor": "white",
            "ticks": ""
           },
           "bgcolor": "#E5ECF6",
           "radialaxis": {
            "gridcolor": "white",
            "linecolor": "white",
            "ticks": ""
           }
          },
          "scene": {
           "xaxis": {
            "backgroundcolor": "#E5ECF6",
            "gridcolor": "white",
            "gridwidth": 2,
            "linecolor": "white",
            "showbackground": true,
            "ticks": "",
            "zerolinecolor": "white"
           },
           "yaxis": {
            "backgroundcolor": "#E5ECF6",
            "gridcolor": "white",
            "gridwidth": 2,
            "linecolor": "white",
            "showbackground": true,
            "ticks": "",
            "zerolinecolor": "white"
           },
           "zaxis": {
            "backgroundcolor": "#E5ECF6",
            "gridcolor": "white",
            "gridwidth": 2,
            "linecolor": "white",
            "showbackground": true,
            "ticks": "",
            "zerolinecolor": "white"
           }
          },
          "shapedefaults": {
           "line": {
            "color": "#2a3f5f"
           }
          },
          "ternary": {
           "aaxis": {
            "gridcolor": "white",
            "linecolor": "white",
            "ticks": ""
           },
           "baxis": {
            "gridcolor": "white",
            "linecolor": "white",
            "ticks": ""
           },
           "bgcolor": "#E5ECF6",
           "caxis": {
            "gridcolor": "white",
            "linecolor": "white",
            "ticks": ""
           }
          },
          "title": {
           "x": 0.05
          },
          "xaxis": {
           "automargin": true,
           "gridcolor": "white",
           "linecolor": "white",
           "ticks": "",
           "title": {
            "standoff": 15
           },
           "zerolinecolor": "white",
           "zerolinewidth": 2
          },
          "yaxis": {
           "automargin": true,
           "gridcolor": "white",
           "linecolor": "white",
           "ticks": "",
           "title": {
            "standoff": 15
           },
           "zerolinecolor": "white",
           "zerolinewidth": 2
          }
         }
        },
        "title": {
         "text": "Happiness by Country"
        }
       }
      },
      "image/png": "[encoded data removed]",
      "text/html": [
       "<div>                            <div id=\"0413833b-5693-4d3e-96c6-ead8c488fdbc\" class=\"plotly-graph-div\" style=\"height:525px; width:100%;\"></div>            <script type=\"text/javascript\">                require([\"plotly\"], function(Plotly) {                    window.PLOTLYENV=window.PLOTLYENV || {};                                    if (document.getElementById(\"0413833b-5693-4d3e-96c6-ead8c488fdbc\")) {                    Plotly.newPlot(                        \"0413833b-5693-4d3e-96c6-ead8c488fdbc\",                        [{\"coloraxis\":\"coloraxis\",\"geo\":\"geo\",\"hovertemplate\":\"<b>%{hovertext}</b><br><br>Country=%{location}<br>Happiness score=%{z}<extra></extra>\",\"hovertext\":[\"Argentina\",\"Armenia\",\"Australia\",\"Austria\",\"Bahrain\",\"Belgium\",\"Bosnia and Herzegovina\",\"Brazil\",\"Bulgaria\",\"Canada\",\"Chile\",\"Colombia\",\"Costa Rica\",\"Croatia\",\"Cyprus\",\"Denmark\",\"Ecuador\",\"El Salvador\",\"Estonia\",\"Finland\",\"France\",\"Georgia\",\"Germany\",\"Greece\",\"Hungary\",\"Iceland\",\"Ireland\",\"Israel\",\"Italy\",\"Japan\",\"Kazakhstan\",\"Kyrgyzstan\",\"Latvia\",\"Lithuania\",\"Malta\",\"Mauritius\",\"Mexico\",\"Mongolia\",\"Netherlands\",\"New Zealand\",\"Nicaragua\",\"Norway\",\"Panama\",\"Paraguay\",\"Poland\",\"Portugal\",\"Romania\",\"Serbia\",\"Singapore\",\"Slovakia\",\"Slovenia\",\"South Africa\",\"Spain\",\"Sweden\",\"Switzerland\",\"Thailand\",\"Turkey\",\"Ukraine\",\"United Kingdom\",\"United States\",\"Uruguay\",\"Uzbekistan\"],\"locationmode\":\"country names\",\"locations\":[\"Argentina\",\"Armenia\",\"Australia\",\"Austria\",\"Bahrain\",\"Belgium\",\"Bosnia and Herzegovina\",\"Brazil\",\"Bulgaria\",\"Canada\",\"Chile\",\"Colombia\",\"Costa Rica\",\"Croatia\",\"Cyprus\",\"Denmark\",\"Ecuador\",\"El Salvador\",\"Estonia\",\"Finland\",\"France\",\"Georgia\",\"Germany\",\"Greece\",\"Hungary\",\"Iceland\",\"Ireland\",\"Israel\",\"Italy\",\"Japan\",\"Kazakhstan\",\"Kyrgyzstan\",\"Latvia\",\"Lithuania\",\"Malta\",\"Mauritius\",\"Mexico\",\"Mongolia\",\"Netherlands\",\"New Zealand\",\"Nicaragua\",\"Norway\",\"Panama\",\"Paraguay\",\"Poland\",\"Portugal\",\"Romania\",\"Serbia\",\"Singapore\",\"Slovakia\",\"Slovenia\",\"South Africa\",\"Spain\",\"Sweden\",\"Switzerland\",\"Thailand\",\"Turkey\",\"Ukraine\",\"United Kingdom\",\"United States\",\"Uruguay\",\"Uzbekistan\"],\"name\":\"\",\"z\":[5967.0,5399.0,7162.0,7163.0,6647.0,6805.0,5768.0,6293.0,5371.0,7025.0,6172.0,5781.0,6582.0,6125.0,6221.0,7636.0,5533.0,6120.0,6341.0,7821.0,6687.0,4973.0,7034.0,5948.0,6086.0,7557.0,7041.0,7364.0,6467.0,6039.0,6234.0,5828.0,6180.0,6446.0,6447.0,6071.0,6128.0,5761.0,7415.0,7200.0,6165.0,7365.0,6309.0,5578.0,6123.0,6016.0,6477.0,6178.0,6480.0,6391.0,6630.0,5194.0,6476.0,7384.0,7512.0,5891.0,4744.0,5084.0,6943.0,6977.0,6474.0,6063.0],\"type\":\"choropleth\"}],                        {\"template\":{\"data\":{\"histogram2dcontour\":[{\"type\":\"histogram2dcontour\",\"colorbar\":{\"outlinewidth\":0,\"ticks\":\"\"},\"colorscale\":[[0.0,\"#0d0887\"],[0.1111111111111111,\"#46039f\"],[0.2222222222222222,\"#7201a8\"],[0.3333333333333333,\"#9c179e\"],[0.4444444444444444,\"#bd3786\"],[0.5555555555555556,\"#d8576b\"],[0.6666666666666666,\"#ed7953\"],[0.7777777777777778,\"#fb9f3a\"],[0.8888888888888888,\"#fdca26\"],[1.0,\"#f0f921\"]]}],\"choropleth\":[{\"type\":\"choropleth\",\"colorbar\":{\"outlinewidth\":0,\"ticks\":\"\"}}],\"histogram2d\":[{\"type\":\"histogram2d\",\"colorbar\":{\"outlinewidth\":0,\"ticks\":\"\"},\"colorscale\":[[0.0,\"#0d0887\"],[0.1111111111111111,\"#46039f\"],[0.2222222222222222,\"#7201a8\"],[0.3333333333333333,\"#9c179e\"],[0.4444444444444444,\"#bd3786\"],[0.5555555555555556,\"#d8576b\"],[0.6666666666666666,\"#ed7953\"],[0.7777777777777778,\"#fb9f3a\"],[0.8888888888888888,\"#fdca26\"],[1.0,\"#f0f921\"]]}],\"heatmap\":[{\"type\":\"heatmap\",\"colorbar\":{\"outlinewidth\":0,\"ticks\":\"\"},\"colorscale\":[[0.0,\"#0d0887\"],[0.1111111111111111,\"#46039f\"],[0.2222222222222222,\"#7201a8\"],[0.3333333333333333,\"#9c179e\"],[0.4444444444444444,\"#bd3786\"],[0.5555555555555556,\"#d8576b\"],[0.6666666666666666,\"#ed7953\"],[0.7777777777777778,\"#fb9f3a\"],[0.8888888888888888,\"#fdca26\"],[1.0,\"#f0f921\"]]}],\"heatmapgl\":[{\"type\":\"heatmapgl\",\"colorbar\":{\"outlinewidth\":0,\"ticks\":\"\"},\"colorscale\":[[0.0,\"#0d0887\"],[0.1111111111111111,\"#46039f\"],[0.2222222222222222,\"#7201a8\"],[0.3333333333333333,\"#9c179e\"],[0.4444444444444444,\"#bd3786\"],[0.5555555555555556,\"#d8576b\"],[0.6666666666666666,\"#ed7953\"],[0.7777777777777778,\"#fb9f3a\"],[0.8888888888888888,\"#fdca26\"],[1.0,\"#f0f921\"]]}],\"contourcarpet\":[{\"type\":\"contourcarpet\",\"colorbar\":{\"outlinewidth\":0,\"ticks\":\"\"}}],\"contour\":[{\"type\":\"contour\",\"colorbar\":{\"outlinewidth\":0,\"ticks\":\"\"},\"colorscale\":[[0.0,\"#0d0887\"],[0.1111111111111111,\"#46039f\"],[0.2222222222222222,\"#7201a8\"],[0.3333333333333333,\"#9c179e\"],[0.4444444444444444,\"#bd3786\"],[0.5555555555555556,\"#d8576b\"],[0.6666666666666666,\"#ed7953\"],[0.7777777777777778,\"#fb9f3a\"],[0.8888888888888888,\"#fdca26\"],[1.0,\"#f0f921\"]]}],\"surface\":[{\"type\":\"surface\",\"colorbar\":{\"outlinewidth\":0,\"ticks\":\"\"},\"colorscale\":[[0.0,\"#0d0887\"],[0.1111111111111111,\"#46039f\"],[0.2222222222222222,\"#7201a8\"],[0.3333333333333333,\"#9c179e\"],[0.4444444444444444,\"#bd3786\"],[0.5555555555555556,\"#d8576b\"],[0.6666666666666666,\"#ed7953\"],[0.7777777777777778,\"#fb9f3a\"],[0.8888888888888888,\"#fdca26\"],[1.0,\"#f0f921\"]]}],\"mesh3d\":[{\"type\":\"mesh3d\",\"colorbar\":{\"outlinewidth\":0,\"ticks\":\"\"}}],\"scatter\":[{\"fillpattern\":{\"fillmode\":\"overlay\",\"size\":10,\"solidity\":0.2},\"type\":\"scatter\"}],\"parcoords\":[{\"type\":\"parcoords\",\"line\":{\"colorbar\":{\"outlinewidth\":0,\"ticks\":\"\"}}}],\"scatterpolargl\":[{\"type\":\"scatterpolargl\",\"marker\":{\"colorbar\":{\"outlinewidth\":0,\"ticks\":\"\"}}}],\"bar\":[{\"error_x\":{\"color\":\"#2a3f5f\"},\"error_y\":{\"color\":\"#2a3f5f\"},\"marker\":{\"line\":{\"color\":\"#E5ECF6\",\"width\":0.5},\"pattern\":{\"fillmode\":\"overlay\",\"size\":10,\"solidity\":0.2}},\"type\":\"bar\"}],\"scattergeo\":[{\"type\":\"scattergeo\",\"marker\":{\"colorbar\":{\"outlinewidth\":0,\"ticks\":\"\"}}}],\"scatterpolar\":[{\"type\":\"scatterpolar\",\"marker\":{\"colorbar\":{\"outlinewidth\":0,\"ticks\":\"\"}}}],\"histogram\":[{\"marker\":{\"pattern\":{\"fillmode\":\"overlay\",\"size\":10,\"solidity\":0.2}},\"type\":\"histogram\"}],\"scattergl\":[{\"type\":\"scattergl\",\"marker\":{\"colorbar\":{\"outlinewidth\":0,\"ticks\":\"\"}}}],\"scatter3d\":[{\"type\":\"scatter3d\",\"line\":{\"colorbar\":{\"outlinewidth\":0,\"ticks\":\"\"}},\"marker\":{\"colorbar\":{\"outlinewidth\":0,\"ticks\":\"\"}}}],\"scattermapbox\":[{\"type\":\"scattermapbox\",\"marker\":{\"colorbar\":{\"outlinewidth\":0,\"ticks\":\"\"}}}],\"scatterternary\":[{\"type\":\"scatterternary\",\"marker\":{\"colorbar\":{\"outlinewidth\":0,\"ticks\":\"\"}}}],\"scattercarpet\":[{\"type\":\"scattercarpet\",\"marker\":{\"colorbar\":{\"outlinewidth\":0,\"ticks\":\"\"}}}],\"carpet\":[{\"aaxis\":{\"endlinecolor\":\"#2a3f5f\",\"gridcolor\":\"white\",\"linecolor\":\"white\",\"minorgridcolor\":\"white\",\"startlinecolor\":\"#2a3f5f\"},\"baxis\":{\"endlinecolor\":\"#2a3f5f\",\"gridcolor\":\"white\",\"linecolor\":\"white\",\"minorgridcolor\":\"white\",\"startlinecolor\":\"#2a3f5f\"},\"type\":\"carpet\"}],\"table\":[{\"cells\":{\"fill\":{\"color\":\"#EBF0F8\"},\"line\":{\"color\":\"white\"}},\"header\":{\"fill\":{\"color\":\"#C8D4E3\"},\"line\":{\"color\":\"white\"}},\"type\":\"table\"}],\"barpolar\":[{\"marker\":{\"line\":{\"color\":\"#E5ECF6\",\"width\":0.5},\"pattern\":{\"fillmode\":\"overlay\",\"size\":10,\"solidity\":0.2}},\"type\":\"barpolar\"}],\"pie\":[{\"automargin\":true,\"type\":\"pie\"}]},\"layout\":{\"autotypenumbers\":\"strict\",\"colorway\":[\"#636efa\",\"#EF553B\",\"#00cc96\",\"#ab63fa\",\"#FFA15A\",\"#19d3f3\",\"#FF6692\",\"#B6E880\",\"#FF97FF\",\"#FECB52\"],\"font\":{\"color\":\"#2a3f5f\"},\"hovermode\":\"closest\",\"hoverlabel\":{\"align\":\"left\"},\"paper_bgcolor\":\"white\",\"plot_bgcolor\":\"#E5ECF6\",\"polar\":{\"bgcolor\":\"#E5ECF6\",\"angularaxis\":{\"gridcolor\":\"white\",\"linecolor\":\"white\",\"ticks\":\"\"},\"radialaxis\":{\"gridcolor\":\"white\",\"linecolor\":\"white\",\"ticks\":\"\"}},\"ternary\":{\"bgcolor\":\"#E5ECF6\",\"aaxis\":{\"gridcolor\":\"white\",\"linecolor\":\"white\",\"ticks\":\"\"},\"baxis\":{\"gridcolor\":\"white\",\"linecolor\":\"white\",\"ticks\":\"\"},\"caxis\":{\"gridcolor\":\"white\",\"linecolor\":\"white\",\"ticks\":\"\"}},\"coloraxis\":{\"colorbar\":{\"outlinewidth\":0,\"ticks\":\"\"}},\"colorscale\":{\"sequential\":[[0.0,\"#0d0887\"],[0.1111111111111111,\"#46039f\"],[0.2222222222222222,\"#7201a8\"],[0.3333333333333333,\"#9c179e\"],[0.4444444444444444,\"#bd3786\"],[0.5555555555555556,\"#d8576b\"],[0.6666666666666666,\"#ed7953\"],[0.7777777777777778,\"#fb9f3a\"],[0.8888888888888888,\"#fdca26\"],[1.0,\"#f0f921\"]],\"sequentialminus\":[[0.0,\"#0d0887\"],[0.1111111111111111,\"#46039f\"],[0.2222222222222222,\"#7201a8\"],[0.3333333333333333,\"#9c179e\"],[0.4444444444444444,\"#bd3786\"],[0.5555555555555556,\"#d8576b\"],[0.6666666666666666,\"#ed7953\"],[0.7777777777777778,\"#fb9f3a\"],[0.8888888888888888,\"#fdca26\"],[1.0,\"#f0f921\"]],\"diverging\":[[0,\"#8e0152\"],[0.1,\"#c51b7d\"],[0.2,\"#de77ae\"],[0.3,\"#f1b6da\"],[0.4,\"#fde0ef\"],[0.5,\"#f7f7f7\"],[0.6,\"#e6f5d0\"],[0.7,\"#b8e186\"],[0.8,\"#7fbc41\"],[0.9,\"#4d9221\"],[1,\"#276419\"]]},\"xaxis\":{\"gridcolor\":\"white\",\"linecolor\":\"white\",\"ticks\":\"\",\"title\":{\"standoff\":15},\"zerolinecolor\":\"white\",\"automargin\":true,\"zerolinewidth\":2},\"yaxis\":{\"gridcolor\":\"white\",\"linecolor\":\"white\",\"ticks\":\"\",\"title\":{\"standoff\":15},\"zerolinecolor\":\"white\",\"automargin\":true,\"zerolinewidth\":2},\"scene\":{\"xaxis\":{\"backgroundcolor\":\"#E5ECF6\",\"gridcolor\":\"white\",\"linecolor\":\"white\",\"showbackground\":true,\"ticks\":\"\",\"zerolinecolor\":\"white\",\"gridwidth\":2},\"yaxis\":{\"backgroundcolor\":\"#E5ECF6\",\"gridcolor\":\"white\",\"linecolor\":\"white\",\"showbackground\":true,\"ticks\":\"\",\"zerolinecolor\":\"white\",\"gridwidth\":2},\"zaxis\":{\"backgroundcolor\":\"#E5ECF6\",\"gridcolor\":\"white\",\"linecolor\":\"white\",\"showbackground\":true,\"ticks\":\"\",\"zerolinecolor\":\"white\",\"gridwidth\":2}},\"shapedefaults\":{\"line\":{\"color\":\"#2a3f5f\"}},\"annotationdefaults\":{\"arrowcolor\":\"#2a3f5f\",\"arrowhead\":0,\"arrowwidth\":1},\"geo\":{\"bgcolor\":\"white\",\"landcolor\":\"#E5ECF6\",\"subunitcolor\":\"white\",\"showland\":true,\"showlakes\":true,\"lakecolor\":\"white\"},\"title\":{\"x\":0.05},\"mapbox\":{\"style\":\"light\"}}},\"geo\":{\"domain\":{\"x\":[0.0,1.0],\"y\":[0.0,1.0]},\"projection\":{\"type\":\"natural earth\"},\"center\":{}},\"coloraxis\":{\"colorbar\":{\"title\":{\"text\":\"Happiness score\"}},\"colorscale\":[[0.0,\"#0d0887\"],[0.1111111111111111,\"#46039f\"],[0.2222222222222222,\"#7201a8\"],[0.3333333333333333,\"#9c179e\"],[0.4444444444444444,\"#bd3786\"],[0.5555555555555556,\"#d8576b\"],[0.6666666666666666,\"#ed7953\"],[0.7777777777777778,\"#fb9f3a\"],[0.8888888888888888,\"#fdca26\"],[1.0,\"#f0f921\"]]},\"legend\":{\"tracegroupgap\":0},\"title\":{\"text\":\"Happiness by Country\"}},                        {\"responsive\": true}                    ).then(function(){\n",
       "                            \n",
       "var gd = document.getElementById('0413833b-5693-4d3e-96c6-ead8c488fdbc');\n",
       "var x = new MutationObserver(function (mutations, observer) {{\n",
       "        var display = window.getComputedStyle(gd).display;\n",
       "        if (!display || display === 'none') {{\n",
       "            console.log([gd, 'removed!']);\n",
       "            Plotly.purge(gd);\n",
       "            observer.disconnect();\n",
       "        }}\n",
       "}});\n",
       "\n",
       "// Listen for the removal of the full notebook cells\n",
       "var notebookContainer = gd.closest('#notebook-container');\n",
       "if (notebookContainer) {{\n",
       "    x.observe(notebookContainer, {childList: true});\n",
       "}}\n",
       "\n",
       "// Listen for the clearing of the current output cell\n",
       "var outputEl = gd.closest('.output');\n",
       "if (outputEl) {{\n",
       "    x.observe(outputEl, {childList: true});\n",
       "}}\n",
       "\n",
       "                        })                };                });            </script>        </div>"
      ]
     },
     "metadata": {},
     "output_type": "display_data"
    }
   ],
   "source": [
    "# SUICIDE RATE\n",
    "fig = px.choropleth(\n",
    "    health_df,\n",
    "    locations='Country',\n",
    "    locationmode='country names',\n",
    "    color='Suicide rate',\n",
    "    hover_name='Country',\n",
    "    projection='natural earth',\n",
    "    title='Suicide Rate by Country'\n",
    ")\n",
    "fig.show()\n",
    "\n",
    "# HAPPINESS RATE\n",
    "fig = px.choropleth(\n",
    "    health_df,\n",
    "    locations='Country',\n",
    "    locationmode='country names',\n",
    "    color='Happiness score',\n",
    "    hover_name='Country',\n",
    "    projection='natural earth',\n",
    "    title='Happiness by Country'\n",
    ")\n",
    "fig.show()"
   ]
  },
  {
   "cell_type": "markdown",
   "id": "189c424a",
   "metadata": {},
   "source": [
    "#### Hypthesis Testing\n",
    "\n",
    "Next we used a __Linear Regression Model__ to obtain a quantative understanding between suicide rate and happiness score. We estimated the coefficient and intercept of the model to find the general direction and magnitide of the relationship. We had suicide rate as the x-value and happiness score as the y-value, then used a simple line chart to show the relationship."
   ]
  },
  {
   "cell_type": "code",
   "execution_count": 26,
   "id": "10b655de",
   "metadata": {},
   "outputs": [
    {
     "name": "stdout",
     "output_type": "stream",
     "text": [
      "Coefficient: 22.59\n",
      "Intercept: 6115.47\n"
     ]
    },
    {
     "name": "stderr",
     "output_type": "stream",
     "text": [
      "/opt/anaconda3/envs/info2950/lib/python3.11/site-packages/seaborn/_oldcore.py:1498: FutureWarning:\n",
      "\n",
      "is_categorical_dtype is deprecated and will be removed in a future version. Use isinstance(dtype, CategoricalDtype) instead\n",
      "\n",
      "/opt/anaconda3/envs/info2950/lib/python3.11/site-packages/seaborn/_oldcore.py:1498: FutureWarning:\n",
      "\n",
      "is_categorical_dtype is deprecated and will be removed in a future version. Use isinstance(dtype, CategoricalDtype) instead\n",
      "\n",
      "/opt/anaconda3/envs/info2950/lib/python3.11/site-packages/seaborn/_oldcore.py:1119: FutureWarning:\n",
      "\n",
      "use_inf_as_na option is deprecated and will be removed in a future version. Convert inf values to NaN before operating instead.\n",
      "\n",
      "/opt/anaconda3/envs/info2950/lib/python3.11/site-packages/seaborn/_oldcore.py:1119: FutureWarning:\n",
      "\n",
      "use_inf_as_na option is deprecated and will be removed in a future version. Convert inf values to NaN before operating instead.\n",
      "\n"
     ]
    },
    {
     "data": {
      "image/png": "[encoded data removed]",
      "text/plain": [
       "<Figure size 640x480 with 1 Axes>"
      ]
     },
     "metadata": {},
     "output_type": "display_data"
    }
   ],
   "source": [
    "X = health_df[['Suicide rate']]\n",
    "y = health_df['Happiness score']\n",
    "\n",
    "model = LinearRegression()\n",
    "model.fit(X, y)\n",
    "\n",
    "print(f\"Coefficient: {model.coef_[0]:.2f}\")\n",
    "print(f\"Intercept: {model.intercept_:.2f}\")\n",
    "\n",
    "sns.lineplot(x=health_df['Suicide rate'], y=health_df['Happiness score'], color='blue', alpha=0.5)\n",
    "plt.title('Suicide Rate vs Happiness Score')\n",
    "plt.xlabel('Suicide Rate')\n",
    "plt.ylabel('Happiness Score')\n",
    "\n",
    "plt.show()"
   ]
  },
  {
   "cell_type": "markdown",
   "id": "48d4fa1d",
   "metadata": {},
   "source": [
    "The data showed us that for each unit increase in the suicide rate, there is an estimated increase of 22.59 units in the happiness score. Additionally, the intercept value of 6115.47 indicates the baseline level of happiness score when suicide rate is zero.\n",
    "\n",
    "**Observations**: The graph displays a fluctuating pattern, which may indicate that the relationship between suicide rate and happiness score might not strictly follow a linear trend. The erratic pattern also might indicate that various other factors beyond the suicide rate significantly impact happiness scores. Overall the graph displays a non-monotonic relationship. However, overall, the graph generally kept an upwards direction.\n"
   ]
  },
  {
   "cell_type": "markdown",
   "id": "9156e60f",
   "metadata": {},
   "source": [
    "#### Bootstrapped graph \n",
    "\n",
    "We included a bootstrapped graph to further assess the relationship between variables. We created 100 bootstrapped samples of the same size as the original dataset are created. Each sample was generated by random resampling with replacement. Subsequently, linear regression models were built for each bootstrapped sample, focusing on the 'suicide_rate' as the predictor and 'Happiness score' as the target variable. We kept the domain for suicide rate from 0 to 30 as to stay consistent to the range of the suicide rate across all countries. "
   ]
  },
  {
   "cell_type": "code",
   "execution_count": null,
   "id": "215d2848",
   "metadata": {},
   "outputs": [],
   "source": [
    "\n",
    "domain = np.array([[0], [30]]) \n",
    "bootstrapped_health = []\n",
    "\n",
    "for _ in range(100):\n",
    "    bootstrapped_sample = health_df.sample(len(health_df), replace=True)\n",
    "    bootstrapped_health.append(bootstrapped_sample)\n",
    "\n",
    "for i in range(100):\n",
    "    df = bootstrapped_health[i]\n",
    "\n",
    "    bt_model = LinearRegression()\n",
    "    bt_model.fit(df[['suicide_rate']].values, df['Happiness score'])\n",
    "\n",
    "    y_pred = bt_model.predict(domain)\n",
    "\n",
    "    sns.lineplot(x=domain.reshape(-1), y=y_pred, color='lightgreen', alpha=0.3)    \n",
    "\n",
    "plt.xlabel('Suicide Rate')\n",
    "plt.ylabel('Happiness Score')\n",
    "plt.title('Bootstrapped Linear Regression: Suicide Rate vs Happiness Score')\n",
    "plt.show()"
   ]
  },
  {
   "cell_type": "markdown",
   "id": "cb859b73",
   "metadata": {},
   "source": [
    "__Observations__ \n",
    "1. The bootstrapped linear regression generated a large range of predicted relationships between suicide rates and happiness scores. It represented that various predicted trends that could arise from different subsamples of the dataset.\n",
    "2. The graph consistently had a upward direction. This can be observed by the dark green centered betweened the varied possibilities. This suggest that a more stable relationship between the variables across multiple subsamples.\n"
   ]
  },
  {
   "cell_type": "markdown",
   "id": "45a6cdc4",
   "metadata": {},
   "source": [
    "### Evulation of Significance\n",
    "\n",
    "We used a **OLS summary** to evaluate the significance and reliability of the data. We inputed the data into the OLS model and printed the summary."
   ]
  },
  {
   "cell_type": "code",
   "execution_count": null,
   "id": "5fe6c708",
   "metadata": {},
   "outputs": [],
   "source": [
    "def summary(df, input):\n",
    "    X = df[input]\n",
    "    reg = sm.OLS(df['Happiness score'], X).fit()\n",
    "    print(reg.summary())\n",
    "    \n",
    "    \n",
    "summary(health_df, ['suicide_rate'])"
   ]
  },
  {
   "cell_type": "markdown",
   "id": "e83d6f65",
   "metadata": {},
   "source": [
    "__Observation__: The data showed that the model has around 78% variance without centering the variable. Looking at the F-statistic probability, the probability is extremely low (9.58e-22), indicating the model's significance is highly unlikely due to random chance. Additionally, p-value is 0.00 which is way below the 0.05 threshold.\n",
    "However, due to the high variance of the data, it might indicate that the model is too complex or flexible, capturing noise or specific patterns in the dataset rather than the underlying true relationships."
   ]
  },
  {
   "cell_type": "markdown",
   "id": "d4bf0fab",
   "metadata": {},
   "source": [
    "Additionally we used **permutations** to test for randomness and significance in the data. First we extracted values from the suicide rate, then we randomly shuffled them to create a random assortment of values. We then changed the original suicide rate values to the shuffled values. We created a linear regression model based off of those results, and created a side to side visualtion of the original data to the permuted data"
   ]
  },
  {
   "cell_type": "code",
   "execution_count": null,
   "id": "d8eeaa58",
   "metadata": {},
   "outputs": [],
   "source": [
    "\n",
    "# Make copy\n",
    "permuted_health_df = health_df.copy()\n",
    "# take value\n",
    "suicide_rates = permuted_health_df['suicide_rate'].values\n",
    "# get random assortment of suicide rate\n",
    "np.random.shuffle(suicide_rates)\n",
    "permuted_health_df['suicide_rate'] = suicide_rates\n",
    "\n",
    "# input into linear regression model\n",
    "model_permuted = LinearRegression()\n",
    "model_permuted.fit(permuted_health_df[['suicide_rate']], permuted_health_df['Happiness score'])\n",
    "\n",
    "fig, (ax1, ax2) = plt.subplots(nrows=1, ncols=2, figsize=(12, 6), sharey=True)\n",
    "\n",
    "# original\n",
    "sns.scatterplot(x='suicide_rate', y='Happiness score', data=health_df, ax=ax1)\n",
    "sns.lineplot(x=health_df['suicide_rate'], y=model.predict(health_df[['suicide_rate']]), color='red', ax=ax1)\n",
    "ax1.set_title('True Data')\n",
    "\n",
    "# permuted\n",
    "sns.scatterplot(x='suicide_rate', y='Happiness score', data=permuted_health_df, ax=ax2)\n",
    "sns.lineplot(x=permuted_health_df['suicide_rate'], y=model_permuted.predict(permuted_health_df[['suicide_rate']]), color='red', ax=ax2)\n",
    "ax2.set_title('Permuted Data')\n",
    "\n",
    "plt.show()"
   ]
  },
  {
   "cell_type": "markdown",
   "id": "17b2b6d8",
   "metadata": {},
   "source": [
    "__Observation__: Looking at the different permutations of the graph, the observed relationship differs significantly from the relationships derived from permutations. This suggests that the observed association is not likely to happen by random chance alone. In other words, it demonstrates the data is distinguishable from randomness. Overall, it shows the data may be significant."
   ]
  },
  {
   "cell_type": "markdown",
   "id": "9eea06df",
   "metadata": {},
   "source": [
    "___\n",
    "## Hypothesis 2: "
   ]
  },
  {
   "cell_type": "markdown",
   "id": "f8aa4874",
   "metadata": {},
   "source": [
    "$H_O$: Population sizes of countries, birth rates, minimum wages, and crime index do not lead to higher happiness scores for countries.\n",
    "\n",
    "$H_A$: Population sizes of countries, birth rates, minimum wages, and crime index lead to higher happiness scores for countries."
   ]
  },
  {
   "cell_type": "markdown",
   "id": "60a87596",
   "metadata": {},
   "source": [
    "### **Data Analysis**"
   ]
  },
  {
   "cell_type": "markdown",
   "id": "703c37bf",
   "metadata": {},
   "source": [
    "For the second question, our overall goal is to perform a linear regression using crime index, minimum wage, birth rate, and population size as inputs to happiness score as an output. \n",
    "\n",
    "To complete this, we want to check for heteroskedasticity and multicollinearity to ensure the variables are valid to be used in a multivariable linear regression. First, we make residual plots between between each input variable and the output variable to ensure that the data points are randomly distributed. We check to see if there are any signs of heteroskedasticity, and there are none. Because of this, no transformations need to be performed. "
   ]
  },
  {
   "cell_type": "code",
   "execution_count": null,
   "id": "80d11bcf",
   "metadata": {},
   "outputs": [],
   "source": [
    "columns = hypothesis2_df.columns[1:5]\n",
    "for i in columns:\n",
    "    sns.residplot(data=hypothesis2_df, x=i, y='Happiness score')\n",
    "    plt.show()"
   ]
  },
  {
   "cell_type": "markdown",
   "id": "50a0132c",
   "metadata": {},
   "source": [
    "Next, we make a correlation matrix that includes the factors of population, crime index, minimum wage, birth rate, and happiness score. The goal is to compare how crime index, minimum wage, and birth rate are correlated to population, and how population is correlated to happiness score. This addresses the more nuanced element of our analysis, where we want to understand if smaller population leads to more happiness, and if lower birth rates, higher minimum wages, and lower crime index relate to smaller population size.\n",
    "\n",
    "From the correlation matrix, we can determine there is no multicollinearity between variables, as none of their correlations are high (close to 1). Therefore, we do not need to drop any of these predictor variables."
   ]
  },
  {
   "cell_type": "code",
   "execution_count": null,
   "id": "643c1010",
   "metadata": {
    "scrolled": true
   },
   "outputs": [],
   "source": [
    "correlation = hypothesis2_df[['Population', 'Crime index', 'Minimum wage ($)', 'Birth rate', \n",
    "                              'Happiness score']].corr()\n",
    "correlation"
   ]
  },
  {
   "cell_type": "markdown",
   "id": "cd35f701",
   "metadata": {},
   "source": [
    "We then construct a heat map to show a more visual representation of the correlations."
   ]
  },
  {
   "cell_type": "code",
   "execution_count": null,
   "id": "2ea70b2b",
   "metadata": {
    "scrolled": true
   },
   "outputs": [],
   "source": [
    "sns.heatmap(correlation, annot=True, cmap='coolwarm')\n",
    "plt.show()"
   ]
  },
  {
   "cell_type": "markdown",
   "id": "5bf42c7d",
   "metadata": {},
   "source": [
    "#### Visualizing with Seaborn Regplot: \n",
    "Here, we are using Seaborn’s regplot function to visualize the relationship between ‘Crime Index’, ‘Minimum wage($)’, ‘birth_rate’, and ‘Population’ (independent variables) and ‘Happiness Score’ (dependent variable). The data is represented as a scatter plot, with a linear regression model fit plotted on top of the data. The translucent band around the regression line represents the 95% confidence interval for the regression estimate. "
   ]
  },
  {
   "cell_type": "code",
   "execution_count": null,
   "id": "f46fc3e5",
   "metadata": {},
   "outputs": [],
   "source": [
    "x_vars = ['Crime index', 'Minimum wage ($)', 'Birth rate', 'Population']  \n",
    "for x_var in x_vars:\n",
    "    ax = sns.regplot(data=hypothesis2_df , x=x_var, y='Happiness score', n_boot=10)\n",
    "    plt.show()"
   ]
  },
  {
   "cell_type": "markdown",
   "id": "d65af74f",
   "metadata": {},
   "source": [
    "#### OLS Regression Results: "
   ]
  },
  {
   "cell_type": "code",
   "execution_count": null,
   "id": "e537973c",
   "metadata": {},
   "outputs": [],
   "source": [
    "input = ['Crime index', 'Minimum wage ($)', 'Birth rate', 'Population'] \n",
    "def summary(df, input):\n",
    "    X = df[input]\n",
    "    reg = sm.OLS(df['Happiness score'], X).fit()\n",
    "    print(reg.summary())\n",
    "summary(hypothesis2_df, input)"
   ]
  },
  {
   "cell_type": "markdown",
   "id": "fb5f5c94",
   "metadata": {},
   "source": [
    "### Evaluation of significance: \n",
    "- **Crime Index**: The coefficient is 89.508, and the p-value is 0.000. According to our model, for each unit increase in Crime index, all else equal, we expect the happiness score to increase by 89.508. The p-value is less than 0.05, indicating that this result is statistically significant.\n",
    "\n",
    "- **Minimum wage**: The coefficient is 413.640, and the p-value is 0.000. According to our model, for each unit increase in Minimum wage, all else equal, we expect the happiness score to increase by 413.640. The p-value is less than 0.05, indicating that this result is statistically significant.\n",
    "\n",
    "- **Birth Rate**: The coefficient is 10.212, and the p-value is 0.728. According to our model, for each unit increase in Birth rate, all else equal, we expect the happiness score to increase by 10.212. However, the p-value is greater than 0.05, indicating that this result is not statistically significant.\n",
    "\n",
    "- **Population**: The coefficient is 6.08e-07, and the p-value is 0.459. According to our model, for each unit increase in Population, all else equal, we expect the happiness score to increase by 6.08e-07. However, the p-value is greater than 0.05, indicating that this result is not statistically significant."
   ]
  },
  {
   "cell_type": "markdown",
   "id": "22655e62",
   "metadata": {},
   "source": [
    "## Interpretation and Conclusions"
   ]
  },
  {
   "cell_type": "markdown",
   "id": "1c6d8d34",
   "metadata": {},
   "source": [
    "**Interpretation**:\n",
    "\n",
    "1. Our analysis showed a __significant positive relationship between suicide rate and happiness score__. Looking at the coefficient and intercept of our linegraph, we can say theres a 22.59 increase in happiness score per 1 unit increase in suicide rate. Therefore, countries that reported to be happier had overall more suicides than countries that were deemed less happy. However, the bootstrapped data showed our data was varied and had wide range of outcomes. This could be due to the high R-square value (78%) which may have clouded our data. The OLS summary and permutation model showed that our data was significant, with our F-statistic being 9.58e-22. Additionally the p-value was 0.00, suggesting that 'suicide_rate' significantly predicted 'Happiness score'.\n",
    "    \n",
    "2. From the heatmap, we can see that crime index has a weak negative correlation with population (-0.053). Minimum wage also has a weak negative correlation with population (-0.13). Birth rate has a weak positive correlation with population (0.00076). From the heatmap, correlations between the various factors and population do not appear strong. We are particularly interested to see if there is a relationship between population size and happiness score. Population has a weak negative correlation with happiness score (-0.2). Thus, there does not appear to be a strong correlation between population and happiness score. According to the heatmap, minimum wage seems to have the strongest positive correlation to happiness score (0.62). Birth rate has the strongest negative correlation to happiness score (-0.58).\n",
    "\n",
    "3. To answer our second research question, we ran an OLS regression model to examine the relationship between the happiness score of 72 countries and four independent variables: crime index, minimum wage, birth rate, and population. Based on the p-values, we can reject the null hypothesis for the coefficients of crime index and minimum wage, concluding that they are both statistically significant predictors of the happiness score. However, we cannot reject the null hypothesis for the coefficients of birth rate and population, which means that they are not statistically significant predictors of the happiness score. \n",
    "\n",
    "4. The model suggests that the condition number of the model is large (7.27e+07), which might indicate strong multicollinearity or other numerical problems. The population variable affects the reliability and accuracy of our model. We can consider transforming the Population variables to investigate these issues.\n",
    "\n",
    "**Conclusion**:\n",
    "\n",
    "Our findings suggest a notable association between higher reported happiness and higher suicide rates among countries. While the regression model demonstrated significance, further scrutiny of assumptions and model refinement is crucial to ensure its reliability and applicability to varied scenarios. For future steps, I'd consider looking into the residual plots of the suicide rate. \n",
    "\n",
    "There does not appear to be strong correlations with crime index, minimum wage, and birth rate to population size. There also does not appear to be a strong correlation between population and happiness score."
   ]
  },
  {
   "cell_type": "markdown",
   "id": "55f17079",
   "metadata": {},
   "source": [
    "## Limitations\n",
    "\n",
    "\n",
    "__1.__ Here are some limitations of the health data:\n",
    "\n",
    "  - The Suicide Number CSV could have accuracy problems through the collection process. It is hard to account for all the suicides globally since it doesn’t account for missing people, doesn’t account for underreportings, and we don’t know what constitutes as a suicide. \n",
    "\n",
    "  - When merging the different data frames, it was difficult to keep all the countries shared by the three data sets. Since we were inner joining, only countries that were on all datasets were included. \n",
    "  \n",
    "  - The data points are very scattered so its hard to indicate a pattern in the relationship of suicide rate and happiness score.\n",
    "\n",
    "__2.__ Though the global country information dataset is very comprehensive and has over 18,000 downloads, there isn’t clear documentation of its sources and how the data was collected. Thus, there is some ambiguity associated with reporting findings based on this data.\n",
    "\n",
    "__3.__ The world happiness report data is not up to date to 2023, so we have chosen to use the most recent data collected from 2022 in our analysis. This could potentially alter our findings as it may not completely and accurately reflect the current situation.\n",
    "\n",
    "__4.__ The world happiness report data was mainly collected through a survey, the Gallup World Survey. Thus, there could be selection biases in the responses and the data may not be completely representative of the whole population.\n",
    "\n",
    "__5.__ The Crime Rate By Country 2023 CSV doesn’t clearly explain how the 'crime index' is calculated, which raises concerns about potential bias in data collection.\n",
    "\n",
    "__6.__ The geography map made it difficult to compare data between the suicide rate and happiness score since it quanitified the effects in number rather numerics. "
   ]
  },
  {
   "cell_type": "markdown",
   "id": "3ca6957a",
   "metadata": {},
   "source": [
    "## Questions For Reviewers:\n",
    "\n"
   ]
  },
  {
   "cell_type": "markdown",
   "id": "3389a58d",
   "metadata": {},
   "source": [
    "__1.__ What are some examples of graphs that you think would be better or necessary for our final project?\n",
    "\n",
    "__2.__ What do you think we should focus on in our final submission?\n",
    "\n",
    "__3.__ What other data do you think we should include on top of our preregistration hyptothesis\n",
    "\n",
    "__4.__ We conducted a correlation matrix to check for multicollinearity, which indicated that there is none. However, our regression model suggests that we might have multicollinearity. How should we perform the multicollinearity check?\n",
    "\n",
    "__5.__ Do we need to change the data cleaning appendix to a CSV file rather than keeping it in the file?\n",
    "\n",
    "__6.__ Are our interpretations and conclusions sufficient or should we elaborate more?\n",
    "\n",
    "__7.__ What are your suggestions on formatting? Specifically, is there anything you think doesn't flow well or should be changed?\n",
    "\n",
    "__8.__ After running our multivariate regression model, we noticed that one variable is decreasing the model's accuracy. Can we exclude that variable and run another model without it?\n"
   ]
  }
 ],
 "metadata": {
  "kernelspec": {
   "display_name": "Python 3 (ipykernel)",
   "language": "python",
   "name": "python3"
  },
  "language_info": {
   "codemirror_mode": {
    "name": "ipython",
    "version": 3
   },
   "file_extension": ".py",
   "mimetype": "text/x-python",
   "name": "python",
   "nbconvert_exporter": "python",
   "pygments_lexer": "ipython3",
   "version": "3.11.5"
  }
 },
 "nbformat": 4,
 "nbformat_minor": 5
}
